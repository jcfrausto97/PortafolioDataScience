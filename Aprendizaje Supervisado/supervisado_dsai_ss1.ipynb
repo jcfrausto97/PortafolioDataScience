{
  "cells": [
    {
      "cell_type": "markdown",
      "metadata": {
        "id": "en3kHVvBXmIN"
      },
      "source": [
        "# Diplomado de Ciencia de Datos\n",
        "## Módulo de Aprendizaje Automático\n",
        "### Tema de Métodos Supervisados (Sesión 1)"
      ]
    },
    {
      "cell_type": "code",
      "execution_count": 27,
      "metadata": {
        "id": "LEuF-R5YPJL6"
      },
      "outputs": [],
      "source": [
        "# importar la biblioteca para análisis de datos\n",
        "import numpy as np\n",
        "# importar la biblioteca para graficación\n",
        "import matplotlib.pyplot as plt\n",
        "%matplotlib inline\n",
        "# importar la biblioteca para manipulación y tratamiento de datos\n",
        "import pandas as pd"
      ]
    },
    {
      "cell_type": "code",
      "execution_count": 28,
      "metadata": {
        "colab": {
          "base_uri": "https://localhost:8080/",
          "height": 206
        },
        "id": "n8jD-WxmTad_",
        "outputId": "f3f0a204-1163-479e-b9cd-dccfd6ddc63d"
      },
      "outputs": [
        {
          "data": {
            "text/html": [
              "<div>\n",
              "<style scoped>\n",
              "    .dataframe tbody tr th:only-of-type {\n",
              "        vertical-align: middle;\n",
              "    }\n",
              "\n",
              "    .dataframe tbody tr th {\n",
              "        vertical-align: top;\n",
              "    }\n",
              "\n",
              "    .dataframe thead th {\n",
              "        text-align: right;\n",
              "    }\n",
              "</style>\n",
              "<table border=\"1\" class=\"dataframe\">\n",
              "  <thead>\n",
              "    <tr style=\"text-align: right;\">\n",
              "      <th></th>\n",
              "      <th>longitude</th>\n",
              "      <th>latitude</th>\n",
              "      <th>country</th>\n",
              "    </tr>\n",
              "  </thead>\n",
              "  <tbody>\n",
              "    <tr>\n",
              "      <th>0</th>\n",
              "      <td>-130.0437</td>\n",
              "      <td>55.9773</td>\n",
              "      <td>USA</td>\n",
              "    </tr>\n",
              "    <tr>\n",
              "      <th>1</th>\n",
              "      <td>-134.4197</td>\n",
              "      <td>58.3019</td>\n",
              "      <td>USA</td>\n",
              "    </tr>\n",
              "    <tr>\n",
              "      <th>2</th>\n",
              "      <td>-123.0780</td>\n",
              "      <td>48.9854</td>\n",
              "      <td>USA</td>\n",
              "    </tr>\n",
              "    <tr>\n",
              "      <th>3</th>\n",
              "      <td>-122.7436</td>\n",
              "      <td>48.9881</td>\n",
              "      <td>USA</td>\n",
              "    </tr>\n",
              "    <tr>\n",
              "      <th>4</th>\n",
              "      <td>-122.2691</td>\n",
              "      <td>48.9951</td>\n",
              "      <td>USA</td>\n",
              "    </tr>\n",
              "  </tbody>\n",
              "</table>\n",
              "</div>"
            ],
            "text/plain": [
              "   longitude  latitude country\n",
              "0  -130.0437   55.9773     USA\n",
              "1  -134.4197   58.3019     USA\n",
              "2  -123.0780   48.9854     USA\n",
              "3  -122.7436   48.9881     USA\n",
              "4  -122.2691   48.9951     USA"
            ]
          },
          "execution_count": 28,
          "metadata": {},
          "output_type": "execute_result"
        }
      ],
      "source": [
        "# leer el conjunto de datos de ciudades de Canadá y Estados Unidos\n",
        "cities_df = pd.read_csv(\"canada_usa_cities.csv\")\n",
        "cities_df.head()"
      ]
    },
    {
      "cell_type": "code",
      "execution_count": 29,
      "metadata": {
        "colab": {
          "base_uri": "https://localhost:8080/"
        },
        "id": "ivKfv82AfYQH",
        "outputId": "53300494-7988-4b93-c81e-318fedded884"
      },
      "outputs": [
        {
          "name": "stdout",
          "output_type": "stream",
          "text": [
            "<class 'pandas.core.frame.DataFrame'>\n",
            "RangeIndex: 209 entries, 0 to 208\n",
            "Data columns (total 3 columns):\n",
            " #   Column     Non-Null Count  Dtype  \n",
            "---  ------     --------------  -----  \n",
            " 0   longitude  209 non-null    float64\n",
            " 1   latitude   209 non-null    float64\n",
            " 2   country    209 non-null    object \n",
            "dtypes: float64(2), object(1)\n",
            "memory usage: 5.0+ KB\n"
          ]
        }
      ],
      "source": [
        "# obtener la información del dataset\n",
        "cities_df.info()"
      ]
    },
    {
      "cell_type": "code",
      "execution_count": 30,
      "metadata": {
        "colab": {
          "base_uri": "https://localhost:8080/"
        },
        "id": "sxCgx7F7IDhj",
        "outputId": "d861d3e7-1cc8-407b-fe4c-214d200f835d"
      },
      "outputs": [
        {
          "name": "stdout",
          "output_type": "stream",
          "text": [
            "conjunto de entrenamiento = (125, 3)\n",
            "conjunto de validación = (42, 3)\n",
            "conjunto de prueba = (42, 3)\n"
          ]
        }
      ],
      "source": [
        "# dividir el conjunto de datos en los conjuntos de entrenamiento(60%), validación (20%) y prueba (20%)\n",
        "from sklearn.model_selection import train_test_split\n",
        "\n",
        "train_val_df, test_df = train_test_split(cities_df, test_size=0.2, random_state=123)\n",
        "train_df, validation_df = train_test_split(train_val_df, test_size=0.25, random_state=123)\n",
        "\n",
        "print(\"conjunto de entrenamiento =\", train_df.shape)\n",
        "print(\"conjunto de validación =\", validation_df.shape)\n",
        "print(\"conjunto de prueba =\", test_df.shape)"
      ]
    },
    {
      "cell_type": "code",
      "execution_count": 31,
      "metadata": {
        "colab": {
          "base_uri": "https://localhost:8080/",
          "height": 206
        },
        "id": "O6vNlLPAhjUO",
        "outputId": "549b8ba9-ebdf-40fc-8df2-042d36a893c4"
      },
      "outputs": [
        {
          "data": {
            "text/html": [
              "<div>\n",
              "<style scoped>\n",
              "    .dataframe tbody tr th:only-of-type {\n",
              "        vertical-align: middle;\n",
              "    }\n",
              "\n",
              "    .dataframe tbody tr th {\n",
              "        vertical-align: top;\n",
              "    }\n",
              "\n",
              "    .dataframe thead th {\n",
              "        text-align: right;\n",
              "    }\n",
              "</style>\n",
              "<table border=\"1\" class=\"dataframe\">\n",
              "  <thead>\n",
              "    <tr style=\"text-align: right;\">\n",
              "      <th></th>\n",
              "      <th>longitude</th>\n",
              "      <th>latitude</th>\n",
              "    </tr>\n",
              "  </thead>\n",
              "  <tbody>\n",
              "    <tr>\n",
              "      <th>155</th>\n",
              "      <td>-80.3123</td>\n",
              "      <td>43.3601</td>\n",
              "    </tr>\n",
              "    <tr>\n",
              "      <th>109</th>\n",
              "      <td>-66.9195</td>\n",
              "      <td>44.8938</td>\n",
              "    </tr>\n",
              "    <tr>\n",
              "      <th>141</th>\n",
              "      <td>-79.6902</td>\n",
              "      <td>44.3893</td>\n",
              "    </tr>\n",
              "    <tr>\n",
              "      <th>115</th>\n",
              "      <td>-79.6457</td>\n",
              "      <td>43.5903</td>\n",
              "    </tr>\n",
              "    <tr>\n",
              "      <th>187</th>\n",
              "      <td>-67.9245</td>\n",
              "      <td>47.1652</td>\n",
              "    </tr>\n",
              "  </tbody>\n",
              "</table>\n",
              "</div>"
            ],
            "text/plain": [
              "     longitude  latitude\n",
              "155   -80.3123   43.3601\n",
              "109   -66.9195   44.8938\n",
              "141   -79.6902   44.3893\n",
              "115   -79.6457   43.5903\n",
              "187   -67.9245   47.1652"
            ]
          },
          "execution_count": 31,
          "metadata": {},
          "output_type": "execute_result"
        }
      ],
      "source": [
        "# Separar las variables independientes (características de las ciudades) \n",
        "# de la variable dependiente (país a la que pertenece)\n",
        "X_train, y_train = train_df.drop(columns=[\"country\"], axis=1), train_df[\"country\"]\n",
        "X_valid, y_valid = validation_df.drop(columns=[\"country\"], axis=1), validation_df[\"country\"]\n",
        "X_test, y_test = test_df.drop(columns=[\"country\"], axis=1), test_df[\"country\"]\n",
        "X_train.head()"
      ]
    },
    {
      "cell_type": "markdown",
      "metadata": {
        "id": "lA2UgjzWI0dc"
      },
      "source": [
        "## Clasificador de base (Zero Rule Algorithm)"
      ]
    },
    {
      "cell_type": "code",
      "execution_count": 32,
      "metadata": {
        "colab": {
          "base_uri": "https://localhost:8080/"
        },
        "id": "Qh81KIZ9JWJT",
        "outputId": "a0c14f3d-dc7b-413d-d465-5c22f16b545a"
      },
      "outputs": [
        {
          "data": {
            "text/plain": [
              "0.6"
            ]
          },
          "execution_count": 32,
          "metadata": {},
          "output_type": "execute_result"
        }
      ],
      "source": [
        "# crea, entrena y evalua el modelo usando la estrategia Zero Rule\n",
        "from sklearn.dummy import DummyClassifier\n",
        "# form LIBRERIA.CARPETA import OBJETO\n",
        "dc_model = DummyClassifier() # asignar el OBJETO modelo a una variable\n",
        "dc_model.fit(X_train, y_train) # utilizar el MËTODO  .fit para ajustar el modelo\n",
        "dc_model.score(X_train, y_train)"
      ]
    },
    {
      "cell_type": "code",
      "execution_count": 33,
      "metadata": {
        "colab": {
          "base_uri": "https://localhost:8080/"
        },
        "id": "36-eYvjOUz34",
        "outputId": "214aef4b-96f0-4f0c-c25f-d3e5a8580bfe"
      },
      "outputs": [
        {
          "data": {
            "text/plain": [
              "0.6"
            ]
          },
          "execution_count": 33,
          "metadata": {},
          "output_type": "execute_result"
        }
      ],
      "source": [
        "# ¿Por qué obtiene esa exactitud?\n",
        "canada_cities = (y_train == \"Canada\").sum()\n",
        "eua_cities = (y_train == \"USA\").sum()\n",
        "canada_cities/(canada_cities+eua_cities)"
      ]
    },
    {
      "cell_type": "code",
      "execution_count": 34,
      "metadata": {
        "colab": {
          "base_uri": "https://localhost:8080/",
          "height": 1000
        },
        "id": "ytfYWm2kkpc9",
        "outputId": "80098e1e-f903-4729-8935-fe38e6b677e4"
      },
      "outputs": [
        {
          "data": {
            "text/html": [
              "<div>\n",
              "<style scoped>\n",
              "    .dataframe tbody tr th:only-of-type {\n",
              "        vertical-align: middle;\n",
              "    }\n",
              "\n",
              "    .dataframe tbody tr th {\n",
              "        vertical-align: top;\n",
              "    }\n",
              "\n",
              "    .dataframe thead th {\n",
              "        text-align: right;\n",
              "    }\n",
              "</style>\n",
              "<table border=\"1\" class=\"dataframe\">\n",
              "  <thead>\n",
              "    <tr style=\"text-align: right;\">\n",
              "      <th></th>\n",
              "      <th>longitude</th>\n",
              "      <th>latitude</th>\n",
              "      <th>country</th>\n",
              "    </tr>\n",
              "  </thead>\n",
              "  <tbody>\n",
              "    <tr>\n",
              "      <th>172</th>\n",
              "      <td>-64.8001</td>\n",
              "      <td>46.0980</td>\n",
              "      <td>Canada</td>\n",
              "    </tr>\n",
              "    <tr>\n",
              "      <th>175</th>\n",
              "      <td>-82.4066</td>\n",
              "      <td>42.9746</td>\n",
              "      <td>Canada</td>\n",
              "    </tr>\n",
              "    <tr>\n",
              "      <th>181</th>\n",
              "      <td>-111.3885</td>\n",
              "      <td>56.7292</td>\n",
              "      <td>Canada</td>\n",
              "    </tr>\n",
              "    <tr>\n",
              "      <th>132</th>\n",
              "      <td>-78.8630</td>\n",
              "      <td>43.9177</td>\n",
              "      <td>Canada</td>\n",
              "    </tr>\n",
              "    <tr>\n",
              "      <th>189</th>\n",
              "      <td>-112.8516</td>\n",
              "      <td>49.6943</td>\n",
              "      <td>Canada</td>\n",
              "    </tr>\n",
              "    <tr>\n",
              "      <th>195</th>\n",
              "      <td>-122.7454</td>\n",
              "      <td>53.9129</td>\n",
              "      <td>Canada</td>\n",
              "    </tr>\n",
              "    <tr>\n",
              "      <th>198</th>\n",
              "      <td>-72.5019</td>\n",
              "      <td>45.8864</td>\n",
              "      <td>Canada</td>\n",
              "    </tr>\n",
              "    <tr>\n",
              "      <th>170</th>\n",
              "      <td>-79.0906</td>\n",
              "      <td>43.8358</td>\n",
              "      <td>Canada</td>\n",
              "    </tr>\n",
              "    <tr>\n",
              "      <th>95</th>\n",
              "      <td>-79.0546</td>\n",
              "      <td>43.1642</td>\n",
              "      <td>Canada</td>\n",
              "    </tr>\n",
              "    <tr>\n",
              "      <th>31</th>\n",
              "      <td>-74.0060</td>\n",
              "      <td>40.7127</td>\n",
              "      <td>USA</td>\n",
              "    </tr>\n",
              "    <tr>\n",
              "      <th>42</th>\n",
              "      <td>-81.6557</td>\n",
              "      <td>30.3322</td>\n",
              "      <td>USA</td>\n",
              "    </tr>\n",
              "    <tr>\n",
              "      <th>179</th>\n",
              "      <td>-121.9514</td>\n",
              "      <td>49.1577</td>\n",
              "      <td>Canada</td>\n",
              "    </tr>\n",
              "    <tr>\n",
              "      <th>191</th>\n",
              "      <td>-73.4679</td>\n",
              "      <td>45.4555</td>\n",
              "      <td>Canada</td>\n",
              "    </tr>\n",
              "    <tr>\n",
              "      <th>120</th>\n",
              "      <td>-71.2352</td>\n",
              "      <td>46.8260</td>\n",
              "      <td>Canada</td>\n",
              "    </tr>\n",
              "    <tr>\n",
              "      <th>19</th>\n",
              "      <td>-74.8921</td>\n",
              "      <td>44.9281</td>\n",
              "      <td>USA</td>\n",
              "    </tr>\n",
              "    <tr>\n",
              "      <th>72</th>\n",
              "      <td>-80.1937</td>\n",
              "      <td>25.7743</td>\n",
              "      <td>USA</td>\n",
              "    </tr>\n",
              "    <tr>\n",
              "      <th>20</th>\n",
              "      <td>-72.1064</td>\n",
              "      <td>45.0004</td>\n",
              "      <td>USA</td>\n",
              "    </tr>\n",
              "    <tr>\n",
              "      <th>52</th>\n",
              "      <td>-106.4646</td>\n",
              "      <td>31.7754</td>\n",
              "      <td>USA</td>\n",
              "    </tr>\n",
              "    <tr>\n",
              "      <th>147</th>\n",
              "      <td>-81.0685</td>\n",
              "      <td>46.5815</td>\n",
              "      <td>Canada</td>\n",
              "    </tr>\n",
              "    <tr>\n",
              "      <th>166</th>\n",
              "      <td>-80.5246</td>\n",
              "      <td>43.4669</td>\n",
              "      <td>Canada</td>\n",
              "    </tr>\n",
              "    <tr>\n",
              "      <th>119</th>\n",
              "      <td>-79.8729</td>\n",
              "      <td>43.2561</td>\n",
              "      <td>Canada</td>\n",
              "    </tr>\n",
              "    <tr>\n",
              "      <th>200</th>\n",
              "      <td>-72.0885</td>\n",
              "      <td>46.0004</td>\n",
              "      <td>Canada</td>\n",
              "    </tr>\n",
              "    <tr>\n",
              "      <th>4</th>\n",
              "      <td>-122.2691</td>\n",
              "      <td>48.9951</td>\n",
              "      <td>USA</td>\n",
              "    </tr>\n",
              "    <tr>\n",
              "      <th>108</th>\n",
              "      <td>-66.9861</td>\n",
              "      <td>44.9762</td>\n",
              "      <td>Canada</td>\n",
              "    </tr>\n",
              "    <tr>\n",
              "      <th>157</th>\n",
              "      <td>-80.2493</td>\n",
              "      <td>43.5461</td>\n",
              "      <td>Canada</td>\n",
              "    </tr>\n",
              "    <tr>\n",
              "      <th>21</th>\n",
              "      <td>-71.7961</td>\n",
              "      <td>45.0095</td>\n",
              "      <td>USA</td>\n",
              "    </tr>\n",
              "    <tr>\n",
              "      <th>91</th>\n",
              "      <td>-82.4066</td>\n",
              "      <td>42.9746</td>\n",
              "      <td>Canada</td>\n",
              "    </tr>\n",
              "    <tr>\n",
              "      <th>158</th>\n",
              "      <td>-79.3325</td>\n",
              "      <td>43.7000</td>\n",
              "      <td>Canada</td>\n",
              "    </tr>\n",
              "    <tr>\n",
              "      <th>137</th>\n",
              "      <td>-122.9725</td>\n",
              "      <td>49.2434</td>\n",
              "      <td>Canada</td>\n",
              "    </tr>\n",
              "    <tr>\n",
              "      <th>194</th>\n",
              "      <td>-122.7979</td>\n",
              "      <td>49.0235</td>\n",
              "      <td>Canada</td>\n",
              "    </tr>\n",
              "    <tr>\n",
              "      <th>197</th>\n",
              "      <td>-80.4538</td>\n",
              "      <td>42.7972</td>\n",
              "      <td>Canada</td>\n",
              "    </tr>\n",
              "    <tr>\n",
              "      <th>53</th>\n",
              "      <td>-86.7744</td>\n",
              "      <td>36.1622</td>\n",
              "      <td>USA</td>\n",
              "    </tr>\n",
              "    <tr>\n",
              "      <th>180</th>\n",
              "      <td>-73.4528</td>\n",
              "      <td>45.7326</td>\n",
              "      <td>Canada</td>\n",
              "    </tr>\n",
              "    <tr>\n",
              "      <th>162</th>\n",
              "      <td>-123.0579</td>\n",
              "      <td>49.0846</td>\n",
              "      <td>Canada</td>\n",
              "    </tr>\n",
              "    <tr>\n",
              "      <th>184</th>\n",
              "      <td>-79.4617</td>\n",
              "      <td>44.0563</td>\n",
              "      <td>Canada</td>\n",
              "    </tr>\n",
              "    <tr>\n",
              "      <th>161</th>\n",
              "      <td>-60.1941</td>\n",
              "      <td>46.1380</td>\n",
              "      <td>Canada</td>\n",
              "    </tr>\n",
              "    <tr>\n",
              "      <th>10</th>\n",
              "      <td>-93.4110</td>\n",
              "      <td>48.6010</td>\n",
              "      <td>USA</td>\n",
              "    </tr>\n",
              "    <tr>\n",
              "      <th>71</th>\n",
              "      <td>-78.6391</td>\n",
              "      <td>35.7804</td>\n",
              "      <td>USA</td>\n",
              "    </tr>\n",
              "    <tr>\n",
              "      <th>80</th>\n",
              "      <td>-90.0701</td>\n",
              "      <td>29.9499</td>\n",
              "      <td>USA</td>\n",
              "    </tr>\n",
              "    <tr>\n",
              "      <th>26</th>\n",
              "      <td>-67.8408</td>\n",
              "      <td>46.1251</td>\n",
              "      <td>USA</td>\n",
              "    </tr>\n",
              "    <tr>\n",
              "      <th>11</th>\n",
              "      <td>-84.3593</td>\n",
              "      <td>46.4906</td>\n",
              "      <td>USA</td>\n",
              "    </tr>\n",
              "    <tr>\n",
              "      <th>173</th>\n",
              "      <td>-123.9380</td>\n",
              "      <td>49.1638</td>\n",
              "      <td>Canada</td>\n",
              "    </tr>\n",
              "  </tbody>\n",
              "</table>\n",
              "</div>"
            ],
            "text/plain": [
              "     longitude  latitude country\n",
              "172   -64.8001   46.0980  Canada\n",
              "175   -82.4066   42.9746  Canada\n",
              "181  -111.3885   56.7292  Canada\n",
              "132   -78.8630   43.9177  Canada\n",
              "189  -112.8516   49.6943  Canada\n",
              "195  -122.7454   53.9129  Canada\n",
              "198   -72.5019   45.8864  Canada\n",
              "170   -79.0906   43.8358  Canada\n",
              "95    -79.0546   43.1642  Canada\n",
              "31    -74.0060   40.7127     USA\n",
              "42    -81.6557   30.3322     USA\n",
              "179  -121.9514   49.1577  Canada\n",
              "191   -73.4679   45.4555  Canada\n",
              "120   -71.2352   46.8260  Canada\n",
              "19    -74.8921   44.9281     USA\n",
              "72    -80.1937   25.7743     USA\n",
              "20    -72.1064   45.0004     USA\n",
              "52   -106.4646   31.7754     USA\n",
              "147   -81.0685   46.5815  Canada\n",
              "166   -80.5246   43.4669  Canada\n",
              "119   -79.8729   43.2561  Canada\n",
              "200   -72.0885   46.0004  Canada\n",
              "4    -122.2691   48.9951     USA\n",
              "108   -66.9861   44.9762  Canada\n",
              "157   -80.2493   43.5461  Canada\n",
              "21    -71.7961   45.0095     USA\n",
              "91    -82.4066   42.9746  Canada\n",
              "158   -79.3325   43.7000  Canada\n",
              "137  -122.9725   49.2434  Canada\n",
              "194  -122.7979   49.0235  Canada\n",
              "197   -80.4538   42.7972  Canada\n",
              "53    -86.7744   36.1622     USA\n",
              "180   -73.4528   45.7326  Canada\n",
              "162  -123.0579   49.0846  Canada\n",
              "184   -79.4617   44.0563  Canada\n",
              "161   -60.1941   46.1380  Canada\n",
              "10    -93.4110   48.6010     USA\n",
              "71    -78.6391   35.7804     USA\n",
              "80    -90.0701   29.9499     USA\n",
              "26    -67.8408   46.1251     USA\n",
              "11    -84.3593   46.4906     USA\n",
              "173  -123.9380   49.1638  Canada"
            ]
          },
          "execution_count": 34,
          "metadata": {},
          "output_type": "execute_result"
        }
      ],
      "source": [
        "# Muestra el conjunto de prueba\n",
        "test_df"
      ]
    },
    {
      "cell_type": "code",
      "execution_count": 35,
      "metadata": {
        "colab": {
          "base_uri": "https://localhost:8080/"
        },
        "id": "DFKHvnCDk2hm",
        "outputId": "bd74c08e-fa00-485a-9d73-8cf4ca3044c0"
      },
      "outputs": [
        {
          "data": {
            "text/plain": [
              "array(['Canada', 'Canada', 'Canada', 'Canada', 'Canada', 'Canada',\n",
              "       'Canada', 'Canada', 'Canada', 'Canada', 'Canada', 'Canada',\n",
              "       'Canada', 'Canada', 'Canada', 'Canada', 'Canada', 'Canada',\n",
              "       'Canada', 'Canada', 'Canada', 'Canada', 'Canada', 'Canada',\n",
              "       'Canada', 'Canada', 'Canada', 'Canada', 'Canada', 'Canada',\n",
              "       'Canada', 'Canada', 'Canada', 'Canada', 'Canada', 'Canada',\n",
              "       'Canada', 'Canada', 'Canada', 'Canada', 'Canada', 'Canada'],\n",
              "      dtype='<U6')"
            ]
          },
          "execution_count": 35,
          "metadata": {},
          "output_type": "execute_result"
        }
      ],
      "source": [
        "# genera las predicciones para el conjunto de prueba\n",
        "dc_model.predict(test_df)"
      ]
    },
    {
      "cell_type": "markdown",
      "metadata": {
        "id": "ProRIrn2OAKP"
      },
      "source": [
        "## Árboles de Decisión"
      ]
    },
    {
      "cell_type": "code",
      "execution_count": 36,
      "metadata": {
        "colab": {
          "base_uri": "https://localhost:8080/"
        },
        "id": "u_1CczG7m8tl",
        "outputId": "086f518a-6687-4fde-c7e8-5d683c2413dc"
      },
      "outputs": [
        {
          "name": "stdout",
          "output_type": "stream",
          "text": [
            "Exactitud de entrenamiento= 0.864\n",
            "Exactitud de validación= 0.8333333333333334\n"
          ]
        }
      ],
      "source": [
        "# crea, entrena y evalua un árbol de decisión con una profundidad máxima de 3\n",
        "from sklearn.tree import DecisionTreeClassifier\n",
        "\n",
        "dtc3_model = DecisionTreeClassifier(max_depth=3) # Max depth limita el número de árbole a modo de obligar al modelo a generalizar (hiperparámetro)\n",
        "dtc3_model.fit(X_train, y_train)\n",
        "print(\"Exactitud de entrenamiento=\",dtc3_model.score(X_train, y_train))\n",
        "print(\"Exactitud de validación=\",dtc3_model.score(X_valid, y_valid))"
      ]
    },
    {
      "cell_type": "code",
      "execution_count": 37,
      "metadata": {
        "colab": {
          "base_uri": "https://localhost:8080/"
        },
        "id": "zQSOZBCXn6wN",
        "outputId": "5966fe00-b303-45dd-ca46-be6fc342e79f"
      },
      "outputs": [
        {
          "name": "stdout",
          "output_type": "stream",
          "text": [
            "Exactitud de entrenamiento= 0.92\n",
            "Exactitud de validación= 0.9047619047619048\n"
          ]
        }
      ],
      "source": [
        "# crea, entrena y evalua un árbol de decisión con una profundidad máxima de 5\n",
        "from sklearn.tree import DecisionTreeClassifier\n",
        "\n",
        "dtc5_model = DecisionTreeClassifier(max_depth=5)\n",
        "dtc5_model.fit(X_train, y_train)\n",
        "print(\"Exactitud de entrenamiento=\",dtc5_model.score(X_train, y_train))\n",
        "print(\"Exactitud de validación=\",dtc5_model.score(X_valid, y_valid)) # Qué tan bien generaliza, se sobreentrena??"
      ]
    },
    {
      "cell_type": "code",
      "execution_count": 38,
      "metadata": {
        "colab": {
          "base_uri": "https://localhost:8080/"
        },
        "id": "ebl-yOtLo1PF",
        "outputId": "28a22c34-a779-4d94-8a7d-04d8fc90a787"
      },
      "outputs": [
        {
          "name": "stdout",
          "output_type": "stream",
          "text": [
            "Exactitud de entrenamiento= 0.976\n",
            "Exactitud de validación= 0.8571428571428571\n"
          ]
        }
      ],
      "source": [
        "# crea, entrena y evalua un árbol de decisión con una profundidad máxima de 7\n",
        "from sklearn.tree import DecisionTreeClassifier\n",
        "\n",
        "dtc7_model = DecisionTreeClassifier(max_depth=7)\n",
        "dtc7_model.fit(X_train, y_train)\n",
        "print(\"Exactitud de entrenamiento=\",dtc7_model.score(X_train, y_train))\n",
        "print(\"Exactitud de validación=\",dtc7_model.score(X_valid, y_valid))"
      ]
    },
    {
      "cell_type": "code",
      "execution_count": 39,
      "metadata": {
        "colab": {
          "base_uri": "https://localhost:8080/"
        },
        "id": "f-pDRqt-sFaT",
        "outputId": "f9f3d89a-7e3a-4a5d-92bc-0da82e1137c7"
      },
      "outputs": [
        {
          "data": {
            "text/plain": [
              "0.7857142857142857"
            ]
          },
          "execution_count": 39,
          "metadata": {},
          "output_type": "execute_result"
        }
      ],
      "source": [
        "# selecciona y evalua el mejor árbol de decisión\n",
        "dtc_model = dtc5_model\n",
        "dtc_model.score(X_test, y_test)"
      ]
    },
    {
      "cell_type": "code",
      "execution_count": 40,
      "metadata": {
        "colab": {
          "base_uri": "https://localhost:8080/",
          "height": 548
        },
        "id": "2q5whaSjX7SX",
        "outputId": "44a6ce68-f307-4f49-c187-8710125c1ce2"
      },
      "outputs": [
        {
          "data": {
            "image/png": "[encoded data removed]",
            "text/plain": [
              "<Figure size 720x432 with 1 Axes>"
            ]
          },
          "metadata": {
            "needs_background": "light"
          },
          "output_type": "display_data"
        }
      ],
      "source": [
        "# grafica el árbol de decision con profundidad máxima de 3\n",
        "from sklearn.tree import plot_tree\n",
        "\n",
        "_ = plot_tree(dtc3_model, feature_names=dtc3_model.classes_, filled=True, \n",
        "          ax=plt.subplots(figsize=(10, 6))[1])"
      ]
    },
    {
      "cell_type": "markdown",
      "metadata": {
        "id": "nXb_fqIGOHxO"
      },
      "source": [
        "## Bosques Aleatorios"
      ]
    },
    {
      "cell_type": "code",
      "execution_count": 41,
      "metadata": {
        "colab": {
          "base_uri": "https://localhost:8080/"
        },
        "id": "tKRNWF8FjiwN",
        "outputId": "7ea844f1-63bb-4d20-b38f-2a7b52fe8726"
      },
      "outputs": [
        {
          "name": "stdout",
          "output_type": "stream",
          "text": [
            "Exactitud de entrenamiento= 0.856\n",
            "Exactitud de validación= 0.8095238095238095\n"
          ]
        }
      ],
      "source": [
        "# crea, entrena y evalua un bosque aleatorio con 5 árboles con profundidad \n",
        "# máxima de 3\n",
        "from sklearn.ensemble import RandomForestClassifier\n",
        "\n",
        "rfc5_3_model = RandomForestClassifier(n_estimators=5, max_depth=3)\n",
        "rfc5_3_model.fit(X_train, y_train)\n",
        "print(\"Exactitud de entrenamiento=\",rfc5_3_model.score(X_train, y_train))\n",
        "print(\"Exactitud de validación=\",rfc5_3_model.score(X_valid, y_valid))"
      ]
    },
    {
      "cell_type": "code",
      "execution_count": 42,
      "metadata": {
        "colab": {
          "base_uri": "https://localhost:8080/"
        },
        "id": "EMVBiesruAy6",
        "outputId": "1d6d5cb6-6d77-4a71-f488-52709105318c"
      },
      "outputs": [
        {
          "name": "stdout",
          "output_type": "stream",
          "text": [
            "Exactitud de entrenamiento= 0.864\n",
            "Exactitud de validación= 0.8333333333333334\n"
          ]
        }
      ],
      "source": [
        "# crea, entrena y evalua un bosque aleatorio con 50 árboles con profundidad \n",
        "# máxima de 3\n",
        "from sklearn.ensemble import RandomForestClassifier\n",
        "    \n",
        "rfc50_3_model = RandomForestClassifier(n_estimators=50, max_depth=3)\n",
        "rfc50_3_model.fit(X_train, y_train)\n",
        "print(\"Exactitud de entrenamiento=\",rfc50_3_model.score(X_train, y_train))\n",
        "print(\"Exactitud de validación=\",rfc50_3_model.score(X_valid, y_valid))"
      ]
    },
    {
      "cell_type": "code",
      "execution_count": 43,
      "metadata": {
        "colab": {
          "base_uri": "https://localhost:8080/"
        },
        "id": "Jz-kpiTduzjy",
        "outputId": "58b40edc-f70c-436a-bb0f-102f2a26a02b"
      },
      "outputs": [
        {
          "name": "stdout",
          "output_type": "stream",
          "text": [
            "Exactitud de entrenamiento= 0.92\n",
            "Exactitud de validación= 0.8571428571428571\n",
            "Exactitud de prueba= 0.7619047619047619\n"
          ]
        }
      ],
      "source": [
        "# crea, entrena y evalua un bosque aleatorio con 50 árboles con profundidad \n",
        "# máxima de 5\n",
        "from sklearn.ensemble import RandomForestClassifier\n",
        "\n",
        "rfc50_5_model = RandomForestClassifier(n_estimators=100, max_depth=5)\n",
        "rfc50_5_model.fit(X_train, y_train)\n",
        "print(\"Exactitud de entrenamiento=\",rfc50_5_model.score(X_train, y_train))\n",
        "print(\"Exactitud de validación=\",rfc50_5_model.score(X_valid, y_valid))\n",
        "print(\"Exactitud de prueba=\",rfc50_5_model.score(X_test, y_test))"
      ]
    },
    {
      "cell_type": "code",
      "execution_count": 44,
      "metadata": {
        "colab": {
          "base_uri": "https://localhost:8080/"
        },
        "id": "TGDMGdjEwaVq",
        "outputId": "f84e51cd-a5ca-4318-e518-b95e7f7438b0"
      },
      "outputs": [
        {
          "data": {
            "text/plain": [
              "0.7619047619047619"
            ]
          },
          "execution_count": 44,
          "metadata": {},
          "output_type": "execute_result"
        }
      ],
      "source": [
        "# selecciona y evalua el mejor árbol de decisión\n",
        "rfc_model = rfc50_5_model\n",
        "rfc_model.score(X_test, y_test)"
      ]
    },
    {
      "cell_type": "markdown",
      "metadata": {
        "id": "5xlmHe6-b7-q"
      },
      "source": [
        "## Regresión Logística"
      ]
    },
    {
      "cell_type": "code",
      "execution_count": 45,
      "metadata": {
        "colab": {
          "base_uri": "https://localhost:8080/"
        },
        "id": "iXemtwaRb5SJ",
        "outputId": "754facb7-04d7-4a45-929d-140bfa8dc48f"
      },
      "outputs": [
        {
          "name": "stdout",
          "output_type": "stream",
          "text": [
            "Exactitud de entrenamiento= 0.832\n",
            "Exactitud de validación= 0.8333333333333334\n"
          ]
        }
      ],
      "source": [
        "# crea, entrena y evalua un modelo de regresión logística\n",
        "from sklearn.linear_model import LogisticRegression\n",
        "\n",
        "lrc_model = LogisticRegression()\n",
        "lrc_model.fit(X_train, y_train)\n",
        "print(\"Exactitud de entrenamiento=\",lrc_model.score(X_train, y_train))\n",
        "print(\"Exactitud de validación=\",lrc_model.score(X_valid, y_valid))"
      ]
    },
    {
      "cell_type": "markdown",
      "metadata": {
        "id": "Bj3abajQcGx4"
      },
      "source": [
        "## Bayes Ingenuo Gaussiano"
      ]
    },
    {
      "cell_type": "code",
      "execution_count": 46,
      "metadata": {
        "colab": {
          "base_uri": "https://localhost:8080/"
        },
        "id": "vUV7PhZtcM1I",
        "outputId": "17bc6099-ac47-4087-8e2b-dcdd84213c91"
      },
      "outputs": [
        {
          "name": "stdout",
          "output_type": "stream",
          "text": [
            "Exactitud de entrenamiento= 0.816\n",
            "Exactitud de validación= 0.8571428571428571\n"
          ]
        }
      ],
      "source": [
        "# crea, entrena y evalua un modelo de Bayes Ingenuo Gaussiano\n",
        "from sklearn.naive_bayes import GaussianNB\n",
        "\n",
        "gnbc_model = GaussianNB()\n",
        "gnbc_model.fit(X_train, y_train)\n",
        "print(\"Exactitud de entrenamiento=\",gnbc_model.score(X_train, y_train))\n",
        "print(\"Exactitud de validación=\",gnbc_model.score(X_valid, y_valid))"
      ]
    },
    {
      "cell_type": "markdown",
      "metadata": {
        "id": "ljJ06DumcNtx"
      },
      "source": [
        "## Máquina de Vectores de Soporte"
      ]
    },
    {
      "cell_type": "code",
      "execution_count": 47,
      "metadata": {
        "colab": {
          "base_uri": "https://localhost:8080/"
        },
        "id": "QYJAsSkhcX5p",
        "outputId": "cf905e36-3305-4f6a-8262-3675db391914"
      },
      "outputs": [
        {
          "name": "stdout",
          "output_type": "stream",
          "text": [
            "Exactitud de entrenamiento= 0.632\n",
            "Exactitud de validación= 0.6190476190476191\n"
          ]
        }
      ],
      "source": [
        "# crea, entrena y evalua una máquina de vectores de soporte\n",
        "from sklearn.svm import SVC\n",
        "\n",
        "svmc_model = SVC()\n",
        "svmc_model.fit(X_train, y_train)\n",
        "print(\"Exactitud de entrenamiento=\",svmc_model.score(X_train, y_train))\n",
        "print(\"Exactitud de validación=\",svmc_model.score(X_valid, y_valid))"
      ]
    },
    {
      "cell_type": "markdown",
      "metadata": {
        "id": "SCKfC9Qnjmb2"
      },
      "source": [
        "### Matriz de confusión y métricas de evaluación"
      ]
    },
    {
      "cell_type": "code",
      "execution_count": 48,
      "metadata": {
        "colab": {
          "base_uri": "https://localhost:8080/",
          "height": 331
        },
        "id": "knNpRTTFjrtN",
        "outputId": "6fcd0f4f-c789-47b5-f4fa-46c5c92bc423"
      },
      "outputs": [
        {
          "name": "stdout",
          "output_type": "stream",
          "text": [
            "[[25  3]\n",
            " [ 6  8]]\n"
          ]
        },
        {
          "data": {
            "text/plain": [
              "<sklearn.metrics._plot.confusion_matrix.ConfusionMatrixDisplay at 0x266df90f070>"
            ]
          },
          "execution_count": 48,
          "metadata": {},
          "output_type": "execute_result"
        },
        {
          "data": {
            "image/png": "[encoded data removed]",
            "text/plain": [
              "<Figure size 432x288 with 2 Axes>"
            ]
          },
          "metadata": {
            "needs_background": "light"
          },
          "output_type": "display_data"
        }
      ],
      "source": [
        "# obten la matriz de confusión del mejor árbol de decisión\n",
        "from sklearn.metrics import confusion_matrix, ConfusionMatrixDisplay\n",
        "\n",
        "pred = dtc_model.predict(X_test)\n",
        "cm = confusion_matrix(y_test, pred)\n",
        "print(cm)\n",
        "\n",
        "ConfusionMatrixDisplay.from_estimator(\n",
        "    dtc_model, X_test, y_test,\n",
        "    display_labels=[\"Canada\", \"USA\"],\n",
        ")"
      ]
    },
    {
      "cell_type": "code",
      "execution_count": 49,
      "metadata": {
        "colab": {
          "base_uri": "https://localhost:8080/"
        },
        "id": "I1lb5fc9bR-T",
        "outputId": "1ef090ab-66e2-4436-f2ae-b3c9b7fe7144"
      },
      "outputs": [
        {
          "name": "stdout",
          "output_type": "stream",
          "text": [
            "Exactitud:  0.7857142857142857\n",
            "Precision:  0.7272727272727273\n",
            "Recall:  0.5714285714285714\n",
            "F1-score:  0.64\n"
          ]
        }
      ],
      "source": [
        "# calcula las métricas de evaluación del árbol de decisión\n",
        "VN = cm[0,0]\n",
        "FP = cm[0,1]\n",
        "FN = cm[1,0]\n",
        "VP = cm[1,1]\n",
        "\n",
        "Exactitud = (VP + VN) / (VP + VN + FP + FN)\n",
        "Precision = VP / (VP + FP)\n",
        "Recall = VP / (VP + FN) \n",
        "F1 = 2*VP / (2*VP + FP + FN )\n",
        "\n",
        "print('Exactitud: ', Exactitud )\n",
        "print('Precision: ', Precision)\n",
        "print('Recall: ', Recall)\n",
        "print('F1-score: ', F1)"
      ]
    },
    {
      "cell_type": "code",
      "execution_count": 50,
      "metadata": {
        "colab": {
          "base_uri": "https://localhost:8080/"
        },
        "id": "GAc-GQ8jj2kF",
        "outputId": "b945bd5f-b24c-4ec3-b882-653c9b102a69"
      },
      "outputs": [
        {
          "name": "stdout",
          "output_type": "stream",
          "text": [
            "              precision    recall  f1-score   support\n",
            "\n",
            "      Canada       0.81      0.89      0.85        28\n",
            "         USA       0.73      0.57      0.64        14\n",
            "\n",
            "    accuracy                           0.79        42\n",
            "   macro avg       0.77      0.73      0.74        42\n",
            "weighted avg       0.78      0.79      0.78        42\n",
            "\n"
          ]
        }
      ],
      "source": [
        "# obten el reporte de clasificación del árbol de decisión\n",
        "from sklearn.metrics import classification_report\n",
        "\n",
        "print(\n",
        "    classification_report(\n",
        "        y_test,\n",
        "        dtc_model.predict(X_test),\n",
        "        target_names=[\"Canada\", \"USA\"]\n",
        "    )\n",
        ")   "
      ]
    },
    {
      "cell_type": "code",
      "execution_count": 51,
      "metadata": {
        "colab": {
          "base_uri": "https://localhost:8080/",
          "height": 335
        },
        "id": "IVrXAAvtyckh",
        "outputId": "3012f721-aa08-4b38-897f-6e336c43b85f"
      },
      "outputs": [
        {
          "name": "stdout",
          "output_type": "stream",
          "text": [
            "[[25  3]\n",
            " [ 7  7]]\n"
          ]
        },
        {
          "data": {
            "text/plain": [
              "<sklearn.metrics._plot.confusion_matrix.ConfusionMatrixDisplay at 0x26683b079d0>"
            ]
          },
          "execution_count": 51,
          "metadata": {},
          "output_type": "execute_result"
        },
        {
          "data": {
            "image/png": "[encoded data removed]",
            "text/plain": [
              "<Figure size 432x288 with 2 Axes>"
            ]
          },
          "metadata": {
            "needs_background": "light"
          },
          "output_type": "display_data"
        }
      ],
      "source": [
        "# obten la matriz de confusión del mejor bosque aleatorio\n",
        "pred = rfc_model.predict(X_test)\n",
        "cm = confusion_matrix(y_test, pred)\n",
        "print(cm)\n",
        "\n",
        "ConfusionMatrixDisplay.from_estimator(\n",
        "    rfc_model, X_test, y_test,\n",
        "    display_labels=[\"Canada\", \"USA\"],\n",
        ")"
      ]
    },
    {
      "cell_type": "code",
      "execution_count": 52,
      "metadata": {
        "colab": {
          "base_uri": "https://localhost:8080/"
        },
        "id": "BQAc_bU-yvGA",
        "outputId": "ee2a070d-8121-460f-ab33-78a27cc46fc8"
      },
      "outputs": [
        {
          "name": "stdout",
          "output_type": "stream",
          "text": [
            "              precision    recall  f1-score   support\n",
            "\n",
            "      Canada       0.78      0.89      0.83        28\n",
            "         USA       0.70      0.50      0.58        14\n",
            "\n",
            "    accuracy                           0.76        42\n",
            "   macro avg       0.74      0.70      0.71        42\n",
            "weighted avg       0.75      0.76      0.75        42\n",
            "\n"
          ]
        }
      ],
      "source": [
        "# obten el reporte de clasificación del árbol de decisión\n",
        "from sklearn.metrics import classification_report\n",
        "\n",
        "print(\n",
        "    classification_report(\n",
        "        y_test,\n",
        "        rfc_model.predict(X_test),\n",
        "        target_names=[\"Canada\", \"USA\"]\n",
        "    )\n",
        ")   "
      ]
    },
    {
      "cell_type": "markdown",
      "metadata": {
        "id": "CZyn1Z1Td11S"
      },
      "source": [
        "## Curvas ROC y Áreas bajo las curvas"
      ]
    },
    {
      "cell_type": "code",
      "execution_count": 53,
      "metadata": {
        "colab": {
          "base_uri": "https://localhost:8080/",
          "height": 312
        },
        "id": "XJuoPWqCd_Fi",
        "outputId": "00d63a71-9deb-4575-c2e4-c00b56cdb82c"
      },
      "outputs": [
        {
          "data": {
            "text/plain": [
              "<Figure size 432x288 with 0 Axes>"
            ]
          },
          "metadata": {},
          "output_type": "display_data"
        },
        {
          "data": {
            "image/png": "[encoded data removed]",
            "text/plain": [
              "<Figure size 432x288 with 1 Axes>"
            ]
          },
          "metadata": {
            "needs_background": "light"
          },
          "output_type": "display_data"
        }
      ],
      "source": [
        "# calcular y mostrar las curvas ROC de cada modelo de aprendizaje\n",
        "# y sus métricas de área bajo la curva (AUC)\n",
        "from sklearn.metrics import RocCurveDisplay\n",
        "\n",
        "plt.figure()\n",
        "lw = 2\n",
        "disp = RocCurveDisplay.from_estimator(dtc_model, X_test, y_test)\n",
        "RocCurveDisplay.from_estimator(rfc_model, X_test, y_test, ax=disp.ax_)\n",
        "RocCurveDisplay.from_estimator(lrc_model, X_test, y_test, ax=disp.ax_)\n",
        "RocCurveDisplay.from_estimator(gnbc_model, X_test, y_test, ax=disp.ax_)\n",
        "RocCurveDisplay.from_estimator(svmc_model, X_test, y_test, ax=disp.ax_)\n",
        "plt.plot([0, 1], [0, 1], color=\"navy\", lw=lw, linestyle=\"--\")\n",
        "plt.title(\"ROC curve comparison\")\n",
        "plt.legend(loc=\"lower right\")\n",
        "plt.show()"
      ]
    },
    {
      "cell_type": "markdown",
      "metadata": {
        "id": "fj3rkmxBQbFU"
      },
      "source": [
        "##Conclusión: El modelo de **Bosques Aleatorios** fue el mejor con una exactitud de 0.88."
      ]
    }
  ],
  "metadata": {
    "colab": {
      "collapsed_sections": [],
      "name": "supervisado_dsai_ss1.ipynb",
      "provenance": []
    },
    "kernelspec": {
      "display_name": "Python 3.10.2 64-bit",
      "language": "python",
      "name": "python3"
    },
    "language_info": {
      "codemirror_mode": {
        "name": "ipython",
        "version": 3
      },
      "file_extension": ".py",
      "mimetype": "text/x-python",
      "name": "python",
      "nbconvert_exporter": "python",
      "pygments_lexer": "ipython3",
      "version": "3.10.2"
    },
    "vscode": {
      "interpreter": {
        "hash": "af6a57148d8251e394aaba2ac1a65307d2863bd3d511ca7f236e568805850424"
      }
    }
  },
  "nbformat": 4,
  "nbformat_minor": 0
}
