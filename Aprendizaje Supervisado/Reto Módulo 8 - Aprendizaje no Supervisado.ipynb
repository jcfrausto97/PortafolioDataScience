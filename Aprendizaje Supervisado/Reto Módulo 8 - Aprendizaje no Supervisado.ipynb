{
  "cells": [
    {
      "cell_type": "markdown",
      "metadata": {
        "id": "KZzfMNa0-wTq"
      },
      "source": [
        "\n",
        "### Reto de aplicación\n",
        "\n",
        "\n",
        "\n"
      ]
    },
    {
      "cell_type": "code",
      "execution_count": 218,
      "metadata": {
        "id": "VyZTs_v5nLz8"
      },
      "outputs": [],
      "source": [
        "# Libraries\n",
        "\n",
        "import numpy as np\n",
        "import matplotlib.pyplot as plt\n",
        "%matplotlib inline\n",
        "import pandas as pd\n",
        "from sklearn.preprocessing import OrdinalEncoder, StandardScaler\n"
      ]
    },
    {
      "cell_type": "markdown",
      "metadata": {
        "id": "zalAyyX0Q0Kp"
      },
      "source": [
        "### Lectura y preprocesamiento del conjunto de datos"
      ]
    },
    {
      "cell_type": "markdown",
      "metadata": {},
      "source": [
        "Realizar un análisis descriptivo que incluya la cantidad y tipo de variables que se tienen en el\n",
        "conjunto de datos "
      ]
    },
    {
      "cell_type": "code",
      "execution_count": 9,
      "metadata": {
        "colab": {
          "base_uri": "https://localhost:8080/",
          "height": 423
        },
        "id": "2-fZ_8P8t3s1",
        "outputId": "77edb117-ed25-4995-8019-90f8f12aaa0d"
      },
      "outputs": [
        {
          "data": {
            "text/html": [
              "<div>\n",
              "<style scoped>\n",
              "    .dataframe tbody tr th:only-of-type {\n",
              "        vertical-align: middle;\n",
              "    }\n",
              "\n",
              "    .dataframe tbody tr th {\n",
              "        vertical-align: top;\n",
              "    }\n",
              "\n",
              "    .dataframe thead th {\n",
              "        text-align: right;\n",
              "    }\n",
              "</style>\n",
              "<table border=\"1\" class=\"dataframe\">\n",
              "  <thead>\n",
              "    <tr style=\"text-align: right;\">\n",
              "      <th></th>\n",
              "      <th>Age</th>\n",
              "      <th>Attrition</th>\n",
              "      <th>BusinessTravel</th>\n",
              "      <th>DailyRate</th>\n",
              "      <th>Department</th>\n",
              "      <th>DistanceFromHome</th>\n",
              "      <th>Education</th>\n",
              "      <th>EducationField</th>\n",
              "      <th>EmployeeCount</th>\n",
              "      <th>EmployeeNumber</th>\n",
              "      <th>...</th>\n",
              "      <th>RelationshipSatisfaction</th>\n",
              "      <th>StandardHours</th>\n",
              "      <th>StockOptionLevel</th>\n",
              "      <th>TotalWorkingYears</th>\n",
              "      <th>TrainingTimesLastYear</th>\n",
              "      <th>WorkLifeBalance</th>\n",
              "      <th>YearsAtCompany</th>\n",
              "      <th>YearsInCurrentRole</th>\n",
              "      <th>YearsSinceLastPromotion</th>\n",
              "      <th>YearsWithCurrManager</th>\n",
              "    </tr>\n",
              "  </thead>\n",
              "  <tbody>\n",
              "    <tr>\n",
              "      <th>0</th>\n",
              "      <td>41</td>\n",
              "      <td>Yes</td>\n",
              "      <td>Travel_Rarely</td>\n",
              "      <td>1102</td>\n",
              "      <td>Sales</td>\n",
              "      <td>1</td>\n",
              "      <td>2</td>\n",
              "      <td>Life Sciences</td>\n",
              "      <td>1</td>\n",
              "      <td>1</td>\n",
              "      <td>...</td>\n",
              "      <td>1</td>\n",
              "      <td>80</td>\n",
              "      <td>0</td>\n",
              "      <td>8</td>\n",
              "      <td>0</td>\n",
              "      <td>1</td>\n",
              "      <td>6</td>\n",
              "      <td>4</td>\n",
              "      <td>0</td>\n",
              "      <td>5</td>\n",
              "    </tr>\n",
              "    <tr>\n",
              "      <th>1</th>\n",
              "      <td>49</td>\n",
              "      <td>No</td>\n",
              "      <td>Travel_Frequently</td>\n",
              "      <td>279</td>\n",
              "      <td>Research &amp; Development</td>\n",
              "      <td>8</td>\n",
              "      <td>1</td>\n",
              "      <td>Life Sciences</td>\n",
              "      <td>1</td>\n",
              "      <td>2</td>\n",
              "      <td>...</td>\n",
              "      <td>4</td>\n",
              "      <td>80</td>\n",
              "      <td>1</td>\n",
              "      <td>10</td>\n",
              "      <td>3</td>\n",
              "      <td>3</td>\n",
              "      <td>10</td>\n",
              "      <td>7</td>\n",
              "      <td>1</td>\n",
              "      <td>7</td>\n",
              "    </tr>\n",
              "    <tr>\n",
              "      <th>2</th>\n",
              "      <td>37</td>\n",
              "      <td>Yes</td>\n",
              "      <td>Travel_Rarely</td>\n",
              "      <td>1373</td>\n",
              "      <td>Research &amp; Development</td>\n",
              "      <td>2</td>\n",
              "      <td>2</td>\n",
              "      <td>Other</td>\n",
              "      <td>1</td>\n",
              "      <td>4</td>\n",
              "      <td>...</td>\n",
              "      <td>2</td>\n",
              "      <td>80</td>\n",
              "      <td>0</td>\n",
              "      <td>7</td>\n",
              "      <td>3</td>\n",
              "      <td>3</td>\n",
              "      <td>0</td>\n",
              "      <td>0</td>\n",
              "      <td>0</td>\n",
              "      <td>0</td>\n",
              "    </tr>\n",
              "  </tbody>\n",
              "</table>\n",
              "<p>3 rows × 35 columns</p>\n",
              "</div>"
            ],
            "text/plain": [
              "   Age Attrition     BusinessTravel  DailyRate              Department  \\\n",
              "0   41       Yes      Travel_Rarely       1102                   Sales   \n",
              "1   49        No  Travel_Frequently        279  Research & Development   \n",
              "2   37       Yes      Travel_Rarely       1373  Research & Development   \n",
              "\n",
              "   DistanceFromHome  Education EducationField  EmployeeCount  EmployeeNumber  \\\n",
              "0                 1          2  Life Sciences              1               1   \n",
              "1                 8          1  Life Sciences              1               2   \n",
              "2                 2          2          Other              1               4   \n",
              "\n",
              "   ...  RelationshipSatisfaction StandardHours  StockOptionLevel  \\\n",
              "0  ...                         1            80                 0   \n",
              "1  ...                         4            80                 1   \n",
              "2  ...                         2            80                 0   \n",
              "\n",
              "   TotalWorkingYears  TrainingTimesLastYear WorkLifeBalance  YearsAtCompany  \\\n",
              "0                  8                      0               1               6   \n",
              "1                 10                      3               3              10   \n",
              "2                  7                      3               3               0   \n",
              "\n",
              "  YearsInCurrentRole  YearsSinceLastPromotion  YearsWithCurrManager  \n",
              "0                  4                        0                     5  \n",
              "1                  7                        1                     7  \n",
              "2                  0                        0                     0  \n",
              "\n",
              "[3 rows x 35 columns]"
            ]
          },
          "execution_count": 9,
          "metadata": {},
          "output_type": "execute_result"
        }
      ],
      "source": [
        "# leer el conjunto de datos a utilizar\n",
        "df = pd.read_csv(r'Employee_Attrition.csv')\n",
        "\n",
        "# mostrar las primeras 3 líneas del dataframe\n",
        "df.head(3)"
      ]
    },
    {
      "cell_type": "markdown",
      "metadata": {},
      "source": [
        "Obtener la información de dicha base de datos que incluya el número de registros, el total de\n",
        "variables, el tipo de cada variable, la cantidad de datos perdidos de cada variable."
      ]
    },
    {
      "cell_type": "code",
      "execution_count": 13,
      "metadata": {
        "colab": {
          "base_uri": "https://localhost:8080/"
        },
        "id": "jQd3YDgmuJfV",
        "outputId": "8d1ae675-3842-4afe-efef-62c965ead1f0"
      },
      "outputs": [
        {
          "name": "stdout",
          "output_type": "stream",
          "text": [
            "La base de datos contiene 1470 registros y 35 variables\n"
          ]
        }
      ],
      "source": [
        "# Número de registros y total de variables\n",
        "\n",
        "print(\"La base de datos contiene\", df.shape[0], \"registros y\", df.shape[1],\"variables\")"
      ]
    },
    {
      "cell_type": "code",
      "execution_count": 61,
      "metadata": {},
      "outputs": [
        {
          "name": "stdout",
          "output_type": "stream",
          "text": [
            "Los tipos de variables y número de variables por tipo se muestran en la siguiente tabla: \n",
            " \n",
            " int64     26\n",
            "object     9\n",
            "Name: 0, dtype: int64\n"
          ]
        }
      ],
      "source": [
        "# Tipo y número de variables\n",
        "\n",
        "df_types = pd.DataFrame(df.dtypes)\n",
        "df_types = df_types[0].value_counts()\n",
        "\n",
        "print(\"Los tipos de variables y número de variables por tipo se muestran en la siguiente tabla: \\n \\n\", df_types)\n",
        "\n"
      ]
    },
    {
      "cell_type": "code",
      "execution_count": 29,
      "metadata": {
        "colab": {
          "base_uri": "https://localhost:8080/"
        },
        "id": "K2SLjP5FuKfk",
        "outputId": "6cdee1dd-386f-494e-e14b-6b12e4553c8e"
      },
      "outputs": [
        {
          "name": "stdout",
          "output_type": "stream",
          "text": [
            "La base de datos contiene 0 columnas con valores faltantes\n"
          ]
        }
      ],
      "source": [
        "# Determinar la cantidad de datos faltantes en las columnas\n",
        "\n",
        "df_null = pd.DataFrame(df.isnull().sum())\n",
        "missing_values = df_null[df_null[0]>0].count()\n",
        "\n",
        "print(\"La base de datos contiene\", missing_values[0],\"columnas con valores faltantes\")\n"
      ]
    },
    {
      "cell_type": "markdown",
      "metadata": {},
      "source": [
        "### Selección de variables"
      ]
    },
    {
      "cell_type": "markdown",
      "metadata": {},
      "source": [
        "Borra las variables que consideres no deben estar en el modelo. Justifica cada decisión de las\n",
        "variables eliminadas."
      ]
    },
    {
      "cell_type": "code",
      "execution_count": 244,
      "metadata": {},
      "outputs": [
        {
          "data": {
            "text/html": [
              "<div>\n",
              "<style scoped>\n",
              "    .dataframe tbody tr th:only-of-type {\n",
              "        vertical-align: middle;\n",
              "    }\n",
              "\n",
              "    .dataframe tbody tr th {\n",
              "        vertical-align: top;\n",
              "    }\n",
              "\n",
              "    .dataframe thead th {\n",
              "        text-align: right;\n",
              "    }\n",
              "</style>\n",
              "<table border=\"1\" class=\"dataframe\">\n",
              "  <thead>\n",
              "    <tr style=\"text-align: right;\">\n",
              "      <th></th>\n",
              "      <th>Variable</th>\n",
              "      <th>Type</th>\n",
              "      <th>DifF_Count</th>\n",
              "    </tr>\n",
              "  </thead>\n",
              "  <tbody>\n",
              "    <tr>\n",
              "      <th>0</th>\n",
              "      <td>Age</td>\n",
              "      <td>int64</td>\n",
              "      <td>43</td>\n",
              "    </tr>\n",
              "    <tr>\n",
              "      <th>1</th>\n",
              "      <td>Attrition</td>\n",
              "      <td>object</td>\n",
              "      <td>2</td>\n",
              "    </tr>\n",
              "    <tr>\n",
              "      <th>2</th>\n",
              "      <td>BusinessTravel</td>\n",
              "      <td>object</td>\n",
              "      <td>3</td>\n",
              "    </tr>\n",
              "    <tr>\n",
              "      <th>3</th>\n",
              "      <td>DailyRate</td>\n",
              "      <td>int64</td>\n",
              "      <td>886</td>\n",
              "    </tr>\n",
              "    <tr>\n",
              "      <th>4</th>\n",
              "      <td>Department</td>\n",
              "      <td>object</td>\n",
              "      <td>3</td>\n",
              "    </tr>\n",
              "  </tbody>\n",
              "</table>\n",
              "</div>"
            ],
            "text/plain": [
              "         Variable    Type  DifF_Count\n",
              "0             Age   int64          43\n",
              "1       Attrition  object           2\n",
              "2  BusinessTravel  object           3\n",
              "3       DailyRate   int64         886\n",
              "4      Department  object           3"
            ]
          },
          "execution_count": 244,
          "metadata": {},
          "output_type": "execute_result"
        }
      ],
      "source": [
        "# Selección de variables para el análisis\n",
        "\n",
        "df_dtypes = pd.DataFrame(df.dtypes).reset_index()\n",
        "df_dtypes.set_axis(['Variable','Type'],axis=1,inplace=True)\n",
        "df_unique = pd.DataFrame(df.nunique()).reset_index()\n",
        "df_unique.set_axis(['Variable','DifF_Count'],axis=1,inplace=True)\n",
        "\n",
        "df_var_type_count = df_dtypes.merge(df_unique,how=\"left\")\n",
        "df_var_type_count.head(5)"
      ]
    },
    {
      "cell_type": "code",
      "execution_count": 202,
      "metadata": {
        "colab": {
          "base_uri": "https://localhost:8080/"
        },
        "id": "-jk8_wIyuh-J",
        "outputId": "df2f451d-129e-4de6-ef57-8ef9d0b800f9"
      },
      "outputs": [
        {
          "name": "stdout",
          "output_type": "stream",
          "text": [
            "Se conservarán solamente las variables del tipo int que contengan n número de registros diferentes menor al 60 % del número total de registros puesto que variables con un número registros similar al número total de registros no proporcionan información suficiente para categorizar y agrupar los datos\n",
            "\n",
            " De las variabes del tipo object se seleccionaran las que tengan más de un valor diferente\n"
          ]
        }
      ],
      "source": [
        "# Selección de variables a conservar\n",
        "\n",
        "df_variables = df_var_type_count[(df_var_type_count['DifF_Count'] < df.shape[0]*0.60) & (df_var_type_count['DifF_Count'] > 1)]\n",
        "variables = df_variables['Variable'].values\n",
        "\n",
        "print(\"Se conservarán solamente las variables del tipo int que contengan n número de registros diferentes menor al 60 % del número total de registros puesto que variables con un número registros similar al número total de registros no proporcionan información suficiente para categorizar y agrupar los datos\")\n",
        "print(\"\\n De las variabes del tipo object se seleccionaran las que tengan más de un valor diferente\")"
      ]
    },
    {
      "cell_type": "code",
      "execution_count": 144,
      "metadata": {
        "colab": {
          "base_uri": "https://localhost:8080/"
        },
        "id": "KqqIDYH2wHjJ",
        "outputId": "3889a543-0f4f-4d0b-cfe1-d493c14e8d1c"
      },
      "outputs": [
        {
          "name": "stdout",
          "output_type": "stream",
          "text": [
            "El nuevo set de datos contiene 1470 registros y 28 variables. Se han discriminado 7 variables.\n"
          ]
        }
      ],
      "source": [
        "# Discriminar variables del df original y crear dataset nuevo\n",
        "\n",
        "df2 = df[variables]\n",
        "print(\"El nuevo set de datos contiene\", df2.shape[0], \"registros y\", df2.shape[1],\"variables. Se han discriminado\",(df.shape[1]-df2.shape[1]),\"variables.\")"
      ]
    },
    {
      "cell_type": "markdown",
      "metadata": {},
      "source": [
        "## Transformacion de variables"
      ]
    },
    {
      "cell_type": "code",
      "execution_count": 245,
      "metadata": {},
      "outputs": [
        {
          "data": {
            "text/plain": [
              "(28, 3)"
            ]
          },
          "execution_count": 245,
          "metadata": {},
          "output_type": "execute_result"
        }
      ],
      "source": [
        "# Revisión de variables a utilizar\n",
        "\n",
        "df_dtypes = pd.DataFrame(df2.dtypes).reset_index()\n",
        "df_dtypes.set_axis(['Variable','Type'],axis=1,inplace=True)\n",
        "df_unique = pd.DataFrame(df2.nunique()).reset_index()\n",
        "df_unique.set_axis(['Variable','DifF_Count'],axis=1,inplace=True)\n",
        "\n",
        "df_var_type_count = df_dtypes.merge(df_unique,how=\"left\")\n",
        "df_var_type_count.shape"
      ]
    },
    {
      "cell_type": "markdown",
      "metadata": {},
      "source": [
        "### Ordinal encoding"
      ]
    },
    {
      "cell_type": "code",
      "execution_count": 246,
      "metadata": {},
      "outputs": [
        {
          "data": {
            "text/html": [
              "<div>\n",
              "<style scoped>\n",
              "    .dataframe tbody tr th:only-of-type {\n",
              "        vertical-align: middle;\n",
              "    }\n",
              "\n",
              "    .dataframe tbody tr th {\n",
              "        vertical-align: top;\n",
              "    }\n",
              "\n",
              "    .dataframe thead th {\n",
              "        text-align: right;\n",
              "    }\n",
              "</style>\n",
              "<table border=\"1\" class=\"dataframe\">\n",
              "  <thead>\n",
              "    <tr style=\"text-align: right;\">\n",
              "      <th></th>\n",
              "      <th>Age</th>\n",
              "      <th>Attrition</th>\n",
              "      <th>BusinessTravel</th>\n",
              "      <th>Department</th>\n",
              "      <th>DistanceFromHome</th>\n",
              "      <th>Education</th>\n",
              "      <th>EducationField</th>\n",
              "      <th>EnvironmentSatisfaction</th>\n",
              "      <th>Gender</th>\n",
              "      <th>HourlyRate</th>\n",
              "      <th>...</th>\n",
              "      <th>PerformanceRating</th>\n",
              "      <th>RelationshipSatisfaction</th>\n",
              "      <th>StockOptionLevel</th>\n",
              "      <th>TotalWorkingYears</th>\n",
              "      <th>TrainingTimesLastYear</th>\n",
              "      <th>WorkLifeBalance</th>\n",
              "      <th>YearsAtCompany</th>\n",
              "      <th>YearsInCurrentRole</th>\n",
              "      <th>YearsSinceLastPromotion</th>\n",
              "      <th>YearsWithCurrManager</th>\n",
              "    </tr>\n",
              "  </thead>\n",
              "  <tbody>\n",
              "    <tr>\n",
              "      <th>0</th>\n",
              "      <td>41</td>\n",
              "      <td>1.0</td>\n",
              "      <td>2.0</td>\n",
              "      <td>2.0</td>\n",
              "      <td>1</td>\n",
              "      <td>2</td>\n",
              "      <td>1.0</td>\n",
              "      <td>2</td>\n",
              "      <td>0.0</td>\n",
              "      <td>94</td>\n",
              "      <td>...</td>\n",
              "      <td>3</td>\n",
              "      <td>1</td>\n",
              "      <td>0</td>\n",
              "      <td>8</td>\n",
              "      <td>0</td>\n",
              "      <td>1</td>\n",
              "      <td>6</td>\n",
              "      <td>4</td>\n",
              "      <td>0</td>\n",
              "      <td>5</td>\n",
              "    </tr>\n",
              "    <tr>\n",
              "      <th>1</th>\n",
              "      <td>49</td>\n",
              "      <td>0.0</td>\n",
              "      <td>1.0</td>\n",
              "      <td>1.0</td>\n",
              "      <td>8</td>\n",
              "      <td>1</td>\n",
              "      <td>1.0</td>\n",
              "      <td>3</td>\n",
              "      <td>1.0</td>\n",
              "      <td>61</td>\n",
              "      <td>...</td>\n",
              "      <td>4</td>\n",
              "      <td>4</td>\n",
              "      <td>1</td>\n",
              "      <td>10</td>\n",
              "      <td>3</td>\n",
              "      <td>3</td>\n",
              "      <td>10</td>\n",
              "      <td>7</td>\n",
              "      <td>1</td>\n",
              "      <td>7</td>\n",
              "    </tr>\n",
              "    <tr>\n",
              "      <th>2</th>\n",
              "      <td>37</td>\n",
              "      <td>1.0</td>\n",
              "      <td>2.0</td>\n",
              "      <td>1.0</td>\n",
              "      <td>2</td>\n",
              "      <td>2</td>\n",
              "      <td>4.0</td>\n",
              "      <td>4</td>\n",
              "      <td>1.0</td>\n",
              "      <td>92</td>\n",
              "      <td>...</td>\n",
              "      <td>3</td>\n",
              "      <td>2</td>\n",
              "      <td>0</td>\n",
              "      <td>7</td>\n",
              "      <td>3</td>\n",
              "      <td>3</td>\n",
              "      <td>0</td>\n",
              "      <td>0</td>\n",
              "      <td>0</td>\n",
              "      <td>0</td>\n",
              "    </tr>\n",
              "  </tbody>\n",
              "</table>\n",
              "<p>3 rows × 28 columns</p>\n",
              "</div>"
            ],
            "text/plain": [
              "   Age  Attrition  BusinessTravel  Department  DistanceFromHome  Education  \\\n",
              "0   41        1.0             2.0         2.0                 1          2   \n",
              "1   49        0.0             1.0         1.0                 8          1   \n",
              "2   37        1.0             2.0         1.0                 2          2   \n",
              "\n",
              "   EducationField  EnvironmentSatisfaction  Gender  HourlyRate  ...  \\\n",
              "0             1.0                        2     0.0          94  ...   \n",
              "1             1.0                        3     1.0          61  ...   \n",
              "2             4.0                        4     1.0          92  ...   \n",
              "\n",
              "   PerformanceRating  RelationshipSatisfaction  StockOptionLevel  \\\n",
              "0                  3                         1                 0   \n",
              "1                  4                         4                 1   \n",
              "2                  3                         2                 0   \n",
              "\n",
              "   TotalWorkingYears  TrainingTimesLastYear  WorkLifeBalance  YearsAtCompany  \\\n",
              "0                  8                      0                1               6   \n",
              "1                 10                      3                3              10   \n",
              "2                  7                      3                3               0   \n",
              "\n",
              "   YearsInCurrentRole  YearsSinceLastPromotion  YearsWithCurrManager  \n",
              "0                   4                        0                     5  \n",
              "1                   7                        1                     7  \n",
              "2                   0                        0                     0  \n",
              "\n",
              "[3 rows x 28 columns]"
            ]
          },
          "execution_count": 246,
          "metadata": {},
          "output_type": "execute_result"
        }
      ],
      "source": [
        "# Transformar datos categóricos a numéricos utilizando Ordinal Encoder\n",
        "\n",
        "df3 = df2.copy()\n",
        "for col in df3.columns:\n",
        "    if df3[col].dtype == 'object':\n",
        "        df3[col] = OrdinalEncoder().fit_transform(df3[[col]])\n",
        "\n",
        "df3.head(3)"
      ]
    },
    {
      "cell_type": "code",
      "execution_count": 247,
      "metadata": {
        "colab": {
          "base_uri": "https://localhost:8080/"
        },
        "id": "LOrC7-2yytVq",
        "outputId": "74287c29-dbd2-4689-d92c-6281944654a2"
      },
      "outputs": [
        {
          "data": {
            "text/plain": [
              "array([[ 0.38461538,  1.        ,  0.        , ...,  0.2       ,\n",
              "        -0.33333333,  0.4       ],\n",
              "       [ 1.        ,  0.        , -1.        , ...,  0.8       ,\n",
              "         0.        ,  0.8       ],\n",
              "       [ 0.07692308,  1.        ,  0.        , ..., -0.6       ,\n",
              "        -0.33333333, -0.6       ],\n",
              "       ...,\n",
              "       [-0.69230769,  0.        ,  0.        , ..., -0.2       ,\n",
              "        -0.33333333,  0.        ],\n",
              "       [ 1.        ,  0.        , -1.        , ...,  0.6       ,\n",
              "        -0.33333333,  1.        ],\n",
              "       [-0.15384615,  0.        ,  0.        , ...,  0.        ,\n",
              "         0.        , -0.2       ]])"
            ]
          },
          "execution_count": 247,
          "metadata": {},
          "output_type": "execute_result"
        }
      ],
      "source": [
        "# Normalización de datos utilizando un escalador de datos\n",
        "\n",
        "from sklearn.preprocessing import MinMaxScaler, StandardScaler, RobustScaler\n",
        "\n",
        "dataScaler = RobustScaler()\n",
        "scaler = dataScaler.fit(df3)\n",
        "dataScaled = scaler.transform(df3)\n",
        "\n",
        "# muestra el arreglo resultante\n",
        "dataScaled"
      ]
    },
    {
      "cell_type": "code",
      "execution_count": 248,
      "metadata": {
        "colab": {
          "base_uri": "https://localhost:8080/",
          "height": 206
        },
        "id": "RHT9pVPl1Fnb",
        "outputId": "d14f32ad-d2aa-4177-dfeb-7c0c9a23b06b"
      },
      "outputs": [
        {
          "data": {
            "text/html": [
              "<div>\n",
              "<style scoped>\n",
              "    .dataframe tbody tr th:only-of-type {\n",
              "        vertical-align: middle;\n",
              "    }\n",
              "\n",
              "    .dataframe tbody tr th {\n",
              "        vertical-align: top;\n",
              "    }\n",
              "\n",
              "    .dataframe thead th {\n",
              "        text-align: right;\n",
              "    }\n",
              "</style>\n",
              "<table border=\"1\" class=\"dataframe\">\n",
              "  <thead>\n",
              "    <tr style=\"text-align: right;\">\n",
              "      <th></th>\n",
              "      <th>Age</th>\n",
              "      <th>Attrition</th>\n",
              "      <th>BusinessTravel</th>\n",
              "      <th>Department</th>\n",
              "      <th>DistanceFromHome</th>\n",
              "      <th>Education</th>\n",
              "      <th>EducationField</th>\n",
              "      <th>EnvironmentSatisfaction</th>\n",
              "      <th>Gender</th>\n",
              "      <th>HourlyRate</th>\n",
              "      <th>...</th>\n",
              "      <th>PerformanceRating</th>\n",
              "      <th>RelationshipSatisfaction</th>\n",
              "      <th>StockOptionLevel</th>\n",
              "      <th>TotalWorkingYears</th>\n",
              "      <th>TrainingTimesLastYear</th>\n",
              "      <th>WorkLifeBalance</th>\n",
              "      <th>YearsAtCompany</th>\n",
              "      <th>YearsInCurrentRole</th>\n",
              "      <th>YearsSinceLastPromotion</th>\n",
              "      <th>YearsWithCurrManager</th>\n",
              "    </tr>\n",
              "  </thead>\n",
              "  <tbody>\n",
              "    <tr>\n",
              "      <th>0</th>\n",
              "      <td>0.384615</td>\n",
              "      <td>1.0</td>\n",
              "      <td>0.0</td>\n",
              "      <td>1.0</td>\n",
              "      <td>-0.500000</td>\n",
              "      <td>-0.5</td>\n",
              "      <td>-0.5</td>\n",
              "      <td>-0.5</td>\n",
              "      <td>-1.0</td>\n",
              "      <td>0.783217</td>\n",
              "      <td>...</td>\n",
              "      <td>0.0</td>\n",
              "      <td>-1.0</td>\n",
              "      <td>-1.0</td>\n",
              "      <td>-0.222222</td>\n",
              "      <td>-3.0</td>\n",
              "      <td>-2.0</td>\n",
              "      <td>0.166667</td>\n",
              "      <td>0.2</td>\n",
              "      <td>-0.333333</td>\n",
              "      <td>0.4</td>\n",
              "    </tr>\n",
              "    <tr>\n",
              "      <th>1</th>\n",
              "      <td>1.000000</td>\n",
              "      <td>0.0</td>\n",
              "      <td>-1.0</td>\n",
              "      <td>0.0</td>\n",
              "      <td>0.083333</td>\n",
              "      <td>-1.0</td>\n",
              "      <td>-0.5</td>\n",
              "      <td>0.0</td>\n",
              "      <td>0.0</td>\n",
              "      <td>-0.139860</td>\n",
              "      <td>...</td>\n",
              "      <td>1.0</td>\n",
              "      <td>0.5</td>\n",
              "      <td>0.0</td>\n",
              "      <td>0.000000</td>\n",
              "      <td>0.0</td>\n",
              "      <td>0.0</td>\n",
              "      <td>0.833333</td>\n",
              "      <td>0.8</td>\n",
              "      <td>0.000000</td>\n",
              "      <td>0.8</td>\n",
              "    </tr>\n",
              "    <tr>\n",
              "      <th>2</th>\n",
              "      <td>0.076923</td>\n",
              "      <td>1.0</td>\n",
              "      <td>0.0</td>\n",
              "      <td>0.0</td>\n",
              "      <td>-0.416667</td>\n",
              "      <td>-0.5</td>\n",
              "      <td>1.0</td>\n",
              "      <td>0.5</td>\n",
              "      <td>0.0</td>\n",
              "      <td>0.727273</td>\n",
              "      <td>...</td>\n",
              "      <td>0.0</td>\n",
              "      <td>-0.5</td>\n",
              "      <td>-1.0</td>\n",
              "      <td>-0.333333</td>\n",
              "      <td>0.0</td>\n",
              "      <td>0.0</td>\n",
              "      <td>-0.833333</td>\n",
              "      <td>-0.6</td>\n",
              "      <td>-0.333333</td>\n",
              "      <td>-0.6</td>\n",
              "    </tr>\n",
              "    <tr>\n",
              "      <th>3</th>\n",
              "      <td>-0.230769</td>\n",
              "      <td>0.0</td>\n",
              "      <td>-1.0</td>\n",
              "      <td>0.0</td>\n",
              "      <td>-0.333333</td>\n",
              "      <td>0.5</td>\n",
              "      <td>-0.5</td>\n",
              "      <td>0.5</td>\n",
              "      <td>-1.0</td>\n",
              "      <td>-0.279720</td>\n",
              "      <td>...</td>\n",
              "      <td>0.0</td>\n",
              "      <td>0.0</td>\n",
              "      <td>-1.0</td>\n",
              "      <td>-0.222222</td>\n",
              "      <td>0.0</td>\n",
              "      <td>0.0</td>\n",
              "      <td>0.500000</td>\n",
              "      <td>0.8</td>\n",
              "      <td>0.666667</td>\n",
              "      <td>-0.6</td>\n",
              "    </tr>\n",
              "    <tr>\n",
              "      <th>4</th>\n",
              "      <td>-0.692308</td>\n",
              "      <td>0.0</td>\n",
              "      <td>0.0</td>\n",
              "      <td>0.0</td>\n",
              "      <td>-0.416667</td>\n",
              "      <td>-1.0</td>\n",
              "      <td>0.5</td>\n",
              "      <td>-1.0</td>\n",
              "      <td>0.0</td>\n",
              "      <td>-0.727273</td>\n",
              "      <td>...</td>\n",
              "      <td>0.0</td>\n",
              "      <td>0.5</td>\n",
              "      <td>0.0</td>\n",
              "      <td>-0.444444</td>\n",
              "      <td>0.0</td>\n",
              "      <td>0.0</td>\n",
              "      <td>-0.500000</td>\n",
              "      <td>-0.2</td>\n",
              "      <td>0.333333</td>\n",
              "      <td>-0.2</td>\n",
              "    </tr>\n",
              "  </tbody>\n",
              "</table>\n",
              "<p>5 rows × 28 columns</p>\n",
              "</div>"
            ],
            "text/plain": [
              "        Age  Attrition  BusinessTravel  Department  DistanceFromHome  \\\n",
              "0  0.384615        1.0             0.0         1.0         -0.500000   \n",
              "1  1.000000        0.0            -1.0         0.0          0.083333   \n",
              "2  0.076923        1.0             0.0         0.0         -0.416667   \n",
              "3 -0.230769        0.0            -1.0         0.0         -0.333333   \n",
              "4 -0.692308        0.0             0.0         0.0         -0.416667   \n",
              "\n",
              "   Education  EducationField  EnvironmentSatisfaction  Gender  HourlyRate  \\\n",
              "0       -0.5            -0.5                     -0.5    -1.0    0.783217   \n",
              "1       -1.0            -0.5                      0.0     0.0   -0.139860   \n",
              "2       -0.5             1.0                      0.5     0.0    0.727273   \n",
              "3        0.5            -0.5                      0.5    -1.0   -0.279720   \n",
              "4       -1.0             0.5                     -1.0     0.0   -0.727273   \n",
              "\n",
              "   ...  PerformanceRating  RelationshipSatisfaction  StockOptionLevel  \\\n",
              "0  ...                0.0                      -1.0              -1.0   \n",
              "1  ...                1.0                       0.5               0.0   \n",
              "2  ...                0.0                      -0.5              -1.0   \n",
              "3  ...                0.0                       0.0              -1.0   \n",
              "4  ...                0.0                       0.5               0.0   \n",
              "\n",
              "   TotalWorkingYears  TrainingTimesLastYear  WorkLifeBalance  YearsAtCompany  \\\n",
              "0          -0.222222                   -3.0             -2.0        0.166667   \n",
              "1           0.000000                    0.0              0.0        0.833333   \n",
              "2          -0.333333                    0.0              0.0       -0.833333   \n",
              "3          -0.222222                    0.0              0.0        0.500000   \n",
              "4          -0.444444                    0.0              0.0       -0.500000   \n",
              "\n",
              "   YearsInCurrentRole  YearsSinceLastPromotion  YearsWithCurrManager  \n",
              "0                 0.2                -0.333333                   0.4  \n",
              "1                 0.8                 0.000000                   0.8  \n",
              "2                -0.6                -0.333333                  -0.6  \n",
              "3                 0.8                 0.666667                  -0.6  \n",
              "4                -0.2                 0.333333                  -0.2  \n",
              "\n",
              "[5 rows x 28 columns]"
            ]
          },
          "execution_count": 248,
          "metadata": {},
          "output_type": "execute_result"
        }
      ],
      "source": [
        "# Creación de un dataframe con los datos normalizados\n",
        "\n",
        "data = pd.DataFrame(dataScaled)\n",
        "data.columns = df3.columns\n",
        "\n",
        "# muestra las primeras 5 líneas del dataframe resultante\n",
        "data.head()"
      ]
    },
    {
      "cell_type": "code",
      "execution_count": 249,
      "metadata": {
        "colab": {
          "base_uri": "https://localhost:8080/"
        },
        "id": "7F4tfSX91fm4",
        "outputId": "856d539f-5876-4178-dafb-da5629f1685c"
      },
      "outputs": [
        {
          "name": "stdout",
          "output_type": "stream",
          "text": [
            "<class 'pandas.core.frame.DataFrame'>\n",
            "RangeIndex: 1470 entries, 0 to 1469\n",
            "Data columns (total 28 columns):\n",
            " #   Column                    Non-Null Count  Dtype  \n",
            "---  ------                    --------------  -----  \n",
            " 0   Age                       1470 non-null   float64\n",
            " 1   Attrition                 1470 non-null   float64\n",
            " 2   BusinessTravel            1470 non-null   float64\n",
            " 3   Department                1470 non-null   float64\n",
            " 4   DistanceFromHome          1470 non-null   float64\n",
            " 5   Education                 1470 non-null   float64\n",
            " 6   EducationField            1470 non-null   float64\n",
            " 7   EnvironmentSatisfaction   1470 non-null   float64\n",
            " 8   Gender                    1470 non-null   float64\n",
            " 9   HourlyRate                1470 non-null   float64\n",
            " 10  JobInvolvement            1470 non-null   float64\n",
            " 11  JobLevel                  1470 non-null   float64\n",
            " 12  JobRole                   1470 non-null   float64\n",
            " 13  JobSatisfaction           1470 non-null   float64\n",
            " 14  MaritalStatus             1470 non-null   float64\n",
            " 15  NumCompaniesWorked        1470 non-null   float64\n",
            " 16  OverTime                  1470 non-null   float64\n",
            " 17  PercentSalaryHike         1470 non-null   float64\n",
            " 18  PerformanceRating         1470 non-null   float64\n",
            " 19  RelationshipSatisfaction  1470 non-null   float64\n",
            " 20  StockOptionLevel          1470 non-null   float64\n",
            " 21  TotalWorkingYears         1470 non-null   float64\n",
            " 22  TrainingTimesLastYear     1470 non-null   float64\n",
            " 23  WorkLifeBalance           1470 non-null   float64\n",
            " 24  YearsAtCompany            1470 non-null   float64\n",
            " 25  YearsInCurrentRole        1470 non-null   float64\n",
            " 26  YearsSinceLastPromotion   1470 non-null   float64\n",
            " 27  YearsWithCurrManager      1470 non-null   float64\n",
            "dtypes: float64(28)\n",
            "memory usage: 321.7 KB\n"
          ]
        }
      ],
      "source": [
        "# muestra la información condensada del dataframe\n",
        "data.info()\n"
      ]
    },
    {
      "cell_type": "markdown",
      "metadata": {
        "id": "3YEB5Rs8RGVv"
      },
      "source": [
        "## Creación de conjuntos de entrenamiento y prueba"
      ]
    },
    {
      "cell_type": "code",
      "execution_count": 250,
      "metadata": {
        "colab": {
          "base_uri": "https://localhost:8080/"
        },
        "id": "XtKn_xH21kMl",
        "outputId": "ce7fc87d-ee21-4ccf-96f7-0b2b39378315"
      },
      "outputs": [
        {
          "name": "stdout",
          "output_type": "stream",
          "text": [
            "Datos de entrenamiento= (882, 27) (882,)\n",
            "Datos de prueba= (588, 27) (588,)\n"
          ]
        }
      ],
      "source": [
        "# Crea los conjuntos de entrenamiento (80%) y prueba (20%)\n",
        "\n",
        "from sklearn.model_selection import train_test_split\n",
        "\n",
        "train_df, test_df = train_test_split(data, test_size=0.4, random_state=123)\n",
        "\n",
        "X_train, y_train = train_df.drop(columns=[\"Attrition\"], axis=1), train_df[\"Attrition\"]\n",
        "X_test, y_test = test_df.drop(columns=[\"Attrition\"], axis=1), test_df[\"Attrition\"]\n",
        "\n",
        "# Muestra la forma de los distintos conjuntos de datos obtenidos\n",
        "print(\"Datos de entrenamiento=\", X_train.shape, y_train.shape)\n",
        "print(\"Datos de prueba=\", X_test.shape, y_test.shape)"
      ]
    },
    {
      "cell_type": "markdown",
      "metadata": {
        "id": "GBUPHPhYR1ND"
      },
      "source": [
        "## Creación de Modelos de Aprendizaje"
      ]
    },
    {
      "cell_type": "markdown",
      "metadata": {
        "id": "9tfp0Ae9R41K"
      },
      "source": [
        "### Bosque Aleatorio"
      ]
    },
    {
      "cell_type": "code",
      "execution_count": 251,
      "metadata": {
        "colab": {
          "base_uri": "https://localhost:8080/",
          "height": 397
        },
        "id": "T2Vb9xVt8mzq",
        "outputId": "f8ca2b40-e6d0-4266-d096-6ae601438216"
      },
      "outputs": [
        {
          "name": "stdout",
          "output_type": "stream",
          "text": [
            "score promedio de entrenamiento =  0.8316962654969015\n",
            "score promedio de validación =  0.8231230847803882\n"
          ]
        },
        {
          "data": {
            "text/html": [
              "<div>\n",
              "<style scoped>\n",
              "    .dataframe tbody tr th:only-of-type {\n",
              "        vertical-align: middle;\n",
              "    }\n",
              "\n",
              "    .dataframe tbody tr th {\n",
              "        vertical-align: top;\n",
              "    }\n",
              "\n",
              "    .dataframe thead th {\n",
              "        text-align: right;\n",
              "    }\n",
              "</style>\n",
              "<table border=\"1\" class=\"dataframe\">\n",
              "  <thead>\n",
              "    <tr style=\"text-align: right;\">\n",
              "      <th></th>\n",
              "      <th>fit_time</th>\n",
              "      <th>score_time</th>\n",
              "      <th>test_score</th>\n",
              "      <th>train_score</th>\n",
              "    </tr>\n",
              "  </thead>\n",
              "  <tbody>\n",
              "    <tr>\n",
              "      <th>0</th>\n",
              "      <td>0.072912</td>\n",
              "      <td>0.010969</td>\n",
              "      <td>0.820225</td>\n",
              "      <td>0.841110</td>\n",
              "    </tr>\n",
              "    <tr>\n",
              "      <th>1</th>\n",
              "      <td>0.062710</td>\n",
              "      <td>0.010971</td>\n",
              "      <td>0.831461</td>\n",
              "      <td>0.827238</td>\n",
              "    </tr>\n",
              "    <tr>\n",
              "      <th>2</th>\n",
              "      <td>0.066300</td>\n",
              "      <td>0.013962</td>\n",
              "      <td>0.818182</td>\n",
              "      <td>0.828715</td>\n",
              "    </tr>\n",
              "    <tr>\n",
              "      <th>3</th>\n",
              "      <td>0.083734</td>\n",
              "      <td>0.012965</td>\n",
              "      <td>0.829545</td>\n",
              "      <td>0.824937</td>\n",
              "    </tr>\n",
              "    <tr>\n",
              "      <th>4</th>\n",
              "      <td>0.076553</td>\n",
              "      <td>0.017828</td>\n",
              "      <td>0.818182</td>\n",
              "      <td>0.835013</td>\n",
              "    </tr>\n",
              "    <tr>\n",
              "      <th>5</th>\n",
              "      <td>0.067576</td>\n",
              "      <td>0.011883</td>\n",
              "      <td>0.818182</td>\n",
              "      <td>0.833753</td>\n",
              "    </tr>\n",
              "    <tr>\n",
              "      <th>6</th>\n",
              "      <td>0.081357</td>\n",
              "      <td>0.016951</td>\n",
              "      <td>0.829545</td>\n",
              "      <td>0.827456</td>\n",
              "    </tr>\n",
              "    <tr>\n",
              "      <th>7</th>\n",
              "      <td>0.063105</td>\n",
              "      <td>0.011828</td>\n",
              "      <td>0.829545</td>\n",
              "      <td>0.828715</td>\n",
              "    </tr>\n",
              "    <tr>\n",
              "      <th>8</th>\n",
              "      <td>0.067360</td>\n",
              "      <td>0.011023</td>\n",
              "      <td>0.806818</td>\n",
              "      <td>0.840050</td>\n",
              "    </tr>\n",
              "    <tr>\n",
              "      <th>9</th>\n",
              "      <td>0.069366</td>\n",
              "      <td>0.013181</td>\n",
              "      <td>0.829545</td>\n",
              "      <td>0.829975</td>\n",
              "    </tr>\n",
              "  </tbody>\n",
              "</table>\n",
              "</div>"
            ],
            "text/plain": [
              "   fit_time  score_time  test_score  train_score\n",
              "0  0.072912    0.010969    0.820225     0.841110\n",
              "1  0.062710    0.010971    0.831461     0.827238\n",
              "2  0.066300    0.013962    0.818182     0.828715\n",
              "3  0.083734    0.012965    0.829545     0.824937\n",
              "4  0.076553    0.017828    0.818182     0.835013\n",
              "5  0.067576    0.011883    0.818182     0.833753\n",
              "6  0.081357    0.016951    0.829545     0.827456\n",
              "7  0.063105    0.011828    0.829545     0.828715\n",
              "8  0.067360    0.011023    0.806818     0.840050\n",
              "9  0.069366    0.013181    0.829545     0.829975"
            ]
          },
          "execution_count": 251,
          "metadata": {},
          "output_type": "execute_result"
        }
      ],
      "source": [
        "# utiliza validación cruzada de 10 folds para evaluar el desempeño promedio\n",
        "# de bosques aleatorios de 10 árboles con una profundidad máxima de 3\n",
        "from sklearn.model_selection import cross_validate\n",
        "from sklearn.ensemble import RandomForestClassifier\n",
        "\n",
        "rfcInicial_model = RandomForestClassifier(n_estimators=10, max_depth=3)\n",
        "scores = pd.DataFrame(cross_validate(rfcInicial_model, X_train, y_train, cv=10, return_train_score=True))\n",
        "\n",
        "# despliega los score promedio de entrenamiento y validación, así como los \n",
        "# resultados obtenidos para cada uno de los 10 folds\n",
        "print(\"score promedio de entrenamiento = \", scores['train_score'].mean())\n",
        "print(\"score promedio de validación = \", scores['test_score'].mean())\n",
        "scores"
      ]
    },
    {
      "cell_type": "code",
      "execution_count": 252,
      "metadata": {
        "colab": {
          "base_uri": "https://localhost:8080/"
        },
        "id": "p-CCw5kz9peG",
        "outputId": "8a4b9216-fe75-485f-a97f-41a007913a42"
      },
      "outputs": [
        {
          "name": "stdout",
          "output_type": "stream",
          "text": [
            "Mejores hiperparámetros\n",
            " {'max_depth': 5, 'max_features': None, 'n_estimators': 60}\n"
          ]
        }
      ],
      "source": [
        "# Determinar los mejores valores de hiperparámetros para construir un bosque aleatorio para el problema\n",
        "\n",
        "from sklearn.model_selection import GridSearchCV\n",
        "\n",
        "parameters = {'max_depth': [2, 3, 5, 7], \n",
        "              'max_features': ['sqrt', 'log2', None], \n",
        "              'n_estimators': [10, 30, 60, 100]}\n",
        "rfc_grid = GridSearchCV(RandomForestClassifier(random_state=1), param_grid = parameters, \n",
        "                        return_train_score=True)\n",
        "rfc_grid.fit(X_train, y_train)\n",
        "\n",
        "# despliega los mejores hiperparámetros encontrados\n",
        "print(\"Mejores hiperparámetros\\n\",rfc_grid.best_params_)"
      ]
    },
    {
      "cell_type": "code",
      "execution_count": 253,
      "metadata": {
        "colab": {
          "base_uri": "https://localhost:8080/"
        },
        "id": "1GaH6Z8ySfin",
        "outputId": "e704ddf2-0e53-4d74-dd52-db233f9cedaf"
      },
      "outputs": [
        {
          "data": {
            "text/plain": [
              "0.8741496598639455"
            ]
          },
          "execution_count": 253,
          "metadata": {},
          "output_type": "execute_result"
        }
      ],
      "source": [
        "# quédate con el Bosque Aleatorio con los mejores hiperparámetros encontrados y\n",
        "# despliega su score con los datos del conjunto de prueba.\n",
        "rfc_model = rfc_grid.best_estimator_\n",
        "rfc_model.score(X_test, y_test)"
      ]
    },
    {
      "cell_type": "code",
      "execution_count": 254,
      "metadata": {
        "colab": {
          "base_uri": "https://localhost:8080/",
          "height": 435
        },
        "id": "AIv1ahDC7FHZ",
        "outputId": "23df240e-26e8-4e5e-b0fa-e4a6fef02cf1"
      },
      "outputs": [
        {
          "name": "stdout",
          "output_type": "stream",
          "text": [
            "              precision    recall  f1-score   support\n",
            "\n",
            "         0.0       0.88      0.98      0.93       511\n",
            "         1.0       0.58      0.14      0.23        77\n",
            "\n",
            "    accuracy                           0.87       588\n",
            "   macro avg       0.73      0.56      0.58       588\n",
            "weighted avg       0.84      0.87      0.84       588\n",
            "\n"
          ]
        },
        {
          "data": {
            "image/png": "[encoded data removed]",
            "text/plain": [
              "<Figure size 432x288 with 2 Axes>"
            ]
          },
          "metadata": {
            "needs_background": "light"
          },
          "output_type": "display_data"
        }
      ],
      "source": [
        "# calcula las matriz de confusión y las métricas de evaluación con el conjunto \n",
        "# de prueba para el mejor Bosque Aleatorio\n",
        "\n",
        "from sklearn.metrics import ConfusionMatrixDisplay\n",
        "from sklearn.metrics import classification_report\n",
        "\n",
        "ConfusionMatrixDisplay.from_estimator(rfc_model, X_test, y_test)\n",
        "print(classification_report(y_test, rfc_model.predict(X_test)))  "
      ]
    },
    {
      "cell_type": "markdown",
      "metadata": {
        "id": "FifIdAlKTPtW"
      },
      "source": [
        "### Regresión Logística"
      ]
    },
    {
      "cell_type": "code",
      "execution_count": 256,
      "metadata": {
        "colab": {
          "base_uri": "https://localhost:8080/",
          "height": 397
        },
        "id": "N4bqoF0BTPti",
        "outputId": "9ecc098d-4557-4738-bcac-4e0ae63c4057"
      },
      "outputs": [
        {
          "name": "stdout",
          "output_type": "stream",
          "text": [
            "score promedio de entrenamiento =  0.8185940582108563\n",
            "score promedio de validación =  0.8185903983656793\n"
          ]
        },
        {
          "data": {
            "text/html": [
              "<div>\n",
              "<style scoped>\n",
              "    .dataframe tbody tr th:only-of-type {\n",
              "        vertical-align: middle;\n",
              "    }\n",
              "\n",
              "    .dataframe tbody tr th {\n",
              "        vertical-align: top;\n",
              "    }\n",
              "\n",
              "    .dataframe thead th {\n",
              "        text-align: right;\n",
              "    }\n",
              "</style>\n",
              "<table border=\"1\" class=\"dataframe\">\n",
              "  <thead>\n",
              "    <tr style=\"text-align: right;\">\n",
              "      <th></th>\n",
              "      <th>fit_time</th>\n",
              "      <th>score_time</th>\n",
              "      <th>test_score</th>\n",
              "      <th>train_score</th>\n",
              "    </tr>\n",
              "  </thead>\n",
              "  <tbody>\n",
              "    <tr>\n",
              "      <th>0</th>\n",
              "      <td>0.113690</td>\n",
              "      <td>0.009972</td>\n",
              "      <td>0.820225</td>\n",
              "      <td>0.818411</td>\n",
              "    </tr>\n",
              "    <tr>\n",
              "      <th>1</th>\n",
              "      <td>0.095309</td>\n",
              "      <td>0.006044</td>\n",
              "      <td>0.820225</td>\n",
              "      <td>0.818411</td>\n",
              "    </tr>\n",
              "    <tr>\n",
              "      <th>2</th>\n",
              "      <td>0.101844</td>\n",
              "      <td>0.005109</td>\n",
              "      <td>0.818182</td>\n",
              "      <td>0.818640</td>\n",
              "    </tr>\n",
              "    <tr>\n",
              "      <th>3</th>\n",
              "      <td>0.085923</td>\n",
              "      <td>0.007981</td>\n",
              "      <td>0.818182</td>\n",
              "      <td>0.818640</td>\n",
              "    </tr>\n",
              "    <tr>\n",
              "      <th>4</th>\n",
              "      <td>0.083789</td>\n",
              "      <td>0.006045</td>\n",
              "      <td>0.818182</td>\n",
              "      <td>0.818640</td>\n",
              "    </tr>\n",
              "    <tr>\n",
              "      <th>5</th>\n",
              "      <td>0.085726</td>\n",
              "      <td>0.005691</td>\n",
              "      <td>0.818182</td>\n",
              "      <td>0.818640</td>\n",
              "    </tr>\n",
              "    <tr>\n",
              "      <th>6</th>\n",
              "      <td>0.105732</td>\n",
              "      <td>0.005976</td>\n",
              "      <td>0.818182</td>\n",
              "      <td>0.818640</td>\n",
              "    </tr>\n",
              "    <tr>\n",
              "      <th>7</th>\n",
              "      <td>0.085604</td>\n",
              "      <td>0.006022</td>\n",
              "      <td>0.818182</td>\n",
              "      <td>0.818640</td>\n",
              "    </tr>\n",
              "    <tr>\n",
              "      <th>8</th>\n",
              "      <td>0.098688</td>\n",
              "      <td>0.005984</td>\n",
              "      <td>0.818182</td>\n",
              "      <td>0.818640</td>\n",
              "    </tr>\n",
              "    <tr>\n",
              "      <th>9</th>\n",
              "      <td>0.093791</td>\n",
              "      <td>0.004985</td>\n",
              "      <td>0.818182</td>\n",
              "      <td>0.818640</td>\n",
              "    </tr>\n",
              "  </tbody>\n",
              "</table>\n",
              "</div>"
            ],
            "text/plain": [
              "   fit_time  score_time  test_score  train_score\n",
              "0  0.113690    0.009972    0.820225     0.818411\n",
              "1  0.095309    0.006044    0.820225     0.818411\n",
              "2  0.101844    0.005109    0.818182     0.818640\n",
              "3  0.085923    0.007981    0.818182     0.818640\n",
              "4  0.083789    0.006045    0.818182     0.818640\n",
              "5  0.085726    0.005691    0.818182     0.818640\n",
              "6  0.105732    0.005976    0.818182     0.818640\n",
              "7  0.085604    0.006022    0.818182     0.818640\n",
              "8  0.098688    0.005984    0.818182     0.818640\n",
              "9  0.093791    0.004985    0.818182     0.818640"
            ]
          },
          "execution_count": 256,
          "metadata": {},
          "output_type": "execute_result"
        }
      ],
      "source": [
        "# utiliza validación cruzada de 10 folds para evaluar el desempeño promedio\n",
        "# de una Regresión Logística con C = 0.001 y solver = 'newton-cg'\n",
        "from sklearn.linear_model import LogisticRegression\n",
        "\n",
        "lrcInicial_model = LogisticRegression(C=0.001, solver='newton-cg')\n",
        "scores = pd.DataFrame(cross_validate(lrcInicial_model, X_train, y_train, cv=10, return_train_score=True))\n",
        "\n",
        "# despliega los score promedio de entrenamiento y validación, así como los \n",
        "# resultados obtenidos para cada uno de los 10 folds\n",
        "print(\"score promedio de entrenamiento = \", scores['train_score'].mean())\n",
        "print(\"score promedio de validación = \", scores['test_score'].mean())\n",
        "scores"
      ]
    },
    {
      "cell_type": "code",
      "execution_count": 257,
      "metadata": {
        "colab": {
          "base_uri": "https://localhost:8080/"
        },
        "id": "l9k5PCNRTPti",
        "outputId": "fda421fb-acc6-4fd8-e255-7d06bce83c22"
      },
      "outputs": [
        {
          "name": "stderr",
          "output_type": "stream",
          "text": [
            "c:\\Users\\LCIBANEZ\\AppData\\Local\\Programs\\Python\\Python310\\lib\\site-packages\\sklearn\\linear_model\\_sag.py:352: ConvergenceWarning: The max_iter was reached which means the coef_ did not converge\n",
            "  warnings.warn(\n",
            "c:\\Users\\LCIBANEZ\\AppData\\Local\\Programs\\Python\\Python310\\lib\\site-packages\\sklearn\\linear_model\\_sag.py:352: ConvergenceWarning: The max_iter was reached which means the coef_ did not converge\n",
            "  warnings.warn(\n",
            "c:\\Users\\LCIBANEZ\\AppData\\Local\\Programs\\Python\\Python310\\lib\\site-packages\\sklearn\\linear_model\\_sag.py:352: ConvergenceWarning: The max_iter was reached which means the coef_ did not converge\n",
            "  warnings.warn(\n",
            "c:\\Users\\LCIBANEZ\\AppData\\Local\\Programs\\Python\\Python310\\lib\\site-packages\\sklearn\\linear_model\\_sag.py:352: ConvergenceWarning: The max_iter was reached which means the coef_ did not converge\n",
            "  warnings.warn(\n",
            "c:\\Users\\LCIBANEZ\\AppData\\Local\\Programs\\Python\\Python310\\lib\\site-packages\\sklearn\\linear_model\\_sag.py:352: ConvergenceWarning: The max_iter was reached which means the coef_ did not converge\n",
            "  warnings.warn(\n",
            "c:\\Users\\LCIBANEZ\\AppData\\Local\\Programs\\Python\\Python310\\lib\\site-packages\\sklearn\\linear_model\\_sag.py:352: ConvergenceWarning: The max_iter was reached which means the coef_ did not converge\n",
            "  warnings.warn(\n",
            "c:\\Users\\LCIBANEZ\\AppData\\Local\\Programs\\Python\\Python310\\lib\\site-packages\\sklearn\\linear_model\\_sag.py:352: ConvergenceWarning: The max_iter was reached which means the coef_ did not converge\n",
            "  warnings.warn(\n",
            "c:\\Users\\LCIBANEZ\\AppData\\Local\\Programs\\Python\\Python310\\lib\\site-packages\\sklearn\\linear_model\\_sag.py:352: ConvergenceWarning: The max_iter was reached which means the coef_ did not converge\n",
            "  warnings.warn(\n"
          ]
        },
        {
          "name": "stdout",
          "output_type": "stream",
          "text": [
            "Mejores hiperparámetros\n",
            " {'solver': 'sag', 'C': 0.18420699693267145}\n"
          ]
        }
      ],
      "source": [
        "# determina, entre algunas alternativas, los mejores valores de hiperparámetros \n",
        "# para construir una Regresión Logística para el problema\n",
        "from sklearn.model_selection import RandomizedSearchCV\n",
        "\n",
        "parameters = {'C': np.logspace(-4, 4, 50),\n",
        "              'solver': ['newton-cg', 'lbfgs', 'liblinear', 'sag', 'saga']}\n",
        "lrc_rand = RandomizedSearchCV(LogisticRegression(random_state=1), n_iter=48,\n",
        "                              param_distributions = parameters, \n",
        "                              return_train_score=True)\n",
        "lrc_rand.fit(X_train, y_train)\n",
        "\n",
        "# despliega los mejores hiperparámetros encontrados\n",
        "print(\"Mejores hiperparámetros\\n\", lrc_rand.best_params_)"
      ]
    },
    {
      "cell_type": "code",
      "execution_count": 258,
      "metadata": {
        "colab": {
          "base_uri": "https://localhost:8080/"
        },
        "id": "2lkfZAVkTPti",
        "outputId": "763e7a17-4e67-4acc-b4bc-9e980e12e461"
      },
      "outputs": [
        {
          "data": {
            "text/plain": [
              "0.8928571428571429"
            ]
          },
          "execution_count": 258,
          "metadata": {},
          "output_type": "execute_result"
        }
      ],
      "source": [
        "# quédate con la Regresión Logística con los mejores hiperparámetros encontrados y\n",
        "# despliega su score con los datos del conjunto de prueba.\n",
        "lrc_model = lrc_rand.best_estimator_\n",
        "lrc_model.score(X_test, y_test)"
      ]
    },
    {
      "cell_type": "code",
      "execution_count": 259,
      "metadata": {
        "colab": {
          "base_uri": "https://localhost:8080/",
          "height": 439
        },
        "id": "GpHoAYiKTPtj",
        "outputId": "ddce3224-7f6a-47b8-d600-4b5720826e11"
      },
      "outputs": [
        {
          "name": "stdout",
          "output_type": "stream",
          "text": [
            "              precision    recall  f1-score   support\n",
            "\n",
            "         0.0       0.90      0.98      0.94       511\n",
            "         1.0       0.72      0.30      0.42        77\n",
            "\n",
            "    accuracy                           0.89       588\n",
            "   macro avg       0.81      0.64      0.68       588\n",
            "weighted avg       0.88      0.89      0.87       588\n",
            "\n"
          ]
        },
        {
          "data": {
            "image/png": "[encoded data removed]",
            "text/plain": [
              "<Figure size 432x288 with 2 Axes>"
            ]
          },
          "metadata": {
            "needs_background": "light"
          },
          "output_type": "display_data"
        }
      ],
      "source": [
        "# calcula las matriz de confusión y las métricas de evaluación con el conjunto \n",
        "# de prueba para la mejor Regresión Logística\n",
        "ConfusionMatrixDisplay.from_estimator(lrc_model, X_test, y_test)\n",
        "print(classification_report(y_test, lrc_model.predict(X_test))) "
      ]
    },
    {
      "cell_type": "markdown",
      "metadata": {
        "id": "ADxtmCVyTf0Y"
      },
      "source": [
        "### Bayes Ingenuo Gaussiano"
      ]
    },
    {
      "cell_type": "code",
      "execution_count": 260,
      "metadata": {
        "colab": {
          "base_uri": "https://localhost:8080/",
          "height": 397
        },
        "id": "IGtHeVuIB4cQ",
        "outputId": "f97620c1-0605-475f-9748-3d21da5c0a04"
      },
      "outputs": [
        {
          "name": "stdout",
          "output_type": "stream",
          "text": [
            "score promedio de entrenamiento =  0.8262792189847564\n",
            "score promedio de validación =  0.8117977528089888\n"
          ]
        },
        {
          "data": {
            "text/html": [
              "<div>\n",
              "<style scoped>\n",
              "    .dataframe tbody tr th:only-of-type {\n",
              "        vertical-align: middle;\n",
              "    }\n",
              "\n",
              "    .dataframe tbody tr th {\n",
              "        vertical-align: top;\n",
              "    }\n",
              "\n",
              "    .dataframe thead th {\n",
              "        text-align: right;\n",
              "    }\n",
              "</style>\n",
              "<table border=\"1\" class=\"dataframe\">\n",
              "  <thead>\n",
              "    <tr style=\"text-align: right;\">\n",
              "      <th></th>\n",
              "      <th>fit_time</th>\n",
              "      <th>score_time</th>\n",
              "      <th>test_score</th>\n",
              "      <th>train_score</th>\n",
              "    </tr>\n",
              "  </thead>\n",
              "  <tbody>\n",
              "    <tr>\n",
              "      <th>0</th>\n",
              "      <td>0.009974</td>\n",
              "      <td>0.004094</td>\n",
              "      <td>0.853933</td>\n",
              "      <td>0.828499</td>\n",
              "    </tr>\n",
              "    <tr>\n",
              "      <th>1</th>\n",
              "      <td>0.009862</td>\n",
              "      <td>0.006141</td>\n",
              "      <td>0.764045</td>\n",
              "      <td>0.828499</td>\n",
              "    </tr>\n",
              "    <tr>\n",
              "      <th>2</th>\n",
              "      <td>0.008093</td>\n",
              "      <td>0.004771</td>\n",
              "      <td>0.704545</td>\n",
              "      <td>0.822418</td>\n",
              "    </tr>\n",
              "    <tr>\n",
              "      <th>3</th>\n",
              "      <td>0.007142</td>\n",
              "      <td>0.004832</td>\n",
              "      <td>0.829545</td>\n",
              "      <td>0.824937</td>\n",
              "    </tr>\n",
              "    <tr>\n",
              "      <th>4</th>\n",
              "      <td>0.007870</td>\n",
              "      <td>0.004987</td>\n",
              "      <td>0.806818</td>\n",
              "      <td>0.827456</td>\n",
              "    </tr>\n",
              "    <tr>\n",
              "      <th>5</th>\n",
              "      <td>0.005985</td>\n",
              "      <td>0.004984</td>\n",
              "      <td>0.840909</td>\n",
              "      <td>0.831234</td>\n",
              "    </tr>\n",
              "    <tr>\n",
              "      <th>6</th>\n",
              "      <td>0.005995</td>\n",
              "      <td>0.003993</td>\n",
              "      <td>0.806818</td>\n",
              "      <td>0.827456</td>\n",
              "    </tr>\n",
              "    <tr>\n",
              "      <th>7</th>\n",
              "      <td>0.006925</td>\n",
              "      <td>0.005018</td>\n",
              "      <td>0.886364</td>\n",
              "      <td>0.817380</td>\n",
              "    </tr>\n",
              "    <tr>\n",
              "      <th>8</th>\n",
              "      <td>0.006980</td>\n",
              "      <td>0.003989</td>\n",
              "      <td>0.806818</td>\n",
              "      <td>0.832494</td>\n",
              "    </tr>\n",
              "    <tr>\n",
              "      <th>9</th>\n",
              "      <td>0.006982</td>\n",
              "      <td>0.004017</td>\n",
              "      <td>0.818182</td>\n",
              "      <td>0.822418</td>\n",
              "    </tr>\n",
              "  </tbody>\n",
              "</table>\n",
              "</div>"
            ],
            "text/plain": [
              "   fit_time  score_time  test_score  train_score\n",
              "0  0.009974    0.004094    0.853933     0.828499\n",
              "1  0.009862    0.006141    0.764045     0.828499\n",
              "2  0.008093    0.004771    0.704545     0.822418\n",
              "3  0.007142    0.004832    0.829545     0.824937\n",
              "4  0.007870    0.004987    0.806818     0.827456\n",
              "5  0.005985    0.004984    0.840909     0.831234\n",
              "6  0.005995    0.003993    0.806818     0.827456\n",
              "7  0.006925    0.005018    0.886364     0.817380\n",
              "8  0.006980    0.003989    0.806818     0.832494\n",
              "9  0.006982    0.004017    0.818182     0.822418"
            ]
          },
          "execution_count": 260,
          "metadata": {},
          "output_type": "execute_result"
        }
      ],
      "source": [
        "# utiliza validación cruzada de 10 folds para evaluar el desempeño promedio\n",
        "# de Bayes Ingenuo Gaussiano\n",
        "from sklearn.naive_bayes import GaussianNB\n",
        "\n",
        "gnbc_model = GaussianNB()\n",
        "\n",
        "scores = pd.DataFrame(cross_validate(gnbc_model, X_train, y_train, cv=10, return_train_score=True))\n",
        "\n",
        "# despliega los score promedio de entrenamiento y validación, así como los \n",
        "# resultados obtenidos para cada uno de los 10 folds\n",
        "print(\"score promedio de entrenamiento = \", scores['train_score'].mean())\n",
        "print(\"score promedio de validación = \", scores['test_score'].mean())\n",
        "scores"
      ]
    },
    {
      "cell_type": "code",
      "execution_count": 261,
      "metadata": {
        "colab": {
          "base_uri": "https://localhost:8080/",
          "height": 435
        },
        "id": "aYvpwsqN602g",
        "outputId": "6d0d4973-d5b6-4af2-d709-3aac9c5ed065"
      },
      "outputs": [
        {
          "name": "stdout",
          "output_type": "stream",
          "text": [
            "              precision    recall  f1-score   support\n",
            "\n",
            "         0.0       0.93      0.89      0.91       511\n",
            "         1.0       0.43      0.57      0.49        77\n",
            "\n",
            "    accuracy                           0.85       588\n",
            "   macro avg       0.68      0.73      0.70       588\n",
            "weighted avg       0.87      0.85      0.85       588\n",
            "\n"
          ]
        },
        {
          "data": {
            "image/png": "[encoded data removed]",
            "text/plain": [
              "<Figure size 432x288 with 2 Axes>"
            ]
          },
          "metadata": {
            "needs_background": "light"
          },
          "output_type": "display_data"
        }
      ],
      "source": [
        "# calcula las matriz de confusión y las métricas de evaluación con el conjunto \n",
        "# de prueba para Bayes Ingenuo Gaussiano\n",
        "gnbc_model.fit(X_train, y_train) # No se ha entrenado el modelo\n",
        "\n",
        "ConfusionMatrixDisplay.from_estimator(gnbc_model, X_test, y_test)\n",
        "print(classification_report(y_test, gnbc_model.predict(X_test)))  "
      ]
    },
    {
      "cell_type": "markdown",
      "metadata": {
        "id": "xmUUgrXFUtzY"
      },
      "source": [
        "### Máquina de Vectores de Soporte\n",
        "\n"
      ]
    },
    {
      "cell_type": "code",
      "execution_count": 262,
      "metadata": {
        "colab": {
          "base_uri": "https://localhost:8080/",
          "height": 397
        },
        "id": "_xT7c7WjD5SE",
        "outputId": "d54658f6-ec51-4629-9562-d037ce3a308e"
      },
      "outputs": [
        {
          "name": "stdout",
          "output_type": "stream",
          "text": [
            "score promedio de entrenamiento =  0.8185940582108563\n",
            "score promedio de validación =  0.8185903983656793\n"
          ]
        },
        {
          "data": {
            "text/html": [
              "<div>\n",
              "<style scoped>\n",
              "    .dataframe tbody tr th:only-of-type {\n",
              "        vertical-align: middle;\n",
              "    }\n",
              "\n",
              "    .dataframe tbody tr th {\n",
              "        vertical-align: top;\n",
              "    }\n",
              "\n",
              "    .dataframe thead th {\n",
              "        text-align: right;\n",
              "    }\n",
              "</style>\n",
              "<table border=\"1\" class=\"dataframe\">\n",
              "  <thead>\n",
              "    <tr style=\"text-align: right;\">\n",
              "      <th></th>\n",
              "      <th>fit_time</th>\n",
              "      <th>score_time</th>\n",
              "      <th>test_score</th>\n",
              "      <th>train_score</th>\n",
              "    </tr>\n",
              "  </thead>\n",
              "  <tbody>\n",
              "    <tr>\n",
              "      <th>0</th>\n",
              "      <td>0.104724</td>\n",
              "      <td>0.022939</td>\n",
              "      <td>0.820225</td>\n",
              "      <td>0.818411</td>\n",
              "    </tr>\n",
              "    <tr>\n",
              "      <th>1</th>\n",
              "      <td>0.047865</td>\n",
              "      <td>0.007978</td>\n",
              "      <td>0.820225</td>\n",
              "      <td>0.818411</td>\n",
              "    </tr>\n",
              "    <tr>\n",
              "      <th>2</th>\n",
              "      <td>0.029071</td>\n",
              "      <td>0.005985</td>\n",
              "      <td>0.818182</td>\n",
              "      <td>0.818640</td>\n",
              "    </tr>\n",
              "    <tr>\n",
              "      <th>3</th>\n",
              "      <td>0.031754</td>\n",
              "      <td>0.007170</td>\n",
              "      <td>0.818182</td>\n",
              "      <td>0.818640</td>\n",
              "    </tr>\n",
              "    <tr>\n",
              "      <th>4</th>\n",
              "      <td>0.033957</td>\n",
              "      <td>0.006979</td>\n",
              "      <td>0.818182</td>\n",
              "      <td>0.818640</td>\n",
              "    </tr>\n",
              "    <tr>\n",
              "      <th>5</th>\n",
              "      <td>0.096185</td>\n",
              "      <td>0.018952</td>\n",
              "      <td>0.818182</td>\n",
              "      <td>0.818640</td>\n",
              "    </tr>\n",
              "    <tr>\n",
              "      <th>6</th>\n",
              "      <td>0.085203</td>\n",
              "      <td>0.011847</td>\n",
              "      <td>0.818182</td>\n",
              "      <td>0.818640</td>\n",
              "    </tr>\n",
              "    <tr>\n",
              "      <th>7</th>\n",
              "      <td>0.088220</td>\n",
              "      <td>0.018598</td>\n",
              "      <td>0.818182</td>\n",
              "      <td>0.818640</td>\n",
              "    </tr>\n",
              "    <tr>\n",
              "      <th>8</th>\n",
              "      <td>0.082784</td>\n",
              "      <td>0.013957</td>\n",
              "      <td>0.818182</td>\n",
              "      <td>0.818640</td>\n",
              "    </tr>\n",
              "    <tr>\n",
              "      <th>9</th>\n",
              "      <td>0.076347</td>\n",
              "      <td>0.021940</td>\n",
              "      <td>0.818182</td>\n",
              "      <td>0.818640</td>\n",
              "    </tr>\n",
              "  </tbody>\n",
              "</table>\n",
              "</div>"
            ],
            "text/plain": [
              "   fit_time  score_time  test_score  train_score\n",
              "0  0.104724    0.022939    0.820225     0.818411\n",
              "1  0.047865    0.007978    0.820225     0.818411\n",
              "2  0.029071    0.005985    0.818182     0.818640\n",
              "3  0.031754    0.007170    0.818182     0.818640\n",
              "4  0.033957    0.006979    0.818182     0.818640\n",
              "5  0.096185    0.018952    0.818182     0.818640\n",
              "6  0.085203    0.011847    0.818182     0.818640\n",
              "7  0.088220    0.018598    0.818182     0.818640\n",
              "8  0.082784    0.013957    0.818182     0.818640\n",
              "9  0.076347    0.021940    0.818182     0.818640"
            ]
          },
          "execution_count": 262,
          "metadata": {},
          "output_type": "execute_result"
        }
      ],
      "source": [
        "# utiliza validación cruzada de 10 folds para evaluar el desempeño promedio\n",
        "# de una Máquina de Vectores de Soporte con un parámetro de regularización de\n",
        "# 0.01 y un kernel polinomial\n",
        "from sklearn.svm import SVC\n",
        "\n",
        "svmc_model = SVC(C=0.01, kernel=\"poly\")\n",
        "\n",
        "scores = pd.DataFrame(cross_validate(svmc_model, X_train, y_train, cv=10, return_train_score=True))\n",
        "\n",
        "# despliega los score promedio de entrenamiento y validación, así como los \n",
        "# resultados obtenidos para cada uno de los 10 folds\n",
        "print(\"score promedio de entrenamiento = \", scores['train_score'].mean())\n",
        "print(\"score promedio de validación = \", scores['test_score'].mean())\n",
        "scores"
      ]
    },
    {
      "cell_type": "code",
      "execution_count": 263,
      "metadata": {
        "colab": {
          "base_uri": "https://localhost:8080/"
        },
        "id": "aF1-XkC83f0y",
        "outputId": "c0630e8e-e072-49b0-bc51-ad948df465e6"
      },
      "outputs": [
        {
          "name": "stdout",
          "output_type": "stream",
          "text": [
            "Mejores hiperparámetros\n",
            " {'C': 50, 'kernel': 'linear'}\n"
          ]
        }
      ],
      "source": [
        "# determina, entre algunas alternativas, los mejores valores de hiperparámetros \n",
        "# para construir una Máquina de Vectores de Soporte para el problema\n",
        "parameters = {'C': [0.01, 0.1, 1, 10, 50], \n",
        "              'kernel': ['linear', 'poly', 'rbf', 'sigmoid']}\n",
        "svmc_grid = GridSearchCV(SVC(random_state=1), param_grid = parameters, \n",
        "                         return_train_score=True)\n",
        "svmc_grid.fit(X_train, y_train)\n",
        "print(\"Mejores hiperparámetros\\n\",svmc_grid.best_params_)"
      ]
    },
    {
      "cell_type": "code",
      "execution_count": 264,
      "metadata": {
        "colab": {
          "base_uri": "https://localhost:8080/"
        },
        "id": "EL40jHhx4tsT",
        "outputId": "aa2a64b2-6121-4d56-a65a-670274bc00b1"
      },
      "outputs": [
        {
          "data": {
            "text/plain": [
              "0.8945578231292517"
            ]
          },
          "execution_count": 264,
          "metadata": {},
          "output_type": "execute_result"
        }
      ],
      "source": [
        "# quédate con la Máquina de Vectores de Soporte con los mejores hiperparámetros \n",
        "# encontrados y despliega su score con los datos del conjunto de prueba.\n",
        "svmc_model = svmc_grid.best_estimator_\n",
        "svmc_model.score(X_test, y_test)"
      ]
    },
    {
      "cell_type": "code",
      "execution_count": 265,
      "metadata": {
        "colab": {
          "base_uri": "https://localhost:8080/",
          "height": 435
        },
        "id": "t5cuJ5XYFUJp",
        "outputId": "48a4d91e-05fa-478d-e6a5-c6e560f71c54"
      },
      "outputs": [
        {
          "name": "stdout",
          "output_type": "stream",
          "text": [
            "              precision    recall  f1-score   support\n",
            "\n",
            "         0.0       0.90      0.98      0.94       511\n",
            "         1.0       0.73      0.31      0.44        77\n",
            "\n",
            "    accuracy                           0.89       588\n",
            "   macro avg       0.82      0.65      0.69       588\n",
            "weighted avg       0.88      0.89      0.88       588\n",
            "\n"
          ]
        },
        {
          "data": {
            "image/png": "[encoded data removed]",
            "text/plain": [
              "<Figure size 432x288 with 2 Axes>"
            ]
          },
          "metadata": {
            "needs_background": "light"
          },
          "output_type": "display_data"
        }
      ],
      "source": [
        "# calcula las matriz de confusión y las métricas de evaluación con el conjunto \n",
        "# de prueba para la mejor Máquina de Vectores de Soporte\n",
        "ConfusionMatrixDisplay.from_estimator(svmc_model, X_test, y_test)\n",
        "print(classification_report(y_test, svmc_model.predict(X_test))) "
      ]
    },
    {
      "cell_type": "markdown",
      "metadata": {
        "id": "IXi3bjdZVCDn"
      },
      "source": [
        "## Mejor Modelo de Aprendizaje mediante Curva ROC"
      ]
    },
    {
      "cell_type": "code",
      "execution_count": 267,
      "metadata": {
        "colab": {
          "base_uri": "https://localhost:8080/",
          "height": 312
        },
        "id": "1PDWivGQI2ne",
        "outputId": "b762cdde-b9ec-44b6-afe8-899fe66eb924"
      },
      "outputs": [
        {
          "data": {
            "text/plain": [
              "<Figure size 432x288 with 0 Axes>"
            ]
          },
          "metadata": {},
          "output_type": "display_data"
        },
        {
          "data": {
            "image/png": "[encoded data removed]",
            "text/plain": [
              "<Figure size 432x288 with 1 Axes>"
            ]
          },
          "metadata": {
            "needs_background": "light"
          },
          "output_type": "display_data"
        }
      ],
      "source": [
        "# Calcular y mostrar las curvas ROC de cada modelo de aprendizaje\n",
        "# y sus métricas de área bajo la curva (AUC) sobre el conjunto de prueba\n",
        "from sklearn.metrics import RocCurveDisplay\n",
        "\n",
        "plt.figure()\n",
        "lw = 2\n",
        "disp = RocCurveDisplay.from_estimator(rfc_model, X_test, y_test)\n",
        "RocCurveDisplay.from_estimator(lrc_model, X_test, y_test, ax=disp.ax_)\n",
        "RocCurveDisplay.from_estimator(gnbc_model, X_test, y_test, ax=disp.ax_)\n",
        "RocCurveDisplay.from_estimator(svmc_model, X_test, y_test, ax=disp.ax_)\n",
        "plt.plot([0, 1], [0, 1], color=\"navy\", lw=lw, linestyle=\"--\")\n",
        "plt.title(\"ROC curve comparison\")\n",
        "plt.legend(loc=\"lower right\")\n",
        "plt.show()"
      ]
    },
    {
      "cell_type": "markdown",
      "metadata": {
        "id": "aHf5FCQs9qdY"
      },
      "source": [
        "##### Conclusión: El modelo de LogisticRegression fue el mejor con un AUC de 0.89"
      ]
    }
  ],
  "metadata": {
    "colab": {
      "name": "supervisado_dsai_ss2_final.ipynb",
      "provenance": []
    },
    "kernelspec": {
      "display_name": "Python 3.10.2 64-bit",
      "language": "python",
      "name": "python3"
    },
    "language_info": {
      "codemirror_mode": {
        "name": "ipython",
        "version": 3
      },
      "file_extension": ".py",
      "mimetype": "text/x-python",
      "name": "python",
      "nbconvert_exporter": "python",
      "pygments_lexer": "ipython3",
      "version": "3.10.2"
    },
    "vscode": {
      "interpreter": {
        "hash": "af6a57148d8251e394aaba2ac1a65307d2863bd3d511ca7f236e568805850424"
      }
    }
  },
  "nbformat": 4,
  "nbformat_minor": 0
}
