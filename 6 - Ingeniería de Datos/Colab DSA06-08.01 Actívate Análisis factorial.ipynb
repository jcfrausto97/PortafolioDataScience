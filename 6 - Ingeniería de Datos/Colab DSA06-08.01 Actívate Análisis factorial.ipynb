{
  "nbformat": 4,
  "nbformat_minor": 0,
  "metadata": {
    "colab": {
      "name": "Colab_DSA06-08.01 Actívate Tema 2. Análisis factorial.ipynb",
      "provenance": [],
      "collapsed_sections": [
        "dSa-loO-52Cp"
      ]
    },
    "kernelspec": {
      "name": "python3",
      "display_name": "Python 3"
    },
    "language_info": {
      "name": "python"
    }
  },
  "cells": [
    {
      "cell_type": "markdown",
      "metadata": {
        "id": "2Ywj6daPxhy2"
      },
      "source": [
        "**MÓDULO 6 - INGENIERÍA DE CARACTERÍSTICAS**\n",
        "\n",
        "---"
      ]
    },
    {
      "cell_type": "markdown",
      "metadata": {
        "id": "CkNmQXBZyAXM"
      },
      "source": [
        "**TEMA 2. Análisis factorial**"
      ]
    },
    {
      "cell_type": "markdown",
      "metadata": {
        "id": "TMcKfb-K5dzv"
      },
      "source": [
        "### Instrucciones\n",
        "\n",
        "\n"
      ]
    },
    {
      "cell_type": "markdown",
      "metadata": {
        "id": "c5CrmMXZ5vKT"
      },
      "source": [
        "1. Revisa la documentación relacionada con los datos que vamos a trabajar y has un breve resumen sobre las variables que tiene el conjunto de datos: \n",
        "\n",
        "USArrests: https://www.rdocumentation.org/packages/datasets/versions/3.6.2/topics/USArrests"
      ]
    },
    {
      "cell_type": "markdown",
      "metadata": {
        "id": "dSa-loO-52Cp"
      },
      "source": [
        "__Aquí va tu descripción__\n"
      ]
    },
    {
      "cell_type": "markdown",
      "metadata": {
        "id": "XYK2OwzF55os"
      },
      "source": [
        "2. Importa las paqueterías necesarias para hacer el análisis\n"
      ]
    },
    {
      "cell_type": "code",
      "metadata": {
        "id": "Vk9hHeWZtrnQ"
      },
      "source": [
        "# Instalar factor_analyzer\n"
      ],
      "execution_count": null,
      "outputs": []
    },
    {
      "cell_type": "code",
      "metadata": {
        "id": "4av-xCw_6D8s"
      },
      "source": [
        "# Tratamiento de datos(3 paqueterías: numpy, pandas, statsmodels.api)\n",
        "# ==============================================================================\n",
        "\n",
        "\n",
        "# Preprocesado y modelado (3 paqueterías sklearn.preprocessing para StandardScaler, scale y factor_analyzer para el análisis factorial)\n",
        "# ==============================================================================\n",
        "\n",
        "\n",
        "# Configuración warnings\n",
        "# ==============================================================================\n",
        "import warnings\n",
        "warnings.filterwarnings('ignore')"
      ],
      "execution_count": null,
      "outputs": []
    },
    {
      "cell_type": "markdown",
      "metadata": {
        "id": "Xz1Za9l36ZU1"
      },
      "source": [
        "3. Lee los datos tal cuál en el ejercico anterior, sustituyendo \"iris\" por \"USArrests\" (3 sustituciones)"
      ]
    },
    {
      "cell_type": "code",
      "metadata": {
        "id": "JtZknQ1o6oCI"
      },
      "source": [
        ""
      ],
      "execution_count": null,
      "outputs": []
    },
    {
      "cell_type": "markdown",
      "metadata": {
        "id": "jJFOx1mc6on9"
      },
      "source": [
        "4. Calcula la media y la desviación estándar de las variables "
      ]
    },
    {
      "cell_type": "code",
      "metadata": {
        "id": "KYYxuGQC6vhk"
      },
      "source": [
        "#Media\n"
      ],
      "execution_count": null,
      "outputs": []
    },
    {
      "cell_type": "code",
      "metadata": {
        "id": "zr8rQU3x6vzo"
      },
      "source": [
        "#Desviación estándar\n"
      ],
      "execution_count": null,
      "outputs": []
    },
    {
      "cell_type": "markdown",
      "metadata": {
        "id": "78pIgo8K6wZI"
      },
      "source": [
        "5. Estandariza tus variables"
      ]
    },
    {
      "cell_type": "markdown",
      "metadata": {
        "id": "wGYUGCwp67QS"
      },
      "source": [
        "__¡Importante!__ A diferencia del conjunto de datos de Iris, en este conjunto de datos no tenemos una variable Y definida, por lo tanto, la transformación se hace a las 4 variables en el conjunto de datos y hacer una division entre Y y X no es necesario. \n"
      ]
    },
    {
      "cell_type": "code",
      "metadata": {
        "id": "0g6Hus1C7JCo"
      },
      "source": [
        "# Utiliza StandarScaler "
      ],
      "execution_count": null,
      "outputs": []
    },
    {
      "cell_type": "code",
      "metadata": {
        "id": "oI75lOmD7O9Y"
      },
      "source": [
        "#Calcula los datos escalados con .fit y .transform"
      ],
      "execution_count": null,
      "outputs": []
    },
    {
      "cell_type": "markdown",
      "metadata": {
        "id": "YTiky6827WJg"
      },
      "source": [
        "6. Antes de utilizar FA es importante correr la prueba de Barlett\n",
        "*  ¿Debemos utilizar FA dado el valor de p de la prueba? \n",
        "*  ¿Cómo podemos interpretar el resultado? \n",
        "\n"
      ]
    },
    {
      "cell_type": "code",
      "metadata": {
        "id": "hX7T59eLuXZK"
      },
      "source": [
        "#Código para correr la prueba de Barlett"
      ],
      "execution_count": null,
      "outputs": []
    },
    {
      "cell_type": "markdown",
      "metadata": {
        "id": "Lbf2gOlQ7pz0"
      },
      "source": [
        "__Aquí va tu respuesta a la primera pregunta__"
      ]
    },
    {
      "cell_type": "markdown",
      "metadata": {
        "id": "28gPAKsrueRq"
      },
      "source": [
        "7. Crea un análisis factorial sin definir el número de factores a utilizar para poder extraer los eigenvalores y determinar el número de factores a construir o el número de escenarios a construir "
      ]
    },
    {
      "cell_type": "code",
      "metadata": {
        "id": "-SKR9Zu_up2R"
      },
      "source": [
        "# FA sin n_factor y extraer eigenvalores"
      ],
      "execution_count": null,
      "outputs": []
    },
    {
      "cell_type": "markdown",
      "metadata": {
        "id": "JXr1w20CutWz"
      },
      "source": [
        "¿Qué puedes observar? "
      ]
    },
    {
      "cell_type": "markdown",
      "metadata": {
        "id": "7iXE6M3Suvxt"
      },
      "source": [
        "__Aquí va tu respuesta__"
      ]
    },
    {
      "cell_type": "markdown",
      "metadata": {
        "id": "seaBk146u0Bt"
      },
      "source": [
        "8. Tomando en consideración tus hallazgos, construye tu modelo de FA con el número de factores que consideres correcto."
      ]
    },
    {
      "cell_type": "code",
      "metadata": {
        "id": "Ku2JyPQcuy_o"
      },
      "source": [
        "#Escenario 1 - FactorAnalyzer"
      ],
      "execution_count": null,
      "outputs": []
    },
    {
      "cell_type": "code",
      "metadata": {
        "id": "j2AXYHIfvEeP"
      },
      "source": [
        "#Escenario 1 - Matriz de cargas"
      ],
      "execution_count": null,
      "outputs": []
    },
    {
      "cell_type": "code",
      "metadata": {
        "id": "so_B_-Kyu-bk"
      },
      "source": [
        "#Escenario 2(si aplica)"
      ],
      "execution_count": null,
      "outputs": []
    },
    {
      "cell_type": "code",
      "metadata": {
        "id": "ckj3944NvHmb"
      },
      "source": [
        "#Escenario 2(si aplica) - Matriz de cargas "
      ],
      "execution_count": null,
      "outputs": []
    },
    {
      "cell_type": "markdown",
      "metadata": {
        "id": "OHMS-qF2vKGX"
      },
      "source": [
        "¿Qué puedes observar? ¿A qué factor latente o variable oculta corresponde cada factor? "
      ]
    },
    {
      "cell_type": "markdown",
      "metadata": {
        "id": "xiPw6lejvP9W"
      },
      "source": [
        "__Aquí va tu respuesta__"
      ]
    },
    {
      "cell_type": "markdown",
      "metadata": {
        "id": "XGo_nyclvVhi"
      },
      "source": [
        "9. Determina la varianza explicada de cada modelo (.get_factor_variance())"
      ]
    },
    {
      "cell_type": "code",
      "metadata": {
        "id": "smo7bcD4vbv5"
      },
      "source": [
        "#Escenario 1"
      ],
      "execution_count": null,
      "outputs": []
    },
    {
      "cell_type": "code",
      "metadata": {
        "id": "wEboHa5hvb6u"
      },
      "source": [
        "#Escenario 2 (si aplica)"
      ],
      "execution_count": null,
      "outputs": []
    },
    {
      "cell_type": "markdown",
      "metadata": {
        "id": "kPK2GS5OvfH1"
      },
      "source": [
        "¿Cómo interpretamos estos valores? ¿Cuál es el mejor escenario? "
      ]
    },
    {
      "cell_type": "markdown",
      "metadata": {
        "id": "yySrgdFXvkJA"
      },
      "source": [
        "__Aquí va tu respuesta__"
      ]
    },
    {
      "cell_type": "markdown",
      "metadata": {
        "id": "dfDfTDHY8wqk"
      },
      "source": [
        "11. Has la última conversión para poder tener tu nuevo conjunto de datos \n",
        "\n",
        "\n",
        "*   .transform()\n",
        "\n"
      ]
    },
    {
      "cell_type": "code",
      "metadata": {
        "id": "Gz7Lz4Jk8-Ce"
      },
      "source": [
        ""
      ],
      "execution_count": null,
      "outputs": []
    },
    {
      "cell_type": "markdown",
      "metadata": {
        "id": "XKITHe6d9CH8"
      },
      "source": [
        "12. Guarda tu o tus conjuntos de datos finales en drive\n",
        "\n",
        "*   Llama la paquetería necesaria\n",
        "*   Crea la conexión\n",
        "*   Guarda tu archivo en un csv en la carpeta de tu interés\n",
        "\n"
      ]
    },
    {
      "cell_type": "code",
      "metadata": {
        "id": "6xVv1-N09RrB"
      },
      "source": [
        ""
      ],
      "execution_count": null,
      "outputs": []
    },
    {
      "cell_type": "markdown",
      "metadata": {
        "id": "qP0lnFZq9VAH"
      },
      "source": [
        "__¡EXCELENTE!__"
      ]
    }
  ]
}