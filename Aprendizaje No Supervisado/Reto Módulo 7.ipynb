{
 "cells": [
  {
   "cell_type": "code",
   "execution_count": 238,
   "metadata": {},
   "outputs": [],
   "source": [
    "# Necessary libraries for analysis\n",
    "#=================================================================\n",
    "\n",
    "import pandas as pd\n",
    "import numpy as np\n",
    "import matplotlib.pyplot as plt\n",
    "import seaborn as sns\n",
    "import miceforest as mf\n",
    "import scipy.stats as stats\n",
    "import statsmodels.api as sm   \n",
    "\n",
    "\n",
    "from sklearn import cluster, metrics\n",
    "from sklearn.preprocessing import OrdinalEncoder, StandardScaler\n",
    "\n",
    "\n",
    "# Warnings settings\n",
    "#=================================================================\n",
    "import warnings\n",
    "warnings.filterwarnings(\"ignore\") \n",
    "\n"
   ]
  },
  {
   "cell_type": "code",
   "execution_count": 239,
   "metadata": {},
   "outputs": [],
   "source": [
    "# Fijar semilla de numpy\n",
    "np.random.seed(0)"
   ]
  },
  {
   "cell_type": "markdown",
   "metadata": {},
   "source": [
    "### Importar datos"
   ]
  },
  {
   "cell_type": "code",
   "execution_count": 240,
   "metadata": {},
   "outputs": [
    {
     "data": {
      "text/html": [
       "<div>\n",
       "<style scoped>\n",
       "    .dataframe tbody tr th:only-of-type {\n",
       "        vertical-align: middle;\n",
       "    }\n",
       "\n",
       "    .dataframe tbody tr th {\n",
       "        vertical-align: top;\n",
       "    }\n",
       "\n",
       "    .dataframe thead th {\n",
       "        text-align: right;\n",
       "    }\n",
       "</style>\n",
       "<table border=\"1\" class=\"dataframe\">\n",
       "  <thead>\n",
       "    <tr style=\"text-align: right;\">\n",
       "      <th></th>\n",
       "      <th>Employee_ID</th>\n",
       "      <th>Gender</th>\n",
       "      <th>Age</th>\n",
       "      <th>Education_Level</th>\n",
       "      <th>Relationship_Status</th>\n",
       "      <th>Hometown</th>\n",
       "      <th>Unit</th>\n",
       "      <th>Decision_skill_possess</th>\n",
       "      <th>Time_of_service</th>\n",
       "      <th>Time_since_promotion</th>\n",
       "      <th>growth_rate</th>\n",
       "      <th>Travel_Rate</th>\n",
       "      <th>Post_Level</th>\n",
       "      <th>Pay_Scale</th>\n",
       "      <th>Compensation_and_Benefits</th>\n",
       "      <th>Work_Life_balance</th>\n",
       "      <th>Attrition_rate</th>\n",
       "    </tr>\n",
       "  </thead>\n",
       "  <tbody>\n",
       "    <tr>\n",
       "      <th>0</th>\n",
       "      <td>EID_23371</td>\n",
       "      <td>F</td>\n",
       "      <td>42.0</td>\n",
       "      <td>4</td>\n",
       "      <td>Married</td>\n",
       "      <td>Franklin</td>\n",
       "      <td>IT</td>\n",
       "      <td>Conceptual</td>\n",
       "      <td>4.0</td>\n",
       "      <td>4</td>\n",
       "      <td>33</td>\n",
       "      <td>1</td>\n",
       "      <td>1</td>\n",
       "      <td>7.0</td>\n",
       "      <td>type2</td>\n",
       "      <td>3.0</td>\n",
       "      <td>0.1841</td>\n",
       "    </tr>\n",
       "    <tr>\n",
       "      <th>1</th>\n",
       "      <td>EID_18000</td>\n",
       "      <td>M</td>\n",
       "      <td>24.0</td>\n",
       "      <td>3</td>\n",
       "      <td>Single</td>\n",
       "      <td>Springfield</td>\n",
       "      <td>Logistics</td>\n",
       "      <td>Analytical</td>\n",
       "      <td>5.0</td>\n",
       "      <td>4</td>\n",
       "      <td>36</td>\n",
       "      <td>0</td>\n",
       "      <td>3</td>\n",
       "      <td>6.0</td>\n",
       "      <td>type2</td>\n",
       "      <td>4.0</td>\n",
       "      <td>0.0670</td>\n",
       "    </tr>\n",
       "    <tr>\n",
       "      <th>2</th>\n",
       "      <td>EID_3891</td>\n",
       "      <td>F</td>\n",
       "      <td>58.0</td>\n",
       "      <td>3</td>\n",
       "      <td>Married</td>\n",
       "      <td>Clinton</td>\n",
       "      <td>Quality</td>\n",
       "      <td>Conceptual</td>\n",
       "      <td>27.0</td>\n",
       "      <td>3</td>\n",
       "      <td>51</td>\n",
       "      <td>0</td>\n",
       "      <td>2</td>\n",
       "      <td>8.0</td>\n",
       "      <td>type2</td>\n",
       "      <td>1.0</td>\n",
       "      <td>0.0851</td>\n",
       "    </tr>\n",
       "  </tbody>\n",
       "</table>\n",
       "</div>"
      ],
      "text/plain": [
       "  Employee_ID Gender   Age  Education_Level Relationship_Status     Hometown  \\\n",
       "0   EID_23371      F  42.0                4             Married     Franklin   \n",
       "1   EID_18000      M  24.0                3              Single  Springfield   \n",
       "2    EID_3891      F  58.0                3             Married      Clinton   \n",
       "\n",
       "        Unit Decision_skill_possess  Time_of_service  Time_since_promotion  \\\n",
       "0         IT             Conceptual              4.0                     4   \n",
       "1  Logistics             Analytical              5.0                     4   \n",
       "2    Quality             Conceptual             27.0                     3   \n",
       "\n",
       "   growth_rate  Travel_Rate  Post_Level  Pay_Scale Compensation_and_Benefits  \\\n",
       "0           33            1           1        7.0                     type2   \n",
       "1           36            0           3        6.0                     type2   \n",
       "2           51            0           2        8.0                     type2   \n",
       "\n",
       "   Work_Life_balance  Attrition_rate  \n",
       "0                3.0          0.1841  \n",
       "1                4.0          0.0670  \n",
       "2                1.0          0.0851  "
      ]
     },
     "execution_count": 240,
     "metadata": {},
     "output_type": "execute_result"
    }
   ],
   "source": [
    "# Importar datos\n",
    "\n",
    "dataset = pd.read_csv(r\"Employees.csv\")\n",
    "dataset.head(3)\n"
   ]
  },
  {
   "cell_type": "code",
   "execution_count": 241,
   "metadata": {},
   "outputs": [],
   "source": [
    "# Crear una copia del set de datos original\n",
    "\n",
    "data = dataset.copy()"
   ]
  },
  {
   "cell_type": "markdown",
   "metadata": {},
   "source": [
    "### Análisis exploratorio de datos"
   ]
  },
  {
   "cell_type": "code",
   "execution_count": 242,
   "metadata": {},
   "outputs": [
    {
     "name": "stdout",
     "output_type": "stream",
     "text": [
      "El set de datos a trabajar tiene un tamaño (7000, 17) \n",
      "\n"
     ]
    }
   ],
   "source": [
    "# Dimensión de los datos\n",
    "\n",
    "data_dim = data.shape\n",
    "print(\"El set de datos a trabajar tiene un tamaño\", data_dim,\n",
    "    \"\\n\")\n"
   ]
  },
  {
   "cell_type": "code",
   "execution_count": 243,
   "metadata": {},
   "outputs": [
    {
     "name": "stdout",
     "output_type": "stream",
     "text": [
      "Los tipos de variables con los que se cuenta son 'object', 'float64' e 'int64', es decir, se cuenta con variables del tipo numérico (continuas y discretas) y de variables de texto.\n"
     ]
    },
    {
     "data": {
      "text/html": [
       "<div>\n",
       "<style scoped>\n",
       "    .dataframe tbody tr th:only-of-type {\n",
       "        vertical-align: middle;\n",
       "    }\n",
       "\n",
       "    .dataframe tbody tr th {\n",
       "        vertical-align: top;\n",
       "    }\n",
       "\n",
       "    .dataframe thead th {\n",
       "        text-align: right;\n",
       "    }\n",
       "</style>\n",
       "<table border=\"1\" class=\"dataframe\">\n",
       "  <thead>\n",
       "    <tr style=\"text-align: right;\">\n",
       "      <th></th>\n",
       "      <th>Variables</th>\n",
       "    </tr>\n",
       "  </thead>\n",
       "  <tbody>\n",
       "    <tr>\n",
       "      <th>object</th>\n",
       "      <td>7</td>\n",
       "    </tr>\n",
       "    <tr>\n",
       "      <th>float64</th>\n",
       "      <td>5</td>\n",
       "    </tr>\n",
       "    <tr>\n",
       "      <th>int64</th>\n",
       "      <td>5</td>\n",
       "    </tr>\n",
       "  </tbody>\n",
       "</table>\n",
       "</div>"
      ],
      "text/plain": [
       "         Variables\n",
       "object           7\n",
       "float64          5\n",
       "int64            5"
      ]
     },
     "execution_count": 243,
     "metadata": {},
     "output_type": "execute_result"
    }
   ],
   "source": [
    "# Tipos de variables y número de variables por tipo\n",
    "\n",
    "variable_types = pd.DataFrame(data.dtypes.value_counts())\n",
    "variable_types.set_axis(['Variables'],axis=1,inplace=True)\n",
    "print(\"Los tipos de variables con los que se cuenta son 'object', 'float64' e 'int64', es decir, se cuenta\",\n",
    "    \"con variables del tipo numérico (continuas y discretas) y de variables de texto.\")\n",
    "variable_types\n",
    "\n"
   ]
  },
  {
   "cell_type": "code",
   "execution_count": 244,
   "metadata": {},
   "outputs": [
    {
     "name": "stdout",
     "output_type": "stream",
     "text": [
      "Existen 4 campos o variables con valores fatantes, las cuáles se muestran en la siguiente tabla:\n",
      "\n",
      "                    Missing values Data type\n",
      "Age                           412   float64\n",
      "Time_of_service               144   float64\n",
      "Pay_Scale                       9   float64\n",
      "Work_Life_balance              11   float64 \n",
      "\n",
      "Se observa que todas las variables que presentan valores perdidos son del tipo numérico, dos orinales y dos contínuas\n"
     ]
    }
   ],
   "source": [
    "# Detectar columnas con valores perdidos y número de valores perdidos por columna\n",
    "\n",
    "data_types = pd.DataFrame(data.dtypes) # Crea un datafaframe de las variables y su tipo\n",
    "data_missing_values = pd.DataFrame(data.isna().sum()) # Crea un dataframe con valores perdidos por variable\n",
    "data_missing_variables = pd.concat([data_missing_values,data_types],axis=1) # Concatena valores perdidos con tipo de variable por variable\n",
    "data_missing_variables.set_axis(['Missing values','Data type'],axis=1,inplace=True) # Set col names n = numero de valores perdidos, type = tipo de datos\n",
    "data_missing_variables = data_missing_variables[data_missing_variables['Missing values'] != 0] # Filtrar variables para obtener campos con datos perdidos ()\n",
    "missing_variabes = data_missing_variables.index\n",
    "\n",
    "print(\"Existen\",data_missing_variables.shape[0],\"campos o variables con valores fatantes, las cuáles se muestran en la siguiente tabla:\")\n",
    "print(\"\\n\",data_missing_variables,\"\\n\\nSe observa que todas las variables que presentan valores perdidos son del tipo numérico, dos orinales y dos contínuas\")"
   ]
  },
  {
   "cell_type": "markdown",
   "metadata": {},
   "source": [
    "### Tratamiento de datos perdidos"
   ]
  },
  {
   "cell_type": "code",
   "execution_count": 245,
   "metadata": {},
   "outputs": [
    {
     "name": "stdout",
     "output_type": "stream",
     "text": [
      "Las valores faltantes de las variables tipo numérica contínuas se han de imputar utilizando una técnica de imputación múltiple y los datos faltantes de variables numéricas disctretas se imputarán utilizando la moda, ya que este es el método generalmente aceptado y más utilizado para este tipo de datos.\n"
     ]
    }
   ],
   "source": [
    "# Comentarios\n",
    "\n",
    "print(\"Las valores faltantes de las variables tipo numérica contínuas se han de imputar utilizando una técnica de imputación múltiple y los datos faltantes de variables numéricas disctretas se imputarán utilizando la moda, ya que este es el método generalmente aceptado y más utilizado para este tipo de datos.\")"
   ]
  },
  {
   "cell_type": "code",
   "execution_count": 246,
   "metadata": {},
   "outputs": [
    {
     "name": "stdout",
     "output_type": "stream",
     "text": [
      "Se han imputado valores faltantes de las variables 'Time_of_service' y 'Age' \n",
      " \n",
      " Conteo de valores faltantes:\n"
     ]
    },
    {
     "data": {
      "text/plain": [
       "Age                0\n",
       "Time_of_service    0\n",
       "dtype: int64"
      ]
     },
     "execution_count": 246,
     "metadata": {},
     "output_type": "execute_result"
    }
   ],
   "source": [
    "# Imputación múltiple para datos contínuos\n",
    "# Select dataset\n",
    "df_num_mice = data[['Age','Time_of_service']]\n",
    "\n",
    "# Create kernel. \n",
    "kernel = mf.ImputationKernel(\n",
    "  df_num_mice,\n",
    "  datasets=4,\n",
    "  save_all_iterations=True,\n",
    "  random_state=1\n",
    ")\n",
    "\n",
    "# Run the MICE algorithm for 2 iterations on each of the datasets\n",
    "kernel.mice(2)\n",
    "\n",
    "# Distribution of imputed values \n",
    "#kernel.plot_imputed_distributions(wspace=0.3,hspace=0.3)\n",
    "\n",
    "# Printing the kernel will show you some high level information.\n",
    "#print(kernel)\n",
    "\n",
    "# Select dataset with imputated data\n",
    "df_num_mice = kernel.complete_data(0)\n",
    "df_num = df_num_mice\n",
    "\n",
    "print(\"Se han imputado valores faltantes de las variables 'Time_of_service' y 'Age' \\n \\n Conteo de valores faltantes:\",)\n",
    "df_num.isna().sum()"
   ]
  },
  {
   "cell_type": "code",
   "execution_count": 247,
   "metadata": {},
   "outputs": [],
   "source": [
    "# Agregar datos imputados al dataframe de trabajo\n",
    "\n",
    "data['Age'] = df_num['Age']\n",
    "data['Time_of_service'] = df_num['Time_of_service']"
   ]
  },
  {
   "cell_type": "code",
   "execution_count": 248,
   "metadata": {},
   "outputs": [
    {
     "name": "stdout",
     "output_type": "stream",
     "text": [
      "Se han imputado valores faltantes de las variables 'Pay_Scale' y 'Work_Life_balance' \n",
      " \n",
      " Conteo de valores faltantes:\n"
     ]
    },
    {
     "data": {
      "text/plain": [
       "Pay_Scale            0\n",
       "Work_Life_balance    0\n",
       "dtype: int64"
      ]
     },
     "execution_count": 248,
     "metadata": {},
     "output_type": "execute_result"
    }
   ],
   "source": [
    "# Imputación de datos faltantes utilizando la moda\n",
    "\n",
    "data['Pay_Scale'].fillna(data['Pay_Scale'].mode()[0], inplace=True)\n",
    "data['Work_Life_balance'].fillna(data['Work_Life_balance'].mode()[0], inplace=True)\n",
    "\n",
    "print(\"Se han imputado valores faltantes de las variables 'Pay_Scale' y 'Work_Life_balance' \\n \\n Conteo de valores faltantes:\")\n",
    "data[['Pay_Scale','Work_Life_balance']].isna().sum()"
   ]
  },
  {
   "cell_type": "markdown",
   "metadata": {},
   "source": [
    "### Selección de campos para el análisis"
   ]
  },
  {
   "cell_type": "code",
   "execution_count": 250,
   "metadata": {},
   "outputs": [
    {
     "name": "stdout",
     "output_type": "stream",
     "text": [
      "No se tomará en cuenta la columna 'Employee_ID' puesto que esta es una etiqueta para cada registro y se elimina del set de datos\n"
     ]
    }
   ],
   "source": [
    "# Eliminación de columnas \n",
    "\n",
    "print(\"No se tomará en cuenta la columna 'Employee_ID' puesto que esta es una etiqueta para cada registro y se elimina del set de datos\")\n",
    "data.drop(['Employee_ID'],axis=1,inplace=True)\n"
   ]
  },
  {
   "cell_type": "markdown",
   "metadata": {},
   "source": [
    "### Codificación de datos categóricos"
   ]
  },
  {
   "cell_type": "code",
   "execution_count": 251,
   "metadata": {},
   "outputs": [
    {
     "name": "stdout",
     "output_type": "stream",
     "text": [
      "Las variables categóricas del tipo 'object' se transforman a variables numéricas utilizando Ordinal Encoder y el set de datos resultante se convertirá en una matríz numérica de Numpy obteniendo: \n",
      "\n",
      "[[ 0.     42.      4.     ...  2.      3.      0.1841]\n",
      " [ 1.     24.      3.     ...  2.      4.      0.067 ]\n",
      " [ 0.     58.      3.     ...  2.      1.      0.0851]\n",
      " ...\n",
      " [ 0.     49.      3.     ...  2.      4.      0.7847]\n",
      " [ 0.     47.      3.     ...  0.      2.      0.4162]\n",
      " [ 0.     58.      3.     ...  2.      3.      0.091 ]]\n"
     ]
    }
   ],
   "source": [
    "# Transformar datos categóricos a numéricos utilizando Ordinal Encoder\n",
    "\n",
    "print(\"Las variables categóricas del tipo 'object' se transforman a variables numéricas utilizando Ordinal Encoder y el set de datos resultante se convertirá en una matríz numérica de Numpy obteniendo: \\n\")\n",
    "df = data.copy()\n",
    "for col in df.columns:\n",
    "    if df[col].dtype == 'object':\n",
    "        df[col] = OrdinalEncoder().fit_transform(df[[col]])\n",
    "\n",
    "X_train = df.to_numpy() # Convertir datos a una matríz numérica de numpy\n",
    "print(X_train)"
   ]
  },
  {
   "cell_type": "markdown",
   "metadata": {},
   "source": [
    "### Normalización de los datos"
   ]
  },
  {
   "cell_type": "code",
   "execution_count": 252,
   "metadata": {},
   "outputs": [
    {
     "name": "stdout",
     "output_type": "stream",
     "text": [
      "Los valores de la matriz de datos se normalizan para evitar la influencia de la escala de los valres en los resultados del análisis, obteniendo la siguiente matriz: \n",
      "\n"
     ]
    },
    {
     "data": {
      "text/plain": [
       "array([[-0.83756018,  0.17329973,  0.76255659, ..., -0.50555935,\n",
       "         0.54692154, -0.02840599],\n",
       "       [ 1.19394406, -1.15080223, -0.17638732, ..., -0.50555935,\n",
       "         1.43725894, -0.65885713],\n",
       "       [-0.83756018,  1.35027924, -0.17638732, ..., -0.50555935,\n",
       "        -1.23375325, -0.56140908],\n",
       "       ...,\n",
       "       [-0.83756018,  0.68822826, -0.17638732, ..., -0.50555935,\n",
       "         1.43725894,  3.20514613],\n",
       "       [-0.83756018,  0.54110582, -0.17638732, ..., -3.24784175,\n",
       "        -0.34341585,  1.22119016],\n",
       "       [-0.83756018,  1.35027924, -0.17638732, ..., -0.50555935,\n",
       "         0.54692154, -0.52964425]])"
      ]
     },
     "execution_count": 252,
     "metadata": {},
     "output_type": "execute_result"
    }
   ],
   "source": [
    "# Normalización de los datos\n",
    "\n",
    "print(\"Los valores de la matriz de datos se normalizan para evitar la influencia de la escala de los valres en los resultados del análisis, obteniendo la siguiente matriz: \\n\")\n",
    "X = StandardScaler().fit_transform(X_train)\n",
    "X"
   ]
  },
  {
   "cell_type": "markdown",
   "metadata": {},
   "source": [
    "### K Means clustering"
   ]
  },
  {
   "cell_type": "markdown",
   "metadata": {},
   "source": [
    "#### Evaluación del número de grupos mediante K Elbow plot"
   ]
  },
  {
   "cell_type": "code",
   "execution_count": 253,
   "metadata": {},
   "outputs": [
    {
     "data": {
      "image/png": "[encoded data removed]",
      "text/plain": [
       "<Figure size 432x288 with 1 Axes>"
      ]
     },
     "metadata": {
      "needs_background": "light"
     },
     "output_type": "display_data"
    }
   ],
   "source": [
    "# Gráfica de K Elbow utilizando el índice Silohuette\n",
    "\n",
    "nc = 11\n",
    "results = {}\n",
    "\n",
    "for k in range(2, nc):\n",
    "    k_means = cluster.KMeans(n_clusters=k).fit(X)\n",
    "    y_pred = k_means.predict(X)\n",
    "    results[k] = metrics.silhouette_score(X, y_pred)\n",
    "\n",
    "\n",
    "clusters_counts = list(results.keys())\n",
    "index_values = list(results.values())\n",
    "plt.plot(clusters_counts, index_values, 'o-')\n",
    "plt.grid(True)\n",
    "plt.title('\"Maximize\"')\n",
    "plt.xlabel('Num Clusters')\n",
    "plt.xticks(clusters_counts)\n",
    "plt.ylabel('Silhouette')\n",
    "plt.show()"
   ]
  },
  {
   "cell_type": "markdown",
   "metadata": {},
   "source": [
    "#### Evaluación del número de grupos con el criterio de relación de varianzas"
   ]
  },
  {
   "cell_type": "code",
   "execution_count": 254,
   "metadata": {},
   "outputs": [
    {
     "data": {
      "image/png": "[encoded data removed]",
      "text/plain": [
       "<Figure size 432x288 with 1 Axes>"
      ]
     },
     "metadata": {
      "needs_background": "light"
     },
     "output_type": "display_data"
    }
   ],
   "source": [
    "# Gráfica de K Elbow utilizando el índice Calinski Harabasz\n",
    "\n",
    "nc = 11\n",
    "results = {}\n",
    "\n",
    "for k in range(2, nc):\n",
    "    k_means = cluster.KMeans(n_clusters=k).fit(X)\n",
    "    y_pred = k_means.predict(X)\n",
    "    results[k] = metrics.calinski_harabasz_score(X, y_pred)\n",
    "\n",
    "clusters_counts = list(results.keys())\n",
    "index_values = list(results.values())\n",
    "\n",
    "plt.plot(clusters_counts, index_values, 'o-')\n",
    "plt.grid(True)\n",
    "plt.title('\"Maximize\"')\n",
    "plt.xlabel('Num Clusters')\n",
    "plt.xticks(clusters_counts)\n",
    "plt.ylabel('Calinski Harabasz')\n",
    "plt.show()"
   ]
  },
  {
   "cell_type": "code",
   "execution_count": 255,
   "metadata": {},
   "outputs": [
    {
     "name": "stdout",
     "output_type": "stream",
     "text": [
      "El número de grupos a clusters a calcular es 4 La gráfica de K--Elbow utilizando el índice Silohuette para la validación indica que 4 grupos es el número óptimo. \n",
      "\n",
      "Se ha caluclado una nueva variable 'clust_n' que contiene el ID del Cluster al que pertenece cada registro.\n"
     ]
    },
    {
     "data": {
      "text/plain": [
       "array([1, 3, 2, ..., 0, 2, 2])"
      ]
     },
     "execution_count": 255,
     "metadata": {},
     "output_type": "execute_result"
    }
   ],
   "source": [
    "# Creación de variable de pertenecia\n",
    "k = 4\n",
    "\n",
    "print(\"El número de grupos a clusters a calcular es\",k,\"La gráfica de K--Elbow utilizando el índice Silohuette para la validación indica que 4 grupos es el número óptimo ya que presenta un 'repunte' en el valor del coeficinete, además, la validación a través del índice de Calinski Harabasz indica que 4 grupos tiene. \\n\")\n",
    "# Debido principalmente a las gráficas K-Elbow\n",
    "k_means = cluster.KMeans(n_clusters=k)\n",
    "clust_n = k_means.fit_predict(X)\n",
    "\n",
    "print(\"Se ha caluclado una nueva variable 'clust_n' que contiene el ID del Cluster al que pertenece cada registro.\")\n",
    "clust_n"
   ]
  },
  {
   "cell_type": "code",
   "execution_count": 264,
   "metadata": {},
   "outputs": [
    {
     "name": "stdout",
     "output_type": "stream",
     "text": [
      "La variable de pertenencia se incluye en el set de datos original para agrupar los datos por cluster y compararlos.\n"
     ]
    },
    {
     "data": {
      "text/html": [
       "<div>\n",
       "<style scoped>\n",
       "    .dataframe tbody tr th:only-of-type {\n",
       "        vertical-align: middle;\n",
       "    }\n",
       "\n",
       "    .dataframe tbody tr th {\n",
       "        vertical-align: top;\n",
       "    }\n",
       "\n",
       "    .dataframe thead th {\n",
       "        text-align: right;\n",
       "    }\n",
       "</style>\n",
       "<table border=\"1\" class=\"dataframe\">\n",
       "  <thead>\n",
       "    <tr style=\"text-align: right;\">\n",
       "      <th></th>\n",
       "      <th>Gender</th>\n",
       "      <th>Age</th>\n",
       "      <th>Education_Level</th>\n",
       "      <th>Relationship_Status</th>\n",
       "      <th>Hometown</th>\n",
       "      <th>Unit</th>\n",
       "      <th>Decision_skill_possess</th>\n",
       "      <th>Time_of_service</th>\n",
       "      <th>Time_since_promotion</th>\n",
       "      <th>growth_rate</th>\n",
       "      <th>Travel_Rate</th>\n",
       "      <th>Post_Level</th>\n",
       "      <th>Pay_Scale</th>\n",
       "      <th>Compensation_and_Benefits</th>\n",
       "      <th>Work_Life_balance</th>\n",
       "      <th>Attrition_rate</th>\n",
       "      <th>Cluster</th>\n",
       "    </tr>\n",
       "  </thead>\n",
       "  <tbody>\n",
       "    <tr>\n",
       "      <th>0</th>\n",
       "      <td>F</td>\n",
       "      <td>42.0</td>\n",
       "      <td>4</td>\n",
       "      <td>Married</td>\n",
       "      <td>Franklin</td>\n",
       "      <td>IT</td>\n",
       "      <td>Conceptual</td>\n",
       "      <td>4.0</td>\n",
       "      <td>4</td>\n",
       "      <td>33</td>\n",
       "      <td>1</td>\n",
       "      <td>1</td>\n",
       "      <td>7.0</td>\n",
       "      <td>type2</td>\n",
       "      <td>3.0</td>\n",
       "      <td>0.1841</td>\n",
       "      <td>1</td>\n",
       "    </tr>\n",
       "    <tr>\n",
       "      <th>1</th>\n",
       "      <td>M</td>\n",
       "      <td>24.0</td>\n",
       "      <td>3</td>\n",
       "      <td>Single</td>\n",
       "      <td>Springfield</td>\n",
       "      <td>Logistics</td>\n",
       "      <td>Analytical</td>\n",
       "      <td>5.0</td>\n",
       "      <td>4</td>\n",
       "      <td>36</td>\n",
       "      <td>0</td>\n",
       "      <td>3</td>\n",
       "      <td>6.0</td>\n",
       "      <td>type2</td>\n",
       "      <td>4.0</td>\n",
       "      <td>0.0670</td>\n",
       "      <td>3</td>\n",
       "    </tr>\n",
       "    <tr>\n",
       "      <th>2</th>\n",
       "      <td>F</td>\n",
       "      <td>58.0</td>\n",
       "      <td>3</td>\n",
       "      <td>Married</td>\n",
       "      <td>Clinton</td>\n",
       "      <td>Quality</td>\n",
       "      <td>Conceptual</td>\n",
       "      <td>27.0</td>\n",
       "      <td>3</td>\n",
       "      <td>51</td>\n",
       "      <td>0</td>\n",
       "      <td>2</td>\n",
       "      <td>8.0</td>\n",
       "      <td>type2</td>\n",
       "      <td>1.0</td>\n",
       "      <td>0.0851</td>\n",
       "      <td>2</td>\n",
       "    </tr>\n",
       "  </tbody>\n",
       "</table>\n",
       "</div>"
      ],
      "text/plain": [
       "  Gender   Age  Education_Level Relationship_Status     Hometown       Unit  \\\n",
       "0      F  42.0                4             Married     Franklin         IT   \n",
       "1      M  24.0                3              Single  Springfield  Logistics   \n",
       "2      F  58.0                3             Married      Clinton    Quality   \n",
       "\n",
       "  Decision_skill_possess  Time_of_service  Time_since_promotion  growth_rate  \\\n",
       "0             Conceptual              4.0                     4           33   \n",
       "1             Analytical              5.0                     4           36   \n",
       "2             Conceptual             27.0                     3           51   \n",
       "\n",
       "   Travel_Rate  Post_Level  Pay_Scale Compensation_and_Benefits  \\\n",
       "0            1           1        7.0                     type2   \n",
       "1            0           3        6.0                     type2   \n",
       "2            0           2        8.0                     type2   \n",
       "\n",
       "   Work_Life_balance  Attrition_rate  Cluster  \n",
       "0                3.0          0.1841        1  \n",
       "1                4.0          0.0670        3  \n",
       "2                1.0          0.0851        2  "
      ]
     },
     "execution_count": 264,
     "metadata": {},
     "output_type": "execute_result"
    }
   ],
   "source": [
    "# Creación de un nuevo campo con la variable de pertenencia para la asignación de clusters\n",
    "print(\"La variable de pertenencia se incluye en el set de datos original para agrupar los datos por cluster y compararlos.\")\n",
    "\n",
    "data['Cluster'] = clust_n\n",
    "employees = []\n",
    "for g in range(k):\n",
    "    employees.append(data[data['Cluster']==g])\n",
    "data.head(3)\n",
    "\n",
    "    "
   ]
  },
  {
   "cell_type": "code",
   "execution_count": 272,
   "metadata": {},
   "outputs": [
    {
     "name": "stdout",
     "output_type": "stream",
     "text": [
      "Conteo de registros por grupo: \n",
      "\n",
      "Group0 has 593 employees\n",
      "Group1 has 2440 employees\n",
      "Group2 has 2158 employees\n",
      "Group3 has 1809 employees\n",
      "\n",
      " Se observa que los grupos 1, 2 y 3 tienen una cantidad similar de registros mientras que el grupo 0 tiene significativamente menos empleados.\n"
     ]
    }
   ],
   "source": [
    "# Conteo de registros por grupo\n",
    "\n",
    "print(\"Conteo de registros por grupo: \\n\")\n",
    "for g in range (k):\n",
    "    print('Group' +str(g),'has',len(employees[g]),'employees')\n",
    "\n",
    "print(\"\\nSe observa que los grupos 1, 2 y 3 tienen una cantidad similar de registros mientras que el grupo 0 tiene significativamente menos empleados.\")\n",
    "\n"
   ]
  },
  {
   "cell_type": "markdown",
   "metadata": {},
   "source": [
    "#### Segmentación de registros utilizando variable de pertenencia"
   ]
  },
  {
   "cell_type": "code",
   "execution_count": 266,
   "metadata": {},
   "outputs": [
    {
     "data": {
      "text/html": [
       "<div>\n",
       "<style scoped>\n",
       "    .dataframe tbody tr th:only-of-type {\n",
       "        vertical-align: middle;\n",
       "    }\n",
       "\n",
       "    .dataframe tbody tr th {\n",
       "        vertical-align: top;\n",
       "    }\n",
       "\n",
       "    .dataframe thead th {\n",
       "        text-align: right;\n",
       "    }\n",
       "</style>\n",
       "<table border=\"1\" class=\"dataframe\">\n",
       "  <thead>\n",
       "    <tr style=\"text-align: right;\">\n",
       "      <th></th>\n",
       "      <th>Features</th>\n",
       "      <th>Group0</th>\n",
       "      <th>Group1</th>\n",
       "      <th>Group2</th>\n",
       "      <th>Group3</th>\n",
       "    </tr>\n",
       "  </thead>\n",
       "  <tbody>\n",
       "    <tr>\n",
       "      <th>0</th>\n",
       "      <td>Gender</td>\n",
       "      <td>F</td>\n",
       "      <td>F</td>\n",
       "      <td>F</td>\n",
       "      <td>M</td>\n",
       "    </tr>\n",
       "    <tr>\n",
       "      <th>1</th>\n",
       "      <td>Age</td>\n",
       "      <td>38.27</td>\n",
       "      <td>31.18</td>\n",
       "      <td>55.8</td>\n",
       "      <td>32.24</td>\n",
       "    </tr>\n",
       "    <tr>\n",
       "      <th>2</th>\n",
       "      <td>Education_Level</td>\n",
       "      <td>3.15</td>\n",
       "      <td>3.19</td>\n",
       "      <td>3.17</td>\n",
       "      <td>3.21</td>\n",
       "    </tr>\n",
       "    <tr>\n",
       "      <th>3</th>\n",
       "      <td>Relationship_Status</td>\n",
       "      <td>Married</td>\n",
       "      <td>Married</td>\n",
       "      <td>Married</td>\n",
       "      <td>Married</td>\n",
       "    </tr>\n",
       "    <tr>\n",
       "      <th>4</th>\n",
       "      <td>Hometown</td>\n",
       "      <td>Lebanon</td>\n",
       "      <td>Lebanon</td>\n",
       "      <td>Lebanon</td>\n",
       "      <td>Lebanon</td>\n",
       "    </tr>\n",
       "    <tr>\n",
       "      <th>5</th>\n",
       "      <td>Unit</td>\n",
       "      <td>IT</td>\n",
       "      <td>IT</td>\n",
       "      <td>IT</td>\n",
       "      <td>IT</td>\n",
       "    </tr>\n",
       "    <tr>\n",
       "      <th>6</th>\n",
       "      <td>Decision_skill_possess</td>\n",
       "      <td>Directive</td>\n",
       "      <td>Analytical</td>\n",
       "      <td>Conceptual</td>\n",
       "      <td>Behavioral</td>\n",
       "    </tr>\n",
       "    <tr>\n",
       "      <th>7</th>\n",
       "      <td>Time_of_service</td>\n",
       "      <td>12.02</td>\n",
       "      <td>6.86</td>\n",
       "      <td>26.1</td>\n",
       "      <td>7.56</td>\n",
       "    </tr>\n",
       "    <tr>\n",
       "      <th>8</th>\n",
       "      <td>Time_since_promotion</td>\n",
       "      <td>2.41</td>\n",
       "      <td>2.31</td>\n",
       "      <td>2.51</td>\n",
       "      <td>2.26</td>\n",
       "    </tr>\n",
       "    <tr>\n",
       "      <th>9</th>\n",
       "      <td>growth_rate</td>\n",
       "      <td>47.71</td>\n",
       "      <td>47.41</td>\n",
       "      <td>46.82</td>\n",
       "      <td>46.68</td>\n",
       "    </tr>\n",
       "    <tr>\n",
       "      <th>10</th>\n",
       "      <td>Travel_Rate</td>\n",
       "      <td>0.79</td>\n",
       "      <td>0.82</td>\n",
       "      <td>0.84</td>\n",
       "      <td>0.81</td>\n",
       "    </tr>\n",
       "    <tr>\n",
       "      <th>11</th>\n",
       "      <td>Post_Level</td>\n",
       "      <td>2.84</td>\n",
       "      <td>2.79</td>\n",
       "      <td>2.81</td>\n",
       "      <td>2.79</td>\n",
       "    </tr>\n",
       "    <tr>\n",
       "      <th>12</th>\n",
       "      <td>Pay_Scale</td>\n",
       "      <td>5.83</td>\n",
       "      <td>6.0</td>\n",
       "      <td>6.09</td>\n",
       "      <td>5.98</td>\n",
       "    </tr>\n",
       "    <tr>\n",
       "      <th>13</th>\n",
       "      <td>Compensation_and_Benefits</td>\n",
       "      <td>type2</td>\n",
       "      <td>type2</td>\n",
       "      <td>type2</td>\n",
       "      <td>type2</td>\n",
       "    </tr>\n",
       "    <tr>\n",
       "      <th>14</th>\n",
       "      <td>Work_Life_balance</td>\n",
       "      <td>2.48</td>\n",
       "      <td>2.38</td>\n",
       "      <td>2.39</td>\n",
       "      <td>2.36</td>\n",
       "    </tr>\n",
       "    <tr>\n",
       "      <th>15</th>\n",
       "      <td>Attrition_rate</td>\n",
       "      <td>0.69</td>\n",
       "      <td>0.14</td>\n",
       "      <td>0.15</td>\n",
       "      <td>0.14</td>\n",
       "    </tr>\n",
       "  </tbody>\n",
       "</table>\n",
       "</div>"
      ],
      "text/plain": [
       "                     Features     Group0      Group1      Group2      Group3\n",
       "0                      Gender          F           F           F           M\n",
       "1                         Age      38.27       31.18        55.8       32.24\n",
       "2             Education_Level       3.15        3.19        3.17        3.21\n",
       "3         Relationship_Status    Married     Married     Married     Married\n",
       "4                    Hometown    Lebanon     Lebanon     Lebanon     Lebanon\n",
       "5                        Unit         IT          IT          IT          IT\n",
       "6      Decision_skill_possess  Directive  Analytical  Conceptual  Behavioral\n",
       "7             Time_of_service      12.02        6.86        26.1        7.56\n",
       "8        Time_since_promotion       2.41        2.31        2.51        2.26\n",
       "9                 growth_rate      47.71       47.41       46.82       46.68\n",
       "10                Travel_Rate       0.79        0.82        0.84        0.81\n",
       "11                 Post_Level       2.84        2.79        2.81        2.79\n",
       "12                  Pay_Scale       5.83         6.0        6.09        5.98\n",
       "13  Compensation_and_Benefits      type2       type2       type2       type2\n",
       "14          Work_Life_balance       2.48        2.38        2.39        2.36\n",
       "15             Attrition_rate       0.69        0.14        0.15        0.14"
      ]
     },
     "execution_count": 266,
     "metadata": {},
     "output_type": "execute_result"
    }
   ],
   "source": [
    "# k_means.cluster_centers_\n",
    "\n",
    "grouped = pd.DataFrame()\n",
    "grouped['Features'] = df.columns[:-1]\n",
    "\n",
    "for g in range (k):\n",
    "    row = []\n",
    "    for col in grouped['Features']:\n",
    "        if employees[g][col].dtype != 'object':\n",
    "            row.append(np.round(employees[g][col].mean(),2))\n",
    "        else:\n",
    "            row.append(employees[g][col].value_counts().keys()[0])\n",
    "    grouped['Group'+str(g)] = row\n",
    "grouped"
   ]
  },
  {
   "cell_type": "markdown",
   "metadata": {},
   "source": [
    "### Análisis de los grupos\n",
    "\n",
    "Se han encontrado cuatro grupos de empleados diferentes. La variable que en mayor medida determina la diferencia entre los grupos es la edad, encontrando 3 grupos difrentes, alrededor de 50, alrededor de 40 y dos grupos de 30 que se diferencían por ser uno mayormente compuesto por mujeres con aptitudes analítica. \n",
    "\n",
    "El grupo de 50 años es el que presenta la menor tasa de desersión al estar compuesto por los empleados con un mayor tiempo de servicio y tener los mayores valores de escala de pago, mientras que el grupo de los 40 años presenta a mayor tasa de desersión aún cuando tienen el mejor balance entre la vida profesional y laboral."
   ]
  }
 ],
 "metadata": {
  "kernelspec": {
   "display_name": "Python 3.10.2 64-bit",
   "language": "python",
   "name": "python3"
  },
  "language_info": {
   "codemirror_mode": {
    "name": "ipython",
    "version": 3
   },
   "file_extension": ".py",
   "mimetype": "text/x-python",
   "name": "python",
   "nbconvert_exporter": "python",
   "pygments_lexer": "ipython3",
   "version": "3.10.2"
  },
  "orig_nbformat": 4,
  "vscode": {
   "interpreter": {
    "hash": "af6a57148d8251e394aaba2ac1a65307d2863bd3d511ca7f236e568805850424"
   }
  }
 },
 "nbformat": 4,
 "nbformat_minor": 2
}
