{
 "cells": [
  {
   "cell_type": "markdown",
   "metadata": {},
   "source": [
    "## San Dimas Plant Process Analysis"
   ]
  },
  {
   "cell_type": "code",
   "execution_count": 2,
   "metadata": {},
   "outputs": [],
   "source": [
    "# Necessary libraries for analysis\n",
    "\n",
    "import pandas as pd\n",
    "import matplotlib.pyplot as plt\n",
    "import numpy as np\n",
    "import seaborn as sns\n",
    "import scipy.stats as stats\n",
    "import warnings\n",
    " \n",
    "from scipy.stats import pearsonr\n",
    "from sklearn.preprocessing import LabelEncoder, StandardScaler\n",
    "from sklearn.decomposition import PCA\n",
    "from sklearn.model_selection import train_test_split\n",
    "\n",
    "warnings.filterwarnings(\"ignore\") \n",
    "\n",
    "# integrated developement enviroment"
   ]
  },
  {
   "cell_type": "code",
   "execution_count": 16,
   "metadata": {},
   "outputs": [],
   "source": [
    "# Import excel file (must be a relational table).\n",
    "data = pd.read_excel(r\"San Dimas.xlsx\",sheet_name=\"DBBP\")\n"
   ]
  },
  {
   "cell_type": "code",
   "execution_count": 17,
   "metadata": {},
   "outputs": [],
   "source": [
    "# Create new variables (year, month, year by mont and year by q) using 'date' time variable.\n",
    "# Date categorical variables\n",
    "data['year'] = pd.DatetimeIndex(data['Date']).year.astype(str)\n",
    "data['quarter'] = pd.DatetimeIndex(data['Date']).quarter.astype(str)\n",
    "#data['quarter'] = pd.DatetimeIndex(data['Date']).dt.to_period('Q').astype(str)\n",
    "data['month'] = pd.DatetimeIndex(data['Date']).month\n",
    "data['ym'] = data.year.astype(str).str.cat(data.month.astype(str), sep='M')\n",
    "\n",
    "# Operation variables\n",
    "data['Grinding operation (%)'] = ((data['Operation time BM1 (h)']+data['Operation time BM2 (h)']+data['Operation time BM3 (h)'])/72)*100\n",
    "\n",
    "# Disolution (response) variables\n",
    "data['Ag dissolution (%)'] =  ((data['Ag head grade calculated (g/t)']-data['Ag tailings grade (g/t)'])/data['Ag head grade calculated (g/t)'])*100\n",
    "data['Au dissolution (%)'] =  ((data['Au head grade calculated (g/t)']-data['Au tailings grade (g/t)'])/data['Au head grade calculated (g/t)'])*100\n",
    "\n",
    "data['Ag/Au ratio'] =  data['Ag head grade calculated (g/t)']/data['Au head grade calculated (g/t)']\n",
    "data['M3/t'] =  data['MC pumping (m3)']/data['Tonnage (t)']\n",
    "\n",
    "data['Ag feed content (kg)'] = (data['Ag head grade calculated (g/t)']*data['Tonnage (t)'])/1000\n",
    "data['Au feed content (kg)'] = (data['Au head grade calculated (g/t)']*data['Tonnage (t)'])/1000"
   ]
  },
  {
   "cell_type": "markdown",
   "metadata": {},
   "source": [
    "At this point data = original dataset with new variables included (disolution, year, etc.)"
   ]
  },
  {
   "cell_type": "code",
   "execution_count": 19,
   "metadata": {},
   "outputs": [],
   "source": [
    "# Splits by year and get 2022 dataframe of interest called d22.\n",
    "# Data per year.\n",
    "d0 = data.copy() # Create a copy of original (data) dataset\n",
    "d21 = d0.groupby('year').get_group(\"2021\") # create a dataframe of 2022 (d22) exctracted from original dataset (data)\n",
    "d22 = d0.groupby('year').get_group(\"2022\") # create a dataframe of 2022 (d22) exctracted from original dataset (data)\n",
    "\n",
    "# Data per half.\n",
    "d21q1 = d21.groupby('quarter').get_group(\"1\") # Create a df of q1 of 2021\n",
    "d21q2 = d21.groupby('quarter').get_group(\"2\") # Create a df of q2 of 2021\n",
    "d21h1 = pd.concat([d21q1,d21q2],axis=0) # Concatenate q1 and q2 of 2021 to create h1 dataframe\n",
    "\n",
    "d21q3 = d21.groupby('quarter').get_group(\"3\") \n",
    "d21q4 = d21.groupby('quarter').get_group(\"4\") \n",
    "d21h2 = pd.concat([d21q3,d21q4],axis=0)\n",
    "\n",
    "d22q1 = d22.groupby('quarter').get_group(\"1\") \n",
    "d22q2 = d22.groupby('quarter').get_group(\"2\") \n",
    "d22h1 = pd.concat([d22q1,d22q1],axis=0)\n",
    "\n",
    "#d22q3 = d22.groupby('quarter').get_group(\"3\")\n",
    "#d22q4 = d22.groupby('quarter').get_group(\"4\")\n",
    "#d22h2 = pd.concat([d22q3,d22q4],axis=0)\n",
    "\n",
    "\n",
    "d2204 = d22.groupby('month').get_group(4) # Create a dataframe of month 4 of year 2022\n",
    "d2205 = d22.groupby('month').get_group(5) # Create a dataframe of month 4 of year 2022\n",
    "d2206 = d22.groupby('month').get_group(6) # Create a dataframe of month 4 of year 2022\n",
    "\n"
   ]
  },
  {
   "cell_type": "markdown",
   "metadata": {},
   "source": [
    "##### Datasets\n",
    "\n",
    "- d0 is a copy of orignal dataset with new variables (data)\n",
    "- d22 is a dataframe of 2022 exctracted from original dataset (data of 2022)\n",
    "- d2204 is a copy dataframe of month 04 from year 2022 (data of April 2022)\n"
   ]
  },
  {
   "cell_type": "markdown",
   "metadata": {},
   "source": [
    "Slect Variables (columns)"
   ]
  },
  {
   "cell_type": "code",
   "execution_count": 48,
   "metadata": {},
   "outputs": [],
   "source": [
    "all_in = data.columns.to_list()\n"
   ]
  },
  {
   "cell_type": "code",
   "execution_count": 49,
   "metadata": {},
   "outputs": [],
   "source": [
    "# Regression variables\n",
    "\n",
    "xy_vars = ['Tonnage (t)',\n",
    "    'F80 BM (μm)',\n",
    "    'Agitation time (h)',\n",
    "    'P80 BFD (μm)',\n",
    "    'Agitation pH',\n",
    "    'Agitation cyanide (ppm)',\n",
    "    'Ag head grade calculated (g/t)',\n",
    "    'Cu head grade (%)',\n",
    "    'Ag dissolution (%)',\n",
    "    'Ag recovery (%)']#.astype('float')\n"
   ]
  },
  {
   "cell_type": "code",
   "execution_count": 51,
   "metadata": {},
   "outputs": [
    {
     "data": {
      "text/html": [
       "<div>\n",
       "<style scoped>\n",
       "    .dataframe tbody tr th:only-of-type {\n",
       "        vertical-align: middle;\n",
       "    }\n",
       "\n",
       "    .dataframe tbody tr th {\n",
       "        vertical-align: top;\n",
       "    }\n",
       "\n",
       "    .dataframe thead th {\n",
       "        text-align: right;\n",
       "    }\n",
       "</style>\n",
       "<table border=\"1\" class=\"dataframe\">\n",
       "  <thead>\n",
       "    <tr style=\"text-align: right;\">\n",
       "      <th></th>\n",
       "      <th>Tonnage (t)</th>\n",
       "      <th>F80 BM (μm)</th>\n",
       "      <th>Agitation time (h)</th>\n",
       "      <th>P80 BFD (μm)</th>\n",
       "      <th>Agitation pH</th>\n",
       "      <th>Agitation cyanide (ppm)</th>\n",
       "      <th>Ag head grade calculated (g/t)</th>\n",
       "      <th>Cu head grade (%)</th>\n",
       "      <th>Ag dissolution (%)</th>\n",
       "      <th>Ag recovery (%)</th>\n",
       "    </tr>\n",
       "  </thead>\n",
       "  <tbody>\n",
       "    <tr>\n",
       "      <th>1612</th>\n",
       "      <td>2393.0</td>\n",
       "      <td>8764.449083</td>\n",
       "      <td>88.04</td>\n",
       "      <td>95.738329</td>\n",
       "      <td>11.1</td>\n",
       "      <td>2204.000000</td>\n",
       "      <td>281.399176</td>\n",
       "      <td>NaN</td>\n",
       "      <td>96.055426</td>\n",
       "      <td>95.467353</td>\n",
       "    </tr>\n",
       "    <tr>\n",
       "      <th>1613</th>\n",
       "      <td>2450.0</td>\n",
       "      <td>8906.646862</td>\n",
       "      <td>87.07</td>\n",
       "      <td>79.214036</td>\n",
       "      <td>11.2</td>\n",
       "      <td>2127.777778</td>\n",
       "      <td>223.133515</td>\n",
       "      <td>NaN</td>\n",
       "      <td>95.249481</td>\n",
       "      <td>94.341134</td>\n",
       "    </tr>\n",
       "    <tr>\n",
       "      <th>1614</th>\n",
       "      <td>2486.0</td>\n",
       "      <td>10267.133450</td>\n",
       "      <td>124.44</td>\n",
       "      <td>88.136913</td>\n",
       "      <td>11.2</td>\n",
       "      <td>2156.250000</td>\n",
       "      <td>230.491768</td>\n",
       "      <td>NaN</td>\n",
       "      <td>95.314366</td>\n",
       "      <td>94.517987</td>\n",
       "    </tr>\n",
       "    <tr>\n",
       "      <th>1615</th>\n",
       "      <td>2468.0</td>\n",
       "      <td>8804.223048</td>\n",
       "      <td>86.05</td>\n",
       "      <td>93.788269</td>\n",
       "      <td>11.1</td>\n",
       "      <td>2073.958333</td>\n",
       "      <td>230.737527</td>\n",
       "      <td>NaN</td>\n",
       "      <td>95.406036</td>\n",
       "      <td>94.802780</td>\n",
       "    </tr>\n",
       "    <tr>\n",
       "      <th>1616</th>\n",
       "      <td>2464.0</td>\n",
       "      <td>8764.274000</td>\n",
       "      <td>84.90</td>\n",
       "      <td>97.730562</td>\n",
       "      <td>11.1</td>\n",
       "      <td>2011.111111</td>\n",
       "      <td>208.903476</td>\n",
       "      <td>NaN</td>\n",
       "      <td>95.069493</td>\n",
       "      <td>94.434914</td>\n",
       "    </tr>\n",
       "  </tbody>\n",
       "</table>\n",
       "</div>"
      ],
      "text/plain": [
       "      Tonnage (t)   F80 BM (μm)  Agitation time (h)  P80 BFD (μm)  \\\n",
       "1612       2393.0   8764.449083               88.04     95.738329   \n",
       "1613       2450.0   8906.646862               87.07     79.214036   \n",
       "1614       2486.0  10267.133450              124.44     88.136913   \n",
       "1615       2468.0   8804.223048               86.05     93.788269   \n",
       "1616       2464.0   8764.274000               84.90     97.730562   \n",
       "\n",
       "      Agitation pH  Agitation cyanide (ppm)  Ag head grade calculated (g/t)  \\\n",
       "1612          11.1              2204.000000                      281.399176   \n",
       "1613          11.2              2127.777778                      223.133515   \n",
       "1614          11.2              2156.250000                      230.491768   \n",
       "1615          11.1              2073.958333                      230.737527   \n",
       "1616          11.1              2011.111111                      208.903476   \n",
       "\n",
       "      Cu head grade (%)  Ag dissolution (%)  Ag recovery (%)  \n",
       "1612                NaN           96.055426        95.467353  \n",
       "1613                NaN           95.249481        94.341134  \n",
       "1614                NaN           95.314366        94.517987  \n",
       "1615                NaN           95.406036        94.802780  \n",
       "1616                NaN           95.069493        94.434914  "
      ]
     },
     "execution_count": 51,
     "metadata": {},
     "output_type": "execute_result"
    }
   ],
   "source": [
    "# And then create a dataframe containing interest variables from specific dataset (d, d22 or d2204)\n",
    "dataframe = pd.DataFrame(d2206[xy_vars])#.astype('float')\n",
    "dataframe.head()"
   ]
  },
  {
   "cell_type": "markdown",
   "metadata": {},
   "source": [
    "Acronyms"
   ]
  },
  {
   "cell_type": "code",
   "execution_count": 52,
   "metadata": {},
   "outputs": [
    {
     "data": {
      "text/html": [
       "<div>\n",
       "<style scoped>\n",
       "    .dataframe tbody tr th:only-of-type {\n",
       "        vertical-align: middle;\n",
       "    }\n",
       "\n",
       "    .dataframe tbody tr th {\n",
       "        vertical-align: top;\n",
       "    }\n",
       "\n",
       "    .dataframe thead th {\n",
       "        text-align: right;\n",
       "    }\n",
       "</style>\n",
       "<table border=\"1\" class=\"dataframe\">\n",
       "  <thead>\n",
       "    <tr style=\"text-align: right;\">\n",
       "      <th></th>\n",
       "      <th>Tonnage (t)</th>\n",
       "      <th>F80 BM (μm)</th>\n",
       "      <th>Agitation time (h)</th>\n",
       "      <th>P80 BFD (μm)</th>\n",
       "      <th>Agitation pH</th>\n",
       "      <th>Agitation cyanide (ppm)</th>\n",
       "      <th>Ag head grade calculated (g/t)</th>\n",
       "      <th>Cu head grade (%)</th>\n",
       "      <th>Ag dissolution (%)</th>\n",
       "      <th>Ag recovery (%)</th>\n",
       "    </tr>\n",
       "    <tr>\n",
       "      <th>ym</th>\n",
       "      <th></th>\n",
       "      <th></th>\n",
       "      <th></th>\n",
       "      <th></th>\n",
       "      <th></th>\n",
       "      <th></th>\n",
       "      <th></th>\n",
       "      <th></th>\n",
       "      <th></th>\n",
       "      <th></th>\n",
       "    </tr>\n",
       "  </thead>\n",
       "  <tbody>\n",
       "    <tr>\n",
       "      <th>2018M1</th>\n",
       "      <td>1591.222222</td>\n",
       "      <td>NaN</td>\n",
       "      <td>142.203385</td>\n",
       "      <td>NaN</td>\n",
       "      <td>NaN</td>\n",
       "      <td>NaN</td>\n",
       "      <td>298.209538</td>\n",
       "      <td>NaN</td>\n",
       "      <td>95.262043</td>\n",
       "      <td>95.280368</td>\n",
       "    </tr>\n",
       "    <tr>\n",
       "      <th>2018M10</th>\n",
       "      <td>2302.423077</td>\n",
       "      <td>7968.804937</td>\n",
       "      <td>100.546930</td>\n",
       "      <td>NaN</td>\n",
       "      <td>NaN</td>\n",
       "      <td>NaN</td>\n",
       "      <td>244.421167</td>\n",
       "      <td>NaN</td>\n",
       "      <td>94.694752</td>\n",
       "      <td>94.647325</td>\n",
       "    </tr>\n",
       "    <tr>\n",
       "      <th>2018M11</th>\n",
       "      <td>2370.360000</td>\n",
       "      <td>8555.464609</td>\n",
       "      <td>106.497575</td>\n",
       "      <td>NaN</td>\n",
       "      <td>NaN</td>\n",
       "      <td>NaN</td>\n",
       "      <td>248.868212</td>\n",
       "      <td>NaN</td>\n",
       "      <td>93.898027</td>\n",
       "      <td>93.763465</td>\n",
       "    </tr>\n",
       "    <tr>\n",
       "      <th>2018M12</th>\n",
       "      <td>2291.777778</td>\n",
       "      <td>9207.067208</td>\n",
       "      <td>98.633389</td>\n",
       "      <td>NaN</td>\n",
       "      <td>11.140741</td>\n",
       "      <td>1420.943827</td>\n",
       "      <td>313.839501</td>\n",
       "      <td>NaN</td>\n",
       "      <td>92.826838</td>\n",
       "      <td>92.742479</td>\n",
       "    </tr>\n",
       "    <tr>\n",
       "      <th>2018M2</th>\n",
       "      <td>1858.666667</td>\n",
       "      <td>NaN</td>\n",
       "      <td>140.523958</td>\n",
       "      <td>NaN</td>\n",
       "      <td>NaN</td>\n",
       "      <td>NaN</td>\n",
       "      <td>437.230848</td>\n",
       "      <td>NaN</td>\n",
       "      <td>97.081949</td>\n",
       "      <td>97.014173</td>\n",
       "    </tr>\n",
       "    <tr>\n",
       "      <th>2018M3</th>\n",
       "      <td>1898.806452</td>\n",
       "      <td>NaN</td>\n",
       "      <td>113.124981</td>\n",
       "      <td>NaN</td>\n",
       "      <td>NaN</td>\n",
       "      <td>NaN</td>\n",
       "      <td>405.669403</td>\n",
       "      <td>NaN</td>\n",
       "      <td>92.075069</td>\n",
       "      <td>92.009478</td>\n",
       "    </tr>\n",
       "    <tr>\n",
       "      <th>2018M4</th>\n",
       "      <td>1950.111111</td>\n",
       "      <td>NaN</td>\n",
       "      <td>123.928741</td>\n",
       "      <td>NaN</td>\n",
       "      <td>NaN</td>\n",
       "      <td>NaN</td>\n",
       "      <td>304.207728</td>\n",
       "      <td>NaN</td>\n",
       "      <td>93.451231</td>\n",
       "      <td>93.375085</td>\n",
       "    </tr>\n",
       "    <tr>\n",
       "      <th>2018M5</th>\n",
       "      <td>1815.960000</td>\n",
       "      <td>NaN</td>\n",
       "      <td>17.568528</td>\n",
       "      <td>NaN</td>\n",
       "      <td>NaN</td>\n",
       "      <td>NaN</td>\n",
       "      <td>392.553184</td>\n",
       "      <td>NaN</td>\n",
       "      <td>93.014415</td>\n",
       "      <td>95.095358</td>\n",
       "    </tr>\n",
       "    <tr>\n",
       "      <th>2018M6</th>\n",
       "      <td>2151.240000</td>\n",
       "      <td>8336.873232</td>\n",
       "      <td>4.772881</td>\n",
       "      <td>NaN</td>\n",
       "      <td>NaN</td>\n",
       "      <td>NaN</td>\n",
       "      <td>217.755616</td>\n",
       "      <td>NaN</td>\n",
       "      <td>94.993860</td>\n",
       "      <td>95.511127</td>\n",
       "    </tr>\n",
       "    <tr>\n",
       "      <th>2018M7</th>\n",
       "      <td>2264.750000</td>\n",
       "      <td>9039.718505</td>\n",
       "      <td>90.161731</td>\n",
       "      <td>NaN</td>\n",
       "      <td>NaN</td>\n",
       "      <td>NaN</td>\n",
       "      <td>299.996027</td>\n",
       "      <td>NaN</td>\n",
       "      <td>93.766866</td>\n",
       "      <td>93.499190</td>\n",
       "    </tr>\n",
       "    <tr>\n",
       "      <th>2018M8</th>\n",
       "      <td>2516.384615</td>\n",
       "      <td>9163.012932</td>\n",
       "      <td>84.646652</td>\n",
       "      <td>NaN</td>\n",
       "      <td>NaN</td>\n",
       "      <td>NaN</td>\n",
       "      <td>258.824284</td>\n",
       "      <td>NaN</td>\n",
       "      <td>93.153716</td>\n",
       "      <td>92.790143</td>\n",
       "    </tr>\n",
       "    <tr>\n",
       "      <th>2018M9</th>\n",
       "      <td>2191.192308</td>\n",
       "      <td>8116.703877</td>\n",
       "      <td>106.887220</td>\n",
       "      <td>NaN</td>\n",
       "      <td>NaN</td>\n",
       "      <td>NaN</td>\n",
       "      <td>243.658479</td>\n",
       "      <td>NaN</td>\n",
       "      <td>95.409725</td>\n",
       "      <td>95.140369</td>\n",
       "    </tr>\n",
       "    <tr>\n",
       "      <th>2019M1</th>\n",
       "      <td>2128.555556</td>\n",
       "      <td>9657.298143</td>\n",
       "      <td>112.491451</td>\n",
       "      <td>89.668817</td>\n",
       "      <td>11.238462</td>\n",
       "      <td>1663.961538</td>\n",
       "      <td>311.204502</td>\n",
       "      <td>NaN</td>\n",
       "      <td>92.391166</td>\n",
       "      <td>92.285477</td>\n",
       "    </tr>\n",
       "    <tr>\n",
       "      <th>2019M10</th>\n",
       "      <td>2304.492857</td>\n",
       "      <td>NaN</td>\n",
       "      <td>104.738076</td>\n",
       "      <td>93.800000</td>\n",
       "      <td>11.144588</td>\n",
       "      <td>1490.650853</td>\n",
       "      <td>284.441248</td>\n",
       "      <td>NaN</td>\n",
       "      <td>94.747979</td>\n",
       "      <td>94.028566</td>\n",
       "    </tr>\n",
       "    <tr>\n",
       "      <th>2019M11</th>\n",
       "      <td>2016.500000</td>\n",
       "      <td>NaN</td>\n",
       "      <td>120.269423</td>\n",
       "      <td>101.435714</td>\n",
       "      <td>11.220589</td>\n",
       "      <td>1483.907679</td>\n",
       "      <td>422.190152</td>\n",
       "      <td>NaN</td>\n",
       "      <td>92.853712</td>\n",
       "      <td>92.332619</td>\n",
       "    </tr>\n",
       "    <tr>\n",
       "      <th>2019M12</th>\n",
       "      <td>2147.225806</td>\n",
       "      <td>NaN</td>\n",
       "      <td>111.722977</td>\n",
       "      <td>92.944194</td>\n",
       "      <td>11.197957</td>\n",
       "      <td>1514.065946</td>\n",
       "      <td>267.830069</td>\n",
       "      <td>NaN</td>\n",
       "      <td>93.090279</td>\n",
       "      <td>92.335151</td>\n",
       "    </tr>\n",
       "    <tr>\n",
       "      <th>2019M2</th>\n",
       "      <td>2218.800000</td>\n",
       "      <td>9331.652000</td>\n",
       "      <td>138.899615</td>\n",
       "      <td>96.570912</td>\n",
       "      <td>11.328571</td>\n",
       "      <td>1538.917421</td>\n",
       "      <td>259.540435</td>\n",
       "      <td>NaN</td>\n",
       "      <td>93.228715</td>\n",
       "      <td>92.169684</td>\n",
       "    </tr>\n",
       "    <tr>\n",
       "      <th>2019M3</th>\n",
       "      <td>2170.166667</td>\n",
       "      <td>9876.543584</td>\n",
       "      <td>105.844095</td>\n",
       "      <td>NaN</td>\n",
       "      <td>11.360986</td>\n",
       "      <td>1431.125937</td>\n",
       "      <td>317.748184</td>\n",
       "      <td>NaN</td>\n",
       "      <td>94.578627</td>\n",
       "      <td>93.951233</td>\n",
       "    </tr>\n",
       "    <tr>\n",
       "      <th>2019M4</th>\n",
       "      <td>2333.444444</td>\n",
       "      <td>NaN</td>\n",
       "      <td>97.342597</td>\n",
       "      <td>102.256000</td>\n",
       "      <td>11.270370</td>\n",
       "      <td>1483.108333</td>\n",
       "      <td>269.339909</td>\n",
       "      <td>NaN</td>\n",
       "      <td>94.301068</td>\n",
       "      <td>93.329193</td>\n",
       "    </tr>\n",
       "    <tr>\n",
       "      <th>2019M5</th>\n",
       "      <td>2060.840000</td>\n",
       "      <td>NaN</td>\n",
       "      <td>117.625928</td>\n",
       "      <td>102.808400</td>\n",
       "      <td>11.365917</td>\n",
       "      <td>1519.781060</td>\n",
       "      <td>310.225294</td>\n",
       "      <td>NaN</td>\n",
       "      <td>93.321970</td>\n",
       "      <td>92.619644</td>\n",
       "    </tr>\n",
       "    <tr>\n",
       "      <th>2019M6</th>\n",
       "      <td>2470.480000</td>\n",
       "      <td>NaN</td>\n",
       "      <td>90.154629</td>\n",
       "      <td>98.015200</td>\n",
       "      <td>11.179167</td>\n",
       "      <td>1465.860972</td>\n",
       "      <td>386.848751</td>\n",
       "      <td>NaN</td>\n",
       "      <td>94.133121</td>\n",
       "      <td>93.354573</td>\n",
       "    </tr>\n",
       "    <tr>\n",
       "      <th>2019M7</th>\n",
       "      <td>2193.583333</td>\n",
       "      <td>NaN</td>\n",
       "      <td>112.704835</td>\n",
       "      <td>103.820000</td>\n",
       "      <td>11.145833</td>\n",
       "      <td>1390.726701</td>\n",
       "      <td>297.579120</td>\n",
       "      <td>NaN</td>\n",
       "      <td>94.211289</td>\n",
       "      <td>93.797928</td>\n",
       "    </tr>\n",
       "    <tr>\n",
       "      <th>2019M8</th>\n",
       "      <td>2243.894666</td>\n",
       "      <td>NaN</td>\n",
       "      <td>95.335895</td>\n",
       "      <td>102.035714</td>\n",
       "      <td>11.225926</td>\n",
       "      <td>1292.842438</td>\n",
       "      <td>328.612065</td>\n",
       "      <td>NaN</td>\n",
       "      <td>94.692764</td>\n",
       "      <td>93.957950</td>\n",
       "    </tr>\n",
       "    <tr>\n",
       "      <th>2019M9</th>\n",
       "      <td>2291.807692</td>\n",
       "      <td>NaN</td>\n",
       "      <td>100.362265</td>\n",
       "      <td>100.242379</td>\n",
       "      <td>11.216247</td>\n",
       "      <td>1456.754200</td>\n",
       "      <td>347.174992</td>\n",
       "      <td>NaN</td>\n",
       "      <td>93.433690</td>\n",
       "      <td>92.970549</td>\n",
       "    </tr>\n",
       "    <tr>\n",
       "      <th>2020M1</th>\n",
       "      <td>2242.089583</td>\n",
       "      <td>NaN</td>\n",
       "      <td>97.043704</td>\n",
       "      <td>91.841034</td>\n",
       "      <td>11.422161</td>\n",
       "      <td>1497.127759</td>\n",
       "      <td>385.766552</td>\n",
       "      <td>NaN</td>\n",
       "      <td>94.572823</td>\n",
       "      <td>93.968706</td>\n",
       "    </tr>\n",
       "    <tr>\n",
       "      <th>2020M10</th>\n",
       "      <td>2274.068966</td>\n",
       "      <td>8015.784298</td>\n",
       "      <td>99.533205</td>\n",
       "      <td>97.800393</td>\n",
       "      <td>11.075298</td>\n",
       "      <td>1668.206845</td>\n",
       "      <td>374.791565</td>\n",
       "      <td>NaN</td>\n",
       "      <td>95.649956</td>\n",
       "      <td>94.709313</td>\n",
       "    </tr>\n",
       "    <tr>\n",
       "      <th>2020M11</th>\n",
       "      <td>2422.600000</td>\n",
       "      <td>8926.177847</td>\n",
       "      <td>90.290842</td>\n",
       "      <td>89.585197</td>\n",
       "      <td>11.020467</td>\n",
       "      <td>1824.866667</td>\n",
       "      <td>303.150364</td>\n",
       "      <td>NaN</td>\n",
       "      <td>95.318297</td>\n",
       "      <td>94.039958</td>\n",
       "    </tr>\n",
       "    <tr>\n",
       "      <th>2020M12</th>\n",
       "      <td>2456.933333</td>\n",
       "      <td>14929.394129</td>\n",
       "      <td>91.560126</td>\n",
       "      <td>96.092445</td>\n",
       "      <td>11.182944</td>\n",
       "      <td>1830.322222</td>\n",
       "      <td>309.353176</td>\n",
       "      <td>NaN</td>\n",
       "      <td>93.318617</td>\n",
       "      <td>94.361369</td>\n",
       "    </tr>\n",
       "    <tr>\n",
       "      <th>2020M2</th>\n",
       "      <td>2318.482759</td>\n",
       "      <td>NaN</td>\n",
       "      <td>104.586890</td>\n",
       "      <td>92.103448</td>\n",
       "      <td>11.445672</td>\n",
       "      <td>1515.236667</td>\n",
       "      <td>266.402005</td>\n",
       "      <td>NaN</td>\n",
       "      <td>94.010935</td>\n",
       "      <td>93.483799</td>\n",
       "    </tr>\n",
       "    <tr>\n",
       "      <th>2020M3</th>\n",
       "      <td>2335.651613</td>\n",
       "      <td>NaN</td>\n",
       "      <td>98.835931</td>\n",
       "      <td>87.583763</td>\n",
       "      <td>11.383333</td>\n",
       "      <td>1585.566667</td>\n",
       "      <td>272.402434</td>\n",
       "      <td>NaN</td>\n",
       "      <td>94.420923</td>\n",
       "      <td>93.824154</td>\n",
       "    </tr>\n",
       "    <tr>\n",
       "      <th>2020M4</th>\n",
       "      <td>2307.481481</td>\n",
       "      <td>NaN</td>\n",
       "      <td>104.843458</td>\n",
       "      <td>92.098298</td>\n",
       "      <td>11.092593</td>\n",
       "      <td>1579.523673</td>\n",
       "      <td>322.926226</td>\n",
       "      <td>NaN</td>\n",
       "      <td>94.320830</td>\n",
       "      <td>93.103401</td>\n",
       "    </tr>\n",
       "    <tr>\n",
       "      <th>2020M5</th>\n",
       "      <td>2089.500000</td>\n",
       "      <td>10378.100000</td>\n",
       "      <td>109.881862</td>\n",
       "      <td>89.810000</td>\n",
       "      <td>NaN</td>\n",
       "      <td>NaN</td>\n",
       "      <td>283.867125</td>\n",
       "      <td>NaN</td>\n",
       "      <td>95.468990</td>\n",
       "      <td>94.636298</td>\n",
       "    </tr>\n",
       "    <tr>\n",
       "      <th>2020M6</th>\n",
       "      <td>2215.000000</td>\n",
       "      <td>10292.569633</td>\n",
       "      <td>101.043418</td>\n",
       "      <td>89.656539</td>\n",
       "      <td>11.113333</td>\n",
       "      <td>1473.851078</td>\n",
       "      <td>302.690199</td>\n",
       "      <td>NaN</td>\n",
       "      <td>95.914651</td>\n",
       "      <td>95.232334</td>\n",
       "    </tr>\n",
       "    <tr>\n",
       "      <th>2020M7</th>\n",
       "      <td>2334.566667</td>\n",
       "      <td>10068.123638</td>\n",
       "      <td>99.471667</td>\n",
       "      <td>90.334292</td>\n",
       "      <td>11.118182</td>\n",
       "      <td>1482.459470</td>\n",
       "      <td>276.700797</td>\n",
       "      <td>NaN</td>\n",
       "      <td>95.573144</td>\n",
       "      <td>94.933690</td>\n",
       "    </tr>\n",
       "    <tr>\n",
       "      <th>2020M8</th>\n",
       "      <td>2243.133333</td>\n",
       "      <td>9918.393532</td>\n",
       "      <td>101.281426</td>\n",
       "      <td>89.959259</td>\n",
       "      <td>11.090000</td>\n",
       "      <td>1445.318697</td>\n",
       "      <td>283.224666</td>\n",
       "      <td>NaN</td>\n",
       "      <td>95.807706</td>\n",
       "      <td>95.099191</td>\n",
       "    </tr>\n",
       "    <tr>\n",
       "      <th>2020M9</th>\n",
       "      <td>2171.896552</td>\n",
       "      <td>9904.469382</td>\n",
       "      <td>102.113560</td>\n",
       "      <td>93.744960</td>\n",
       "      <td>11.075862</td>\n",
       "      <td>1954.592593</td>\n",
       "      <td>322.263947</td>\n",
       "      <td>NaN</td>\n",
       "      <td>94.957783</td>\n",
       "      <td>94.116404</td>\n",
       "    </tr>\n",
       "    <tr>\n",
       "      <th>2021M1</th>\n",
       "      <td>2178.580645</td>\n",
       "      <td>8748.630245</td>\n",
       "      <td>95.211451</td>\n",
       "      <td>93.298296</td>\n",
       "      <td>11.272594</td>\n",
       "      <td>2139.655019</td>\n",
       "      <td>268.363707</td>\n",
       "      <td>0.015204</td>\n",
       "      <td>95.036916</td>\n",
       "      <td>99.999998</td>\n",
       "    </tr>\n",
       "    <tr>\n",
       "      <th>2021M10</th>\n",
       "      <td>2463.032258</td>\n",
       "      <td>9293.179348</td>\n",
       "      <td>88.632155</td>\n",
       "      <td>84.539076</td>\n",
       "      <td>11.116129</td>\n",
       "      <td>2006.642966</td>\n",
       "      <td>314.612561</td>\n",
       "      <td>0.023183</td>\n",
       "      <td>96.440059</td>\n",
       "      <td>95.987551</td>\n",
       "    </tr>\n",
       "    <tr>\n",
       "      <th>2021M11</th>\n",
       "      <td>2181.965517</td>\n",
       "      <td>9917.399320</td>\n",
       "      <td>119.966359</td>\n",
       "      <td>83.826617</td>\n",
       "      <td>11.238391</td>\n",
       "      <td>1798.215517</td>\n",
       "      <td>305.855058</td>\n",
       "      <td>0.019069</td>\n",
       "      <td>95.756526</td>\n",
       "      <td>95.263716</td>\n",
       "    </tr>\n",
       "    <tr>\n",
       "      <th>2021M12</th>\n",
       "      <td>2416.870968</td>\n",
       "      <td>10346.191949</td>\n",
       "      <td>98.467127</td>\n",
       "      <td>88.793109</td>\n",
       "      <td>11.282258</td>\n",
       "      <td>2022.203405</td>\n",
       "      <td>409.565533</td>\n",
       "      <td>0.017172</td>\n",
       "      <td>94.426984</td>\n",
       "      <td>93.799370</td>\n",
       "    </tr>\n",
       "    <tr>\n",
       "      <th>2021M2</th>\n",
       "      <td>2363.714286</td>\n",
       "      <td>9517.116714</td>\n",
       "      <td>75.281164</td>\n",
       "      <td>90.856159</td>\n",
       "      <td>11.113845</td>\n",
       "      <td>1922.501417</td>\n",
       "      <td>267.188642</td>\n",
       "      <td>0.015988</td>\n",
       "      <td>93.693719</td>\n",
       "      <td>92.637822</td>\n",
       "    </tr>\n",
       "    <tr>\n",
       "      <th>2021M3</th>\n",
       "      <td>2235.645161</td>\n",
       "      <td>9287.896447</td>\n",
       "      <td>81.606950</td>\n",
       "      <td>88.446308</td>\n",
       "      <td>11.317637</td>\n",
       "      <td>2103.305556</td>\n",
       "      <td>315.505530</td>\n",
       "      <td>0.018559</td>\n",
       "      <td>96.008062</td>\n",
       "      <td>95.353174</td>\n",
       "    </tr>\n",
       "    <tr>\n",
       "      <th>2021M4</th>\n",
       "      <td>2226.133333</td>\n",
       "      <td>8951.153350</td>\n",
       "      <td>94.463231</td>\n",
       "      <td>79.895647</td>\n",
       "      <td>11.211300</td>\n",
       "      <td>1945.893704</td>\n",
       "      <td>302.174118</td>\n",
       "      <td>0.017931</td>\n",
       "      <td>97.170688</td>\n",
       "      <td>96.628170</td>\n",
       "    </tr>\n",
       "    <tr>\n",
       "      <th>2021M5</th>\n",
       "      <td>2305.310345</td>\n",
       "      <td>9247.637579</td>\n",
       "      <td>95.607825</td>\n",
       "      <td>88.919441</td>\n",
       "      <td>10.987321</td>\n",
       "      <td>1995.625000</td>\n",
       "      <td>301.730168</td>\n",
       "      <td>0.019310</td>\n",
       "      <td>95.312960</td>\n",
       "      <td>94.623825</td>\n",
       "    </tr>\n",
       "    <tr>\n",
       "      <th>2021M6</th>\n",
       "      <td>2416.633333</td>\n",
       "      <td>8758.216383</td>\n",
       "      <td>98.326082</td>\n",
       "      <td>89.629415</td>\n",
       "      <td>11.119733</td>\n",
       "      <td>2099.128470</td>\n",
       "      <td>298.382728</td>\n",
       "      <td>0.017233</td>\n",
       "      <td>96.513507</td>\n",
       "      <td>96.025830</td>\n",
       "    </tr>\n",
       "    <tr>\n",
       "      <th>2021M7</th>\n",
       "      <td>2020.225806</td>\n",
       "      <td>9218.974578</td>\n",
       "      <td>108.926225</td>\n",
       "      <td>88.709991</td>\n",
       "      <td>10.965967</td>\n",
       "      <td>2018.239352</td>\n",
       "      <td>266.193060</td>\n",
       "      <td>0.016355</td>\n",
       "      <td>95.962296</td>\n",
       "      <td>95.173544</td>\n",
       "    </tr>\n",
       "    <tr>\n",
       "      <th>2021M8</th>\n",
       "      <td>2574.677419</td>\n",
       "      <td>8928.809030</td>\n",
       "      <td>93.910748</td>\n",
       "      <td>88.520304</td>\n",
       "      <td>11.099251</td>\n",
       "      <td>1815.954968</td>\n",
       "      <td>262.394478</td>\n",
       "      <td>0.016161</td>\n",
       "      <td>95.517826</td>\n",
       "      <td>94.849663</td>\n",
       "    </tr>\n",
       "    <tr>\n",
       "      <th>2021M9</th>\n",
       "      <td>2557.533333</td>\n",
       "      <td>8976.069367</td>\n",
       "      <td>84.063078</td>\n",
       "      <td>84.740878</td>\n",
       "      <td>11.175333</td>\n",
       "      <td>2057.194444</td>\n",
       "      <td>345.255236</td>\n",
       "      <td>0.021011</td>\n",
       "      <td>96.493148</td>\n",
       "      <td>96.038200</td>\n",
       "    </tr>\n",
       "    <tr>\n",
       "      <th>2022M1</th>\n",
       "      <td>1939.483871</td>\n",
       "      <td>9883.312645</td>\n",
       "      <td>152.763210</td>\n",
       "      <td>86.636454</td>\n",
       "      <td>11.244742</td>\n",
       "      <td>1938.454753</td>\n",
       "      <td>282.856492</td>\n",
       "      <td>0.013110</td>\n",
       "      <td>95.496624</td>\n",
       "      <td>94.958763</td>\n",
       "    </tr>\n",
       "    <tr>\n",
       "      <th>2022M2</th>\n",
       "      <td>2235.176471</td>\n",
       "      <td>9349.663311</td>\n",
       "      <td>111.511771</td>\n",
       "      <td>90.878184</td>\n",
       "      <td>11.197760</td>\n",
       "      <td>2004.703631</td>\n",
       "      <td>299.787556</td>\n",
       "      <td>0.016814</td>\n",
       "      <td>94.606177</td>\n",
       "      <td>93.683544</td>\n",
       "    </tr>\n",
       "    <tr>\n",
       "      <th>2022M3</th>\n",
       "      <td>2559.080000</td>\n",
       "      <td>10304.138815</td>\n",
       "      <td>100.425181</td>\n",
       "      <td>89.851301</td>\n",
       "      <td>11.086807</td>\n",
       "      <td>2062.508667</td>\n",
       "      <td>281.264166</td>\n",
       "      <td>0.016120</td>\n",
       "      <td>94.143833</td>\n",
       "      <td>93.437091</td>\n",
       "    </tr>\n",
       "    <tr>\n",
       "      <th>2022M4</th>\n",
       "      <td>2284.400000</td>\n",
       "      <td>10291.449428</td>\n",
       "      <td>98.237599</td>\n",
       "      <td>89.028226</td>\n",
       "      <td>11.103644</td>\n",
       "      <td>2149.201852</td>\n",
       "      <td>291.744500</td>\n",
       "      <td>0.011944</td>\n",
       "      <td>93.748437</td>\n",
       "      <td>92.975385</td>\n",
       "    </tr>\n",
       "    <tr>\n",
       "      <th>2022M5</th>\n",
       "      <td>2326.321429</td>\n",
       "      <td>10346.705338</td>\n",
       "      <td>95.338812</td>\n",
       "      <td>87.801388</td>\n",
       "      <td>11.066750</td>\n",
       "      <td>1945.089484</td>\n",
       "      <td>277.287416</td>\n",
       "      <td>0.012516</td>\n",
       "      <td>95.621564</td>\n",
       "      <td>95.094626</td>\n",
       "    </tr>\n",
       "    <tr>\n",
       "      <th>2022M6</th>\n",
       "      <td>2212.100000</td>\n",
       "      <td>8915.991157</td>\n",
       "      <td>103.699700</td>\n",
       "      <td>90.001620</td>\n",
       "      <td>11.134222</td>\n",
       "      <td>2128.936574</td>\n",
       "      <td>232.252945</td>\n",
       "      <td>NaN</td>\n",
       "      <td>95.328115</td>\n",
       "      <td>94.510656</td>\n",
       "    </tr>\n",
       "  </tbody>\n",
       "</table>\n",
       "</div>"
      ],
      "text/plain": [
       "         Tonnage (t)   F80 BM (μm)  Agitation time (h)  P80 BFD (μm)  \\\n",
       "ym                                                                     \n",
       "2018M1   1591.222222           NaN          142.203385           NaN   \n",
       "2018M10  2302.423077   7968.804937          100.546930           NaN   \n",
       "2018M11  2370.360000   8555.464609          106.497575           NaN   \n",
       "2018M12  2291.777778   9207.067208           98.633389           NaN   \n",
       "2018M2   1858.666667           NaN          140.523958           NaN   \n",
       "2018M3   1898.806452           NaN          113.124981           NaN   \n",
       "2018M4   1950.111111           NaN          123.928741           NaN   \n",
       "2018M5   1815.960000           NaN           17.568528           NaN   \n",
       "2018M6   2151.240000   8336.873232            4.772881           NaN   \n",
       "2018M7   2264.750000   9039.718505           90.161731           NaN   \n",
       "2018M8   2516.384615   9163.012932           84.646652           NaN   \n",
       "2018M9   2191.192308   8116.703877          106.887220           NaN   \n",
       "2019M1   2128.555556   9657.298143          112.491451     89.668817   \n",
       "2019M10  2304.492857           NaN          104.738076     93.800000   \n",
       "2019M11  2016.500000           NaN          120.269423    101.435714   \n",
       "2019M12  2147.225806           NaN          111.722977     92.944194   \n",
       "2019M2   2218.800000   9331.652000          138.899615     96.570912   \n",
       "2019M3   2170.166667   9876.543584          105.844095           NaN   \n",
       "2019M4   2333.444444           NaN           97.342597    102.256000   \n",
       "2019M5   2060.840000           NaN          117.625928    102.808400   \n",
       "2019M6   2470.480000           NaN           90.154629     98.015200   \n",
       "2019M7   2193.583333           NaN          112.704835    103.820000   \n",
       "2019M8   2243.894666           NaN           95.335895    102.035714   \n",
       "2019M9   2291.807692           NaN          100.362265    100.242379   \n",
       "2020M1   2242.089583           NaN           97.043704     91.841034   \n",
       "2020M10  2274.068966   8015.784298           99.533205     97.800393   \n",
       "2020M11  2422.600000   8926.177847           90.290842     89.585197   \n",
       "2020M12  2456.933333  14929.394129           91.560126     96.092445   \n",
       "2020M2   2318.482759           NaN          104.586890     92.103448   \n",
       "2020M3   2335.651613           NaN           98.835931     87.583763   \n",
       "2020M4   2307.481481           NaN          104.843458     92.098298   \n",
       "2020M5   2089.500000  10378.100000          109.881862     89.810000   \n",
       "2020M6   2215.000000  10292.569633          101.043418     89.656539   \n",
       "2020M7   2334.566667  10068.123638           99.471667     90.334292   \n",
       "2020M8   2243.133333   9918.393532          101.281426     89.959259   \n",
       "2020M9   2171.896552   9904.469382          102.113560     93.744960   \n",
       "2021M1   2178.580645   8748.630245           95.211451     93.298296   \n",
       "2021M10  2463.032258   9293.179348           88.632155     84.539076   \n",
       "2021M11  2181.965517   9917.399320          119.966359     83.826617   \n",
       "2021M12  2416.870968  10346.191949           98.467127     88.793109   \n",
       "2021M2   2363.714286   9517.116714           75.281164     90.856159   \n",
       "2021M3   2235.645161   9287.896447           81.606950     88.446308   \n",
       "2021M4   2226.133333   8951.153350           94.463231     79.895647   \n",
       "2021M5   2305.310345   9247.637579           95.607825     88.919441   \n",
       "2021M6   2416.633333   8758.216383           98.326082     89.629415   \n",
       "2021M7   2020.225806   9218.974578          108.926225     88.709991   \n",
       "2021M8   2574.677419   8928.809030           93.910748     88.520304   \n",
       "2021M9   2557.533333   8976.069367           84.063078     84.740878   \n",
       "2022M1   1939.483871   9883.312645          152.763210     86.636454   \n",
       "2022M2   2235.176471   9349.663311          111.511771     90.878184   \n",
       "2022M3   2559.080000  10304.138815          100.425181     89.851301   \n",
       "2022M4   2284.400000  10291.449428           98.237599     89.028226   \n",
       "2022M5   2326.321429  10346.705338           95.338812     87.801388   \n",
       "2022M6   2212.100000   8915.991157          103.699700     90.001620   \n",
       "\n",
       "         Agitation pH  Agitation cyanide (ppm)  \\\n",
       "ym                                               \n",
       "2018M1            NaN                      NaN   \n",
       "2018M10           NaN                      NaN   \n",
       "2018M11           NaN                      NaN   \n",
       "2018M12     11.140741              1420.943827   \n",
       "2018M2            NaN                      NaN   \n",
       "2018M3            NaN                      NaN   \n",
       "2018M4            NaN                      NaN   \n",
       "2018M5            NaN                      NaN   \n",
       "2018M6            NaN                      NaN   \n",
       "2018M7            NaN                      NaN   \n",
       "2018M8            NaN                      NaN   \n",
       "2018M9            NaN                      NaN   \n",
       "2019M1      11.238462              1663.961538   \n",
       "2019M10     11.144588              1490.650853   \n",
       "2019M11     11.220589              1483.907679   \n",
       "2019M12     11.197957              1514.065946   \n",
       "2019M2      11.328571              1538.917421   \n",
       "2019M3      11.360986              1431.125937   \n",
       "2019M4      11.270370              1483.108333   \n",
       "2019M5      11.365917              1519.781060   \n",
       "2019M6      11.179167              1465.860972   \n",
       "2019M7      11.145833              1390.726701   \n",
       "2019M8      11.225926              1292.842438   \n",
       "2019M9      11.216247              1456.754200   \n",
       "2020M1      11.422161              1497.127759   \n",
       "2020M10     11.075298              1668.206845   \n",
       "2020M11     11.020467              1824.866667   \n",
       "2020M12     11.182944              1830.322222   \n",
       "2020M2      11.445672              1515.236667   \n",
       "2020M3      11.383333              1585.566667   \n",
       "2020M4      11.092593              1579.523673   \n",
       "2020M5            NaN                      NaN   \n",
       "2020M6      11.113333              1473.851078   \n",
       "2020M7      11.118182              1482.459470   \n",
       "2020M8      11.090000              1445.318697   \n",
       "2020M9      11.075862              1954.592593   \n",
       "2021M1      11.272594              2139.655019   \n",
       "2021M10     11.116129              2006.642966   \n",
       "2021M11     11.238391              1798.215517   \n",
       "2021M12     11.282258              2022.203405   \n",
       "2021M2      11.113845              1922.501417   \n",
       "2021M3      11.317637              2103.305556   \n",
       "2021M4      11.211300              1945.893704   \n",
       "2021M5      10.987321              1995.625000   \n",
       "2021M6      11.119733              2099.128470   \n",
       "2021M7      10.965967              2018.239352   \n",
       "2021M8      11.099251              1815.954968   \n",
       "2021M9      11.175333              2057.194444   \n",
       "2022M1      11.244742              1938.454753   \n",
       "2022M2      11.197760              2004.703631   \n",
       "2022M3      11.086807              2062.508667   \n",
       "2022M4      11.103644              2149.201852   \n",
       "2022M5      11.066750              1945.089484   \n",
       "2022M6      11.134222              2128.936574   \n",
       "\n",
       "         Ag head grade calculated (g/t)  Cu head grade (%)  \\\n",
       "ym                                                           \n",
       "2018M1                       298.209538                NaN   \n",
       "2018M10                      244.421167                NaN   \n",
       "2018M11                      248.868212                NaN   \n",
       "2018M12                      313.839501                NaN   \n",
       "2018M2                       437.230848                NaN   \n",
       "2018M3                       405.669403                NaN   \n",
       "2018M4                       304.207728                NaN   \n",
       "2018M5                       392.553184                NaN   \n",
       "2018M6                       217.755616                NaN   \n",
       "2018M7                       299.996027                NaN   \n",
       "2018M8                       258.824284                NaN   \n",
       "2018M9                       243.658479                NaN   \n",
       "2019M1                       311.204502                NaN   \n",
       "2019M10                      284.441248                NaN   \n",
       "2019M11                      422.190152                NaN   \n",
       "2019M12                      267.830069                NaN   \n",
       "2019M2                       259.540435                NaN   \n",
       "2019M3                       317.748184                NaN   \n",
       "2019M4                       269.339909                NaN   \n",
       "2019M5                       310.225294                NaN   \n",
       "2019M6                       386.848751                NaN   \n",
       "2019M7                       297.579120                NaN   \n",
       "2019M8                       328.612065                NaN   \n",
       "2019M9                       347.174992                NaN   \n",
       "2020M1                       385.766552                NaN   \n",
       "2020M10                      374.791565                NaN   \n",
       "2020M11                      303.150364                NaN   \n",
       "2020M12                      309.353176                NaN   \n",
       "2020M2                       266.402005                NaN   \n",
       "2020M3                       272.402434                NaN   \n",
       "2020M4                       322.926226                NaN   \n",
       "2020M5                       283.867125                NaN   \n",
       "2020M6                       302.690199                NaN   \n",
       "2020M7                       276.700797                NaN   \n",
       "2020M8                       283.224666                NaN   \n",
       "2020M9                       322.263947                NaN   \n",
       "2021M1                       268.363707           0.015204   \n",
       "2021M10                      314.612561           0.023183   \n",
       "2021M11                      305.855058           0.019069   \n",
       "2021M12                      409.565533           0.017172   \n",
       "2021M2                       267.188642           0.015988   \n",
       "2021M3                       315.505530           0.018559   \n",
       "2021M4                       302.174118           0.017931   \n",
       "2021M5                       301.730168           0.019310   \n",
       "2021M6                       298.382728           0.017233   \n",
       "2021M7                       266.193060           0.016355   \n",
       "2021M8                       262.394478           0.016161   \n",
       "2021M9                       345.255236           0.021011   \n",
       "2022M1                       282.856492           0.013110   \n",
       "2022M2                       299.787556           0.016814   \n",
       "2022M3                       281.264166           0.016120   \n",
       "2022M4                       291.744500           0.011944   \n",
       "2022M5                       277.287416           0.012516   \n",
       "2022M6                       232.252945                NaN   \n",
       "\n",
       "         Ag dissolution (%)  Ag recovery (%)  \n",
       "ym                                            \n",
       "2018M1            95.262043        95.280368  \n",
       "2018M10           94.694752        94.647325  \n",
       "2018M11           93.898027        93.763465  \n",
       "2018M12           92.826838        92.742479  \n",
       "2018M2            97.081949        97.014173  \n",
       "2018M3            92.075069        92.009478  \n",
       "2018M4            93.451231        93.375085  \n",
       "2018M5            93.014415        95.095358  \n",
       "2018M6            94.993860        95.511127  \n",
       "2018M7            93.766866        93.499190  \n",
       "2018M8            93.153716        92.790143  \n",
       "2018M9            95.409725        95.140369  \n",
       "2019M1            92.391166        92.285477  \n",
       "2019M10           94.747979        94.028566  \n",
       "2019M11           92.853712        92.332619  \n",
       "2019M12           93.090279        92.335151  \n",
       "2019M2            93.228715        92.169684  \n",
       "2019M3            94.578627        93.951233  \n",
       "2019M4            94.301068        93.329193  \n",
       "2019M5            93.321970        92.619644  \n",
       "2019M6            94.133121        93.354573  \n",
       "2019M7            94.211289        93.797928  \n",
       "2019M8            94.692764        93.957950  \n",
       "2019M9            93.433690        92.970549  \n",
       "2020M1            94.572823        93.968706  \n",
       "2020M10           95.649956        94.709313  \n",
       "2020M11           95.318297        94.039958  \n",
       "2020M12           93.318617        94.361369  \n",
       "2020M2            94.010935        93.483799  \n",
       "2020M3            94.420923        93.824154  \n",
       "2020M4            94.320830        93.103401  \n",
       "2020M5            95.468990        94.636298  \n",
       "2020M6            95.914651        95.232334  \n",
       "2020M7            95.573144        94.933690  \n",
       "2020M8            95.807706        95.099191  \n",
       "2020M9            94.957783        94.116404  \n",
       "2021M1            95.036916        99.999998  \n",
       "2021M10           96.440059        95.987551  \n",
       "2021M11           95.756526        95.263716  \n",
       "2021M12           94.426984        93.799370  \n",
       "2021M2            93.693719        92.637822  \n",
       "2021M3            96.008062        95.353174  \n",
       "2021M4            97.170688        96.628170  \n",
       "2021M5            95.312960        94.623825  \n",
       "2021M6            96.513507        96.025830  \n",
       "2021M7            95.962296        95.173544  \n",
       "2021M8            95.517826        94.849663  \n",
       "2021M9            96.493148        96.038200  \n",
       "2022M1            95.496624        94.958763  \n",
       "2022M2            94.606177        93.683544  \n",
       "2022M3            94.143833        93.437091  \n",
       "2022M4            93.748437        92.975385  \n",
       "2022M5            95.621564        95.094626  \n",
       "2022M6            95.328115        94.510656  "
      ]
     },
     "execution_count": 52,
     "metadata": {},
     "output_type": "execute_result"
    }
   ],
   "source": [
    "df_by_year_and_mont = d0.groupby('ym')\n",
    "df_by_year_and_mont[xy_vars].mean()"
   ]
  },
  {
   "cell_type": "code",
   "execution_count": 53,
   "metadata": {},
   "outputs": [],
   "source": [
    "# Declare Acronyms \"nicknames\"\n",
    "\n",
    "hau = \"Au head grade calculated (g/t)\"\n",
    "hag = \"Ag head grade calculated (g/t)\"\n",
    "\n",
    "tau = \"Au tailings grade (g/t)\"\n",
    "tag = \"Ag tailings grade (g/t)\"\n",
    "\n",
    "tags = 'Ag tailings solution (ppm)'\n",
    "taus = 'Au tailings solution (ppm)'\n",
    "\n",
    "rau = \"Au recovery (%)\"\n",
    "rag = \"Ag recovery (%)\"\n",
    "\n",
    "dau = \"Au dissolution (%)\"\n",
    "dag = \"Ag dissolution (%)\"\n",
    "\n",
    "agit = 'Agitation time (h)'\n",
    "cn = 'Agitation cyanide (ppm)'\n",
    "ton = 'Tonnage (t)'\n",
    "mct = 'M3/t'\n",
    "p80 = 'P80 BFD (μm)'\n",
    "\n",
    "jess = 'Haulage Jessica (tpd)'\n",
    "reg  = 'Haulage area Sta. Regina (tpd)'\n",
    "\n",
    "cag = 'Ag feed content (kg)'\n",
    "cau = 'Au feed content (kg)'"
   ]
  },
  {
   "cell_type": "markdown",
   "metadata": {},
   "source": [
    "## Missing data treatment"
   ]
  },
  {
   "cell_type": "markdown",
   "metadata": {},
   "source": [
    "https://pypi.org/project/miceforest/"
   ]
  },
  {
   "cell_type": "code",
   "execution_count": 29,
   "metadata": {},
   "outputs": [],
   "source": [
    "df = dataframe.copy()"
   ]
  },
  {
   "cell_type": "markdown",
   "metadata": {},
   "source": [
    "Libraries needed"
   ]
  },
  {
   "cell_type": "code",
   "execution_count": 30,
   "metadata": {},
   "outputs": [],
   "source": [
    "import miceforest as mf\n",
    "import pandas as pd\n",
    "import numpy as np\n",
    "import matplotlib.pyplot as plt\n",
    "import seaborn as sns"
   ]
  },
  {
   "cell_type": "markdown",
   "metadata": {},
   "source": [
    "Select dataset"
   ]
  },
  {
   "cell_type": "markdown",
   "metadata": {},
   "source": [
    "Miceforest Multiple Imputation"
   ]
  },
  {
   "cell_type": "code",
   "execution_count": 31,
   "metadata": {},
   "outputs": [
    {
     "name": "stdout",
     "output_type": "stream",
     "text": [
      "              Class: ImputationKernel\n",
      "           Datasets: 4\n",
      "         Iterations: 2\n",
      "  Imputed Variables: 10\n",
      "save_all_iterations: True\n"
     ]
    }
   ],
   "source": [
    "# Create kernel. \n",
    "kernel = mf.ImputationKernel(\n",
    "  df,\n",
    "  datasets=4,\n",
    "  save_all_iterations=True,\n",
    "  random_state=1\n",
    ")\n",
    "\n",
    "# Run the MICE algorithm for 2 iterations on each of the datasets\n",
    "kernel.mice(2)\n",
    "\n",
    "# Printing the kernel will show you some high level information.\n",
    "print(kernel)\n",
    "\n",
    "# Select dataset with imputated data\n",
    "dfk = kernel.complete_data(0)"
   ]
  },
  {
   "cell_type": "code",
   "execution_count": 13,
   "metadata": {},
   "outputs": [
    {
     "data": {
      "image/png": "[encoded data removed]",
      "text/plain": [
       "<Figure size 432x288 with 12 Axes>"
      ]
     },
     "metadata": {
      "needs_background": "light"
     },
     "output_type": "display_data"
    }
   ],
   "source": [
    "# Distribution of imputed values \n",
    "\n",
    "kernel.plot_imputed_distributions(wspace=0.3,hspace=0.3)"
   ]
  },
  {
   "cell_type": "code",
   "execution_count": 14,
   "metadata": {},
   "outputs": [
    {
     "data": {
      "image/png": "[encoded data removed]",
      "text/plain": [
       "<Figure size 432x288 with 12 Axes>"
      ]
     },
     "metadata": {
      "needs_background": "light"
     },
     "output_type": "display_data"
    }
   ],
   "source": [
    "# Convergence of correlation \n",
    "\n",
    "kernel.plot_correlations()"
   ]
  },
  {
   "cell_type": "code",
   "execution_count": 15,
   "metadata": {},
   "outputs": [
    {
     "name": "stdout",
     "output_type": "stream",
     "text": [
      "AxesSubplot(0.125,0.125;0.62x0.755)\n"
     ]
    },
    {
     "data": {
      "image/png": "[encoded data removed]",
      "text/plain": [
       "<Figure size 864x216 with 2 Axes>"
      ]
     },
     "metadata": {
      "needs_background": "light"
     },
     "output_type": "display_data"
    }
   ],
   "source": [
    "# Variable impotance in missing data calculation\n",
    "\n",
    "plt.figure(figsize=(12,3))\n",
    "kernel.plot_feature_importance(dataset=0, annot=False,cmap=\"YlGnBu\",vmin=0, vmax=0.5)"
   ]
  },
  {
   "cell_type": "code",
   "execution_count": 16,
   "metadata": {},
   "outputs": [
    {
     "data": {
      "text/plain": [
       "<Figure size 720x360 with 0 Axes>"
      ]
     },
     "metadata": {},
     "output_type": "display_data"
    },
    {
     "data": {
      "image/png": "[encoded data removed]",
      "text/plain": [
       "<Figure size 432x288 with 12 Axes>"
      ]
     },
     "metadata": {
      "needs_background": "light"
     },
     "output_type": "display_data"
    }
   ],
   "source": [
    "# Mean convergence\n",
    "\n",
    "plt.figure(figsize=(10,5))\n",
    "kernel.plot_mean_convergence(wspace=0.3, hspace=0.4)"
   ]
  },
  {
   "cell_type": "code",
   "execution_count": 17,
   "metadata": {},
   "outputs": [
    {
     "data": {
      "text/html": [
       "<div>\n",
       "<style scoped>\n",
       "    .dataframe tbody tr th:only-of-type {\n",
       "        vertical-align: middle;\n",
       "    }\n",
       "\n",
       "    .dataframe tbody tr th {\n",
       "        vertical-align: top;\n",
       "    }\n",
       "\n",
       "    .dataframe thead th {\n",
       "        text-align: right;\n",
       "    }\n",
       "</style>\n",
       "<table border=\"1\" class=\"dataframe\">\n",
       "  <thead>\n",
       "    <tr style=\"text-align: right;\">\n",
       "      <th></th>\n",
       "      <th>Tonnage (t)</th>\n",
       "      <th>F80 BM (μm)</th>\n",
       "      <th>Agitation time (h)</th>\n",
       "      <th>P80 BFD (μm)</th>\n",
       "      <th>Agitation pH</th>\n",
       "      <th>Agitation cyanide (ppm)</th>\n",
       "      <th>Ag head grade calculated (g/t)</th>\n",
       "      <th>Cu head grade (%)</th>\n",
       "      <th>Ag dissolution (%)</th>\n",
       "      <th>Ag recovery (%)</th>\n",
       "    </tr>\n",
       "  </thead>\n",
       "  <tbody>\n",
       "    <tr>\n",
       "      <th>count</th>\n",
       "      <td>177.000000</td>\n",
       "      <td>177.000000</td>\n",
       "      <td>177.000000</td>\n",
       "      <td>177.000000</td>\n",
       "      <td>177.000000</td>\n",
       "      <td>177.000000</td>\n",
       "      <td>177.000000</td>\n",
       "      <td>177.000000</td>\n",
       "      <td>177.000000</td>\n",
       "      <td>177.000000</td>\n",
       "    </tr>\n",
       "    <tr>\n",
       "      <th>mean</th>\n",
       "      <td>2254.796610</td>\n",
       "      <td>9846.498232</td>\n",
       "      <td>111.078651</td>\n",
       "      <td>89.084217</td>\n",
       "      <td>11.143750</td>\n",
       "      <td>2035.137358</td>\n",
       "      <td>278.135908</td>\n",
       "      <td>0.014094</td>\n",
       "      <td>94.786827</td>\n",
       "      <td>94.061606</td>\n",
       "    </tr>\n",
       "    <tr>\n",
       "      <th>std</th>\n",
       "      <td>491.881087</td>\n",
       "      <td>1005.719946</td>\n",
       "      <td>62.596920</td>\n",
       "      <td>6.229784</td>\n",
       "      <td>0.120320</td>\n",
       "      <td>175.528861</td>\n",
       "      <td>169.633640</td>\n",
       "      <td>0.003783</td>\n",
       "      <td>5.041789</td>\n",
       "      <td>5.592684</td>\n",
       "    </tr>\n",
       "    <tr>\n",
       "      <th>min</th>\n",
       "      <td>289.000000</td>\n",
       "      <td>6799.211225</td>\n",
       "      <td>77.300000</td>\n",
       "      <td>69.919624</td>\n",
       "      <td>10.635000</td>\n",
       "      <td>1491.854000</td>\n",
       "      <td>-1200.702232</td>\n",
       "      <td>0.007000</td>\n",
       "      <td>89.320037</td>\n",
       "      <td>88.384503</td>\n",
       "    </tr>\n",
       "    <tr>\n",
       "      <th>25%</th>\n",
       "      <td>2253.000000</td>\n",
       "      <td>8942.731552</td>\n",
       "      <td>88.373515</td>\n",
       "      <td>84.758952</td>\n",
       "      <td>11.090000</td>\n",
       "      <td>1964.583333</td>\n",
       "      <td>230.491768</td>\n",
       "      <td>0.012000</td>\n",
       "      <td>93.241658</td>\n",
       "      <td>92.182286</td>\n",
       "    </tr>\n",
       "    <tr>\n",
       "      <th>50%</th>\n",
       "      <td>2380.000000</td>\n",
       "      <td>9770.059803</td>\n",
       "      <td>94.532410</td>\n",
       "      <td>88.614888</td>\n",
       "      <td>11.135000</td>\n",
       "      <td>2050.000000</td>\n",
       "      <td>289.100330</td>\n",
       "      <td>0.013333</td>\n",
       "      <td>94.384260</td>\n",
       "      <td>93.601253</td>\n",
       "    </tr>\n",
       "    <tr>\n",
       "      <th>75%</th>\n",
       "      <td>2546.000000</td>\n",
       "      <td>10528.932596</td>\n",
       "      <td>102.513960</td>\n",
       "      <td>93.500000</td>\n",
       "      <td>11.213333</td>\n",
       "      <td>2150.000000</td>\n",
       "      <td>332.468711</td>\n",
       "      <td>0.015667</td>\n",
       "      <td>95.406036</td>\n",
       "      <td>94.736476</td>\n",
       "    </tr>\n",
       "    <tr>\n",
       "      <th>max</th>\n",
       "      <td>2772.000000</td>\n",
       "      <td>12754.274771</td>\n",
       "      <td>651.877589</td>\n",
       "      <td>110.941160</td>\n",
       "      <td>11.452500</td>\n",
       "      <td>2698.200000</td>\n",
       "      <td>1221.449457</td>\n",
       "      <td>0.031000</td>\n",
       "      <td>152.271153</td>\n",
       "      <td>157.749896</td>\n",
       "    </tr>\n",
       "  </tbody>\n",
       "</table>\n",
       "</div>"
      ],
      "text/plain": [
       "       Tonnage (t)   F80 BM (μm)  Agitation time (h)  P80 BFD (μm)  \\\n",
       "count   177.000000    177.000000          177.000000    177.000000   \n",
       "mean   2254.796610   9846.498232          111.078651     89.084217   \n",
       "std     491.881087   1005.719946           62.596920      6.229784   \n",
       "min     289.000000   6799.211225           77.300000     69.919624   \n",
       "25%    2253.000000   8942.731552           88.373515     84.758952   \n",
       "50%    2380.000000   9770.059803           94.532410     88.614888   \n",
       "75%    2546.000000  10528.932596          102.513960     93.500000   \n",
       "max    2772.000000  12754.274771          651.877589    110.941160   \n",
       "\n",
       "       Agitation pH  Agitation cyanide (ppm)  Ag head grade calculated (g/t)  \\\n",
       "count    177.000000               177.000000                      177.000000   \n",
       "mean      11.143750              2035.137358                      278.135908   \n",
       "std        0.120320               175.528861                      169.633640   \n",
       "min       10.635000              1491.854000                    -1200.702232   \n",
       "25%       11.090000              1964.583333                      230.491768   \n",
       "50%       11.135000              2050.000000                      289.100330   \n",
       "75%       11.213333              2150.000000                      332.468711   \n",
       "max       11.452500              2698.200000                     1221.449457   \n",
       "\n",
       "       Cu head grade (%)  Ag dissolution (%)  Ag recovery (%)  \n",
       "count         177.000000          177.000000       177.000000  \n",
       "mean            0.014094           94.786827        94.061606  \n",
       "std             0.003783            5.041789         5.592684  \n",
       "min             0.007000           89.320037        88.384503  \n",
       "25%             0.012000           93.241658        92.182286  \n",
       "50%             0.013333           94.384260        93.601253  \n",
       "75%             0.015667           95.406036        94.736476  \n",
       "max             0.031000          152.271153       157.749896  "
      ]
     },
     "execution_count": 17,
     "metadata": {},
     "output_type": "execute_result"
    }
   ],
   "source": [
    "dfk.describe()"
   ]
  },
  {
   "cell_type": "code",
   "execution_count": 32,
   "metadata": {},
   "outputs": [],
   "source": [
    "df = dfk.copy()"
   ]
  },
  {
   "cell_type": "markdown",
   "metadata": {},
   "source": []
  },
  {
   "cell_type": "markdown",
   "metadata": {},
   "source": [
    "## Correlation"
   ]
  },
  {
   "cell_type": "markdown",
   "metadata": {},
   "source": [
    "##### Select dataset"
   ]
  },
  {
   "cell_type": "code",
   "execution_count": 54,
   "metadata": {},
   "outputs": [],
   "source": [
    "df = dfk.copy()"
   ]
  },
  {
   "cell_type": "code",
   "execution_count": 55,
   "metadata": {},
   "outputs": [],
   "source": [
    "df = dataframe.copy()"
   ]
  },
  {
   "cell_type": "markdown",
   "metadata": {},
   "source": [
    "##### Heatmap"
   ]
  },
  {
   "cell_type": "code",
   "execution_count": 56,
   "metadata": {},
   "outputs": [
    {
     "data": {
      "text/plain": [
       "<AxesSubplot:>"
      ]
     },
     "execution_count": 56,
     "metadata": {},
     "output_type": "execute_result"
    },
    {
     "data": {
      "image/png": "[encoded data removed]",
      "text/plain": [
       "<Figure size 504x504 with 2 Axes>"
      ]
     },
     "metadata": {},
     "output_type": "display_data"
    }
   ],
   "source": [
    "# Correlation table and heatmap\n",
    "dfcorr = df.corr()\n",
    "\n",
    "# Heatmap\n",
    "\n",
    "f, ax = plt.subplots(figsize=(7,7))\n",
    "\n",
    "sns.heatmap(dfcorr,vmax=1,square=True,center=0)\n"
   ]
  },
  {
   "cell_type": "markdown",
   "metadata": {},
   "source": [
    "##### Most correlated variables"
   ]
  },
  {
   "cell_type": "markdown",
   "metadata": {},
   "source": [
    "Select response"
   ]
  },
  {
   "cell_type": "code",
   "execution_count": 57,
   "metadata": {},
   "outputs": [],
   "source": [
    "y = dag\n",
    "k = 20"
   ]
  },
  {
   "cell_type": "code",
   "execution_count": 58,
   "metadata": {},
   "outputs": [
    {
     "name": "stdout",
     "output_type": "stream",
     "text": [
      "The following table shows the strongest positive and negative correlations with Ag dissolution (%)\n"
     ]
    },
    {
     "data": {
      "text/html": [
       "<div>\n",
       "<style scoped>\n",
       "    .dataframe tbody tr th:only-of-type {\n",
       "        vertical-align: middle;\n",
       "    }\n",
       "\n",
       "    .dataframe tbody tr th {\n",
       "        vertical-align: top;\n",
       "    }\n",
       "\n",
       "    .dataframe thead th {\n",
       "        text-align: right;\n",
       "    }\n",
       "</style>\n",
       "<table border=\"1\" class=\"dataframe\">\n",
       "  <thead>\n",
       "    <tr style=\"text-align: right;\">\n",
       "      <th></th>\n",
       "      <th>Variable</th>\n",
       "      <th>r</th>\n",
       "      <th>p-Value</th>\n",
       "    </tr>\n",
       "  </thead>\n",
       "  <tbody>\n",
       "    <tr>\n",
       "      <th>0</th>\n",
       "      <td>Tonnage (t)</td>\n",
       "      <td>-0.714</td>\n",
       "      <td>0.000</td>\n",
       "    </tr>\n",
       "    <tr>\n",
       "      <th>5</th>\n",
       "      <td>Agitation time (h)</td>\n",
       "      <td>0.559</td>\n",
       "      <td>0.001</td>\n",
       "    </tr>\n",
       "  </tbody>\n",
       "</table>\n",
       "</div>"
      ],
      "text/plain": [
       "             Variable      r  p-Value\n",
       "0         Tonnage (t) -0.714    0.000\n",
       "5  Agitation time (h)  0.559    0.001"
      ]
     },
     "execution_count": 58,
     "metadata": {},
     "output_type": "execute_result"
    },
    {
     "data": {
      "image/png": "[encoded data removed]",
      "text/plain": [
       "<Figure size 504x432 with 2 Axes>"
      ]
     },
     "metadata": {},
     "output_type": "display_data"
    }
   ],
   "source": [
    "# The Definitive Paired Crrelation Table with p-Value and Heatmap\n",
    "\n",
    "# Calculate correlation matrix of original dataframe\n",
    "dfcorr = df.corr()\n",
    "\n",
    "# Select main variable and k for n interest correlations\n",
    "#y = y # because we declared it be4\n",
    "#k = k #because we declared it be4\n",
    "\n",
    "# Create a data frame of n largest POSITIVE correlations\n",
    "s = dfcorr.unstack()\n",
    "sp = s.sort_values(kind=\"quicksort\")\n",
    "spn = pd.DataFrame(sp[y])\n",
    "\n",
    "# Concatenate data frames to create a table\n",
    "frames = [spn]\n",
    "xcorr =  round(pd.concat(frames),3)\n",
    "\n",
    "# Significance of Correlations\n",
    "x = xcorr.index\n",
    "pval = df.corr()\n",
    "pval = df.corr(method=lambda x, y: pearsonr(x,y)[1]) - np.eye(*pval.shape)\n",
    "pval = round((pval).unstack(),3)\n",
    "pval = pval.sort_values(kind=\"quicksort\")\n",
    "pval = pval[y]\n",
    "pval = pd.DataFrame(pval)\n",
    "pval = pval.T\n",
    "pval = pval[x].T\n",
    "\n",
    "#Create a data frame that contains variable names using positive and negative correlations table\n",
    "corrsig = pd.DataFrame(xcorr.index)\n",
    "\n",
    "# Reset indexes of correlation and p value tables (dataframes)\n",
    "xcorr.reset_index(inplace=True, drop=True)\n",
    "pval.reset_index(inplace=True, drop=True)\n",
    "\n",
    "# Concatenate tables\n",
    "pairs = pd.DataFrame(pd.concat([corrsig,xcorr,pval],axis=1))\n",
    "pairs.drop_duplicates()\n",
    "\n",
    "# Rename column names\n",
    "pairs = pairs.set_axis(['Variable', 'r', 'p-Value'], axis=1, inplace=False)\n",
    "\n",
    "# Print table and heatmap\n",
    "print(\"The following table shows the strongest positive and negative correlations with\", y)\n",
    "pVal = pairs[pairs['p-Value'] < 0.05]\n",
    "rVal =  pVal[pVal['r'] < -0.1]\n",
    "rVal = rVal.drop_duplicates()\n",
    "qVal =  pVal[pVal['r'] > 0.1]\n",
    "qVal = qVal.drop_duplicates()\n",
    "\n",
    "#pd.concat([rVal,qVal],axis=0)\n",
    "rtable = pd.concat([rVal,qVal],axis=0)\n",
    "\n",
    "# Heatmap of higher correlations\n",
    "#Create a list of higher positive and negative correlations to create a dataframe that contains these variables\n",
    "list = rtable['Variable'].tolist()\n",
    "d = df[list]\n",
    "\n",
    "# Calculate correlation matrix and create heatmap\n",
    "dcorr = d.corr()\n",
    "f, ax = plt.subplots(figsize=(7,6))\n",
    "#heat = sns.heatmap(dcorr,vmax=1,square=True,center=0)\n",
    "heat = sns.heatmap(dcorr,vmax=1,square=False,center=0)\n",
    "\n",
    "# Exclude correlated variables that contain 'Ag ' (lrtable for linear regression table).\n",
    "# lrtable Variable values are ment to be used in a linear regression\n",
    "# Note the use of '~' that is the 'ivert operator'\n",
    "\n",
    "lrtable = rtable[~rtable.Variable.str.contains('Ag ')] \n",
    "lrtable\n"
   ]
  },
  {
   "cell_type": "code",
   "execution_count": 43,
   "metadata": {},
   "outputs": [],
   "source": [
    "corr_vars = lrtable['Variable'].to_list()"
   ]
  },
  {
   "cell_type": "markdown",
   "metadata": {},
   "source": [
    "#### Variation analysis using Boxplot"
   ]
  },
  {
   "cell_type": "code",
   "execution_count": 40,
   "metadata": {},
   "outputs": [
    {
     "name": "stdout",
     "output_type": "stream",
     "text": [
      "These is the Boxplots of Ag dissolution (%)\n"
     ]
    },
    {
     "data": {
      "text/html": [
       "<div>\n",
       "<style scoped>\n",
       "    .dataframe tbody tr th:only-of-type {\n",
       "        vertical-align: middle;\n",
       "    }\n",
       "\n",
       "    .dataframe tbody tr th {\n",
       "        vertical-align: top;\n",
       "    }\n",
       "\n",
       "    .dataframe thead th {\n",
       "        text-align: right;\n",
       "    }\n",
       "</style>\n",
       "<table border=\"1\" class=\"dataframe\">\n",
       "  <thead>\n",
       "    <tr style=\"text-align: right;\">\n",
       "      <th></th>\n",
       "      <th>Ag dissolution (%)</th>\n",
       "      <th>Ag dissolution (%)</th>\n",
       "    </tr>\n",
       "    <tr>\n",
       "      <th>ym</th>\n",
       "      <th></th>\n",
       "      <th></th>\n",
       "    </tr>\n",
       "  </thead>\n",
       "  <tbody>\n",
       "    <tr>\n",
       "      <th>2022M1</th>\n",
       "      <td>93.604140</td>\n",
       "      <td>4.299880</td>\n",
       "    </tr>\n",
       "    <tr>\n",
       "      <th>2022M2</th>\n",
       "      <td>94.354178</td>\n",
       "      <td>1.332928</td>\n",
       "    </tr>\n",
       "    <tr>\n",
       "      <th>2022M3</th>\n",
       "      <td>93.835220</td>\n",
       "      <td>0.966452</td>\n",
       "    </tr>\n",
       "    <tr>\n",
       "      <th>2022M4</th>\n",
       "      <td>93.748437</td>\n",
       "      <td>2.256275</td>\n",
       "    </tr>\n",
       "    <tr>\n",
       "      <th>2022M5</th>\n",
       "      <td>94.686134</td>\n",
       "      <td>5.232467</td>\n",
       "    </tr>\n",
       "    <tr>\n",
       "      <th>2022M6</th>\n",
       "      <td>95.328115</td>\n",
       "      <td>0.758651</td>\n",
       "    </tr>\n",
       "  </tbody>\n",
       "</table>\n",
       "</div>"
      ],
      "text/plain": [
       "        Ag dissolution (%)  Ag dissolution (%)\n",
       "ym                                            \n",
       "2022M1           93.604140            4.299880\n",
       "2022M2           94.354178            1.332928\n",
       "2022M3           93.835220            0.966452\n",
       "2022M4           93.748437            2.256275\n",
       "2022M5           94.686134            5.232467\n",
       "2022M6           95.328115            0.758651"
      ]
     },
     "execution_count": 40,
     "metadata": {},
     "output_type": "execute_result"
    },
    {
     "data": {
      "image/png": "[encoded data removed]",
      "text/plain": [
       "<Figure size 648x360 with 1 Axes>"
      ]
     },
     "metadata": {},
     "output_type": "display_data"
    }
   ],
   "source": [
    "# Boxplot of y variable\n",
    "\n",
    "import seaborn as sns\n",
    "df = dfk.copy()\n",
    "df = df[df[y] < 100]\n",
    "# Person correlation coef and sig. \n",
    "d = pd.DataFrame(df[dag])\n",
    "# In case of hue need.\n",
    "d['ym'] = data['ym']\n",
    "h = 'ym'\n",
    "#d['year'] = data['year']\n",
    "#d['quarter'] = data['quarter']\n",
    "\n",
    "\n",
    "var = 0\n",
    "x = xy_vars[var]\n",
    "\n",
    "#Eliminar filas con algún valor 0\n",
    "     \n",
    "\n",
    "#Crear gráfica\n",
    "sns.set(rc={'figure.figsize':(9,5)})\n",
    "plt.figure()\n",
    "sns.boxplot(data=d, x=h, y=dag)\n",
    "#sns.scatterplot(data=d,x=x, y=y, hue=\"year\")\n",
    "#sns.lmplot(data=d,x=x, y=y,hue=\"year\")\n",
    "plt.title(\"Boxplot\")\n",
    "var = var + 1\n",
    "\n",
    "print(\"These is the Boxplots of\", dag)\n",
    "\n",
    "dfkmean = d.groupby('ym')\n",
    "pd.concat([dfkmean.mean(),dfkmean.var()],axis=1)"
   ]
  },
  {
   "cell_type": "code",
   "execution_count": 44,
   "metadata": {},
   "outputs": [
    {
     "name": "stdout",
     "output_type": "stream",
     "text": [
      "These are the Boxplots of most correlated variables with Ag dissolution (%)\n"
     ]
    },
    {
     "data": {
      "image/png": "[encoded data removed]",
      "text/plain": [
       "<Figure size 648x504 with 1 Axes>"
      ]
     },
     "metadata": {},
     "output_type": "display_data"
    }
   ],
   "source": [
    "# Boxplot of the x variables correlated with y variable\n",
    "\n",
    "import seaborn as sns\n",
    "df = dfk\n",
    "df = df[df['Cu head grade (%)'] < 1]\n",
    "var = 0\n",
    "x = corr_vars[var]\n",
    "\n",
    "\n",
    "for x in corr_vars:\n",
    "    # Person correlation coef and sig. \n",
    "    d = df[corr_vars]\n",
    "    # In case of hue need.\n",
    "    d['ym'] = data['ym']\n",
    "    h = 'ym'\n",
    "    #d['year'] = data['year']\n",
    "    #d['quarter'] = data['quarter']\n",
    "    \n",
    "    #Eliminar filas con algún valor 0\n",
    "    d= d[d[x] != 00]\n",
    "       \n",
    "    #Crear gráfica\n",
    "    sns.set(rc={'figure.figsize':(9,7)})\n",
    "    plt.figure()\n",
    "    sns.boxplot(data=d,x=h, y=x)\n",
    "    #sns.scatterplot(data=d,x=x, y=y, hue=\"year\")\n",
    "    #sns.lmplot(data=d,x=x, y=y,hue=\"year\")\n",
    "    plt.title(\"Boxplot\")\n",
    "    var = var + 1\n",
    "   \n",
    "\n",
    "print(\"These are the Boxplots of most correlated variables with\", y)\n"
   ]
  },
  {
   "cell_type": "code",
   "execution_count": 45,
   "metadata": {},
   "outputs": [
    {
     "name": "stdout",
     "output_type": "stream",
     "text": [
      "These are the Boxplots of most correlated variables with Ag dissolution (%)\n"
     ]
    },
    {
     "data": {
      "image/png": "[encoded data removed]",
      "text/plain": [
       "<Figure size 648x504 with 1 Axes>"
      ]
     },
     "metadata": {},
     "output_type": "display_data"
    }
   ],
   "source": [
    "# Boxplot of the x variables correlated with y variable\n",
    "\n",
    "import seaborn as sns\n",
    "df = dfk\n",
    "\n",
    "var = 0\n",
    "x = corr_vars[var]\n",
    "\n",
    "\n",
    "for x in corr_vars:\n",
    "    # Person correlation coef and sig. \n",
    "    d = df[corr_vars]\n",
    "    # In case of hue need.\n",
    "    d['ym'] = data['ym']\n",
    "    h = 'ym'\n",
    "    #d['year'] = data['year']\n",
    "    #d['quarter'] = data['quarter']\n",
    "    \n",
    "    #Eliminar filas con algún valor 0\n",
    "    d= d[d[x] != 00]\n",
    "       \n",
    "    #Crear gráfica\n",
    "    sns.set(rc={'figure.figsize':(9,7)})\n",
    "    plt.figure()\n",
    "    sns.boxplot(data=d,x=h, y=x)\n",
    "    #sns.scatterplot(data=d,x=x, y=y, hue=\"year\")\n",
    "    #sns.lmplot(data=d,x=x, y=y,hue=\"year\")\n",
    "    plt.title(\"Boxplot\")\n",
    "    var = var + 1\n",
    "   \n",
    "\n",
    "print(\"These are the Boxplots of most correlated variables with\", dag)\n"
   ]
  },
  {
   "cell_type": "code",
   "execution_count": null,
   "metadata": {},
   "outputs": [
    {
     "data": {
      "text/plain": [
       "Grinding operation (%)      8.079308\n",
       "Tonnage (t)               383.781531\n",
       "P80 BFD (μm)                7.954803\n",
       "Agitation time (h)          5.001172\n",
       "dtype: float64"
      ]
     },
     "execution_count": 85,
     "metadata": {},
     "output_type": "execute_result"
    }
   ],
   "source": [
    "d2205[x_vars].std()"
   ]
  },
  {
   "cell_type": "code",
   "execution_count": null,
   "metadata": {},
   "outputs": [
    {
     "data": {
      "text/plain": [
       "['Grinding operation (%)', 'Tonnage (t)', 'P80 BFD (μm)', 'Agitation time (h)']"
      ]
     },
     "execution_count": 67,
     "metadata": {},
     "output_type": "execute_result"
    }
   ],
   "source": [
    "x_vars = lrtable['Variable'].to_list()\n",
    "x_vars"
   ]
  },
  {
   "cell_type": "markdown",
   "metadata": {},
   "source": [
    "#### Scatterplot of more correlated variables"
   ]
  },
  {
   "cell_type": "markdown",
   "metadata": {},
   "source": [
    "Crossed validation \n",
    "Ridget regression\n",
    "\n",
    "Lasso Regression\n",
    "https://machinelearningmastery.com/lasso-regression-with-python/\n",
    "\n",
    "Lasso Regression Validation\n",
    "https://machinelearningmastery.com/k-fold-cross-validation/\n",
    "\n",
    "Used to discrimine autocorrelated variables\n",
    "\n"
   ]
  },
  {
   "cell_type": "code",
   "execution_count": 59,
   "metadata": {},
   "outputs": [],
   "source": [
    "y = dag\n",
    "x_vars = lrtable['Variable'].to_list()"
   ]
  },
  {
   "cell_type": "code",
   "execution_count": 60,
   "metadata": {},
   "outputs": [
    {
     "name": "stdout",
     "output_type": "stream",
     "text": [
      "Correlation and p-Value are: (-0.7137958070043092, 9.479349076804248e-06)\n",
      "Correlation and p-Value are: (0.5587811968417996, 0.0013295438125940583)\n",
      "\n",
      " These are the scatterplots of most correlated variables with Ag dissolution (%) \n",
      "\n"
     ]
    },
    {
     "data": {
      "image/png": "[encoded data removed]",
      "text/plain": [
       "<Figure size 504x504 with 1 Axes>"
      ]
     },
     "metadata": {},
     "output_type": "display_data"
    },
    {
     "data": {
      "image/png": "[encoded data removed]",
      "text/plain": [
       "<Figure size 504x504 with 1 Axes>"
      ]
     },
     "metadata": {},
     "output_type": "display_data"
    }
   ],
   "source": [
    "# Scatterplot and correlation x variables vs. y variable\n",
    "\n",
    "var = 0\n",
    "y = dag\n",
    "x_vars = lrtable['Variable'].to_list()\n",
    "x = x_vars[var]\n",
    "\n",
    "\n",
    "for x in x_vars:\n",
    "    # Person correlation coef and sig. \n",
    "    d = pd.concat([df[x],df[y]],axis=1)\n",
    "    print(\"Correlation and p-Value are:\",pearsonr(d[x],d[y]))\n",
    "    \n",
    "    # In case of hue need.\n",
    "    #d['ym'] = data['ym']\n",
    "    #d['year'] = data['year']\n",
    "    #d['quarter'] = data['quarter']\n",
    "    \n",
    "    # Delete rows with oversize or 0\n",
    "    d= d[d[x] != 00]\n",
    "    d= d[d[y] < 100]\n",
    "    \n",
    "    #Crear gráfica\n",
    "    sns.set(rc={'figure.figsize':(7,7)})\n",
    "    plt.figure()\n",
    "    sns.regplot(data=d,x=x, y=y)\n",
    "    #sns.scatterplot(data=d,x=x, y=y, hue=\"year\")\n",
    "    #sns.lmplot(data=d,x=x, y=y,hue=\"year\")\n",
    "    title = y,\"vs.\",x\n",
    "    plt.title(str(title))\n",
    "    plt.ylabel(y)\n",
    "    plt.xlabel(x)\n",
    "    \n",
    "    var = var + 1\n",
    "\n",
    "print(\"\\n These are the scatterplots of most correlated variables with\", y, \"\\n\")"
   ]
  },
  {
   "cell_type": "markdown",
   "metadata": {},
   "source": [
    "## Stepwise Linear Regression"
   ]
  },
  {
   "cell_type": "code",
   "execution_count": null,
   "metadata": {},
   "outputs": [],
   "source": [
    "df = dfk #Which is our data frame WITH imputed values"
   ]
  },
  {
   "cell_type": "code",
   "execution_count": null,
   "metadata": {},
   "outputs": [
    {
     "data": {
      "text/plain": [
       "['Grinding operation (%)', 'Tonnage (t)', 'P80 BFD (μm)', 'Agitation time (h)']"
      ]
     },
     "execution_count": 71,
     "metadata": {},
     "output_type": "execute_result"
    }
   ],
   "source": [
    "y = df[dag]\n",
    "x_vars = lrtable['Variable'].to_list() #lrtable is linear regression table wich comes from rtable\n",
    "x_vars\n"
   ]
  },
  {
   "cell_type": "code",
   "execution_count": null,
   "metadata": {},
   "outputs": [
    {
     "name": "stdout",
     "output_type": "stream",
     "text": [
      "                                 OLS Regression Results                                \n",
      "=======================================================================================\n",
      "Dep. Variable:     Ag dissolution (%)   R-squared (uncentered):                   0.998\n",
      "Model:                            OLS   Adj. R-squared (uncentered):              0.998\n",
      "Method:                 Least Squares   F-statistic:                          1.542e+04\n",
      "Date:                Sat, 04 Jun 2022   Prob (F-statistic):                   4.88e-174\n",
      "Time:                        14:51:38   Log-Likelihood:                         -389.08\n",
      "No. Observations:                 135   AIC:                                      786.2\n",
      "Df Residuals:                     131   BIC:                                      797.8\n",
      "Df Model:                           4                                                  \n",
      "Covariance Type:            nonrobust                                                  \n",
      "==========================================================================================\n",
      "                             coef    std err          t      P>|t|      [0.025      0.975]\n",
      "------------------------------------------------------------------------------------------\n",
      "Grinding operation (%)     0.1085      0.042      2.573      0.011       0.025       0.192\n",
      "Tonnage (t)                0.0017      0.002      1.112      0.268      -0.001       0.005\n",
      "P80 BFD (μm)               0.4161      0.053      7.821      0.000       0.311       0.521\n",
      "Agitation time (h)         0.4468      0.037     12.193      0.000       0.374       0.519\n",
      "==============================================================================\n",
      "Omnibus:                        2.628   Durbin-Watson:                   0.993\n",
      "Prob(Omnibus):                  0.269   Jarque-Bera (JB):                2.553\n",
      "Skew:                           0.333   Prob(JB):                        0.279\n",
      "Kurtosis:                       2.899   Cond. No.                         388.\n",
      "==============================================================================\n",
      "\n",
      "Notes:\n",
      "[1] R² is computed without centering (uncentered) since the model does not contain a constant.\n",
      "[2] Standard Errors assume that the covariance matrix of the errors is correctly specified.\n"
     ]
    }
   ],
   "source": [
    "## creating function to get model statistics\n",
    "\n",
    "import numpy as np\n",
    "import statsmodels.api as sm\n",
    "def get_stats():\n",
    "    x = df[x_vars]\n",
    "    results = sm.OLS(y, x).fit()\n",
    "    print(results.summary())\n",
    "get_stats()\n",
    "\n",
    "x = df[x_vars]\n",
    "results = sm.OLS(y, x).fit()\n",
    "coefficients = results.params.to_list() # El método .params de la función sm.OLS devuelve los coeficientes\n",
    "\n"
   ]
  },
  {
   "cell_type": "code",
   "execution_count": null,
   "metadata": {},
   "outputs": [],
   "source": [
    "# Remove less signifficant predictor from model\n",
    "\n",
    "#x_columns.remove(\"Tonnage (t)\")\n",
    "#get_stats()"
   ]
  },
  {
   "cell_type": "code",
   "execution_count": null,
   "metadata": {},
   "outputs": [
    {
     "name": "stdout",
     "output_type": "stream",
     "text": [
      "these are the variables: \n",
      " ['Grinding operation (%)', 'Tonnage (t)', 'P80 BFD (μm)', 'Agitation time (h)'] \n",
      " and these are their coefficientes: \n",
      " [0.1084534462878354, 0.0017018664653321216, 0.4161383929230839, 0.44676678391123203]\n",
      "\n",
      " Means of x variables in present month are:\n",
      " Grinding operation (%)      90.012050\n",
      "Tonnage (t)               2284.400000\n",
      "P80 BFD (μm)                89.028226\n",
      "Agitation time (h)          89.001972\n",
      "dtype: float64 \n",
      " meanwhile Ag dissolution (%) is : 93.75\n"
     ]
    }
   ],
   "source": [
    "# Print regression variables and their coefficients\n",
    "print(\"these are the variables: \\n\",x_vars,\"\\n and these are their coefficientes: \\n\",coefficients)\n",
    "\n",
    "# Calculate regression variables means in last month\n",
    "tbdm = data.groupby(\"ym\").get_group('2022M4')\n",
    "print(\"\\n Means of x variables in present month are:\\n\",tbdm[x_vars].mean(),\n",
    "    \"\\n meanwhile\", dag, \"is :\",round(tbdm[dag].mean(),2))\n"
   ]
  },
  {
   "cell_type": "code",
   "execution_count": null,
   "metadata": {},
   "outputs": [
    {
     "ename": "ValueError",
     "evalue": "could not convert string to float: ''",
     "output_type": "error",
     "traceback": [
      "\u001b[1;31m---------------------------------------------------------------------------\u001b[0m",
      "\u001b[1;31mValueError\u001b[0m                                Traceback (most recent call last)",
      "\u001b[1;32mc:\\Users\\LCIBANEZ\\OneDrive - Majestic Services SA de CV\\Documentos\\Py\\Summary\\San Dimas Process Analysis.ipynb Cell 55'\u001b[0m in \u001b[0;36m<cell line: 10>\u001b[1;34m()\u001b[0m\n\u001b[0;32m      <a href='vscode-notebook-cell:/c%3A/Users/LCIBANEZ/OneDrive%20-%20Majestic%20Services%20SA%20de%20CV/Documentos/Py/Summary/San%20Dimas%20Process%20Analysis.ipynb#ch0000053?line=6'>7</a>\u001b[0m x3 \u001b[39m=\u001b[39m \u001b[39mstr\u001b[39m(x_vars[\u001b[39m3\u001b[39m])\n\u001b[0;32m      <a href='vscode-notebook-cell:/c%3A/Users/LCIBANEZ/OneDrive%20-%20Majestic%20Services%20SA%20de%20CV/Documentos/Py/Summary/San%20Dimas%20Process%20Analysis.ipynb#ch0000053?line=8'>9</a>\u001b[0m \u001b[39m# Use x_vars str to indicate input\u001b[39;00m\n\u001b[1;32m---> <a href='vscode-notebook-cell:/c%3A/Users/LCIBANEZ/OneDrive%20-%20Majestic%20Services%20SA%20de%20CV/Documentos/Py/Summary/San%20Dimas%20Process%20Analysis.ipynb#ch0000053?line=9'>10</a>\u001b[0m x_var0 \u001b[39m=\u001b[39m \u001b[39mfloat\u001b[39;49m(\u001b[39minput\u001b[39;49m(x0))\n\u001b[0;32m     <a href='vscode-notebook-cell:/c%3A/Users/LCIBANEZ/OneDrive%20-%20Majestic%20Services%20SA%20de%20CV/Documentos/Py/Summary/San%20Dimas%20Process%20Analysis.ipynb#ch0000053?line=10'>11</a>\u001b[0m x_var1 \u001b[39m=\u001b[39m \u001b[39mfloat\u001b[39m(\u001b[39minput\u001b[39m(x1))\n\u001b[0;32m     <a href='vscode-notebook-cell:/c%3A/Users/LCIBANEZ/OneDrive%20-%20Majestic%20Services%20SA%20de%20CV/Documentos/Py/Summary/San%20Dimas%20Process%20Analysis.ipynb#ch0000053?line=11'>12</a>\u001b[0m x_var2 \u001b[39m=\u001b[39m \u001b[39mfloat\u001b[39m(\u001b[39minput\u001b[39m(x2))\n",
      "\u001b[1;31mValueError\u001b[0m: could not convert string to float: ''"
     ]
    }
   ],
   "source": [
    "# Input values of x variables to predict y using regression coefficients.\n",
    "\n",
    "# Convert x_vars in a string (str)\n",
    "x0 = str(x_vars[0])\n",
    "x1 = str(x_vars[1])\n",
    "x2 = str(x_vars[2])\n",
    "x3 = str(x_vars[3])\n",
    "\n",
    "# Use x_vars str to indicate input\n",
    "x_var0 = float(input(x0))\n",
    "x_var1 = float(input(x1))\n",
    "x_var2 = float(input(x2))\n",
    "#x_var3 = float(input(x3))\n",
    "\n",
    "# Calculate 'y' using inputs and regression coef\n",
    "y_pred = coefficients[0]*x_var0+coefficients[1]*x_var1+coefficients[2]*x_var2\n",
    "print(dag, \"prediction is:\", round(y_pred,2),\", and actual\", dag, \"is:\",round(tbdm[dag].mean()),2)"
   ]
  },
  {
   "cell_type": "markdown",
   "metadata": {},
   "source": [
    "##### Model creation and y prediction"
   ]
  },
  {
   "cell_type": "code",
   "execution_count": null,
   "metadata": {},
   "outputs": [],
   "source": [
    "df = dfk"
   ]
  },
  {
   "cell_type": "code",
   "execution_count": null,
   "metadata": {},
   "outputs": [
    {
     "name": "stdout",
     "output_type": "stream",
     "text": [
      "Prediction for Ag dissolution is  95.15682277555341\n"
     ]
    }
   ],
   "source": [
    "# Creating a linear model and prediction with 'sklean'\n",
    "\n",
    "from sklearn.linear_model import LinearRegression\n",
    "from sklearn.model_selection import train_test_split\n",
    "\n",
    "X_train, X_test, y_train, y_test = train_test_split(\n",
    "    df[df != dag], df[dag], random_state=0)\n",
    "\n",
    "\n",
    "linear_model = LinearRegression() # Asign LinearRegression() function to the name linear_model\n",
    "linear_model.fit(X_train, y_train) # \n",
    "y_pred = linear_model.predict(X_test)\n",
    "print(\"Prediction for Ag dissolution is \", y_pred.mean())\n"
   ]
  },
  {
   "cell_type": "markdown",
   "metadata": {},
   "source": [
    "##### ML Model Prediction"
   ]
  },
  {
   "cell_type": "code",
   "execution_count": null,
   "metadata": {},
   "outputs": [],
   "source": [
    "df = dfk"
   ]
  },
  {
   "cell_type": "code",
   "execution_count": null,
   "metadata": {},
   "outputs": [
    {
     "name": "stdout",
     "output_type": "stream",
     "text": [
      "Training prediction for Ag dissolution is  95.11\n"
     ]
    }
   ],
   "source": [
    "# Creating a linear model and prediction with 'sklean'\n",
    "\n",
    "from sklearn.linear_model import LinearRegression\n",
    "from sklearn.model_selection import train_test_split\n",
    "\n",
    "X_train, X_test, y_train, y_test = train_test_split(\n",
    "    df[x_vars], df[dag], random_state=0)\n",
    "\n",
    "\n",
    "linear_model = LinearRegression() # Asign LinearRegression() function to the name linear_model\n",
    "linear_model.fit(X_train, y_train) # \n",
    "y_pred = linear_model.predict(X_test)\n",
    "print(\"Training prediction for Ag dissolution is \", round(y_pred.mean(),2))"
   ]
  },
  {
   "cell_type": "code",
   "execution_count": null,
   "metadata": {},
   "outputs": [
    {
     "data": {
      "text/plain": [
       "['F80 BM (μm)', 'P80 BFD (μm)', 'Tonnage (t)', 'Cu head grade (%)']"
      ]
     },
     "execution_count": 144,
     "metadata": {},
     "output_type": "execute_result"
    }
   ],
   "source": [
    "x_vars"
   ]
  },
  {
   "cell_type": "code",
   "execution_count": null,
   "metadata": {},
   "outputs": [],
   "source": [
    "x3 = str(x_vars[3])"
   ]
  },
  {
   "cell_type": "code",
   "execution_count": null,
   "metadata": {},
   "outputs": [
    {
     "name": "stdout",
     "output_type": "stream",
     "text": [
      "Prediction for Ag dissolution is  [94.43601503]\n"
     ]
    }
   ],
   "source": [
    "# Predict Ag dissolution using Plant Parameters \n",
    "\n",
    "# Use x_vars str to indicate input\n",
    "x_var0 = float(input(x0))\n",
    "x_var1 = float(input(x1))\n",
    "x_var2 = float(input(x2))\n",
    "x_var3 = float(input(x3))\n",
    "\n",
    "x_plant = {\n",
    "    x0:[x_var0],\n",
    "    x1:[x_var1],\n",
    "    x2:[x_var2],\n",
    "    x3:[x_var3],\n",
    "    }\n",
    "\n",
    "x_plant = pd.DataFrame(x_plant)\n",
    "y_pred = linear_model.predict(x_plant)\n",
    "print(\"Prediction for Ag dissolution is \", y_pred)\n"
   ]
  },
  {
   "cell_type": "markdown",
   "metadata": {},
   "source": [
    "## Lasso Regression\n"
   ]
  },
  {
   "cell_type": "code",
   "execution_count": null,
   "metadata": {},
   "outputs": [],
   "source": [
    "from numpy import mean\n",
    "from numpy import std\n",
    "from numpy import absolute\n",
    "from pandas import read_csv\n",
    "from sklearn.model_selection import cross_val_score\n",
    "from sklearn.model_selection import RepeatedKFold\n",
    "from sklearn.linear_model import Lasso"
   ]
  },
  {
   "cell_type": "code",
   "execution_count": null,
   "metadata": {},
   "outputs": [],
   "source": [
    "# define model\n",
    "model = Lasso(alpha=1.0)"
   ]
  },
  {
   "cell_type": "code",
   "execution_count": null,
   "metadata": {},
   "outputs": [
    {
     "name": "stdout",
     "output_type": "stream",
     "text": [
      "Mean MAE: 1.179 (0.205)\n"
     ]
    }
   ],
   "source": [
    "# load the dataset\n",
    "df = dfk\n",
    "df = df.values\n",
    "X, y = df[:, :-1], df[:, -1]\n",
    "# define model\n",
    "model = Lasso(alpha=1.0)\n",
    "# define model evaluation method\n",
    "cv = RepeatedKFold(n_splits=10, n_repeats=3, random_state=1)\n",
    "# evaluate model\n",
    "scores = cross_val_score(model, X, y, scoring='neg_mean_absolute_error', cv=cv, n_jobs=-1)\n",
    "# force scores to be positive\n",
    "scores = absolute(scores)\n",
    "print('Mean MAE: %.3f (%.3f)' % (mean(scores), std(scores)))"
   ]
  },
  {
   "cell_type": "code",
   "execution_count": null,
   "metadata": {},
   "outputs": [],
   "source": [
    "# Import excel file (must be a relational table).\n",
    "data = pd.read_excel(r\"San Dimas xy.xlsx\",sheet_name=\"DATA\")\n",
    "\n",
    "# Create new variables (year, month, year by mont and year by q) using 'date' time variable.\n",
    "# Date categorical variables\n",
    "data['year'] = pd.DatetimeIndex(data['Date']).year.astype(str)\n",
    "data['quarter'] = pd.DatetimeIndex(data['Date']).quarter.astype(str)\n",
    "#data['quarter'] = pd.DatetimeIndex(data['Date']).dt.to_period('Q').astype(str)\n",
    "data['month'] = pd.DatetimeIndex(data['Date']).month\n",
    "data['ym'] = data.year.astype(str).str.cat(data.month.astype(str), sep='M')\n",
    "\n",
    "# Operation variables\n",
    "data['Ag feed content (kg)'] = (data['Ag head grade calculated (g/t)']*data['Tonnage (t)'])/1000\n",
    "data['Au feed content (kg)'] = (data['Au head grade calculated (g/t)']*data['Tonnage (t)'])/1000\n",
    "data['Grinding operation (%)'] = ((data['Operation time BM1 (h)']+data['Operation time BM2 (h)']+data['Operation time BM3 (h)'])/72)*100\n",
    "data['Ag/Au ratio'] =  data['Ag head grade calculated (g/t)']/data['Au head grade calculated (g/t)']\n",
    "data['M3/t'] =  data['MC pumping (m3)']/data['Tonnage (t)']\n",
    "\n",
    "# Disolution (response) variables\n",
    "data['Ag dissolution (%)'] =  ((data['Ag head grade calculated (g/t)']-data['Ag tailings grade (g/t)'])/data['Ag head grade calculated (g/t)'])*100\n",
    "data['Au dissolution (%)'] =  ((data['Au head grade calculated (g/t)']-data['Au tailings grade (g/t)'])/data['Au head grade calculated (g/t)'])*100\n",
    "\n",
    "nrow = data[xy_vars]\n",
    "nrow = nrow.drop(['Ag dissolution (%)'],axis=1)\n"
   ]
  },
  {
   "cell_type": "code",
   "execution_count": null,
   "metadata": {},
   "outputs": [
    {
     "name": "stdout",
     "output_type": "stream",
     "text": [
      "Predicted: 94.688\n"
     ]
    }
   ],
   "source": [
    "# make a prediction with a lasso regression model on the dataset\n",
    "from pandas import read_csv\n",
    "from sklearn.linear_model import Lasso\n",
    "\n",
    "# load the dataset\n",
    "df = dfk\n",
    "df = df.values\n",
    "X, y = df[:, :-1], df[:, -1]\n",
    "# define model\n",
    "model = Lasso(alpha=1.0)\n",
    "# fit model\n",
    "model.fit(X, y)\n",
    "# define new data\n",
    "row = nrow.values\n",
    "# make a prediction\n",
    "yhat = model.predict(row)\n",
    "# summarize prediction\n",
    "print('Predicted: %.3f' % yhat)\n"
   ]
  },
  {
   "cell_type": "markdown",
   "metadata": {},
   "source": [
    "## KMeans clustering"
   ]
  },
  {
   "cell_type": "code",
   "execution_count": 61,
   "metadata": {},
   "outputs": [
    {
     "data": {
      "text/plain": [
       "['Tonnage (t)', 'Agitation time (h)', 'Ag dissolution (%)']"
      ]
     },
     "execution_count": 61,
     "metadata": {},
     "output_type": "execute_result"
    }
   ],
   "source": [
    "x_vars = lrtable['Variable'].to_list()\n",
    "k_vars = x_vars.copy()\n",
    "k_vars.append(dag)\n",
    "k_vars\n"
   ]
  },
  {
   "cell_type": "code",
   "execution_count": 62,
   "metadata": {},
   "outputs": [],
   "source": [
    "#Select variables and create an array of lists for each i using a for loop\n",
    "\n",
    "# Import data\n",
    "df = dfk\n",
    "df['Date'] = d22['Date']\n",
    "df.set_index('Date')\n",
    "\n",
    "# Select variables (columns)\n",
    "df = df[k_vars]\n",
    "\n",
    "# Delete \"uncomplete\" rows\n",
    "df = df.dropna()\n",
    "\n",
    "# For loop to select and append values to array\n",
    "n = 0\n",
    "x=[]\n",
    "a= df.iloc[n]\n",
    "\n",
    "for i in df.index:\n",
    "    a= df.iloc[n]\n",
    "    x.append(a.values.tolist())\n",
    "    n = n + 1"
   ]
  },
  {
   "cell_type": "code",
   "execution_count": 63,
   "metadata": {},
   "outputs": [],
   "source": [
    "xhat = df[k_vars].values\n"
   ]
  },
  {
   "cell_type": "code",
   "execution_count": 64,
   "metadata": {},
   "outputs": [
    {
     "data": {
      "text/plain": [
       "Text(0, 0.5, 'WCSS')"
      ]
     },
     "execution_count": 64,
     "metadata": {},
     "output_type": "execute_result"
    },
    {
     "data": {
      "image/png": "[encoded data removed]",
      "text/plain": [
       "<Figure size 504x504 with 1 Axes>"
      ]
     },
     "metadata": {},
     "output_type": "display_data"
    }
   ],
   "source": [
    "# Determine number of clusters\n",
    "from sklearn.cluster import KMeans\n",
    "wcss=[]\n",
    "for i in range(1,7):\n",
    "    kclust = KMeans(i)\n",
    "    kclust.fit(xhat)\n",
    "    wcss_iter = kclust.inertia_\n",
    "    wcss.append(wcss_iter)\n",
    "\n",
    "number_clusters = range(1,7)\n",
    "plt.plot(number_clusters,wcss)\n",
    "plt.title('The Elbow title')\n",
    "plt.xlabel('Number of clusters')\n",
    "plt.ylabel('WCSS')"
   ]
  },
  {
   "cell_type": "code",
   "execution_count": 65,
   "metadata": {},
   "outputs": [],
   "source": [
    "kn = 2"
   ]
  },
  {
   "cell_type": "code",
   "execution_count": 66,
   "metadata": {},
   "outputs": [
    {
     "data": {
      "text/plain": [
       "array([0, 1, 1, 1, 0, 0, 0, 0, 0, 0, 0, 0, 0, 0, 0, 0, 0, 0, 0, 0, 1, 1,\n",
       "       1, 1, 1, 1, 0, 0, 0, 0, 0, 0, 0, 0, 0, 1, 0, 0, 0, 0, 1, 0, 0, 1,\n",
       "       1, 0, 0, 0, 0, 0, 1, 1, 0, 0, 0, 0, 0, 0, 0, 1, 0, 0, 0, 0, 0, 0,\n",
       "       0, 0, 0, 0, 0, 0, 0, 0, 0, 0, 0, 0, 0, 0, 0, 0, 0, 0, 0, 0, 0, 0,\n",
       "       0, 0, 0, 0, 0, 0, 0, 0, 0, 1, 0, 0, 0, 0, 0, 0, 1, 1, 0, 0, 0, 0,\n",
       "       0, 0, 0, 0, 0, 0, 0, 0, 0, 0, 0, 1, 0, 0, 0, 0, 0, 0, 0, 0, 0, 1,\n",
       "       0, 0, 0, 0, 0, 0, 0, 0, 0, 0, 0, 0, 0, 0, 0, 0, 0, 0, 0, 0, 0, 0,\n",
       "       0, 0, 0, 0, 1, 0, 0, 0, 0, 0, 0, 0, 0, 0, 1, 1, 0, 0, 1, 0, 0, 0,\n",
       "       0, 0, 0, 0, 0])"
      ]
     },
     "execution_count": 66,
     "metadata": {},
     "output_type": "execute_result"
    }
   ],
   "source": [
    "# Calculate Clusters\n",
    "\n",
    "from sklearn.cluster import KMeans\n",
    "\n",
    "kclust = KMeans(n_clusters=kn).fit(xhat)\n",
    "kclust.fit(xhat)\n",
    "clust_id = kclust.fit_predict(xhat)\n",
    "clust_id"
   ]
  },
  {
   "cell_type": "code",
   "execution_count": 67,
   "metadata": {},
   "outputs": [
    {
     "data": {
      "text/plain": [
       "Index(['Tonnage (t)', 'Agitation time (h)', 'Ag dissolution (%)'], dtype='object')"
      ]
     },
     "execution_count": 67,
     "metadata": {},
     "output_type": "execute_result"
    }
   ],
   "source": [
    "df.columns"
   ]
  },
  {
   "cell_type": "code",
   "execution_count": 68,
   "metadata": {},
   "outputs": [
    {
     "data": {
      "text/html": [
       "<div>\n",
       "<style scoped>\n",
       "    .dataframe tbody tr th:only-of-type {\n",
       "        vertical-align: middle;\n",
       "    }\n",
       "\n",
       "    .dataframe tbody tr th {\n",
       "        vertical-align: top;\n",
       "    }\n",
       "\n",
       "    .dataframe thead th {\n",
       "        text-align: right;\n",
       "    }\n",
       "</style>\n",
       "<table border=\"1\" class=\"dataframe\">\n",
       "  <thead>\n",
       "    <tr style=\"text-align: right;\">\n",
       "      <th></th>\n",
       "      <th>Tonnage (t)</th>\n",
       "      <th>Agitation time (h)</th>\n",
       "      <th>Ag dissolution (%)</th>\n",
       "    </tr>\n",
       "    <tr>\n",
       "      <th>Clust</th>\n",
       "      <th></th>\n",
       "      <th></th>\n",
       "      <th></th>\n",
       "    </tr>\n",
       "  </thead>\n",
       "  <tbody>\n",
       "    <tr>\n",
       "      <th>0</th>\n",
       "      <td>2415.198718</td>\n",
       "      <td>93.914248</td>\n",
       "      <td>94.714520</td>\n",
       "    </tr>\n",
       "    <tr>\n",
       "      <th>1</th>\n",
       "      <td>1203.720000</td>\n",
       "      <td>216.693037</td>\n",
       "      <td>95.424156</td>\n",
       "    </tr>\n",
       "  </tbody>\n",
       "</table>\n",
       "</div>"
      ],
      "text/plain": [
       "       Tonnage (t)  Agitation time (h)  Ag dissolution (%)\n",
       "Clust                                                     \n",
       "0      2415.198718           93.914248           94.714520\n",
       "1      1203.720000          216.693037           95.424156"
      ]
     },
     "execution_count": 68,
     "metadata": {},
     "output_type": "execute_result"
    }
   ],
   "source": [
    "df_clust = df.copy()\n",
    "df_clust['Clust'] = clust_id\n",
    "df_clust.groupby('Clust').mean()"
   ]
  },
  {
   "cell_type": "code",
   "execution_count": 69,
   "metadata": {},
   "outputs": [
    {
     "data": {
      "text/plain": [
       "Index(['Tonnage (t)', 'Agitation time (h)', 'Ag dissolution (%)', 'Clust'], dtype='object')"
      ]
     },
     "execution_count": 69,
     "metadata": {},
     "output_type": "execute_result"
    }
   ],
   "source": [
    "df_clust.columns"
   ]
  },
  {
   "cell_type": "code",
   "execution_count": 73,
   "metadata": {},
   "outputs": [
    {
     "data": {
      "text/plain": [
       "0    156\n",
       "1     25\n",
       "Name: Clust, dtype: int64"
      ]
     },
     "execution_count": 73,
     "metadata": {},
     "output_type": "execute_result"
    }
   ],
   "source": [
    "df_clust.Clust.value_counts()"
   ]
  },
  {
   "cell_type": "code",
   "execution_count": 78,
   "metadata": {},
   "outputs": [],
   "source": [
    "import matplotlib as mt"
   ]
  },
  {
   "cell_type": "code",
   "execution_count": 75,
   "metadata": {},
   "outputs": [
    {
     "data": {
      "text/plain": [
       "'Ag dissolution (%)'"
      ]
     },
     "execution_count": 75,
     "metadata": {},
     "output_type": "execute_result"
    }
   ],
   "source": [
    "k_vars[2]"
   ]
  },
  {
   "cell_type": "code",
   "execution_count": 79,
   "metadata": {},
   "outputs": [
    {
     "data": {
      "text/plain": [
       "<matplotlib.collections.PathCollection at 0x1cc15502d70>"
      ]
     },
     "execution_count": 79,
     "metadata": {},
     "output_type": "execute_result"
    },
    {
     "data": {
      "image/png": "[encoded data removed]",
      "text/plain": [
       "<Figure size 504x504 with 1 Axes>"
      ]
     },
     "metadata": {},
     "output_type": "display_data"
    }
   ],
   "source": [
    "#Crear gráfica\n",
    "x = df_clust[k_vars[1]]\n",
    "y = df_clust[dag]\n",
    "# Graph\n",
    "mt.pyplot.scatter(x,y)"
   ]
  },
  {
   "cell_type": "code",
   "execution_count": 84,
   "metadata": {},
   "outputs": [
    {
     "data": {
      "text/plain": [
       "Tonnage (t)           2247.867403\n",
       "Agitation time (h)     110.872644\n",
       "Ag dissolution (%)      94.812536\n",
       "Clust                    0.138122\n",
       "dtype: float64"
      ]
     },
     "execution_count": 84,
     "metadata": {},
     "output_type": "execute_result"
    }
   ],
   "source": [
    "df_clust.mean(axis=0)"
   ]
  },
  {
   "cell_type": "markdown",
   "metadata": {},
   "source": [
    "## PCA"
   ]
  },
  {
   "cell_type": "code",
   "execution_count": 85,
   "metadata": {},
   "outputs": [],
   "source": [
    "# Tratamiento de datos\n",
    "# ==============================================================================\n",
    "import numpy as np\n",
    "import pandas as pd\n",
    "import statsmodels.api as sm\n",
    "\n",
    "# Gráficos\n",
    "# ==============================================================================\n",
    "import matplotlib.pyplot as plt\n",
    "import matplotlib.font_manager\n",
    "from matplotlib import style\n",
    "style.use('ggplot') or plt.style.use('ggplot')\n",
    "\n",
    "# Preprocesado y modelado\n",
    "# ==============================================================================\n",
    "from sklearn.decomposition import PCA\n",
    "from sklearn.pipeline import make_pipeline\n",
    "from sklearn.preprocessing import StandardScaler\n",
    "from sklearn.preprocessing import scale\n",
    "\n",
    "# Configuración warnings\n",
    "# ==============================================================================\n",
    "import warnings"
   ]
  },
  {
   "cell_type": "code",
   "execution_count": 86,
   "metadata": {},
   "outputs": [
    {
     "data": {
      "text/html": [
       "<div>\n",
       "<style scoped>\n",
       "    .dataframe tbody tr th:only-of-type {\n",
       "        vertical-align: middle;\n",
       "    }\n",
       "\n",
       "    .dataframe tbody tr th {\n",
       "        vertical-align: top;\n",
       "    }\n",
       "\n",
       "    .dataframe thead th {\n",
       "        text-align: right;\n",
       "    }\n",
       "</style>\n",
       "<table border=\"1\" class=\"dataframe\">\n",
       "  <thead>\n",
       "    <tr style=\"text-align: right;\">\n",
       "      <th></th>\n",
       "      <th>0</th>\n",
       "    </tr>\n",
       "  </thead>\n",
       "  <tbody>\n",
       "    <tr>\n",
       "      <th>Tonnage (t)</th>\n",
       "      <td>2247.867403</td>\n",
       "    </tr>\n",
       "    <tr>\n",
       "      <th>Agitation time (h)</th>\n",
       "      <td>110.872644</td>\n",
       "    </tr>\n",
       "    <tr>\n",
       "      <th>Ag dissolution (%)</th>\n",
       "      <td>94.812536</td>\n",
       "    </tr>\n",
       "  </tbody>\n",
       "</table>\n",
       "</div>"
      ],
      "text/plain": [
       "                              0\n",
       "Tonnage (t)         2247.867403\n",
       "Agitation time (h)   110.872644\n",
       "Ag dissolution (%)    94.812536"
      ]
     },
     "execution_count": 86,
     "metadata": {},
     "output_type": "execute_result"
    }
   ],
   "source": [
    "pd.DataFrame(df.mean(axis=0))"
   ]
  },
  {
   "cell_type": "code",
   "execution_count": 87,
   "metadata": {},
   "outputs": [],
   "source": [
    "pca_pipe = make_pipeline(StandardScaler(), PCA())\n",
    "pca_pipe.fit(df)\n",
    "\n",
    "# Se extrae el modelo entrenado del pipeline\n",
    "pca_model = pca_pipe.named_steps['pca']"
   ]
  },
  {
   "cell_type": "code",
   "execution_count": 88,
   "metadata": {},
   "outputs": [],
   "source": [
    "df = df.loc[df.index.drop_duplicates()]"
   ]
  },
  {
   "cell_type": "code",
   "execution_count": 91,
   "metadata": {},
   "outputs": [
    {
     "data": {
      "text/html": [
       "<div>\n",
       "<style scoped>\n",
       "    .dataframe tbody tr th:only-of-type {\n",
       "        vertical-align: middle;\n",
       "    }\n",
       "\n",
       "    .dataframe tbody tr th {\n",
       "        vertical-align: top;\n",
       "    }\n",
       "\n",
       "    .dataframe thead th {\n",
       "        text-align: right;\n",
       "    }\n",
       "</style>\n",
       "<table border=\"1\" class=\"dataframe\">\n",
       "  <thead>\n",
       "    <tr style=\"text-align: right;\">\n",
       "      <th></th>\n",
       "      <th>PC1</th>\n",
       "      <th>PC2</th>\n",
       "      <th>PC3</th>\n",
       "    </tr>\n",
       "  </thead>\n",
       "  <tbody>\n",
       "    <tr>\n",
       "      <th>Tonnage (t)</th>\n",
       "      <td>-0.703581</td>\n",
       "      <td>0.064458</td>\n",
       "      <td>0.707685</td>\n",
       "    </tr>\n",
       "    <tr>\n",
       "      <th>Agitation time (h)</th>\n",
       "      <td>0.702244</td>\n",
       "      <td>-0.089339</td>\n",
       "      <td>0.706309</td>\n",
       "    </tr>\n",
       "    <tr>\n",
       "      <th>Ag dissolution (%)</th>\n",
       "      <td>0.108751</td>\n",
       "      <td>0.993913</td>\n",
       "      <td>0.017592</td>\n",
       "    </tr>\n",
       "  </tbody>\n",
       "</table>\n",
       "</div>"
      ],
      "text/plain": [
       "                         PC1       PC2       PC3\n",
       "Tonnage (t)        -0.703581  0.064458  0.707685\n",
       "Agitation time (h)  0.702244 -0.089339  0.706309\n",
       "Ag dissolution (%)  0.108751  0.993913  0.017592"
      ]
     },
     "execution_count": 91,
     "metadata": {},
     "output_type": "execute_result"
    }
   ],
   "source": [
    "loadings_pca = pd.DataFrame(\n",
    "    data    = pca_model.components_,\n",
    "    columns = df.columns,\n",
    "    index   = ['PC1', 'PC2', 'PC3'])\n",
    "    \n",
    "loadings_pca.T"
   ]
  },
  {
   "cell_type": "code",
   "execution_count": null,
   "metadata": {},
   "outputs": [
    {
     "data": {
      "image/png": "[encoded data removed]",
      "text/plain": [
       "<Figure size 504x360 with 2 Axes>"
      ]
     },
     "metadata": {},
     "output_type": "display_data"
    }
   ],
   "source": [
    "# Heatmap componentes\n",
    "# ==============================================================================\n",
    "fig, ax = plt.subplots(nrows=1, ncols=1, figsize=(7, 5))\n",
    "components = pca_model.components_\n",
    "plt.imshow(components.T, cmap='viridis', aspect='auto')\n",
    "plt.yticks(range(len(df.columns)), df.columns)\n",
    "plt.xticks(range(len(df.columns)), np.arange(pca_model.n_components_) + 1)\n",
    "plt.grid(False)\n",
    "plt.colorbar();"
   ]
  },
  {
   "cell_type": "code",
   "execution_count": null,
   "metadata": {},
   "outputs": [
    {
     "name": "stdout",
     "output_type": "stream",
     "text": [
      "----------------------------------------------------\n",
      "Porcentaje de varianza explicada por cada componente\n",
      "----------------------------------------------------\n",
      "[0.30278576 0.22201401 0.19755197 0.15456541 0.12308285]\n"
     ]
    },
    {
     "data": {
      "image/png": "[encoded data removed]",
      "text/plain": [
       "<Figure size 432x288 with 1 Axes>"
      ]
     },
     "metadata": {},
     "output_type": "display_data"
    }
   ],
   "source": [
    "# Porcentaje de varianza explicada por cada componente\n",
    "# ==============================================================================\n",
    "print('----------------------------------------------------')\n",
    "print('Porcentaje de varianza explicada por cada componente')\n",
    "print('----------------------------------------------------')\n",
    "print(pca_model.explained_variance_ratio_)\n",
    "\n",
    "fig, ax = plt.subplots(nrows=1, ncols=1, figsize=(6, 4))\n",
    "ax.bar(\n",
    "    x      = np.arange(pca_model.n_components_) + 1,\n",
    "    height = pca_model.explained_variance_ratio_\n",
    ")\n",
    "\n",
    "for x, y in zip(np.arange(len(df.columns)) + 1, pca_model.explained_variance_ratio_):\n",
    "    label = round(y, 2)\n",
    "    ax.annotate(\n",
    "        label,\n",
    "        (x,y),\n",
    "        textcoords=\"offset points\",\n",
    "        xytext=(0,10),\n",
    "        ha='center'\n",
    "    )\n",
    "\n",
    "ax.set_xticks(np.arange(pca_model.n_components_) + 1)\n",
    "ax.set_ylim(0, 1.1)\n",
    "ax.set_title('Porcentaje de varianza explicada por cada componente')\n",
    "ax.set_xlabel('Componente principal')\n",
    "ax.set_ylabel('Por. varianza explicada');"
   ]
  },
  {
   "cell_type": "code",
   "execution_count": null,
   "metadata": {},
   "outputs": [
    {
     "name": "stdout",
     "output_type": "stream",
     "text": [
      "------------------------------------------\n",
      "Porcentaje de varianza explicada acumulada\n",
      "------------------------------------------\n",
      "[0.30278576 0.52479977 0.72235174 0.87691715 1.        ]\n"
     ]
    },
    {
     "data": {
      "image/png": "[encoded data removed]",
      "text/plain": [
       "<Figure size 432x288 with 1 Axes>"
      ]
     },
     "metadata": {},
     "output_type": "display_data"
    }
   ],
   "source": [
    "# Porcentaje de varianza explicada acumulada\n",
    "# ==============================================================================\n",
    "prop_varianza_acum = pca_model.explained_variance_ratio_.cumsum()\n",
    "print('------------------------------------------')\n",
    "print('Porcentaje de varianza explicada acumulada')\n",
    "print('------------------------------------------')\n",
    "print(prop_varianza_acum)\n",
    "\n",
    "fig, ax = plt.subplots(nrows=1, ncols=1, figsize=(6, 4))\n",
    "ax.plot(\n",
    "    np.arange(len(df.columns)) + 1,\n",
    "    prop_varianza_acum,\n",
    "    marker = 'o'\n",
    ")\n",
    "\n",
    "for x, y in zip(np.arange(len(df.columns)) + 1, prop_varianza_acum):\n",
    "    label = round(y, 2)\n",
    "    ax.annotate(\n",
    "        label,\n",
    "        (x,y),\n",
    "        textcoords=\"offset points\",\n",
    "        xytext=(0,10),\n",
    "        ha='center'\n",
    "    )\n",
    "    \n",
    "ax.set_ylim(0, 1.1)\n",
    "ax.set_xticks(np.arange(modelo_pca.n_components_) + 1)\n",
    "ax.set_title('Porcentaje de varianza explicada acumulada')\n",
    "ax.set_xlabel('Componente principal')\n",
    "ax.set_ylabel('Por. varianza acumulada');"
   ]
  },
  {
   "cell_type": "markdown",
   "metadata": {},
   "source": [
    "## PCA - Regression"
   ]
  },
  {
   "cell_type": "code",
   "execution_count": null,
   "metadata": {},
   "outputs": [],
   "source": [
    "# Tratamiento de datos\n",
    "# ==============================================================================\n",
    "import numpy as np\n",
    "import pandas as pd\n",
    "import statsmodels.api as sm\n",
    "\n",
    "# Gráficos\n",
    "# ==============================================================================\n",
    "import matplotlib.pyplot as plt\n",
    "import matplotlib.font_manager\n",
    "from matplotlib import style\n",
    "style.use('ggplot') or plt.style.use('ggplot')\n",
    "\n",
    "# Preprocesado y modelado\n",
    "# ==============================================================================\n",
    "from sklearn.decomposition import PCA\n",
    "from sklearn.pipeline import make_pipeline\n",
    "from sklearn.preprocessing import StandardScaler\n",
    "from sklearn.model_selection import KFold\n",
    "from sklearn.model_selection import GridSearchCV\n",
    "from sklearn.linear_model import LinearRegression\n",
    "from sklearn.model_selection import train_test_split\n",
    "from sklearn.metrics import mean_squared_error\n",
    "import multiprocessing\n",
    "# Configuración warnings\n",
    "# ==============================================================================\n",
    "import warnings\n",
    "warnings.filterwarnings('ignore')\n",
    "\n",
    "from sklearn.linear_model import LinearRegression\n",
    "from sklearn.model_selection import train_test_split\n",
    "from sklearn.metrics import mean_squared_error\n"
   ]
  },
  {
   "cell_type": "code",
   "execution_count": null,
   "metadata": {},
   "outputs": [],
   "source": [
    "df = dfk"
   ]
  },
  {
   "cell_type": "code",
   "execution_count": null,
   "metadata": {},
   "outputs": [],
   "source": [
    "X = df.drop(columns=dag)\n",
    "y = df[dag]\n",
    "\n",
    "X_train, X_test, y_train, y_test = train_test_split(\n",
    "                                        X,\n",
    "                                        y.values.reshape(-1,1),\n",
    "                                        train_size   = 0.7,\n",
    "                                        random_state = 1234,\n",
    "                                        shuffle      = True\n",
    "                                    )"
   ]
  },
  {
   "cell_type": "code",
   "execution_count": null,
   "metadata": {},
   "outputs": [
    {
     "data": {
      "text/plain": [
       "Pipeline(steps=[('standardscaler', StandardScaler()), ('pca', PCA()),\n",
       "                ('linearregression', LinearRegression())])"
      ]
     },
     "execution_count": 203,
     "metadata": {},
     "output_type": "execute_result"
    }
   ],
   "source": [
    "pipe_modelado = make_pipeline(StandardScaler(), PCA(), LinearRegression())\n",
    "pipe_modelado.fit(X=X_train, y=y_train)"
   ]
  },
  {
   "cell_type": "code",
   "execution_count": null,
   "metadata": {},
   "outputs": [
    {
     "data": {
      "text/plain": [
       "<bound method Pipeline.set_params of Pipeline(steps=[('standardscaler', StandardScaler()), ('pca', PCA()),\n",
       "                ('linearregression', LinearRegression())])>"
      ]
     },
     "execution_count": 204,
     "metadata": {},
     "output_type": "execute_result"
    }
   ],
   "source": [
    "pipe_modelado.set_params"
   ]
  },
  {
   "cell_type": "code",
   "execution_count": null,
   "metadata": {},
   "outputs": [
    {
     "name": "stdout",
     "output_type": "stream",
     "text": [
      "\n",
      "El error (rmse) de test es: 1.1988575553251606\n"
     ]
    }
   ],
   "source": [
    "# Predicciones test\n",
    "# ==============================================================================\n",
    "predicciones = pipe_modelado.predict(X=X_test)\n",
    "predicciones = predicciones.flatten()\n",
    "\n",
    "# Error de test del modelo \n",
    "# ==============================================================================\n",
    "rmse_pcr = mean_squared_error(\n",
    "            y_true  = y_test,\n",
    "            y_pred  = predicciones,\n",
    "            squared = False\n",
    "           )\n",
    "print(\"\")\n",
    "print(f\"El error (rmse) de test es: {rmse_pcr}\")"
   ]
  },
  {
   "cell_type": "code",
   "execution_count": null,
   "metadata": {},
   "outputs": [
    {
     "data": {
      "text/html": [
       "<div>\n",
       "<style scoped>\n",
       "    .dataframe tbody tr th:only-of-type {\n",
       "        vertical-align: middle;\n",
       "    }\n",
       "\n",
       "    .dataframe tbody tr th {\n",
       "        vertical-align: top;\n",
       "    }\n",
       "\n",
       "    .dataframe thead th {\n",
       "        text-align: right;\n",
       "    }\n",
       "</style>\n",
       "<table border=\"1\" class=\"dataframe\">\n",
       "  <thead>\n",
       "    <tr style=\"text-align: right;\">\n",
       "      <th></th>\n",
       "      <th>param_pca__n_components</th>\n",
       "      <th>mean_test_score</th>\n",
       "      <th>std_test_score</th>\n",
       "      <th>mean_train_score</th>\n",
       "      <th>std_train_score</th>\n",
       "    </tr>\n",
       "  </thead>\n",
       "  <tbody>\n",
       "    <tr>\n",
       "      <th>2</th>\n",
       "      <td>4</td>\n",
       "      <td>-1.881888</td>\n",
       "      <td>0.407821</td>\n",
       "      <td>-1.878790</td>\n",
       "      <td>0.095448</td>\n",
       "    </tr>\n",
       "    <tr>\n",
       "      <th>0</th>\n",
       "      <td>1</td>\n",
       "      <td>-1.890549</td>\n",
       "      <td>0.390730</td>\n",
       "      <td>-1.928120</td>\n",
       "      <td>0.108185</td>\n",
       "    </tr>\n",
       "    <tr>\n",
       "      <th>1</th>\n",
       "      <td>2</td>\n",
       "      <td>-1.909889</td>\n",
       "      <td>0.397134</td>\n",
       "      <td>-1.916583</td>\n",
       "      <td>0.108746</td>\n",
       "    </tr>\n",
       "  </tbody>\n",
       "</table>\n",
       "</div>"
      ],
      "text/plain": [
       "  param_pca__n_components  mean_test_score  std_test_score  mean_train_score  \\\n",
       "2                       4        -1.881888        0.407821         -1.878790   \n",
       "0                       1        -1.890549        0.390730         -1.928120   \n",
       "1                       2        -1.909889        0.397134         -1.916583   \n",
       "\n",
       "   std_train_score  \n",
       "2         0.095448  \n",
       "0         0.108185  \n",
       "1         0.108746  "
      ]
     },
     "execution_count": 206,
     "metadata": {},
     "output_type": "execute_result"
    }
   ],
   "source": [
    "# Grid de hiperparámetros evaluados\n",
    "# ==============================================================================\n",
    "param_grid = {'pca__n_components': [1, 2, 4, 6, 8, 10, 15, 20, 30, 50]}\n",
    "\n",
    "# Búsqueda por grid search con validación cruzada\n",
    "# ==============================================================================\n",
    "grid = GridSearchCV(\n",
    "        estimator  = pipe_modelado,\n",
    "        param_grid = param_grid,\n",
    "        scoring    = 'neg_root_mean_squared_error',\n",
    "        n_jobs     = multiprocessing.cpu_count() - 1,\n",
    "        cv         = KFold(n_splits=5), \n",
    "        refit      = True,\n",
    "        verbose    = 0,\n",
    "        return_train_score = True\n",
    "       )\n",
    "\n",
    "grid.fit(X = X_train, y = y_train)\n",
    "\n",
    "# Resultados\n",
    "# ==============================================================================\n",
    "resultados = pd.DataFrame(grid.cv_results_)\n",
    "resultados.filter(regex = '(param.*|mean_t|std_t)') \\\n",
    "    .drop(columns = 'params') \\\n",
    "    .sort_values('mean_test_score', ascending = False) \\\n",
    "    .head(3)"
   ]
  },
  {
   "cell_type": "code",
   "execution_count": null,
   "metadata": {},
   "outputs": [
    {
     "data": {
      "image/png": "[encoded data removed]",
      "text/plain": [
       "<Figure size 504x276.48 with 1 Axes>"
      ]
     },
     "metadata": {},
     "output_type": "display_data"
    }
   ],
   "source": [
    "# Gráfico resultados validación cruzada para cada hiperparámetro\n",
    "# ==============================================================================\n",
    "fig, ax = plt.subplots(nrows=1, ncols=1, figsize=(7, 3.84), sharey=True)\n",
    "\n",
    "resultados.plot('param_pca__n_components', 'mean_train_score', ax=ax)\n",
    "resultados.plot('param_pca__n_components', 'mean_test_score', ax=ax)\n",
    "ax.fill_between(resultados.param_pca__n_components.astype(np.float),\n",
    "                resultados['mean_train_score'] + resultados['std_train_score'],\n",
    "                resultados['mean_train_score'] - resultados['std_train_score'],\n",
    "                alpha=0.2)\n",
    "ax.fill_between(resultados.param_pca__n_components.astype(np.float),\n",
    "                resultados['mean_test_score'] + resultados['std_test_score'],\n",
    "                resultados['mean_test_score'] - resultados['std_test_score'],\n",
    "                alpha=0.2)\n",
    "ax.legend()\n",
    "ax.set_title('Evolución del error CV')\n",
    "ax.set_ylabel('neg_root_mean_squared_error');"
   ]
  },
  {
   "cell_type": "code",
   "execution_count": null,
   "metadata": {},
   "outputs": [
    {
     "name": "stdout",
     "output_type": "stream",
     "text": [
      "----------------------------------------\n",
      "Mejores hiperparámetros encontrados (cv)\n",
      "----------------------------------------\n",
      "{'pca__n_components': 4} : -1.8818878517476219 neg_root_mean_squared_error\n"
     ]
    }
   ],
   "source": [
    "# Mejores hiperparámetros por validación cruzada\n",
    "# ==============================================================================\n",
    "print(\"----------------------------------------\")\n",
    "print(\"Mejores hiperparámetros encontrados (cv)\")\n",
    "print(\"----------------------------------------\")\n",
    "print(grid.best_params_, \":\", grid.best_score_, grid.scoring)"
   ]
  },
  {
   "cell_type": "code",
   "execution_count": null,
   "metadata": {},
   "outputs": [
    {
     "data": {
      "text/plain": [
       "Pipeline(steps=[('standardscaler', StandardScaler()),\n",
       "                ('pca', PCA(n_components=4)),\n",
       "                ('linearregression', LinearRegression())])"
      ]
     },
     "execution_count": 209,
     "metadata": {},
     "output_type": "execute_result"
    }
   ],
   "source": [
    "# Entrenamiento modelo de regresión precedido por PCA con escalado\n",
    "# ==============================================================================\n",
    "pipe_modelado = make_pipeline(StandardScaler(), PCA(n_components=4), LinearRegression())\n",
    "pipe_modelado.fit(X=X_train, y=y_train)"
   ]
  },
  {
   "cell_type": "code",
   "execution_count": null,
   "metadata": {},
   "outputs": [
    {
     "name": "stdout",
     "output_type": "stream",
     "text": [
      "\n",
      "El error (rmse) de test es: 1.1988575553251606\n"
     ]
    }
   ],
   "source": [
    "# Predicciones test\n",
    "# ==============================================================================\n",
    "predicciones = pipe_modelado.predict(X=X_test)\n",
    "predicciones = predicciones.flatten()\n",
    "\n",
    "# Error de test del modelo \n",
    "# ==============================================================================\n",
    "rmse_pcr = mean_squared_error(\n",
    "            y_true  = y_test,\n",
    "            y_pred  = predicciones,\n",
    "            squared = False\n",
    "           )\n",
    "print(\"\")\n",
    "print(f\"El error (rmse) de test es: {rmse_pcr}\")"
   ]
  },
  {
   "cell_type": "code",
   "execution_count": null,
   "metadata": {},
   "outputs": [
    {
     "data": {
      "text/html": [
       "<div>\n",
       "<style scoped>\n",
       "    .dataframe tbody tr th:only-of-type {\n",
       "        vertical-align: middle;\n",
       "    }\n",
       "\n",
       "    .dataframe tbody tr th {\n",
       "        vertical-align: top;\n",
       "    }\n",
       "\n",
       "    .dataframe thead th {\n",
       "        text-align: right;\n",
       "    }\n",
       "</style>\n",
       "<table border=\"1\" class=\"dataframe\">\n",
       "  <thead>\n",
       "    <tr style=\"text-align: right;\">\n",
       "      <th></th>\n",
       "      <th>F80 BM (μm)</th>\n",
       "      <th>P80 BFD (μm)</th>\n",
       "      <th>Tonnage (t)</th>\n",
       "      <th>Cu head grade (%)</th>\n",
       "      <th>Ag dissolution (%)</th>\n",
       "    </tr>\n",
       "  </thead>\n",
       "  <tbody>\n",
       "    <tr>\n",
       "      <th>PC1</th>\n",
       "      <td>-0.442648</td>\n",
       "      <td>-0.348186</td>\n",
       "      <td>-0.026529</td>\n",
       "      <td>0.557991</td>\n",
       "      <td>0.60891</td>\n",
       "    </tr>\n",
       "    <tr>\n",
       "      <th>PC2</th>\n",
       "      <td>0.040043</td>\n",
       "      <td>-0.225615</td>\n",
       "      <td>-0.867877</td>\n",
       "      <td>-0.384823</td>\n",
       "      <td>0.21493</td>\n",
       "    </tr>\n",
       "    <tr>\n",
       "      <th>PC3</th>\n",
       "      <td>-0.624105</td>\n",
       "      <td>0.748269</td>\n",
       "      <td>-0.130961</td>\n",
       "      <td>-0.149421</td>\n",
       "      <td>0.10540</td>\n",
       "    </tr>\n",
       "    <tr>\n",
       "      <th>PC4</th>\n",
       "      <td>0.631168</td>\n",
       "      <td>0.516528</td>\n",
       "      <td>-0.178004</td>\n",
       "      <td>0.384431</td>\n",
       "      <td>0.39415</td>\n",
       "    </tr>\n",
       "  </tbody>\n",
       "</table>\n",
       "</div>"
      ],
      "text/plain": [
       "     F80 BM (μm)  P80 BFD (μm)  Tonnage (t)  Cu head grade (%)  \\\n",
       "PC1    -0.442648     -0.348186    -0.026529           0.557991   \n",
       "PC2     0.040043     -0.225615    -0.867877          -0.384823   \n",
       "PC3    -0.624105      0.748269    -0.130961          -0.149421   \n",
       "PC4     0.631168      0.516528    -0.178004           0.384431   \n",
       "\n",
       "     Ag dissolution (%)  \n",
       "PC1             0.60891  \n",
       "PC2             0.21493  \n",
       "PC3             0.10540  \n",
       "PC4             0.39415  "
      ]
     },
     "execution_count": 211,
     "metadata": {},
     "output_type": "execute_result"
    }
   ],
   "source": [
    "loadings_pca[0:4]"
   ]
  }
 ],
 "metadata": {
  "interpreter": {
   "hash": "af6a57148d8251e394aaba2ac1a65307d2863bd3d511ca7f236e568805850424"
  },
  "kernelspec": {
   "display_name": "Python 3.10.2 64-bit",
   "language": "python",
   "name": "python3"
  },
  "language_info": {
   "codemirror_mode": {
    "name": "ipython",
    "version": 3
   },
   "file_extension": ".py",
   "mimetype": "text/x-python",
   "name": "python",
   "nbconvert_exporter": "python",
   "pygments_lexer": "ipython3",
   "version": "3.10.2"
  },
  "orig_nbformat": 4
 },
 "nbformat": 4,
 "nbformat_minor": 2
}
