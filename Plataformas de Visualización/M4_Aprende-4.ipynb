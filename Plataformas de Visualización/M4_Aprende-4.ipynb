{
  "nbformat": 4,
  "nbformat_minor": 0,
  "metadata": {
    "colab": {
      "name": "Copy of M4 - Enunciados Aprende.ipynb",
      "provenance": []
    },
    "kernelspec": {
      "display_name": "Python 3",
      "name": "python3"
    },
    "language_info": {
      "name": "python"
    }
  },
  "cells": [
    {
      "cell_type": "markdown",
      "metadata": {
        "id": "GJ1jpKGYVQkL"
      },
      "source": [
        "**MÓDULO 4 - PLATAFORMAS DE VISUALIZACIÓN**\n",
        "\n",
        "---\n",
        "\n",
        "**SESIÓN: Aprende**"
      ]
    },
    {
      "cell_type": "code",
      "metadata": {
        "id": "yNS_hRi2J5Ir"
      },
      "source": [
        "import pandas as pd"
      ],
      "execution_count": 4,
      "outputs": []
    },
    {
      "cell_type": "markdown",
      "metadata": {
        "id": "m3uFwVSKIkVk"
      },
      "source": [
        "# **TEMA 1. Exploración y validación de datos**"
      ]
    },
    {
      "cell_type": "markdown",
      "metadata": {
        "id": "HCK2qVuwetlR"
      },
      "source": [
        "## 1.1 Rangos típicos, categorías y valores faltantes"
      ]
    },
    {
      "cell_type": "markdown",
      "metadata": {
        "id": "EQg4IFVG9XWs"
      },
      "source": [
        "Sube a tu drive los dos archivos csv que el instructor te proporcionará y crea una nueva libreta en Colab para:\n",
        "\n",
        "*   Leer dichos archivos en dos dataframes: `countries` y `cities` \n"
      ]
    },
    {
      "cell_type": "code",
      "metadata": {
        "colab": {
          "base_uri": "https://localhost:8080/",
          "height": 690
        },
        "id": "Xy0tKNfyWs0k",
        "outputId": "e3ee5773-f5ba-4e1f-84b7-9c1b4282b461"
      },
      "source": [
        "countries = pd.read_csv('/content/drive/MyDrive/Colab Notebooks/DS & AI - M4/M4 | Aprende/world_table_country.csv')\n",
        "countries"
      ],
      "execution_count": 5,
      "outputs": [
        {
          "output_type": "execute_result",
          "data": {
            "text/plain": [
              "    Code          Name      Continent                     Region  SurfaceArea  \\\n",
              "0    ABW         Aruba  North America                  Caribbean        193.0   \n",
              "1    AFG   Afghanistan           Asia  Southern and Central Asia     652090.0   \n",
              "2    AGO        Angola         Africa             Central Africa    1246700.0   \n",
              "3    AIA      Anguilla  North America                  Caribbean         96.0   \n",
              "4    ALB       Albania         Europe            Southern Europe      28748.0   \n",
              "..   ...           ...            ...                        ...          ...   \n",
              "234  YEM         Yemen           Asia                Middle East     527968.0   \n",
              "235  YUG    Yugoslavia         Europe            Southern Europe     102173.0   \n",
              "236  ZAF  South Africa         Africa            Southern Africa    1221037.0   \n",
              "237  ZMB        Zambia         Africa             Eastern Africa     752618.0   \n",
              "238  ZWE      Zimbabwe         Africa             Eastern Africa     390757.0   \n",
              "\n",
              "     IndepYear  Population  LifeExpectancy       GNP    GNPOld  \\\n",
              "0          NaN      103000            78.4     828.0     793.0   \n",
              "1       1919.0    22720000            45.9    5976.0       NaN   \n",
              "2       1975.0    12878000            38.3    6648.0    7984.0   \n",
              "3          NaN        8000            76.1      63.2       NaN   \n",
              "4       1912.0     3401200            71.6    3205.0    2500.0   \n",
              "..         ...         ...             ...       ...       ...   \n",
              "234     1918.0    18112000            59.8    6041.0    5729.0   \n",
              "235     1918.0    10640000            72.4   17000.0       NaN   \n",
              "236     1910.0    40377000            51.1  116729.0  129092.0   \n",
              "237     1964.0     9169000            37.2    3377.0    3922.0   \n",
              "238     1980.0    11669000            37.8    5951.0    8670.0   \n",
              "\n",
              "                 LocalName                                GovernmentForm  \\\n",
              "0                    Aruba  Nonmetropolitan Territory of The Netherlands   \n",
              "1    Afganistan/Afqanestan                               Islamic Emirate   \n",
              "2                   Angola                                      Republic   \n",
              "3                 Anguilla                 Dependent Territory of the UK   \n",
              "4                Shqipëria                                      Republic   \n",
              "..                     ...                                           ...   \n",
              "234               Al-Yaman                                      Republic   \n",
              "235            Jugoslavija                              Federal Republic   \n",
              "236           South Africa                                      Republic   \n",
              "237                 Zambia                                      Republic   \n",
              "238               Zimbabwe                                      Republic   \n",
              "\n",
              "     Capital  \n",
              "0      129.0  \n",
              "1        1.0  \n",
              "2       56.0  \n",
              "3       62.0  \n",
              "4       34.0  \n",
              "..       ...  \n",
              "234   1780.0  \n",
              "235   1792.0  \n",
              "236    716.0  \n",
              "237   3162.0  \n",
              "238   4068.0  \n",
              "\n",
              "[239 rows x 13 columns]"
            ],
            "text/html": [
              "\n",
              "  <div id=\"df-335b7008-8284-4a93-a972-382bc2f8c7f4\">\n",
              "    <div class=\"colab-df-container\">\n",
              "      <div>\n",
              "<style scoped>\n",
              "    .dataframe tbody tr th:only-of-type {\n",
              "        vertical-align: middle;\n",
              "    }\n",
              "\n",
              "    .dataframe tbody tr th {\n",
              "        vertical-align: top;\n",
              "    }\n",
              "\n",
              "    .dataframe thead th {\n",
              "        text-align: right;\n",
              "    }\n",
              "</style>\n",
              "<table border=\"1\" class=\"dataframe\">\n",
              "  <thead>\n",
              "    <tr style=\"text-align: right;\">\n",
              "      <th></th>\n",
              "      <th>Code</th>\n",
              "      <th>Name</th>\n",
              "      <th>Continent</th>\n",
              "      <th>Region</th>\n",
              "      <th>SurfaceArea</th>\n",
              "      <th>IndepYear</th>\n",
              "      <th>Population</th>\n",
              "      <th>LifeExpectancy</th>\n",
              "      <th>GNP</th>\n",
              "      <th>GNPOld</th>\n",
              "      <th>LocalName</th>\n",
              "      <th>GovernmentForm</th>\n",
              "      <th>Capital</th>\n",
              "    </tr>\n",
              "  </thead>\n",
              "  <tbody>\n",
              "    <tr>\n",
              "      <th>0</th>\n",
              "      <td>ABW</td>\n",
              "      <td>Aruba</td>\n",
              "      <td>North America</td>\n",
              "      <td>Caribbean</td>\n",
              "      <td>193.0</td>\n",
              "      <td>NaN</td>\n",
              "      <td>103000</td>\n",
              "      <td>78.4</td>\n",
              "      <td>828.0</td>\n",
              "      <td>793.0</td>\n",
              "      <td>Aruba</td>\n",
              "      <td>Nonmetropolitan Territory of The Netherlands</td>\n",
              "      <td>129.0</td>\n",
              "    </tr>\n",
              "    <tr>\n",
              "      <th>1</th>\n",
              "      <td>AFG</td>\n",
              "      <td>Afghanistan</td>\n",
              "      <td>Asia</td>\n",
              "      <td>Southern and Central Asia</td>\n",
              "      <td>652090.0</td>\n",
              "      <td>1919.0</td>\n",
              "      <td>22720000</td>\n",
              "      <td>45.9</td>\n",
              "      <td>5976.0</td>\n",
              "      <td>NaN</td>\n",
              "      <td>Afganistan/Afqanestan</td>\n",
              "      <td>Islamic Emirate</td>\n",
              "      <td>1.0</td>\n",
              "    </tr>\n",
              "    <tr>\n",
              "      <th>2</th>\n",
              "      <td>AGO</td>\n",
              "      <td>Angola</td>\n",
              "      <td>Africa</td>\n",
              "      <td>Central Africa</td>\n",
              "      <td>1246700.0</td>\n",
              "      <td>1975.0</td>\n",
              "      <td>12878000</td>\n",
              "      <td>38.3</td>\n",
              "      <td>6648.0</td>\n",
              "      <td>7984.0</td>\n",
              "      <td>Angola</td>\n",
              "      <td>Republic</td>\n",
              "      <td>56.0</td>\n",
              "    </tr>\n",
              "    <tr>\n",
              "      <th>3</th>\n",
              "      <td>AIA</td>\n",
              "      <td>Anguilla</td>\n",
              "      <td>North America</td>\n",
              "      <td>Caribbean</td>\n",
              "      <td>96.0</td>\n",
              "      <td>NaN</td>\n",
              "      <td>8000</td>\n",
              "      <td>76.1</td>\n",
              "      <td>63.2</td>\n",
              "      <td>NaN</td>\n",
              "      <td>Anguilla</td>\n",
              "      <td>Dependent Territory of the UK</td>\n",
              "      <td>62.0</td>\n",
              "    </tr>\n",
              "    <tr>\n",
              "      <th>4</th>\n",
              "      <td>ALB</td>\n",
              "      <td>Albania</td>\n",
              "      <td>Europe</td>\n",
              "      <td>Southern Europe</td>\n",
              "      <td>28748.0</td>\n",
              "      <td>1912.0</td>\n",
              "      <td>3401200</td>\n",
              "      <td>71.6</td>\n",
              "      <td>3205.0</td>\n",
              "      <td>2500.0</td>\n",
              "      <td>Shqipëria</td>\n",
              "      <td>Republic</td>\n",
              "      <td>34.0</td>\n",
              "    </tr>\n",
              "    <tr>\n",
              "      <th>...</th>\n",
              "      <td>...</td>\n",
              "      <td>...</td>\n",
              "      <td>...</td>\n",
              "      <td>...</td>\n",
              "      <td>...</td>\n",
              "      <td>...</td>\n",
              "      <td>...</td>\n",
              "      <td>...</td>\n",
              "      <td>...</td>\n",
              "      <td>...</td>\n",
              "      <td>...</td>\n",
              "      <td>...</td>\n",
              "      <td>...</td>\n",
              "    </tr>\n",
              "    <tr>\n",
              "      <th>234</th>\n",
              "      <td>YEM</td>\n",
              "      <td>Yemen</td>\n",
              "      <td>Asia</td>\n",
              "      <td>Middle East</td>\n",
              "      <td>527968.0</td>\n",
              "      <td>1918.0</td>\n",
              "      <td>18112000</td>\n",
              "      <td>59.8</td>\n",
              "      <td>6041.0</td>\n",
              "      <td>5729.0</td>\n",
              "      <td>Al-Yaman</td>\n",
              "      <td>Republic</td>\n",
              "      <td>1780.0</td>\n",
              "    </tr>\n",
              "    <tr>\n",
              "      <th>235</th>\n",
              "      <td>YUG</td>\n",
              "      <td>Yugoslavia</td>\n",
              "      <td>Europe</td>\n",
              "      <td>Southern Europe</td>\n",
              "      <td>102173.0</td>\n",
              "      <td>1918.0</td>\n",
              "      <td>10640000</td>\n",
              "      <td>72.4</td>\n",
              "      <td>17000.0</td>\n",
              "      <td>NaN</td>\n",
              "      <td>Jugoslavija</td>\n",
              "      <td>Federal Republic</td>\n",
              "      <td>1792.0</td>\n",
              "    </tr>\n",
              "    <tr>\n",
              "      <th>236</th>\n",
              "      <td>ZAF</td>\n",
              "      <td>South Africa</td>\n",
              "      <td>Africa</td>\n",
              "      <td>Southern Africa</td>\n",
              "      <td>1221037.0</td>\n",
              "      <td>1910.0</td>\n",
              "      <td>40377000</td>\n",
              "      <td>51.1</td>\n",
              "      <td>116729.0</td>\n",
              "      <td>129092.0</td>\n",
              "      <td>South Africa</td>\n",
              "      <td>Republic</td>\n",
              "      <td>716.0</td>\n",
              "    </tr>\n",
              "    <tr>\n",
              "      <th>237</th>\n",
              "      <td>ZMB</td>\n",
              "      <td>Zambia</td>\n",
              "      <td>Africa</td>\n",
              "      <td>Eastern Africa</td>\n",
              "      <td>752618.0</td>\n",
              "      <td>1964.0</td>\n",
              "      <td>9169000</td>\n",
              "      <td>37.2</td>\n",
              "      <td>3377.0</td>\n",
              "      <td>3922.0</td>\n",
              "      <td>Zambia</td>\n",
              "      <td>Republic</td>\n",
              "      <td>3162.0</td>\n",
              "    </tr>\n",
              "    <tr>\n",
              "      <th>238</th>\n",
              "      <td>ZWE</td>\n",
              "      <td>Zimbabwe</td>\n",
              "      <td>Africa</td>\n",
              "      <td>Eastern Africa</td>\n",
              "      <td>390757.0</td>\n",
              "      <td>1980.0</td>\n",
              "      <td>11669000</td>\n",
              "      <td>37.8</td>\n",
              "      <td>5951.0</td>\n",
              "      <td>8670.0</td>\n",
              "      <td>Zimbabwe</td>\n",
              "      <td>Republic</td>\n",
              "      <td>4068.0</td>\n",
              "    </tr>\n",
              "  </tbody>\n",
              "</table>\n",
              "<p>239 rows × 13 columns</p>\n",
              "</div>\n",
              "      <button class=\"colab-df-convert\" onclick=\"convertToInteractive('df-335b7008-8284-4a93-a972-382bc2f8c7f4')\"\n",
              "              title=\"Convert this dataframe to an interactive table.\"\n",
              "              style=\"display:none;\">\n",
              "        \n",
              "  <svg xmlns=\"http://www.w3.org/2000/svg\" height=\"24px\"viewBox=\"0 0 24 24\"\n",
              "       width=\"24px\">\n",
              "    <path d=\"M0 0h24v24H0V0z\" fill=\"none\"/>\n",
              "    <path d=\"M18.56 5.44l.94 2.06.94-2.06 2.06-.94-2.06-.94-.94-2.06-.94 2.06-2.06.94zm-11 1L8.5 8.5l.94-2.06 2.06-.94-2.06-.94L8.5 2.5l-.94 2.06-2.06.94zm10 10l.94 2.06.94-2.06 2.06-.94-2.06-.94-.94-2.06-.94 2.06-2.06.94z\"/><path d=\"M17.41 7.96l-1.37-1.37c-.4-.4-.92-.59-1.43-.59-.52 0-1.04.2-1.43.59L10.3 9.45l-7.72 7.72c-.78.78-.78 2.05 0 2.83L4 21.41c.39.39.9.59 1.41.59.51 0 1.02-.2 1.41-.59l7.78-7.78 2.81-2.81c.8-.78.8-2.07 0-2.86zM5.41 20L4 18.59l7.72-7.72 1.47 1.35L5.41 20z\"/>\n",
              "  </svg>\n",
              "      </button>\n",
              "      \n",
              "  <style>\n",
              "    .colab-df-container {\n",
              "      display:flex;\n",
              "      flex-wrap:wrap;\n",
              "      gap: 12px;\n",
              "    }\n",
              "\n",
              "    .colab-df-convert {\n",
              "      background-color: #E8F0FE;\n",
              "      border: none;\n",
              "      border-radius: 50%;\n",
              "      cursor: pointer;\n",
              "      display: none;\n",
              "      fill: #1967D2;\n",
              "      height: 32px;\n",
              "      padding: 0 0 0 0;\n",
              "      width: 32px;\n",
              "    }\n",
              "\n",
              "    .colab-df-convert:hover {\n",
              "      background-color: #E2EBFA;\n",
              "      box-shadow: 0px 1px 2px rgba(60, 64, 67, 0.3), 0px 1px 3px 1px rgba(60, 64, 67, 0.15);\n",
              "      fill: #174EA6;\n",
              "    }\n",
              "\n",
              "    [theme=dark] .colab-df-convert {\n",
              "      background-color: #3B4455;\n",
              "      fill: #D2E3FC;\n",
              "    }\n",
              "\n",
              "    [theme=dark] .colab-df-convert:hover {\n",
              "      background-color: #434B5C;\n",
              "      box-shadow: 0px 1px 3px 1px rgba(0, 0, 0, 0.15);\n",
              "      filter: drop-shadow(0px 1px 2px rgba(0, 0, 0, 0.3));\n",
              "      fill: #FFFFFF;\n",
              "    }\n",
              "  </style>\n",
              "\n",
              "      <script>\n",
              "        const buttonEl =\n",
              "          document.querySelector('#df-335b7008-8284-4a93-a972-382bc2f8c7f4 button.colab-df-convert');\n",
              "        buttonEl.style.display =\n",
              "          google.colab.kernel.accessAllowed ? 'block' : 'none';\n",
              "\n",
              "        async function convertToInteractive(key) {\n",
              "          const element = document.querySelector('#df-335b7008-8284-4a93-a972-382bc2f8c7f4');\n",
              "          const dataTable =\n",
              "            await google.colab.kernel.invokeFunction('convertToInteractive',\n",
              "                                                     [key], {});\n",
              "          if (!dataTable) return;\n",
              "\n",
              "          const docLinkHtml = 'Like what you see? Visit the ' +\n",
              "            '<a target=\"_blank\" href=https://colab.research.google.com/notebooks/data_table.ipynb>data table notebook</a>'\n",
              "            + ' to learn more about interactive tables.';\n",
              "          element.innerHTML = '';\n",
              "          dataTable['output_type'] = 'display_data';\n",
              "          await google.colab.output.renderOutput(dataTable, element);\n",
              "          const docLink = document.createElement('div');\n",
              "          docLink.innerHTML = docLinkHtml;\n",
              "          element.appendChild(docLink);\n",
              "        }\n",
              "      </script>\n",
              "    </div>\n",
              "  </div>\n",
              "  "
            ]
          },
          "metadata": {},
          "execution_count": 5
        }
      ]
    },
    {
      "cell_type": "code",
      "metadata": {
        "colab": {
          "base_uri": "https://localhost:8080/",
          "height": 411
        },
        "id": "vW11NZiDXJIj",
        "outputId": "ff9684dd-232e-404d-b478-0b227c889bac"
      },
      "source": [
        "cities = pd.read_csv('/content/drive/MyDrive/Colab Notebooks/DS & AI - M4/M4 | Aprende/world_table_city.csv')\n",
        "cities"
      ],
      "execution_count": 6,
      "outputs": [
        {
          "output_type": "execute_result",
          "data": {
            "text/plain": [
              "        ID            Name CountryCode       District  Population\n",
              "0        1           Kabul         AFG          Kabol     1780000\n",
              "1        2        Qandahar         AFG       Qandahar      237500\n",
              "2        3           Herat         AFG          Herat      186800\n",
              "3        4  Mazar-e-Sharif         AFG          Balkh      127800\n",
              "4        5       Amsterdam         NLD  Noord-Holland      731200\n",
              "...    ...             ...         ...            ...         ...\n",
              "4074  4075      Khan Yunis         PSE     Khan Yunis      123175\n",
              "4075  4076          Hebron         PSE         Hebron      119401\n",
              "4076  4077        Jabaliya         PSE     North Gaza      113901\n",
              "4077  4078          Nablus         PSE         Nablus      100231\n",
              "4078  4079           Rafah         PSE          Rafah       92020\n",
              "\n",
              "[4079 rows x 5 columns]"
            ],
            "text/html": [
              "\n",
              "  <div id=\"df-e8380781-a1c4-484c-8e6b-79ac095bd8eb\">\n",
              "    <div class=\"colab-df-container\">\n",
              "      <div>\n",
              "<style scoped>\n",
              "    .dataframe tbody tr th:only-of-type {\n",
              "        vertical-align: middle;\n",
              "    }\n",
              "\n",
              "    .dataframe tbody tr th {\n",
              "        vertical-align: top;\n",
              "    }\n",
              "\n",
              "    .dataframe thead th {\n",
              "        text-align: right;\n",
              "    }\n",
              "</style>\n",
              "<table border=\"1\" class=\"dataframe\">\n",
              "  <thead>\n",
              "    <tr style=\"text-align: right;\">\n",
              "      <th></th>\n",
              "      <th>ID</th>\n",
              "      <th>Name</th>\n",
              "      <th>CountryCode</th>\n",
              "      <th>District</th>\n",
              "      <th>Population</th>\n",
              "    </tr>\n",
              "  </thead>\n",
              "  <tbody>\n",
              "    <tr>\n",
              "      <th>0</th>\n",
              "      <td>1</td>\n",
              "      <td>Kabul</td>\n",
              "      <td>AFG</td>\n",
              "      <td>Kabol</td>\n",
              "      <td>1780000</td>\n",
              "    </tr>\n",
              "    <tr>\n",
              "      <th>1</th>\n",
              "      <td>2</td>\n",
              "      <td>Qandahar</td>\n",
              "      <td>AFG</td>\n",
              "      <td>Qandahar</td>\n",
              "      <td>237500</td>\n",
              "    </tr>\n",
              "    <tr>\n",
              "      <th>2</th>\n",
              "      <td>3</td>\n",
              "      <td>Herat</td>\n",
              "      <td>AFG</td>\n",
              "      <td>Herat</td>\n",
              "      <td>186800</td>\n",
              "    </tr>\n",
              "    <tr>\n",
              "      <th>3</th>\n",
              "      <td>4</td>\n",
              "      <td>Mazar-e-Sharif</td>\n",
              "      <td>AFG</td>\n",
              "      <td>Balkh</td>\n",
              "      <td>127800</td>\n",
              "    </tr>\n",
              "    <tr>\n",
              "      <th>4</th>\n",
              "      <td>5</td>\n",
              "      <td>Amsterdam</td>\n",
              "      <td>NLD</td>\n",
              "      <td>Noord-Holland</td>\n",
              "      <td>731200</td>\n",
              "    </tr>\n",
              "    <tr>\n",
              "      <th>...</th>\n",
              "      <td>...</td>\n",
              "      <td>...</td>\n",
              "      <td>...</td>\n",
              "      <td>...</td>\n",
              "      <td>...</td>\n",
              "    </tr>\n",
              "    <tr>\n",
              "      <th>4074</th>\n",
              "      <td>4075</td>\n",
              "      <td>Khan Yunis</td>\n",
              "      <td>PSE</td>\n",
              "      <td>Khan Yunis</td>\n",
              "      <td>123175</td>\n",
              "    </tr>\n",
              "    <tr>\n",
              "      <th>4075</th>\n",
              "      <td>4076</td>\n",
              "      <td>Hebron</td>\n",
              "      <td>PSE</td>\n",
              "      <td>Hebron</td>\n",
              "      <td>119401</td>\n",
              "    </tr>\n",
              "    <tr>\n",
              "      <th>4076</th>\n",
              "      <td>4077</td>\n",
              "      <td>Jabaliya</td>\n",
              "      <td>PSE</td>\n",
              "      <td>North Gaza</td>\n",
              "      <td>113901</td>\n",
              "    </tr>\n",
              "    <tr>\n",
              "      <th>4077</th>\n",
              "      <td>4078</td>\n",
              "      <td>Nablus</td>\n",
              "      <td>PSE</td>\n",
              "      <td>Nablus</td>\n",
              "      <td>100231</td>\n",
              "    </tr>\n",
              "    <tr>\n",
              "      <th>4078</th>\n",
              "      <td>4079</td>\n",
              "      <td>Rafah</td>\n",
              "      <td>PSE</td>\n",
              "      <td>Rafah</td>\n",
              "      <td>92020</td>\n",
              "    </tr>\n",
              "  </tbody>\n",
              "</table>\n",
              "<p>4079 rows × 5 columns</p>\n",
              "</div>\n",
              "      <button class=\"colab-df-convert\" onclick=\"convertToInteractive('df-e8380781-a1c4-484c-8e6b-79ac095bd8eb')\"\n",
              "              title=\"Convert this dataframe to an interactive table.\"\n",
              "              style=\"display:none;\">\n",
              "        \n",
              "  <svg xmlns=\"http://www.w3.org/2000/svg\" height=\"24px\"viewBox=\"0 0 24 24\"\n",
              "       width=\"24px\">\n",
              "    <path d=\"M0 0h24v24H0V0z\" fill=\"none\"/>\n",
              "    <path d=\"M18.56 5.44l.94 2.06.94-2.06 2.06-.94-2.06-.94-.94-2.06-.94 2.06-2.06.94zm-11 1L8.5 8.5l.94-2.06 2.06-.94-2.06-.94L8.5 2.5l-.94 2.06-2.06.94zm10 10l.94 2.06.94-2.06 2.06-.94-2.06-.94-.94-2.06-.94 2.06-2.06.94z\"/><path d=\"M17.41 7.96l-1.37-1.37c-.4-.4-.92-.59-1.43-.59-.52 0-1.04.2-1.43.59L10.3 9.45l-7.72 7.72c-.78.78-.78 2.05 0 2.83L4 21.41c.39.39.9.59 1.41.59.51 0 1.02-.2 1.41-.59l7.78-7.78 2.81-2.81c.8-.78.8-2.07 0-2.86zM5.41 20L4 18.59l7.72-7.72 1.47 1.35L5.41 20z\"/>\n",
              "  </svg>\n",
              "      </button>\n",
              "      \n",
              "  <style>\n",
              "    .colab-df-container {\n",
              "      display:flex;\n",
              "      flex-wrap:wrap;\n",
              "      gap: 12px;\n",
              "    }\n",
              "\n",
              "    .colab-df-convert {\n",
              "      background-color: #E8F0FE;\n",
              "      border: none;\n",
              "      border-radius: 50%;\n",
              "      cursor: pointer;\n",
              "      display: none;\n",
              "      fill: #1967D2;\n",
              "      height: 32px;\n",
              "      padding: 0 0 0 0;\n",
              "      width: 32px;\n",
              "    }\n",
              "\n",
              "    .colab-df-convert:hover {\n",
              "      background-color: #E2EBFA;\n",
              "      box-shadow: 0px 1px 2px rgba(60, 64, 67, 0.3), 0px 1px 3px 1px rgba(60, 64, 67, 0.15);\n",
              "      fill: #174EA6;\n",
              "    }\n",
              "\n",
              "    [theme=dark] .colab-df-convert {\n",
              "      background-color: #3B4455;\n",
              "      fill: #D2E3FC;\n",
              "    }\n",
              "\n",
              "    [theme=dark] .colab-df-convert:hover {\n",
              "      background-color: #434B5C;\n",
              "      box-shadow: 0px 1px 3px 1px rgba(0, 0, 0, 0.15);\n",
              "      filter: drop-shadow(0px 1px 2px rgba(0, 0, 0, 0.3));\n",
              "      fill: #FFFFFF;\n",
              "    }\n",
              "  </style>\n",
              "\n",
              "      <script>\n",
              "        const buttonEl =\n",
              "          document.querySelector('#df-e8380781-a1c4-484c-8e6b-79ac095bd8eb button.colab-df-convert');\n",
              "        buttonEl.style.display =\n",
              "          google.colab.kernel.accessAllowed ? 'block' : 'none';\n",
              "\n",
              "        async function convertToInteractive(key) {\n",
              "          const element = document.querySelector('#df-e8380781-a1c4-484c-8e6b-79ac095bd8eb');\n",
              "          const dataTable =\n",
              "            await google.colab.kernel.invokeFunction('convertToInteractive',\n",
              "                                                     [key], {});\n",
              "          if (!dataTable) return;\n",
              "\n",
              "          const docLinkHtml = 'Like what you see? Visit the ' +\n",
              "            '<a target=\"_blank\" href=https://colab.research.google.com/notebooks/data_table.ipynb>data table notebook</a>'\n",
              "            + ' to learn more about interactive tables.';\n",
              "          element.innerHTML = '';\n",
              "          dataTable['output_type'] = 'display_data';\n",
              "          await google.colab.output.renderOutput(dataTable, element);\n",
              "          const docLink = document.createElement('div');\n",
              "          docLink.innerHTML = docLinkHtml;\n",
              "          element.appendChild(docLink);\n",
              "        }\n",
              "      </script>\n",
              "    </div>\n",
              "  </div>\n",
              "  "
            ]
          },
          "metadata": {},
          "execution_count": 6
        }
      ]
    },
    {
      "cell_type": "markdown",
      "metadata": {
        "id": "lOixpTny-G0I"
      },
      "source": [
        "*   Realizar un análisis de la estructura de `countries`\n"
      ]
    },
    {
      "cell_type": "code",
      "metadata": {
        "id": "FHhvHqSA8w9M",
        "colab": {
          "base_uri": "https://localhost:8080/"
        },
        "outputId": "caa4ddda-7b9c-47dc-e43f-e38fe3a3b832"
      },
      "source": [
        "countries.shape"
      ],
      "execution_count": 7,
      "outputs": [
        {
          "output_type": "execute_result",
          "data": {
            "text/plain": [
              "(239, 13)"
            ]
          },
          "metadata": {},
          "execution_count": 7
        }
      ]
    },
    {
      "cell_type": "code",
      "source": [
        "countries.columns"
      ],
      "metadata": {
        "colab": {
          "base_uri": "https://localhost:8080/"
        },
        "id": "I3zxJJ2ft6RM",
        "outputId": "6569ca6f-1430-448c-f57e-bc70c255d47a"
      },
      "execution_count": 8,
      "outputs": [
        {
          "output_type": "execute_result",
          "data": {
            "text/plain": [
              "Index(['Code', 'Name', 'Continent', 'Region', 'SurfaceArea', 'IndepYear',\n",
              "       'Population', 'LifeExpectancy', 'GNP', 'GNPOld', 'LocalName',\n",
              "       'GovernmentForm', 'Capital'],\n",
              "      dtype='object')"
            ]
          },
          "metadata": {},
          "execution_count": 8
        }
      ]
    },
    {
      "cell_type": "code",
      "source": [
        "countries.index"
      ],
      "metadata": {
        "colab": {
          "base_uri": "https://localhost:8080/"
        },
        "id": "rh2HQ63MuCGN",
        "outputId": "e78a92b7-26c9-4d7d-aa87-68aef04ef6fd"
      },
      "execution_count": 9,
      "outputs": [
        {
          "output_type": "execute_result",
          "data": {
            "text/plain": [
              "RangeIndex(start=0, stop=239, step=1)"
            ]
          },
          "metadata": {},
          "execution_count": 9
        }
      ]
    },
    {
      "cell_type": "code",
      "source": [
        "countries.dtypes"
      ],
      "metadata": {
        "colab": {
          "base_uri": "https://localhost:8080/"
        },
        "id": "P5JjAJJIujRs",
        "outputId": "97e889f1-93d2-4582-de74-93727bfe145d"
      },
      "execution_count": 10,
      "outputs": [
        {
          "output_type": "execute_result",
          "data": {
            "text/plain": [
              "Code               object\n",
              "Name               object\n",
              "Continent          object\n",
              "Region             object\n",
              "SurfaceArea       float64\n",
              "IndepYear         float64\n",
              "Population          int64\n",
              "LifeExpectancy    float64\n",
              "GNP               float64\n",
              "GNPOld            float64\n",
              "LocalName          object\n",
              "GovernmentForm     object\n",
              "Capital           float64\n",
              "dtype: object"
            ]
          },
          "metadata": {},
          "execution_count": 10
        }
      ]
    },
    {
      "cell_type": "markdown",
      "metadata": {
        "id": "m7KpcLwX-QpK"
      },
      "source": [
        "\n",
        "*   Explorar el contenido de `countries`\n",
        "\n"
      ]
    },
    {
      "cell_type": "code",
      "metadata": {
        "id": "wIP5GqT18xob",
        "colab": {
          "base_uri": "https://localhost:8080/",
          "height": 232
        },
        "outputId": "3ac7d973-f32c-4865-e3c5-3da4fa007507"
      },
      "source": [
        "countries.head(3)"
      ],
      "execution_count": 11,
      "outputs": [
        {
          "output_type": "execute_result",
          "data": {
            "text/plain": [
              "  Code         Name      Continent                     Region  SurfaceArea  \\\n",
              "0  ABW        Aruba  North America                  Caribbean        193.0   \n",
              "1  AFG  Afghanistan           Asia  Southern and Central Asia     652090.0   \n",
              "2  AGO       Angola         Africa             Central Africa    1246700.0   \n",
              "\n",
              "   IndepYear  Population  LifeExpectancy     GNP  GNPOld  \\\n",
              "0        NaN      103000            78.4   828.0   793.0   \n",
              "1     1919.0    22720000            45.9  5976.0     NaN   \n",
              "2     1975.0    12878000            38.3  6648.0  7984.0   \n",
              "\n",
              "               LocalName                                GovernmentForm  \\\n",
              "0                  Aruba  Nonmetropolitan Territory of The Netherlands   \n",
              "1  Afganistan/Afqanestan                               Islamic Emirate   \n",
              "2                 Angola                                      Republic   \n",
              "\n",
              "   Capital  \n",
              "0    129.0  \n",
              "1      1.0  \n",
              "2     56.0  "
            ],
            "text/html": [
              "\n",
              "  <div id=\"df-4687bd1e-2a5d-4996-a294-5a18eb400ea0\">\n",
              "    <div class=\"colab-df-container\">\n",
              "      <div>\n",
              "<style scoped>\n",
              "    .dataframe tbody tr th:only-of-type {\n",
              "        vertical-align: middle;\n",
              "    }\n",
              "\n",
              "    .dataframe tbody tr th {\n",
              "        vertical-align: top;\n",
              "    }\n",
              "\n",
              "    .dataframe thead th {\n",
              "        text-align: right;\n",
              "    }\n",
              "</style>\n",
              "<table border=\"1\" class=\"dataframe\">\n",
              "  <thead>\n",
              "    <tr style=\"text-align: right;\">\n",
              "      <th></th>\n",
              "      <th>Code</th>\n",
              "      <th>Name</th>\n",
              "      <th>Continent</th>\n",
              "      <th>Region</th>\n",
              "      <th>SurfaceArea</th>\n",
              "      <th>IndepYear</th>\n",
              "      <th>Population</th>\n",
              "      <th>LifeExpectancy</th>\n",
              "      <th>GNP</th>\n",
              "      <th>GNPOld</th>\n",
              "      <th>LocalName</th>\n",
              "      <th>GovernmentForm</th>\n",
              "      <th>Capital</th>\n",
              "    </tr>\n",
              "  </thead>\n",
              "  <tbody>\n",
              "    <tr>\n",
              "      <th>0</th>\n",
              "      <td>ABW</td>\n",
              "      <td>Aruba</td>\n",
              "      <td>North America</td>\n",
              "      <td>Caribbean</td>\n",
              "      <td>193.0</td>\n",
              "      <td>NaN</td>\n",
              "      <td>103000</td>\n",
              "      <td>78.4</td>\n",
              "      <td>828.0</td>\n",
              "      <td>793.0</td>\n",
              "      <td>Aruba</td>\n",
              "      <td>Nonmetropolitan Territory of The Netherlands</td>\n",
              "      <td>129.0</td>\n",
              "    </tr>\n",
              "    <tr>\n",
              "      <th>1</th>\n",
              "      <td>AFG</td>\n",
              "      <td>Afghanistan</td>\n",
              "      <td>Asia</td>\n",
              "      <td>Southern and Central Asia</td>\n",
              "      <td>652090.0</td>\n",
              "      <td>1919.0</td>\n",
              "      <td>22720000</td>\n",
              "      <td>45.9</td>\n",
              "      <td>5976.0</td>\n",
              "      <td>NaN</td>\n",
              "      <td>Afganistan/Afqanestan</td>\n",
              "      <td>Islamic Emirate</td>\n",
              "      <td>1.0</td>\n",
              "    </tr>\n",
              "    <tr>\n",
              "      <th>2</th>\n",
              "      <td>AGO</td>\n",
              "      <td>Angola</td>\n",
              "      <td>Africa</td>\n",
              "      <td>Central Africa</td>\n",
              "      <td>1246700.0</td>\n",
              "      <td>1975.0</td>\n",
              "      <td>12878000</td>\n",
              "      <td>38.3</td>\n",
              "      <td>6648.0</td>\n",
              "      <td>7984.0</td>\n",
              "      <td>Angola</td>\n",
              "      <td>Republic</td>\n",
              "      <td>56.0</td>\n",
              "    </tr>\n",
              "  </tbody>\n",
              "</table>\n",
              "</div>\n",
              "      <button class=\"colab-df-convert\" onclick=\"convertToInteractive('df-4687bd1e-2a5d-4996-a294-5a18eb400ea0')\"\n",
              "              title=\"Convert this dataframe to an interactive table.\"\n",
              "              style=\"display:none;\">\n",
              "        \n",
              "  <svg xmlns=\"http://www.w3.org/2000/svg\" height=\"24px\"viewBox=\"0 0 24 24\"\n",
              "       width=\"24px\">\n",
              "    <path d=\"M0 0h24v24H0V0z\" fill=\"none\"/>\n",
              "    <path d=\"M18.56 5.44l.94 2.06.94-2.06 2.06-.94-2.06-.94-.94-2.06-.94 2.06-2.06.94zm-11 1L8.5 8.5l.94-2.06 2.06-.94-2.06-.94L8.5 2.5l-.94 2.06-2.06.94zm10 10l.94 2.06.94-2.06 2.06-.94-2.06-.94-.94-2.06-.94 2.06-2.06.94z\"/><path d=\"M17.41 7.96l-1.37-1.37c-.4-.4-.92-.59-1.43-.59-.52 0-1.04.2-1.43.59L10.3 9.45l-7.72 7.72c-.78.78-.78 2.05 0 2.83L4 21.41c.39.39.9.59 1.41.59.51 0 1.02-.2 1.41-.59l7.78-7.78 2.81-2.81c.8-.78.8-2.07 0-2.86zM5.41 20L4 18.59l7.72-7.72 1.47 1.35L5.41 20z\"/>\n",
              "  </svg>\n",
              "      </button>\n",
              "      \n",
              "  <style>\n",
              "    .colab-df-container {\n",
              "      display:flex;\n",
              "      flex-wrap:wrap;\n",
              "      gap: 12px;\n",
              "    }\n",
              "\n",
              "    .colab-df-convert {\n",
              "      background-color: #E8F0FE;\n",
              "      border: none;\n",
              "      border-radius: 50%;\n",
              "      cursor: pointer;\n",
              "      display: none;\n",
              "      fill: #1967D2;\n",
              "      height: 32px;\n",
              "      padding: 0 0 0 0;\n",
              "      width: 32px;\n",
              "    }\n",
              "\n",
              "    .colab-df-convert:hover {\n",
              "      background-color: #E2EBFA;\n",
              "      box-shadow: 0px 1px 2px rgba(60, 64, 67, 0.3), 0px 1px 3px 1px rgba(60, 64, 67, 0.15);\n",
              "      fill: #174EA6;\n",
              "    }\n",
              "\n",
              "    [theme=dark] .colab-df-convert {\n",
              "      background-color: #3B4455;\n",
              "      fill: #D2E3FC;\n",
              "    }\n",
              "\n",
              "    [theme=dark] .colab-df-convert:hover {\n",
              "      background-color: #434B5C;\n",
              "      box-shadow: 0px 1px 3px 1px rgba(0, 0, 0, 0.15);\n",
              "      filter: drop-shadow(0px 1px 2px rgba(0, 0, 0, 0.3));\n",
              "      fill: #FFFFFF;\n",
              "    }\n",
              "  </style>\n",
              "\n",
              "      <script>\n",
              "        const buttonEl =\n",
              "          document.querySelector('#df-4687bd1e-2a5d-4996-a294-5a18eb400ea0 button.colab-df-convert');\n",
              "        buttonEl.style.display =\n",
              "          google.colab.kernel.accessAllowed ? 'block' : 'none';\n",
              "\n",
              "        async function convertToInteractive(key) {\n",
              "          const element = document.querySelector('#df-4687bd1e-2a5d-4996-a294-5a18eb400ea0');\n",
              "          const dataTable =\n",
              "            await google.colab.kernel.invokeFunction('convertToInteractive',\n",
              "                                                     [key], {});\n",
              "          if (!dataTable) return;\n",
              "\n",
              "          const docLinkHtml = 'Like what you see? Visit the ' +\n",
              "            '<a target=\"_blank\" href=https://colab.research.google.com/notebooks/data_table.ipynb>data table notebook</a>'\n",
              "            + ' to learn more about interactive tables.';\n",
              "          element.innerHTML = '';\n",
              "          dataTable['output_type'] = 'display_data';\n",
              "          await google.colab.output.renderOutput(dataTable, element);\n",
              "          const docLink = document.createElement('div');\n",
              "          docLink.innerHTML = docLinkHtml;\n",
              "          element.appendChild(docLink);\n",
              "        }\n",
              "      </script>\n",
              "    </div>\n",
              "  </div>\n",
              "  "
            ]
          },
          "metadata": {},
          "execution_count": 11
        }
      ]
    },
    {
      "cell_type": "code",
      "source": [
        "countries.tail(3)"
      ],
      "metadata": {
        "colab": {
          "base_uri": "https://localhost:8080/",
          "height": 183
        },
        "id": "jYLBBqHiuyZl",
        "outputId": "b28447df-cbf6-44a2-9d80-02b10d27e9e7"
      },
      "execution_count": 12,
      "outputs": [
        {
          "output_type": "execute_result",
          "data": {
            "text/plain": [
              "    Code          Name Continent           Region  SurfaceArea  IndepYear  \\\n",
              "236  ZAF  South Africa    Africa  Southern Africa    1221037.0     1910.0   \n",
              "237  ZMB        Zambia    Africa   Eastern Africa     752618.0     1964.0   \n",
              "238  ZWE      Zimbabwe    Africa   Eastern Africa     390757.0     1980.0   \n",
              "\n",
              "     Population  LifeExpectancy       GNP    GNPOld     LocalName  \\\n",
              "236    40377000            51.1  116729.0  129092.0  South Africa   \n",
              "237     9169000            37.2    3377.0    3922.0        Zambia   \n",
              "238    11669000            37.8    5951.0    8670.0      Zimbabwe   \n",
              "\n",
              "    GovernmentForm  Capital  \n",
              "236       Republic    716.0  \n",
              "237       Republic   3162.0  \n",
              "238       Republic   4068.0  "
            ],
            "text/html": [
              "\n",
              "  <div id=\"df-856b6ac2-236d-4444-a9b3-ad6fcd916e6b\">\n",
              "    <div class=\"colab-df-container\">\n",
              "      <div>\n",
              "<style scoped>\n",
              "    .dataframe tbody tr th:only-of-type {\n",
              "        vertical-align: middle;\n",
              "    }\n",
              "\n",
              "    .dataframe tbody tr th {\n",
              "        vertical-align: top;\n",
              "    }\n",
              "\n",
              "    .dataframe thead th {\n",
              "        text-align: right;\n",
              "    }\n",
              "</style>\n",
              "<table border=\"1\" class=\"dataframe\">\n",
              "  <thead>\n",
              "    <tr style=\"text-align: right;\">\n",
              "      <th></th>\n",
              "      <th>Code</th>\n",
              "      <th>Name</th>\n",
              "      <th>Continent</th>\n",
              "      <th>Region</th>\n",
              "      <th>SurfaceArea</th>\n",
              "      <th>IndepYear</th>\n",
              "      <th>Population</th>\n",
              "      <th>LifeExpectancy</th>\n",
              "      <th>GNP</th>\n",
              "      <th>GNPOld</th>\n",
              "      <th>LocalName</th>\n",
              "      <th>GovernmentForm</th>\n",
              "      <th>Capital</th>\n",
              "    </tr>\n",
              "  </thead>\n",
              "  <tbody>\n",
              "    <tr>\n",
              "      <th>236</th>\n",
              "      <td>ZAF</td>\n",
              "      <td>South Africa</td>\n",
              "      <td>Africa</td>\n",
              "      <td>Southern Africa</td>\n",
              "      <td>1221037.0</td>\n",
              "      <td>1910.0</td>\n",
              "      <td>40377000</td>\n",
              "      <td>51.1</td>\n",
              "      <td>116729.0</td>\n",
              "      <td>129092.0</td>\n",
              "      <td>South Africa</td>\n",
              "      <td>Republic</td>\n",
              "      <td>716.0</td>\n",
              "    </tr>\n",
              "    <tr>\n",
              "      <th>237</th>\n",
              "      <td>ZMB</td>\n",
              "      <td>Zambia</td>\n",
              "      <td>Africa</td>\n",
              "      <td>Eastern Africa</td>\n",
              "      <td>752618.0</td>\n",
              "      <td>1964.0</td>\n",
              "      <td>9169000</td>\n",
              "      <td>37.2</td>\n",
              "      <td>3377.0</td>\n",
              "      <td>3922.0</td>\n",
              "      <td>Zambia</td>\n",
              "      <td>Republic</td>\n",
              "      <td>3162.0</td>\n",
              "    </tr>\n",
              "    <tr>\n",
              "      <th>238</th>\n",
              "      <td>ZWE</td>\n",
              "      <td>Zimbabwe</td>\n",
              "      <td>Africa</td>\n",
              "      <td>Eastern Africa</td>\n",
              "      <td>390757.0</td>\n",
              "      <td>1980.0</td>\n",
              "      <td>11669000</td>\n",
              "      <td>37.8</td>\n",
              "      <td>5951.0</td>\n",
              "      <td>8670.0</td>\n",
              "      <td>Zimbabwe</td>\n",
              "      <td>Republic</td>\n",
              "      <td>4068.0</td>\n",
              "    </tr>\n",
              "  </tbody>\n",
              "</table>\n",
              "</div>\n",
              "      <button class=\"colab-df-convert\" onclick=\"convertToInteractive('df-856b6ac2-236d-4444-a9b3-ad6fcd916e6b')\"\n",
              "              title=\"Convert this dataframe to an interactive table.\"\n",
              "              style=\"display:none;\">\n",
              "        \n",
              "  <svg xmlns=\"http://www.w3.org/2000/svg\" height=\"24px\"viewBox=\"0 0 24 24\"\n",
              "       width=\"24px\">\n",
              "    <path d=\"M0 0h24v24H0V0z\" fill=\"none\"/>\n",
              "    <path d=\"M18.56 5.44l.94 2.06.94-2.06 2.06-.94-2.06-.94-.94-2.06-.94 2.06-2.06.94zm-11 1L8.5 8.5l.94-2.06 2.06-.94-2.06-.94L8.5 2.5l-.94 2.06-2.06.94zm10 10l.94 2.06.94-2.06 2.06-.94-2.06-.94-.94-2.06-.94 2.06-2.06.94z\"/><path d=\"M17.41 7.96l-1.37-1.37c-.4-.4-.92-.59-1.43-.59-.52 0-1.04.2-1.43.59L10.3 9.45l-7.72 7.72c-.78.78-.78 2.05 0 2.83L4 21.41c.39.39.9.59 1.41.59.51 0 1.02-.2 1.41-.59l7.78-7.78 2.81-2.81c.8-.78.8-2.07 0-2.86zM5.41 20L4 18.59l7.72-7.72 1.47 1.35L5.41 20z\"/>\n",
              "  </svg>\n",
              "      </button>\n",
              "      \n",
              "  <style>\n",
              "    .colab-df-container {\n",
              "      display:flex;\n",
              "      flex-wrap:wrap;\n",
              "      gap: 12px;\n",
              "    }\n",
              "\n",
              "    .colab-df-convert {\n",
              "      background-color: #E8F0FE;\n",
              "      border: none;\n",
              "      border-radius: 50%;\n",
              "      cursor: pointer;\n",
              "      display: none;\n",
              "      fill: #1967D2;\n",
              "      height: 32px;\n",
              "      padding: 0 0 0 0;\n",
              "      width: 32px;\n",
              "    }\n",
              "\n",
              "    .colab-df-convert:hover {\n",
              "      background-color: #E2EBFA;\n",
              "      box-shadow: 0px 1px 2px rgba(60, 64, 67, 0.3), 0px 1px 3px 1px rgba(60, 64, 67, 0.15);\n",
              "      fill: #174EA6;\n",
              "    }\n",
              "\n",
              "    [theme=dark] .colab-df-convert {\n",
              "      background-color: #3B4455;\n",
              "      fill: #D2E3FC;\n",
              "    }\n",
              "\n",
              "    [theme=dark] .colab-df-convert:hover {\n",
              "      background-color: #434B5C;\n",
              "      box-shadow: 0px 1px 3px 1px rgba(0, 0, 0, 0.15);\n",
              "      filter: drop-shadow(0px 1px 2px rgba(0, 0, 0, 0.3));\n",
              "      fill: #FFFFFF;\n",
              "    }\n",
              "  </style>\n",
              "\n",
              "      <script>\n",
              "        const buttonEl =\n",
              "          document.querySelector('#df-856b6ac2-236d-4444-a9b3-ad6fcd916e6b button.colab-df-convert');\n",
              "        buttonEl.style.display =\n",
              "          google.colab.kernel.accessAllowed ? 'block' : 'none';\n",
              "\n",
              "        async function convertToInteractive(key) {\n",
              "          const element = document.querySelector('#df-856b6ac2-236d-4444-a9b3-ad6fcd916e6b');\n",
              "          const dataTable =\n",
              "            await google.colab.kernel.invokeFunction('convertToInteractive',\n",
              "                                                     [key], {});\n",
              "          if (!dataTable) return;\n",
              "\n",
              "          const docLinkHtml = 'Like what you see? Visit the ' +\n",
              "            '<a target=\"_blank\" href=https://colab.research.google.com/notebooks/data_table.ipynb>data table notebook</a>'\n",
              "            + ' to learn more about interactive tables.';\n",
              "          element.innerHTML = '';\n",
              "          dataTable['output_type'] = 'display_data';\n",
              "          await google.colab.output.renderOutput(dataTable, element);\n",
              "          const docLink = document.createElement('div');\n",
              "          docLink.innerHTML = docLinkHtml;\n",
              "          element.appendChild(docLink);\n",
              "        }\n",
              "      </script>\n",
              "    </div>\n",
              "  </div>\n",
              "  "
            ]
          },
          "metadata": {},
          "execution_count": 12
        }
      ]
    },
    {
      "cell_type": "code",
      "source": [
        "countries.nunique()"
      ],
      "metadata": {
        "colab": {
          "base_uri": "https://localhost:8080/"
        },
        "id": "UVXninfhu2iT",
        "outputId": "8f7a92d8-71ad-4465-cfef-f28bf568cd7d"
      },
      "execution_count": 13,
      "outputs": [
        {
          "output_type": "execute_result",
          "data": {
            "text/plain": [
              "Code              239\n",
              "Name              239\n",
              "Continent           7\n",
              "Region             25\n",
              "SurfaceArea       238\n",
              "IndepYear          88\n",
              "Population        226\n",
              "LifeExpectancy    160\n",
              "GNP               214\n",
              "GNPOld            178\n",
              "LocalName         239\n",
              "GovernmentForm     35\n",
              "Capital           232\n",
              "dtype: int64"
            ]
          },
          "metadata": {},
          "execution_count": 13
        }
      ]
    },
    {
      "cell_type": "code",
      "source": [
        "countries['Continent'].value_counts()"
      ],
      "metadata": {
        "colab": {
          "base_uri": "https://localhost:8080/"
        },
        "id": "ZAJK6LZ9vAqZ",
        "outputId": "c33f2304-b43a-4b3a-af10-1cd0681a0903"
      },
      "execution_count": 14,
      "outputs": [
        {
          "output_type": "execute_result",
          "data": {
            "text/plain": [
              "Africa           58\n",
              "Asia             51\n",
              "Europe           46\n",
              "North America    37\n",
              "Oceania          28\n",
              "South America    14\n",
              "Antarctica        5\n",
              "Name: Continent, dtype: int64"
            ]
          },
          "metadata": {},
          "execution_count": 14
        }
      ]
    },
    {
      "cell_type": "code",
      "source": [
        "countries.isna().sum()"
      ],
      "metadata": {
        "colab": {
          "base_uri": "https://localhost:8080/"
        },
        "id": "nG4t9eAhvsuJ",
        "outputId": "7f6988c5-5b8c-4427-a5a7-98a33c11b325"
      },
      "execution_count": 16,
      "outputs": [
        {
          "output_type": "execute_result",
          "data": {
            "text/plain": [
              "Code               0\n",
              "Name               0\n",
              "Continent          0\n",
              "Region             0\n",
              "SurfaceArea        0\n",
              "IndepYear         47\n",
              "Population         0\n",
              "LifeExpectancy    17\n",
              "GNP                0\n",
              "GNPOld            61\n",
              "LocalName          0\n",
              "GovernmentForm     0\n",
              "Capital            7\n",
              "dtype: int64"
            ]
          },
          "metadata": {},
          "execution_count": 16
        }
      ]
    },
    {
      "cell_type": "markdown",
      "metadata": {
        "id": "1vgaInl3-ebf"
      },
      "source": [
        "*   Borrar los registros que tengan `NaN` en la columna `Capital`\n"
      ]
    },
    {
      "cell_type": "code",
      "metadata": {
        "id": "Y5NckZQA8ydW",
        "colab": {
          "base_uri": "https://localhost:8080/",
          "height": 569
        },
        "outputId": "57d279bd-13ce-46d4-f9e1-51bfa2721dfd"
      },
      "source": [
        "countries[countries['Capital'].isna()]"
      ],
      "execution_count": 17,
      "outputs": [
        {
          "output_type": "execute_result",
          "data": {
            "text/plain": [
              "    Code                                          Name   Continent  \\\n",
              "11   ATA                                    Antarctica  Antarctica   \n",
              "12   ATF                   French Southern territories  Antarctica   \n",
              "34   BVT                                 Bouvet Island  Antarctica   \n",
              "93   HMD             Heard Island and McDonald Islands  Antarctica   \n",
              "100  IOT                British Indian Ocean Territory      Africa   \n",
              "187  SGS  South Georgia and the South Sandwich Islands  Antarctica   \n",
              "221  UMI          United States Minor Outlying Islands     Oceania   \n",
              "\n",
              "                   Region  SurfaceArea  IndepYear  Population  LifeExpectancy  \\\n",
              "11             Antarctica   13120000.0        NaN           0             NaN   \n",
              "12             Antarctica       7780.0        NaN           0             NaN   \n",
              "34             Antarctica         59.0        NaN           0             NaN   \n",
              "93             Antarctica        359.0        NaN           0             NaN   \n",
              "100        Eastern Africa         78.0        NaN           0             NaN   \n",
              "187            Antarctica       3903.0        NaN           0             NaN   \n",
              "221  Micronesia/Caribbean         16.0        NaN           0             NaN   \n",
              "\n",
              "     GNP  GNPOld                                     LocalName  \\\n",
              "11   0.0     NaN                                             –   \n",
              "12   0.0     NaN                   Terres australes françaises   \n",
              "34   0.0     NaN                                     Bouvetøya   \n",
              "93   0.0     NaN                    Heard and McDonald Islands   \n",
              "100  0.0     NaN                British Indian Ocean Territory   \n",
              "187  0.0     NaN  South Georgia and the South Sandwich Islands   \n",
              "221  0.0     NaN          United States Minor Outlying Islands   \n",
              "\n",
              "                          GovernmentForm  Capital  \n",
              "11                      Co-administrated      NaN  \n",
              "12   Nonmetropolitan Territory of France      NaN  \n",
              "34         Dependent Territory of Norway      NaN  \n",
              "93                Territory of Australia      NaN  \n",
              "100        Dependent Territory of the UK      NaN  \n",
              "187        Dependent Territory of the UK      NaN  \n",
              "221        Dependent Territory of the US      NaN  "
            ],
            "text/html": [
              "\n",
              "  <div id=\"df-d875cfaa-fba7-4562-80e5-594573bac3e8\">\n",
              "    <div class=\"colab-df-container\">\n",
              "      <div>\n",
              "<style scoped>\n",
              "    .dataframe tbody tr th:only-of-type {\n",
              "        vertical-align: middle;\n",
              "    }\n",
              "\n",
              "    .dataframe tbody tr th {\n",
              "        vertical-align: top;\n",
              "    }\n",
              "\n",
              "    .dataframe thead th {\n",
              "        text-align: right;\n",
              "    }\n",
              "</style>\n",
              "<table border=\"1\" class=\"dataframe\">\n",
              "  <thead>\n",
              "    <tr style=\"text-align: right;\">\n",
              "      <th></th>\n",
              "      <th>Code</th>\n",
              "      <th>Name</th>\n",
              "      <th>Continent</th>\n",
              "      <th>Region</th>\n",
              "      <th>SurfaceArea</th>\n",
              "      <th>IndepYear</th>\n",
              "      <th>Population</th>\n",
              "      <th>LifeExpectancy</th>\n",
              "      <th>GNP</th>\n",
              "      <th>GNPOld</th>\n",
              "      <th>LocalName</th>\n",
              "      <th>GovernmentForm</th>\n",
              "      <th>Capital</th>\n",
              "    </tr>\n",
              "  </thead>\n",
              "  <tbody>\n",
              "    <tr>\n",
              "      <th>11</th>\n",
              "      <td>ATA</td>\n",
              "      <td>Antarctica</td>\n",
              "      <td>Antarctica</td>\n",
              "      <td>Antarctica</td>\n",
              "      <td>13120000.0</td>\n",
              "      <td>NaN</td>\n",
              "      <td>0</td>\n",
              "      <td>NaN</td>\n",
              "      <td>0.0</td>\n",
              "      <td>NaN</td>\n",
              "      <td>–</td>\n",
              "      <td>Co-administrated</td>\n",
              "      <td>NaN</td>\n",
              "    </tr>\n",
              "    <tr>\n",
              "      <th>12</th>\n",
              "      <td>ATF</td>\n",
              "      <td>French Southern territories</td>\n",
              "      <td>Antarctica</td>\n",
              "      <td>Antarctica</td>\n",
              "      <td>7780.0</td>\n",
              "      <td>NaN</td>\n",
              "      <td>0</td>\n",
              "      <td>NaN</td>\n",
              "      <td>0.0</td>\n",
              "      <td>NaN</td>\n",
              "      <td>Terres australes françaises</td>\n",
              "      <td>Nonmetropolitan Territory of France</td>\n",
              "      <td>NaN</td>\n",
              "    </tr>\n",
              "    <tr>\n",
              "      <th>34</th>\n",
              "      <td>BVT</td>\n",
              "      <td>Bouvet Island</td>\n",
              "      <td>Antarctica</td>\n",
              "      <td>Antarctica</td>\n",
              "      <td>59.0</td>\n",
              "      <td>NaN</td>\n",
              "      <td>0</td>\n",
              "      <td>NaN</td>\n",
              "      <td>0.0</td>\n",
              "      <td>NaN</td>\n",
              "      <td>Bouvetøya</td>\n",
              "      <td>Dependent Territory of Norway</td>\n",
              "      <td>NaN</td>\n",
              "    </tr>\n",
              "    <tr>\n",
              "      <th>93</th>\n",
              "      <td>HMD</td>\n",
              "      <td>Heard Island and McDonald Islands</td>\n",
              "      <td>Antarctica</td>\n",
              "      <td>Antarctica</td>\n",
              "      <td>359.0</td>\n",
              "      <td>NaN</td>\n",
              "      <td>0</td>\n",
              "      <td>NaN</td>\n",
              "      <td>0.0</td>\n",
              "      <td>NaN</td>\n",
              "      <td>Heard and McDonald Islands</td>\n",
              "      <td>Territory of Australia</td>\n",
              "      <td>NaN</td>\n",
              "    </tr>\n",
              "    <tr>\n",
              "      <th>100</th>\n",
              "      <td>IOT</td>\n",
              "      <td>British Indian Ocean Territory</td>\n",
              "      <td>Africa</td>\n",
              "      <td>Eastern Africa</td>\n",
              "      <td>78.0</td>\n",
              "      <td>NaN</td>\n",
              "      <td>0</td>\n",
              "      <td>NaN</td>\n",
              "      <td>0.0</td>\n",
              "      <td>NaN</td>\n",
              "      <td>British Indian Ocean Territory</td>\n",
              "      <td>Dependent Territory of the UK</td>\n",
              "      <td>NaN</td>\n",
              "    </tr>\n",
              "    <tr>\n",
              "      <th>187</th>\n",
              "      <td>SGS</td>\n",
              "      <td>South Georgia and the South Sandwich Islands</td>\n",
              "      <td>Antarctica</td>\n",
              "      <td>Antarctica</td>\n",
              "      <td>3903.0</td>\n",
              "      <td>NaN</td>\n",
              "      <td>0</td>\n",
              "      <td>NaN</td>\n",
              "      <td>0.0</td>\n",
              "      <td>NaN</td>\n",
              "      <td>South Georgia and the South Sandwich Islands</td>\n",
              "      <td>Dependent Territory of the UK</td>\n",
              "      <td>NaN</td>\n",
              "    </tr>\n",
              "    <tr>\n",
              "      <th>221</th>\n",
              "      <td>UMI</td>\n",
              "      <td>United States Minor Outlying Islands</td>\n",
              "      <td>Oceania</td>\n",
              "      <td>Micronesia/Caribbean</td>\n",
              "      <td>16.0</td>\n",
              "      <td>NaN</td>\n",
              "      <td>0</td>\n",
              "      <td>NaN</td>\n",
              "      <td>0.0</td>\n",
              "      <td>NaN</td>\n",
              "      <td>United States Minor Outlying Islands</td>\n",
              "      <td>Dependent Territory of the US</td>\n",
              "      <td>NaN</td>\n",
              "    </tr>\n",
              "  </tbody>\n",
              "</table>\n",
              "</div>\n",
              "      <button class=\"colab-df-convert\" onclick=\"convertToInteractive('df-d875cfaa-fba7-4562-80e5-594573bac3e8')\"\n",
              "              title=\"Convert this dataframe to an interactive table.\"\n",
              "              style=\"display:none;\">\n",
              "        \n",
              "  <svg xmlns=\"http://www.w3.org/2000/svg\" height=\"24px\"viewBox=\"0 0 24 24\"\n",
              "       width=\"24px\">\n",
              "    <path d=\"M0 0h24v24H0V0z\" fill=\"none\"/>\n",
              "    <path d=\"M18.56 5.44l.94 2.06.94-2.06 2.06-.94-2.06-.94-.94-2.06-.94 2.06-2.06.94zm-11 1L8.5 8.5l.94-2.06 2.06-.94-2.06-.94L8.5 2.5l-.94 2.06-2.06.94zm10 10l.94 2.06.94-2.06 2.06-.94-2.06-.94-.94-2.06-.94 2.06-2.06.94z\"/><path d=\"M17.41 7.96l-1.37-1.37c-.4-.4-.92-.59-1.43-.59-.52 0-1.04.2-1.43.59L10.3 9.45l-7.72 7.72c-.78.78-.78 2.05 0 2.83L4 21.41c.39.39.9.59 1.41.59.51 0 1.02-.2 1.41-.59l7.78-7.78 2.81-2.81c.8-.78.8-2.07 0-2.86zM5.41 20L4 18.59l7.72-7.72 1.47 1.35L5.41 20z\"/>\n",
              "  </svg>\n",
              "      </button>\n",
              "      \n",
              "  <style>\n",
              "    .colab-df-container {\n",
              "      display:flex;\n",
              "      flex-wrap:wrap;\n",
              "      gap: 12px;\n",
              "    }\n",
              "\n",
              "    .colab-df-convert {\n",
              "      background-color: #E8F0FE;\n",
              "      border: none;\n",
              "      border-radius: 50%;\n",
              "      cursor: pointer;\n",
              "      display: none;\n",
              "      fill: #1967D2;\n",
              "      height: 32px;\n",
              "      padding: 0 0 0 0;\n",
              "      width: 32px;\n",
              "    }\n",
              "\n",
              "    .colab-df-convert:hover {\n",
              "      background-color: #E2EBFA;\n",
              "      box-shadow: 0px 1px 2px rgba(60, 64, 67, 0.3), 0px 1px 3px 1px rgba(60, 64, 67, 0.15);\n",
              "      fill: #174EA6;\n",
              "    }\n",
              "\n",
              "    [theme=dark] .colab-df-convert {\n",
              "      background-color: #3B4455;\n",
              "      fill: #D2E3FC;\n",
              "    }\n",
              "\n",
              "    [theme=dark] .colab-df-convert:hover {\n",
              "      background-color: #434B5C;\n",
              "      box-shadow: 0px 1px 3px 1px rgba(0, 0, 0, 0.15);\n",
              "      filter: drop-shadow(0px 1px 2px rgba(0, 0, 0, 0.3));\n",
              "      fill: #FFFFFF;\n",
              "    }\n",
              "  </style>\n",
              "\n",
              "      <script>\n",
              "        const buttonEl =\n",
              "          document.querySelector('#df-d875cfaa-fba7-4562-80e5-594573bac3e8 button.colab-df-convert');\n",
              "        buttonEl.style.display =\n",
              "          google.colab.kernel.accessAllowed ? 'block' : 'none';\n",
              "\n",
              "        async function convertToInteractive(key) {\n",
              "          const element = document.querySelector('#df-d875cfaa-fba7-4562-80e5-594573bac3e8');\n",
              "          const dataTable =\n",
              "            await google.colab.kernel.invokeFunction('convertToInteractive',\n",
              "                                                     [key], {});\n",
              "          if (!dataTable) return;\n",
              "\n",
              "          const docLinkHtml = 'Like what you see? Visit the ' +\n",
              "            '<a target=\"_blank\" href=https://colab.research.google.com/notebooks/data_table.ipynb>data table notebook</a>'\n",
              "            + ' to learn more about interactive tables.';\n",
              "          element.innerHTML = '';\n",
              "          dataTable['output_type'] = 'display_data';\n",
              "          await google.colab.output.renderOutput(dataTable, element);\n",
              "          const docLink = document.createElement('div');\n",
              "          docLink.innerHTML = docLinkHtml;\n",
              "          element.appendChild(docLink);\n",
              "        }\n",
              "      </script>\n",
              "    </div>\n",
              "  </div>\n",
              "  "
            ]
          },
          "metadata": {},
          "execution_count": 17
        }
      ]
    },
    {
      "cell_type": "code",
      "source": [
        "countries.dropna(axis=0,subset=['Capital'],inplace=True)"
      ],
      "metadata": {
        "id": "Ku0x0S0TwSgU"
      },
      "execution_count": 18,
      "outputs": []
    },
    {
      "cell_type": "code",
      "source": [
        "countries.isna().sum()"
      ],
      "metadata": {
        "colab": {
          "base_uri": "https://localhost:8080/"
        },
        "id": "WeExAOSRxM7S",
        "outputId": "da449a8f-10ed-48d5-a507-52ff2ef0ee56"
      },
      "execution_count": 19,
      "outputs": [
        {
          "output_type": "execute_result",
          "data": {
            "text/plain": [
              "Code               0\n",
              "Name               0\n",
              "Continent          0\n",
              "Region             0\n",
              "SurfaceArea        0\n",
              "IndepYear         40\n",
              "Population         0\n",
              "LifeExpectancy    10\n",
              "GNP                0\n",
              "GNPOld            54\n",
              "LocalName          0\n",
              "GovernmentForm     0\n",
              "Capital            0\n",
              "dtype: int64"
            ]
          },
          "metadata": {},
          "execution_count": 19
        }
      ]
    },
    {
      "cell_type": "markdown",
      "metadata": {
        "id": "aUQRuM9K-qln"
      },
      "source": [
        "*   Ejecutar el mismo análisis con `cities` \n"
      ]
    },
    {
      "cell_type": "code",
      "metadata": {
        "id": "dK6S9i1m-y3h"
      },
      "source": [
        ""
      ],
      "execution_count": null,
      "outputs": []
    },
    {
      "cell_type": "markdown",
      "metadata": {
        "id": "WioWFI8H-1Z6"
      },
      "source": [
        "\n",
        "\n",
        "*   Combinar ambos dataframes \n",
        "\n",
        "\n"
      ]
    },
    {
      "cell_type": "code",
      "metadata": {
        "id": "BOkhRja181Q9",
        "colab": {
          "base_uri": "https://localhost:8080/",
          "height": 690
        },
        "outputId": "8ce045f9-2461-429f-aee2-80815dfb6043"
      },
      "source": [
        "countries_cities = countries.merge(cities, left_on='Capital', right_on='ID', suffixes=('Country','City'))\n",
        "countries_cities"
      ],
      "execution_count": 23,
      "outputs": [
        {
          "output_type": "execute_result",
          "data": {
            "text/plain": [
              "    Code   NameCountry      Continent                     Region  SurfaceArea  \\\n",
              "0    ABW         Aruba  North America                  Caribbean        193.0   \n",
              "1    AFG   Afghanistan           Asia  Southern and Central Asia     652090.0   \n",
              "2    AGO        Angola         Africa             Central Africa    1246700.0   \n",
              "3    AIA      Anguilla  North America                  Caribbean         96.0   \n",
              "4    ALB       Albania         Europe            Southern Europe      28748.0   \n",
              "..   ...           ...            ...                        ...          ...   \n",
              "227  YEM         Yemen           Asia                Middle East     527968.0   \n",
              "228  YUG    Yugoslavia         Europe            Southern Europe     102173.0   \n",
              "229  ZAF  South Africa         Africa            Southern Africa    1221037.0   \n",
              "230  ZMB        Zambia         Africa             Eastern Africa     752618.0   \n",
              "231  ZWE      Zimbabwe         Africa             Eastern Africa     390757.0   \n",
              "\n",
              "     IndepYear  PopulationCountry  LifeExpectancy       GNP    GNPOld  \\\n",
              "0          NaN             103000            78.4     828.0     793.0   \n",
              "1       1919.0           22720000            45.9    5976.0       NaN   \n",
              "2       1975.0           12878000            38.3    6648.0    7984.0   \n",
              "3          NaN               8000            76.1      63.2       NaN   \n",
              "4       1912.0            3401200            71.6    3205.0    2500.0   \n",
              "..         ...                ...             ...       ...       ...   \n",
              "227     1918.0           18112000            59.8    6041.0    5729.0   \n",
              "228     1918.0           10640000            72.4   17000.0       NaN   \n",
              "229     1910.0           40377000            51.1  116729.0  129092.0   \n",
              "230     1964.0            9169000            37.2    3377.0    3922.0   \n",
              "231     1980.0           11669000            37.8    5951.0    8670.0   \n",
              "\n",
              "                 LocalName                                GovernmentForm  \\\n",
              "0                    Aruba  Nonmetropolitan Territory of The Netherlands   \n",
              "1    Afganistan/Afqanestan                               Islamic Emirate   \n",
              "2                   Angola                                      Republic   \n",
              "3                 Anguilla                 Dependent Territory of the UK   \n",
              "4                Shqipëria                                      Republic   \n",
              "..                     ...                                           ...   \n",
              "227               Al-Yaman                                      Republic   \n",
              "228            Jugoslavija                              Federal Republic   \n",
              "229           South Africa                                      Republic   \n",
              "230                 Zambia                                      Republic   \n",
              "231               Zimbabwe                                      Republic   \n",
              "\n",
              "     Capital    ID    NameCity CountryCode        District  PopulationCity  \n",
              "0      129.0   129  Oranjestad         ABW               –           29034  \n",
              "1        1.0     1       Kabul         AFG           Kabol         1780000  \n",
              "2       56.0    56      Luanda         AGO          Luanda         2022000  \n",
              "3       62.0    62  The Valley         AIA               –             595  \n",
              "4       34.0    34      Tirana         ALB          Tirana          270000  \n",
              "..       ...   ...         ...         ...             ...             ...  \n",
              "227   1780.0  1780       Sanaa         YEM           Sanaa          503600  \n",
              "228   1792.0  1792     Beograd         YUG  Central Serbia         1204000  \n",
              "229    716.0   716    Pretoria         ZAF         Gauteng          658630  \n",
              "230   3162.0  3162      Lusaka         ZMB          Lusaka         1317000  \n",
              "231   4068.0  4068      Harare         ZWE          Harare         1410000  \n",
              "\n",
              "[232 rows x 18 columns]"
            ],
            "text/html": [
              "\n",
              "  <div id=\"df-b4e7513e-c24f-4b64-a6e8-5b776887dec1\">\n",
              "    <div class=\"colab-df-container\">\n",
              "      <div>\n",
              "<style scoped>\n",
              "    .dataframe tbody tr th:only-of-type {\n",
              "        vertical-align: middle;\n",
              "    }\n",
              "\n",
              "    .dataframe tbody tr th {\n",
              "        vertical-align: top;\n",
              "    }\n",
              "\n",
              "    .dataframe thead th {\n",
              "        text-align: right;\n",
              "    }\n",
              "</style>\n",
              "<table border=\"1\" class=\"dataframe\">\n",
              "  <thead>\n",
              "    <tr style=\"text-align: right;\">\n",
              "      <th></th>\n",
              "      <th>Code</th>\n",
              "      <th>NameCountry</th>\n",
              "      <th>Continent</th>\n",
              "      <th>Region</th>\n",
              "      <th>SurfaceArea</th>\n",
              "      <th>IndepYear</th>\n",
              "      <th>PopulationCountry</th>\n",
              "      <th>LifeExpectancy</th>\n",
              "      <th>GNP</th>\n",
              "      <th>GNPOld</th>\n",
              "      <th>LocalName</th>\n",
              "      <th>GovernmentForm</th>\n",
              "      <th>Capital</th>\n",
              "      <th>ID</th>\n",
              "      <th>NameCity</th>\n",
              "      <th>CountryCode</th>\n",
              "      <th>District</th>\n",
              "      <th>PopulationCity</th>\n",
              "    </tr>\n",
              "  </thead>\n",
              "  <tbody>\n",
              "    <tr>\n",
              "      <th>0</th>\n",
              "      <td>ABW</td>\n",
              "      <td>Aruba</td>\n",
              "      <td>North America</td>\n",
              "      <td>Caribbean</td>\n",
              "      <td>193.0</td>\n",
              "      <td>NaN</td>\n",
              "      <td>103000</td>\n",
              "      <td>78.4</td>\n",
              "      <td>828.0</td>\n",
              "      <td>793.0</td>\n",
              "      <td>Aruba</td>\n",
              "      <td>Nonmetropolitan Territory of The Netherlands</td>\n",
              "      <td>129.0</td>\n",
              "      <td>129</td>\n",
              "      <td>Oranjestad</td>\n",
              "      <td>ABW</td>\n",
              "      <td>–</td>\n",
              "      <td>29034</td>\n",
              "    </tr>\n",
              "    <tr>\n",
              "      <th>1</th>\n",
              "      <td>AFG</td>\n",
              "      <td>Afghanistan</td>\n",
              "      <td>Asia</td>\n",
              "      <td>Southern and Central Asia</td>\n",
              "      <td>652090.0</td>\n",
              "      <td>1919.0</td>\n",
              "      <td>22720000</td>\n",
              "      <td>45.9</td>\n",
              "      <td>5976.0</td>\n",
              "      <td>NaN</td>\n",
              "      <td>Afganistan/Afqanestan</td>\n",
              "      <td>Islamic Emirate</td>\n",
              "      <td>1.0</td>\n",
              "      <td>1</td>\n",
              "      <td>Kabul</td>\n",
              "      <td>AFG</td>\n",
              "      <td>Kabol</td>\n",
              "      <td>1780000</td>\n",
              "    </tr>\n",
              "    <tr>\n",
              "      <th>2</th>\n",
              "      <td>AGO</td>\n",
              "      <td>Angola</td>\n",
              "      <td>Africa</td>\n",
              "      <td>Central Africa</td>\n",
              "      <td>1246700.0</td>\n",
              "      <td>1975.0</td>\n",
              "      <td>12878000</td>\n",
              "      <td>38.3</td>\n",
              "      <td>6648.0</td>\n",
              "      <td>7984.0</td>\n",
              "      <td>Angola</td>\n",
              "      <td>Republic</td>\n",
              "      <td>56.0</td>\n",
              "      <td>56</td>\n",
              "      <td>Luanda</td>\n",
              "      <td>AGO</td>\n",
              "      <td>Luanda</td>\n",
              "      <td>2022000</td>\n",
              "    </tr>\n",
              "    <tr>\n",
              "      <th>3</th>\n",
              "      <td>AIA</td>\n",
              "      <td>Anguilla</td>\n",
              "      <td>North America</td>\n",
              "      <td>Caribbean</td>\n",
              "      <td>96.0</td>\n",
              "      <td>NaN</td>\n",
              "      <td>8000</td>\n",
              "      <td>76.1</td>\n",
              "      <td>63.2</td>\n",
              "      <td>NaN</td>\n",
              "      <td>Anguilla</td>\n",
              "      <td>Dependent Territory of the UK</td>\n",
              "      <td>62.0</td>\n",
              "      <td>62</td>\n",
              "      <td>The Valley</td>\n",
              "      <td>AIA</td>\n",
              "      <td>–</td>\n",
              "      <td>595</td>\n",
              "    </tr>\n",
              "    <tr>\n",
              "      <th>4</th>\n",
              "      <td>ALB</td>\n",
              "      <td>Albania</td>\n",
              "      <td>Europe</td>\n",
              "      <td>Southern Europe</td>\n",
              "      <td>28748.0</td>\n",
              "      <td>1912.0</td>\n",
              "      <td>3401200</td>\n",
              "      <td>71.6</td>\n",
              "      <td>3205.0</td>\n",
              "      <td>2500.0</td>\n",
              "      <td>Shqipëria</td>\n",
              "      <td>Republic</td>\n",
              "      <td>34.0</td>\n",
              "      <td>34</td>\n",
              "      <td>Tirana</td>\n",
              "      <td>ALB</td>\n",
              "      <td>Tirana</td>\n",
              "      <td>270000</td>\n",
              "    </tr>\n",
              "    <tr>\n",
              "      <th>...</th>\n",
              "      <td>...</td>\n",
              "      <td>...</td>\n",
              "      <td>...</td>\n",
              "      <td>...</td>\n",
              "      <td>...</td>\n",
              "      <td>...</td>\n",
              "      <td>...</td>\n",
              "      <td>...</td>\n",
              "      <td>...</td>\n",
              "      <td>...</td>\n",
              "      <td>...</td>\n",
              "      <td>...</td>\n",
              "      <td>...</td>\n",
              "      <td>...</td>\n",
              "      <td>...</td>\n",
              "      <td>...</td>\n",
              "      <td>...</td>\n",
              "      <td>...</td>\n",
              "    </tr>\n",
              "    <tr>\n",
              "      <th>227</th>\n",
              "      <td>YEM</td>\n",
              "      <td>Yemen</td>\n",
              "      <td>Asia</td>\n",
              "      <td>Middle East</td>\n",
              "      <td>527968.0</td>\n",
              "      <td>1918.0</td>\n",
              "      <td>18112000</td>\n",
              "      <td>59.8</td>\n",
              "      <td>6041.0</td>\n",
              "      <td>5729.0</td>\n",
              "      <td>Al-Yaman</td>\n",
              "      <td>Republic</td>\n",
              "      <td>1780.0</td>\n",
              "      <td>1780</td>\n",
              "      <td>Sanaa</td>\n",
              "      <td>YEM</td>\n",
              "      <td>Sanaa</td>\n",
              "      <td>503600</td>\n",
              "    </tr>\n",
              "    <tr>\n",
              "      <th>228</th>\n",
              "      <td>YUG</td>\n",
              "      <td>Yugoslavia</td>\n",
              "      <td>Europe</td>\n",
              "      <td>Southern Europe</td>\n",
              "      <td>102173.0</td>\n",
              "      <td>1918.0</td>\n",
              "      <td>10640000</td>\n",
              "      <td>72.4</td>\n",
              "      <td>17000.0</td>\n",
              "      <td>NaN</td>\n",
              "      <td>Jugoslavija</td>\n",
              "      <td>Federal Republic</td>\n",
              "      <td>1792.0</td>\n",
              "      <td>1792</td>\n",
              "      <td>Beograd</td>\n",
              "      <td>YUG</td>\n",
              "      <td>Central Serbia</td>\n",
              "      <td>1204000</td>\n",
              "    </tr>\n",
              "    <tr>\n",
              "      <th>229</th>\n",
              "      <td>ZAF</td>\n",
              "      <td>South Africa</td>\n",
              "      <td>Africa</td>\n",
              "      <td>Southern Africa</td>\n",
              "      <td>1221037.0</td>\n",
              "      <td>1910.0</td>\n",
              "      <td>40377000</td>\n",
              "      <td>51.1</td>\n",
              "      <td>116729.0</td>\n",
              "      <td>129092.0</td>\n",
              "      <td>South Africa</td>\n",
              "      <td>Republic</td>\n",
              "      <td>716.0</td>\n",
              "      <td>716</td>\n",
              "      <td>Pretoria</td>\n",
              "      <td>ZAF</td>\n",
              "      <td>Gauteng</td>\n",
              "      <td>658630</td>\n",
              "    </tr>\n",
              "    <tr>\n",
              "      <th>230</th>\n",
              "      <td>ZMB</td>\n",
              "      <td>Zambia</td>\n",
              "      <td>Africa</td>\n",
              "      <td>Eastern Africa</td>\n",
              "      <td>752618.0</td>\n",
              "      <td>1964.0</td>\n",
              "      <td>9169000</td>\n",
              "      <td>37.2</td>\n",
              "      <td>3377.0</td>\n",
              "      <td>3922.0</td>\n",
              "      <td>Zambia</td>\n",
              "      <td>Republic</td>\n",
              "      <td>3162.0</td>\n",
              "      <td>3162</td>\n",
              "      <td>Lusaka</td>\n",
              "      <td>ZMB</td>\n",
              "      <td>Lusaka</td>\n",
              "      <td>1317000</td>\n",
              "    </tr>\n",
              "    <tr>\n",
              "      <th>231</th>\n",
              "      <td>ZWE</td>\n",
              "      <td>Zimbabwe</td>\n",
              "      <td>Africa</td>\n",
              "      <td>Eastern Africa</td>\n",
              "      <td>390757.0</td>\n",
              "      <td>1980.0</td>\n",
              "      <td>11669000</td>\n",
              "      <td>37.8</td>\n",
              "      <td>5951.0</td>\n",
              "      <td>8670.0</td>\n",
              "      <td>Zimbabwe</td>\n",
              "      <td>Republic</td>\n",
              "      <td>4068.0</td>\n",
              "      <td>4068</td>\n",
              "      <td>Harare</td>\n",
              "      <td>ZWE</td>\n",
              "      <td>Harare</td>\n",
              "      <td>1410000</td>\n",
              "    </tr>\n",
              "  </tbody>\n",
              "</table>\n",
              "<p>232 rows × 18 columns</p>\n",
              "</div>\n",
              "      <button class=\"colab-df-convert\" onclick=\"convertToInteractive('df-b4e7513e-c24f-4b64-a6e8-5b776887dec1')\"\n",
              "              title=\"Convert this dataframe to an interactive table.\"\n",
              "              style=\"display:none;\">\n",
              "        \n",
              "  <svg xmlns=\"http://www.w3.org/2000/svg\" height=\"24px\"viewBox=\"0 0 24 24\"\n",
              "       width=\"24px\">\n",
              "    <path d=\"M0 0h24v24H0V0z\" fill=\"none\"/>\n",
              "    <path d=\"M18.56 5.44l.94 2.06.94-2.06 2.06-.94-2.06-.94-.94-2.06-.94 2.06-2.06.94zm-11 1L8.5 8.5l.94-2.06 2.06-.94-2.06-.94L8.5 2.5l-.94 2.06-2.06.94zm10 10l.94 2.06.94-2.06 2.06-.94-2.06-.94-.94-2.06-.94 2.06-2.06.94z\"/><path d=\"M17.41 7.96l-1.37-1.37c-.4-.4-.92-.59-1.43-.59-.52 0-1.04.2-1.43.59L10.3 9.45l-7.72 7.72c-.78.78-.78 2.05 0 2.83L4 21.41c.39.39.9.59 1.41.59.51 0 1.02-.2 1.41-.59l7.78-7.78 2.81-2.81c.8-.78.8-2.07 0-2.86zM5.41 20L4 18.59l7.72-7.72 1.47 1.35L5.41 20z\"/>\n",
              "  </svg>\n",
              "      </button>\n",
              "      \n",
              "  <style>\n",
              "    .colab-df-container {\n",
              "      display:flex;\n",
              "      flex-wrap:wrap;\n",
              "      gap: 12px;\n",
              "    }\n",
              "\n",
              "    .colab-df-convert {\n",
              "      background-color: #E8F0FE;\n",
              "      border: none;\n",
              "      border-radius: 50%;\n",
              "      cursor: pointer;\n",
              "      display: none;\n",
              "      fill: #1967D2;\n",
              "      height: 32px;\n",
              "      padding: 0 0 0 0;\n",
              "      width: 32px;\n",
              "    }\n",
              "\n",
              "    .colab-df-convert:hover {\n",
              "      background-color: #E2EBFA;\n",
              "      box-shadow: 0px 1px 2px rgba(60, 64, 67, 0.3), 0px 1px 3px 1px rgba(60, 64, 67, 0.15);\n",
              "      fill: #174EA6;\n",
              "    }\n",
              "\n",
              "    [theme=dark] .colab-df-convert {\n",
              "      background-color: #3B4455;\n",
              "      fill: #D2E3FC;\n",
              "    }\n",
              "\n",
              "    [theme=dark] .colab-df-convert:hover {\n",
              "      background-color: #434B5C;\n",
              "      box-shadow: 0px 1px 3px 1px rgba(0, 0, 0, 0.15);\n",
              "      filter: drop-shadow(0px 1px 2px rgba(0, 0, 0, 0.3));\n",
              "      fill: #FFFFFF;\n",
              "    }\n",
              "  </style>\n",
              "\n",
              "      <script>\n",
              "        const buttonEl =\n",
              "          document.querySelector('#df-b4e7513e-c24f-4b64-a6e8-5b776887dec1 button.colab-df-convert');\n",
              "        buttonEl.style.display =\n",
              "          google.colab.kernel.accessAllowed ? 'block' : 'none';\n",
              "\n",
              "        async function convertToInteractive(key) {\n",
              "          const element = document.querySelector('#df-b4e7513e-c24f-4b64-a6e8-5b776887dec1');\n",
              "          const dataTable =\n",
              "            await google.colab.kernel.invokeFunction('convertToInteractive',\n",
              "                                                     [key], {});\n",
              "          if (!dataTable) return;\n",
              "\n",
              "          const docLinkHtml = 'Like what you see? Visit the ' +\n",
              "            '<a target=\"_blank\" href=https://colab.research.google.com/notebooks/data_table.ipynb>data table notebook</a>'\n",
              "            + ' to learn more about interactive tables.';\n",
              "          element.innerHTML = '';\n",
              "          dataTable['output_type'] = 'display_data';\n",
              "          await google.colab.output.renderOutput(dataTable, element);\n",
              "          const docLink = document.createElement('div');\n",
              "          docLink.innerHTML = docLinkHtml;\n",
              "          element.appendChild(docLink);\n",
              "        }\n",
              "      </script>\n",
              "    </div>\n",
              "  </div>\n",
              "  "
            ]
          },
          "metadata": {},
          "execution_count": 23
        }
      ]
    },
    {
      "cell_type": "markdown",
      "metadata": {
        "id": "FwIhsEsrf3Mc"
      },
      "source": [
        "## 1.2 Distribuciones y estadísticas"
      ]
    },
    {
      "cell_type": "markdown",
      "metadata": {
        "id": "X4qg_BHD_b7f"
      },
      "source": [
        "*   ¿Cuál es el promedio de población para el conjunto de países analizados? "
      ]
    },
    {
      "cell_type": "code",
      "metadata": {
        "id": "qpLCUs4Y82GY",
        "colab": {
          "base_uri": "https://localhost:8080/"
        },
        "outputId": "f95eff58-c509-45ab-969e-406b2341cb8f"
      },
      "source": [
        "countries['Population'].mean()"
      ],
      "execution_count": 24,
      "outputs": [
        {
          "output_type": "execute_result",
          "data": {
            "text/plain": [
              "26201506.25"
            ]
          },
          "metadata": {},
          "execution_count": 24
        }
      ]
    },
    {
      "cell_type": "markdown",
      "metadata": {
        "id": "ZHdnJWFw_md5"
      },
      "source": [
        "*   ¿Qué superficie territorial tiene el país más pequeño? ¿Y el más grande? "
      ]
    },
    {
      "cell_type": "code",
      "metadata": {
        "id": "NIFOTi7m82wG",
        "colab": {
          "base_uri": "https://localhost:8080/"
        },
        "outputId": "5dd15874-e491-43b5-a5d9-e09d0ff25e01"
      },
      "source": [
        "countries['SurfaceArea'].min()"
      ],
      "execution_count": 25,
      "outputs": [
        {
          "output_type": "execute_result",
          "data": {
            "text/plain": [
              "0.4"
            ]
          },
          "metadata": {},
          "execution_count": 25
        }
      ]
    },
    {
      "cell_type": "code",
      "source": [
        "countries[countries['SurfaceArea']==countries['SurfaceArea'].min()]"
      ],
      "metadata": {
        "colab": {
          "base_uri": "https://localhost:8080/",
          "height": 140
        },
        "id": "frFxROq_3IQL",
        "outputId": "ebffce45-6838-448d-bec5-b84364775335"
      },
      "execution_count": 26,
      "outputs": [
        {
          "output_type": "execute_result",
          "data": {
            "text/plain": [
              "    Code                           Name Continent           Region  \\\n",
              "225  VAT  Holy See (Vatican City State)    Europe  Southern Europe   \n",
              "\n",
              "     SurfaceArea  IndepYear  Population  LifeExpectancy  GNP  GNPOld  \\\n",
              "225          0.4     1929.0        1000             NaN  9.0     NaN   \n",
              "\n",
              "                         LocalName            GovernmentForm  Capital  \n",
              "225  Santa Sede/Città del Vaticano  Independent Church State   3538.0  "
            ],
            "text/html": [
              "\n",
              "  <div id=\"df-98d85778-ad35-4181-a8af-263acce3e4a5\">\n",
              "    <div class=\"colab-df-container\">\n",
              "      <div>\n",
              "<style scoped>\n",
              "    .dataframe tbody tr th:only-of-type {\n",
              "        vertical-align: middle;\n",
              "    }\n",
              "\n",
              "    .dataframe tbody tr th {\n",
              "        vertical-align: top;\n",
              "    }\n",
              "\n",
              "    .dataframe thead th {\n",
              "        text-align: right;\n",
              "    }\n",
              "</style>\n",
              "<table border=\"1\" class=\"dataframe\">\n",
              "  <thead>\n",
              "    <tr style=\"text-align: right;\">\n",
              "      <th></th>\n",
              "      <th>Code</th>\n",
              "      <th>Name</th>\n",
              "      <th>Continent</th>\n",
              "      <th>Region</th>\n",
              "      <th>SurfaceArea</th>\n",
              "      <th>IndepYear</th>\n",
              "      <th>Population</th>\n",
              "      <th>LifeExpectancy</th>\n",
              "      <th>GNP</th>\n",
              "      <th>GNPOld</th>\n",
              "      <th>LocalName</th>\n",
              "      <th>GovernmentForm</th>\n",
              "      <th>Capital</th>\n",
              "    </tr>\n",
              "  </thead>\n",
              "  <tbody>\n",
              "    <tr>\n",
              "      <th>225</th>\n",
              "      <td>VAT</td>\n",
              "      <td>Holy See (Vatican City State)</td>\n",
              "      <td>Europe</td>\n",
              "      <td>Southern Europe</td>\n",
              "      <td>0.4</td>\n",
              "      <td>1929.0</td>\n",
              "      <td>1000</td>\n",
              "      <td>NaN</td>\n",
              "      <td>9.0</td>\n",
              "      <td>NaN</td>\n",
              "      <td>Santa Sede/Città del Vaticano</td>\n",
              "      <td>Independent Church State</td>\n",
              "      <td>3538.0</td>\n",
              "    </tr>\n",
              "  </tbody>\n",
              "</table>\n",
              "</div>\n",
              "      <button class=\"colab-df-convert\" onclick=\"convertToInteractive('df-98d85778-ad35-4181-a8af-263acce3e4a5')\"\n",
              "              title=\"Convert this dataframe to an interactive table.\"\n",
              "              style=\"display:none;\">\n",
              "        \n",
              "  <svg xmlns=\"http://www.w3.org/2000/svg\" height=\"24px\"viewBox=\"0 0 24 24\"\n",
              "       width=\"24px\">\n",
              "    <path d=\"M0 0h24v24H0V0z\" fill=\"none\"/>\n",
              "    <path d=\"M18.56 5.44l.94 2.06.94-2.06 2.06-.94-2.06-.94-.94-2.06-.94 2.06-2.06.94zm-11 1L8.5 8.5l.94-2.06 2.06-.94-2.06-.94L8.5 2.5l-.94 2.06-2.06.94zm10 10l.94 2.06.94-2.06 2.06-.94-2.06-.94-.94-2.06-.94 2.06-2.06.94z\"/><path d=\"M17.41 7.96l-1.37-1.37c-.4-.4-.92-.59-1.43-.59-.52 0-1.04.2-1.43.59L10.3 9.45l-7.72 7.72c-.78.78-.78 2.05 0 2.83L4 21.41c.39.39.9.59 1.41.59.51 0 1.02-.2 1.41-.59l7.78-7.78 2.81-2.81c.8-.78.8-2.07 0-2.86zM5.41 20L4 18.59l7.72-7.72 1.47 1.35L5.41 20z\"/>\n",
              "  </svg>\n",
              "      </button>\n",
              "      \n",
              "  <style>\n",
              "    .colab-df-container {\n",
              "      display:flex;\n",
              "      flex-wrap:wrap;\n",
              "      gap: 12px;\n",
              "    }\n",
              "\n",
              "    .colab-df-convert {\n",
              "      background-color: #E8F0FE;\n",
              "      border: none;\n",
              "      border-radius: 50%;\n",
              "      cursor: pointer;\n",
              "      display: none;\n",
              "      fill: #1967D2;\n",
              "      height: 32px;\n",
              "      padding: 0 0 0 0;\n",
              "      width: 32px;\n",
              "    }\n",
              "\n",
              "    .colab-df-convert:hover {\n",
              "      background-color: #E2EBFA;\n",
              "      box-shadow: 0px 1px 2px rgba(60, 64, 67, 0.3), 0px 1px 3px 1px rgba(60, 64, 67, 0.15);\n",
              "      fill: #174EA6;\n",
              "    }\n",
              "\n",
              "    [theme=dark] .colab-df-convert {\n",
              "      background-color: #3B4455;\n",
              "      fill: #D2E3FC;\n",
              "    }\n",
              "\n",
              "    [theme=dark] .colab-df-convert:hover {\n",
              "      background-color: #434B5C;\n",
              "      box-shadow: 0px 1px 3px 1px rgba(0, 0, 0, 0.15);\n",
              "      filter: drop-shadow(0px 1px 2px rgba(0, 0, 0, 0.3));\n",
              "      fill: #FFFFFF;\n",
              "    }\n",
              "  </style>\n",
              "\n",
              "      <script>\n",
              "        const buttonEl =\n",
              "          document.querySelector('#df-98d85778-ad35-4181-a8af-263acce3e4a5 button.colab-df-convert');\n",
              "        buttonEl.style.display =\n",
              "          google.colab.kernel.accessAllowed ? 'block' : 'none';\n",
              "\n",
              "        async function convertToInteractive(key) {\n",
              "          const element = document.querySelector('#df-98d85778-ad35-4181-a8af-263acce3e4a5');\n",
              "          const dataTable =\n",
              "            await google.colab.kernel.invokeFunction('convertToInteractive',\n",
              "                                                     [key], {});\n",
              "          if (!dataTable) return;\n",
              "\n",
              "          const docLinkHtml = 'Like what you see? Visit the ' +\n",
              "            '<a target=\"_blank\" href=https://colab.research.google.com/notebooks/data_table.ipynb>data table notebook</a>'\n",
              "            + ' to learn more about interactive tables.';\n",
              "          element.innerHTML = '';\n",
              "          dataTable['output_type'] = 'display_data';\n",
              "          await google.colab.output.renderOutput(dataTable, element);\n",
              "          const docLink = document.createElement('div');\n",
              "          docLink.innerHTML = docLinkHtml;\n",
              "          element.appendChild(docLink);\n",
              "        }\n",
              "      </script>\n",
              "    </div>\n",
              "  </div>\n",
              "  "
            ]
          },
          "metadata": {},
          "execution_count": 26
        }
      ]
    },
    {
      "cell_type": "code",
      "source": [
        "countries['SurfaceArea'].max()"
      ],
      "metadata": {
        "colab": {
          "base_uri": "https://localhost:8080/"
        },
        "id": "FsUfkPN33RHz",
        "outputId": "f0637547-b36b-4ff9-df12-88a2223a29fe"
      },
      "execution_count": 27,
      "outputs": [
        {
          "output_type": "execute_result",
          "data": {
            "text/plain": [
              "17075400.0"
            ]
          },
          "metadata": {},
          "execution_count": 27
        }
      ]
    },
    {
      "cell_type": "code",
      "source": [
        "countries[countries['SurfaceArea']==countries['SurfaceArea'].max()]"
      ],
      "metadata": {
        "colab": {
          "base_uri": "https://localhost:8080/",
          "height": 140
        },
        "id": "IE1g8uqc3XpG",
        "outputId": "f49aca3c-a863-41d0-8657-70b3a7427021"
      },
      "execution_count": 28,
      "outputs": [
        {
          "output_type": "execute_result",
          "data": {
            "text/plain": [
              "    Code                Name Continent          Region  SurfaceArea  \\\n",
              "181  RUS  Russian Federation    Europe  Eastern Europe   17075400.0   \n",
              "\n",
              "     IndepYear  Population  LifeExpectancy       GNP    GNPOld LocalName  \\\n",
              "181     1991.0   146934000            67.2  276608.0  442989.0   Rossija   \n",
              "\n",
              "       GovernmentForm  Capital  \n",
              "181  Federal Republic   3580.0  "
            ],
            "text/html": [
              "\n",
              "  <div id=\"df-c21b535d-0512-4122-96d6-be8967a6082f\">\n",
              "    <div class=\"colab-df-container\">\n",
              "      <div>\n",
              "<style scoped>\n",
              "    .dataframe tbody tr th:only-of-type {\n",
              "        vertical-align: middle;\n",
              "    }\n",
              "\n",
              "    .dataframe tbody tr th {\n",
              "        vertical-align: top;\n",
              "    }\n",
              "\n",
              "    .dataframe thead th {\n",
              "        text-align: right;\n",
              "    }\n",
              "</style>\n",
              "<table border=\"1\" class=\"dataframe\">\n",
              "  <thead>\n",
              "    <tr style=\"text-align: right;\">\n",
              "      <th></th>\n",
              "      <th>Code</th>\n",
              "      <th>Name</th>\n",
              "      <th>Continent</th>\n",
              "      <th>Region</th>\n",
              "      <th>SurfaceArea</th>\n",
              "      <th>IndepYear</th>\n",
              "      <th>Population</th>\n",
              "      <th>LifeExpectancy</th>\n",
              "      <th>GNP</th>\n",
              "      <th>GNPOld</th>\n",
              "      <th>LocalName</th>\n",
              "      <th>GovernmentForm</th>\n",
              "      <th>Capital</th>\n",
              "    </tr>\n",
              "  </thead>\n",
              "  <tbody>\n",
              "    <tr>\n",
              "      <th>181</th>\n",
              "      <td>RUS</td>\n",
              "      <td>Russian Federation</td>\n",
              "      <td>Europe</td>\n",
              "      <td>Eastern Europe</td>\n",
              "      <td>17075400.0</td>\n",
              "      <td>1991.0</td>\n",
              "      <td>146934000</td>\n",
              "      <td>67.2</td>\n",
              "      <td>276608.0</td>\n",
              "      <td>442989.0</td>\n",
              "      <td>Rossija</td>\n",
              "      <td>Federal Republic</td>\n",
              "      <td>3580.0</td>\n",
              "    </tr>\n",
              "  </tbody>\n",
              "</table>\n",
              "</div>\n",
              "      <button class=\"colab-df-convert\" onclick=\"convertToInteractive('df-c21b535d-0512-4122-96d6-be8967a6082f')\"\n",
              "              title=\"Convert this dataframe to an interactive table.\"\n",
              "              style=\"display:none;\">\n",
              "        \n",
              "  <svg xmlns=\"http://www.w3.org/2000/svg\" height=\"24px\"viewBox=\"0 0 24 24\"\n",
              "       width=\"24px\">\n",
              "    <path d=\"M0 0h24v24H0V0z\" fill=\"none\"/>\n",
              "    <path d=\"M18.56 5.44l.94 2.06.94-2.06 2.06-.94-2.06-.94-.94-2.06-.94 2.06-2.06.94zm-11 1L8.5 8.5l.94-2.06 2.06-.94-2.06-.94L8.5 2.5l-.94 2.06-2.06.94zm10 10l.94 2.06.94-2.06 2.06-.94-2.06-.94-.94-2.06-.94 2.06-2.06.94z\"/><path d=\"M17.41 7.96l-1.37-1.37c-.4-.4-.92-.59-1.43-.59-.52 0-1.04.2-1.43.59L10.3 9.45l-7.72 7.72c-.78.78-.78 2.05 0 2.83L4 21.41c.39.39.9.59 1.41.59.51 0 1.02-.2 1.41-.59l7.78-7.78 2.81-2.81c.8-.78.8-2.07 0-2.86zM5.41 20L4 18.59l7.72-7.72 1.47 1.35L5.41 20z\"/>\n",
              "  </svg>\n",
              "      </button>\n",
              "      \n",
              "  <style>\n",
              "    .colab-df-container {\n",
              "      display:flex;\n",
              "      flex-wrap:wrap;\n",
              "      gap: 12px;\n",
              "    }\n",
              "\n",
              "    .colab-df-convert {\n",
              "      background-color: #E8F0FE;\n",
              "      border: none;\n",
              "      border-radius: 50%;\n",
              "      cursor: pointer;\n",
              "      display: none;\n",
              "      fill: #1967D2;\n",
              "      height: 32px;\n",
              "      padding: 0 0 0 0;\n",
              "      width: 32px;\n",
              "    }\n",
              "\n",
              "    .colab-df-convert:hover {\n",
              "      background-color: #E2EBFA;\n",
              "      box-shadow: 0px 1px 2px rgba(60, 64, 67, 0.3), 0px 1px 3px 1px rgba(60, 64, 67, 0.15);\n",
              "      fill: #174EA6;\n",
              "    }\n",
              "\n",
              "    [theme=dark] .colab-df-convert {\n",
              "      background-color: #3B4455;\n",
              "      fill: #D2E3FC;\n",
              "    }\n",
              "\n",
              "    [theme=dark] .colab-df-convert:hover {\n",
              "      background-color: #434B5C;\n",
              "      box-shadow: 0px 1px 3px 1px rgba(0, 0, 0, 0.15);\n",
              "      filter: drop-shadow(0px 1px 2px rgba(0, 0, 0, 0.3));\n",
              "      fill: #FFFFFF;\n",
              "    }\n",
              "  </style>\n",
              "\n",
              "      <script>\n",
              "        const buttonEl =\n",
              "          document.querySelector('#df-c21b535d-0512-4122-96d6-be8967a6082f button.colab-df-convert');\n",
              "        buttonEl.style.display =\n",
              "          google.colab.kernel.accessAllowed ? 'block' : 'none';\n",
              "\n",
              "        async function convertToInteractive(key) {\n",
              "          const element = document.querySelector('#df-c21b535d-0512-4122-96d6-be8967a6082f');\n",
              "          const dataTable =\n",
              "            await google.colab.kernel.invokeFunction('convertToInteractive',\n",
              "                                                     [key], {});\n",
              "          if (!dataTable) return;\n",
              "\n",
              "          const docLinkHtml = 'Like what you see? Visit the ' +\n",
              "            '<a target=\"_blank\" href=https://colab.research.google.com/notebooks/data_table.ipynb>data table notebook</a>'\n",
              "            + ' to learn more about interactive tables.';\n",
              "          element.innerHTML = '';\n",
              "          dataTable['output_type'] = 'display_data';\n",
              "          await google.colab.output.renderOutput(dataTable, element);\n",
              "          const docLink = document.createElement('div');\n",
              "          docLink.innerHTML = docLinkHtml;\n",
              "          element.appendChild(docLink);\n",
              "        }\n",
              "      </script>\n",
              "    </div>\n",
              "  </div>\n",
              "  "
            ]
          },
          "metadata": {},
          "execution_count": 28
        }
      ]
    },
    {
      "cell_type": "markdown",
      "metadata": {
        "id": "9cL6CJ22_wcw"
      },
      "source": [
        "*   ¿Cuál es la desviación estándar de la expectativa de vida? "
      ]
    },
    {
      "cell_type": "code",
      "metadata": {
        "id": "38_ob8IF83V4",
        "colab": {
          "base_uri": "https://localhost:8080/"
        },
        "outputId": "eb46ae95-ac62-49a2-eff0-8b23aa3b84e0"
      },
      "source": [
        "countries['LifeExpectancy'].std()"
      ],
      "execution_count": 29,
      "outputs": [
        {
          "output_type": "execute_result",
          "data": {
            "text/plain": [
              "11.519267100498716"
            ]
          },
          "metadata": {},
          "execution_count": 29
        }
      ]
    },
    {
      "cell_type": "markdown",
      "metadata": {
        "id": "lHbKcOjn_9po"
      },
      "source": [
        "*   ¿Qué significa que para el año de independencia está 1974 en el 3er cuartil (75%)? "
      ]
    },
    {
      "cell_type": "code",
      "metadata": {
        "id": "TiAb0vnl84U-",
        "colab": {
          "base_uri": "https://localhost:8080/"
        },
        "outputId": "a6e9126d-341c-46c1-d8d2-e325d798cb8a"
      },
      "source": [
        "countries['IndepYear'].quantile(.75)"
      ],
      "execution_count": 30,
      "outputs": [
        {
          "output_type": "execute_result",
          "data": {
            "text/plain": [
              "1974.0"
            ]
          },
          "metadata": {},
          "execution_count": 30
        }
      ]
    },
    {
      "cell_type": "code",
      "source": [
        "# Formato con separador de miles\n",
        "pd.options.display.float_format = '{:,.2f}'.format\n",
        "countries.describe()"
      ],
      "metadata": {
        "colab": {
          "base_uri": "https://localhost:8080/",
          "height": 291
        },
        "id": "8O-mKBtv39nW",
        "outputId": "7cb26708-45e1-4bba-bb7c-79dafd84a3e7"
      },
      "execution_count": 105,
      "outputs": [
        {
          "output_type": "execute_result",
          "data": {
            "text/plain": [
              "        SurfaceArea  IndepYear       Population  LifeExpectancy          GNP  \\\n",
              "count        232.00     192.00           232.00          222.00       232.00   \n",
              "mean     585,448.76   1,847.26    26,201,506.25           66.49   126,529.78   \n",
              "std    1,768,330.08     420.83   110,893,101.65           11.52   647,228.36   \n",
              "min            0.40  -1,523.00            50.00           37.20         0.00   \n",
              "25%        2,769.75   1,906.75       303,500.00           60.30       807.50   \n",
              "50%       81,233.00   1,960.00     4,419,500.00           70.15     5,224.50   \n",
              "75%      414,643.25   1,974.00    15,374,250.00           75.50    34,606.00   \n",
              "max   17,075,400.00   1,994.00 1,277,558,000.00           83.50 8,510,700.00   \n",
              "\n",
              "            GNPOld  Capital  \n",
              "count       178.00   232.00  \n",
              "mean    165,534.31 2,071.31  \n",
              "std     720,468.91 1,184.10  \n",
              "min         157.00     1.00  \n",
              "25%       2,187.00   915.75  \n",
              "50%       8,421.00 2,449.50  \n",
              "75%      71,145.50 3,065.25  \n",
              "max   8,110,900.00 4,074.00  "
            ],
            "text/html": [
              "\n",
              "  <div id=\"df-3e0afb8d-656f-4ca7-97d6-189870df2e97\">\n",
              "    <div class=\"colab-df-container\">\n",
              "      <div>\n",
              "<style scoped>\n",
              "    .dataframe tbody tr th:only-of-type {\n",
              "        vertical-align: middle;\n",
              "    }\n",
              "\n",
              "    .dataframe tbody tr th {\n",
              "        vertical-align: top;\n",
              "    }\n",
              "\n",
              "    .dataframe thead th {\n",
              "        text-align: right;\n",
              "    }\n",
              "</style>\n",
              "<table border=\"1\" class=\"dataframe\">\n",
              "  <thead>\n",
              "    <tr style=\"text-align: right;\">\n",
              "      <th></th>\n",
              "      <th>SurfaceArea</th>\n",
              "      <th>IndepYear</th>\n",
              "      <th>Population</th>\n",
              "      <th>LifeExpectancy</th>\n",
              "      <th>GNP</th>\n",
              "      <th>GNPOld</th>\n",
              "      <th>Capital</th>\n",
              "    </tr>\n",
              "  </thead>\n",
              "  <tbody>\n",
              "    <tr>\n",
              "      <th>count</th>\n",
              "      <td>232.00</td>\n",
              "      <td>192.00</td>\n",
              "      <td>232.00</td>\n",
              "      <td>222.00</td>\n",
              "      <td>232.00</td>\n",
              "      <td>178.00</td>\n",
              "      <td>232.00</td>\n",
              "    </tr>\n",
              "    <tr>\n",
              "      <th>mean</th>\n",
              "      <td>585,448.76</td>\n",
              "      <td>1,847.26</td>\n",
              "      <td>26,201,506.25</td>\n",
              "      <td>66.49</td>\n",
              "      <td>126,529.78</td>\n",
              "      <td>165,534.31</td>\n",
              "      <td>2,071.31</td>\n",
              "    </tr>\n",
              "    <tr>\n",
              "      <th>std</th>\n",
              "      <td>1,768,330.08</td>\n",
              "      <td>420.83</td>\n",
              "      <td>110,893,101.65</td>\n",
              "      <td>11.52</td>\n",
              "      <td>647,228.36</td>\n",
              "      <td>720,468.91</td>\n",
              "      <td>1,184.10</td>\n",
              "    </tr>\n",
              "    <tr>\n",
              "      <th>min</th>\n",
              "      <td>0.40</td>\n",
              "      <td>-1,523.00</td>\n",
              "      <td>50.00</td>\n",
              "      <td>37.20</td>\n",
              "      <td>0.00</td>\n",
              "      <td>157.00</td>\n",
              "      <td>1.00</td>\n",
              "    </tr>\n",
              "    <tr>\n",
              "      <th>25%</th>\n",
              "      <td>2,769.75</td>\n",
              "      <td>1,906.75</td>\n",
              "      <td>303,500.00</td>\n",
              "      <td>60.30</td>\n",
              "      <td>807.50</td>\n",
              "      <td>2,187.00</td>\n",
              "      <td>915.75</td>\n",
              "    </tr>\n",
              "    <tr>\n",
              "      <th>50%</th>\n",
              "      <td>81,233.00</td>\n",
              "      <td>1,960.00</td>\n",
              "      <td>4,419,500.00</td>\n",
              "      <td>70.15</td>\n",
              "      <td>5,224.50</td>\n",
              "      <td>8,421.00</td>\n",
              "      <td>2,449.50</td>\n",
              "    </tr>\n",
              "    <tr>\n",
              "      <th>75%</th>\n",
              "      <td>414,643.25</td>\n",
              "      <td>1,974.00</td>\n",
              "      <td>15,374,250.00</td>\n",
              "      <td>75.50</td>\n",
              "      <td>34,606.00</td>\n",
              "      <td>71,145.50</td>\n",
              "      <td>3,065.25</td>\n",
              "    </tr>\n",
              "    <tr>\n",
              "      <th>max</th>\n",
              "      <td>17,075,400.00</td>\n",
              "      <td>1,994.00</td>\n",
              "      <td>1,277,558,000.00</td>\n",
              "      <td>83.50</td>\n",
              "      <td>8,510,700.00</td>\n",
              "      <td>8,110,900.00</td>\n",
              "      <td>4,074.00</td>\n",
              "    </tr>\n",
              "  </tbody>\n",
              "</table>\n",
              "</div>\n",
              "      <button class=\"colab-df-convert\" onclick=\"convertToInteractive('df-3e0afb8d-656f-4ca7-97d6-189870df2e97')\"\n",
              "              title=\"Convert this dataframe to an interactive table.\"\n",
              "              style=\"display:none;\">\n",
              "        \n",
              "  <svg xmlns=\"http://www.w3.org/2000/svg\" height=\"24px\"viewBox=\"0 0 24 24\"\n",
              "       width=\"24px\">\n",
              "    <path d=\"M0 0h24v24H0V0z\" fill=\"none\"/>\n",
              "    <path d=\"M18.56 5.44l.94 2.06.94-2.06 2.06-.94-2.06-.94-.94-2.06-.94 2.06-2.06.94zm-11 1L8.5 8.5l.94-2.06 2.06-.94-2.06-.94L8.5 2.5l-.94 2.06-2.06.94zm10 10l.94 2.06.94-2.06 2.06-.94-2.06-.94-.94-2.06-.94 2.06-2.06.94z\"/><path d=\"M17.41 7.96l-1.37-1.37c-.4-.4-.92-.59-1.43-.59-.52 0-1.04.2-1.43.59L10.3 9.45l-7.72 7.72c-.78.78-.78 2.05 0 2.83L4 21.41c.39.39.9.59 1.41.59.51 0 1.02-.2 1.41-.59l7.78-7.78 2.81-2.81c.8-.78.8-2.07 0-2.86zM5.41 20L4 18.59l7.72-7.72 1.47 1.35L5.41 20z\"/>\n",
              "  </svg>\n",
              "      </button>\n",
              "      \n",
              "  <style>\n",
              "    .colab-df-container {\n",
              "      display:flex;\n",
              "      flex-wrap:wrap;\n",
              "      gap: 12px;\n",
              "    }\n",
              "\n",
              "    .colab-df-convert {\n",
              "      background-color: #E8F0FE;\n",
              "      border: none;\n",
              "      border-radius: 50%;\n",
              "      cursor: pointer;\n",
              "      display: none;\n",
              "      fill: #1967D2;\n",
              "      height: 32px;\n",
              "      padding: 0 0 0 0;\n",
              "      width: 32px;\n",
              "    }\n",
              "\n",
              "    .colab-df-convert:hover {\n",
              "      background-color: #E2EBFA;\n",
              "      box-shadow: 0px 1px 2px rgba(60, 64, 67, 0.3), 0px 1px 3px 1px rgba(60, 64, 67, 0.15);\n",
              "      fill: #174EA6;\n",
              "    }\n",
              "\n",
              "    [theme=dark] .colab-df-convert {\n",
              "      background-color: #3B4455;\n",
              "      fill: #D2E3FC;\n",
              "    }\n",
              "\n",
              "    [theme=dark] .colab-df-convert:hover {\n",
              "      background-color: #434B5C;\n",
              "      box-shadow: 0px 1px 3px 1px rgba(0, 0, 0, 0.15);\n",
              "      filter: drop-shadow(0px 1px 2px rgba(0, 0, 0, 0.3));\n",
              "      fill: #FFFFFF;\n",
              "    }\n",
              "  </style>\n",
              "\n",
              "      <script>\n",
              "        const buttonEl =\n",
              "          document.querySelector('#df-3e0afb8d-656f-4ca7-97d6-189870df2e97 button.colab-df-convert');\n",
              "        buttonEl.style.display =\n",
              "          google.colab.kernel.accessAllowed ? 'block' : 'none';\n",
              "\n",
              "        async function convertToInteractive(key) {\n",
              "          const element = document.querySelector('#df-3e0afb8d-656f-4ca7-97d6-189870df2e97');\n",
              "          const dataTable =\n",
              "            await google.colab.kernel.invokeFunction('convertToInteractive',\n",
              "                                                     [key], {});\n",
              "          if (!dataTable) return;\n",
              "\n",
              "          const docLinkHtml = 'Like what you see? Visit the ' +\n",
              "            '<a target=\"_blank\" href=https://colab.research.google.com/notebooks/data_table.ipynb>data table notebook</a>'\n",
              "            + ' to learn more about interactive tables.';\n",
              "          element.innerHTML = '';\n",
              "          dataTable['output_type'] = 'display_data';\n",
              "          await google.colab.output.renderOutput(dataTable, element);\n",
              "          const docLink = document.createElement('div');\n",
              "          docLink.innerHTML = docLinkHtml;\n",
              "          element.appendChild(docLink);\n",
              "        }\n",
              "      </script>\n",
              "    </div>\n",
              "  </div>\n",
              "  "
            ]
          },
          "metadata": {},
          "execution_count": 105
        }
      ]
    },
    {
      "cell_type": "markdown",
      "metadata": {
        "id": "FG-ArPfXJCZ-"
      },
      "source": [
        "# **TEMA 2. Plataformas de visualización en Python**"
      ]
    },
    {
      "cell_type": "code",
      "metadata": {
        "id": "xh6Z2oqgJXSU"
      },
      "source": [
        "import pandas as pd\n",
        "import matplotlib.pyplot as plt\n",
        "import seaborn as sns"
      ],
      "execution_count": 35,
      "outputs": []
    },
    {
      "cell_type": "markdown",
      "metadata": {
        "id": "bOR1-vzyoabs"
      },
      "source": [
        "## 2.1 Trazado básico y personalización de la estética"
      ]
    },
    {
      "cell_type": "markdown",
      "metadata": {
        "id": "IfpzJFMID_OA"
      },
      "source": [
        "*   Generar un nuevo dataframe (`sample`) con los 6 primeros registros de `countries` y dejando únicamente las columnas `Name` y `Population` "
      ]
    },
    {
      "cell_type": "code",
      "metadata": {
        "id": "ipFpLmA-9CTA",
        "colab": {
          "base_uri": "https://localhost:8080/",
          "height": 231
        },
        "outputId": "08c33723-6daf-4b3b-d90f-f28db3cbd59d"
      },
      "source": [
        "sample = countries.head(6)[['Name','Population']]\n",
        "sample"
      ],
      "execution_count": 33,
      "outputs": [
        {
          "output_type": "execute_result",
          "data": {
            "text/plain": [
              "          Name  Population\n",
              "0        Aruba      103000\n",
              "1  Afghanistan    22720000\n",
              "2       Angola    12878000\n",
              "3     Anguilla        8000\n",
              "4      Albania     3401200\n",
              "5      Andorra       78000"
            ],
            "text/html": [
              "\n",
              "  <div id=\"df-8a8e232a-546b-4dc7-a3dc-96cf915dc44a\">\n",
              "    <div class=\"colab-df-container\">\n",
              "      <div>\n",
              "<style scoped>\n",
              "    .dataframe tbody tr th:only-of-type {\n",
              "        vertical-align: middle;\n",
              "    }\n",
              "\n",
              "    .dataframe tbody tr th {\n",
              "        vertical-align: top;\n",
              "    }\n",
              "\n",
              "    .dataframe thead th {\n",
              "        text-align: right;\n",
              "    }\n",
              "</style>\n",
              "<table border=\"1\" class=\"dataframe\">\n",
              "  <thead>\n",
              "    <tr style=\"text-align: right;\">\n",
              "      <th></th>\n",
              "      <th>Name</th>\n",
              "      <th>Population</th>\n",
              "    </tr>\n",
              "  </thead>\n",
              "  <tbody>\n",
              "    <tr>\n",
              "      <th>0</th>\n",
              "      <td>Aruba</td>\n",
              "      <td>103000</td>\n",
              "    </tr>\n",
              "    <tr>\n",
              "      <th>1</th>\n",
              "      <td>Afghanistan</td>\n",
              "      <td>22720000</td>\n",
              "    </tr>\n",
              "    <tr>\n",
              "      <th>2</th>\n",
              "      <td>Angola</td>\n",
              "      <td>12878000</td>\n",
              "    </tr>\n",
              "    <tr>\n",
              "      <th>3</th>\n",
              "      <td>Anguilla</td>\n",
              "      <td>8000</td>\n",
              "    </tr>\n",
              "    <tr>\n",
              "      <th>4</th>\n",
              "      <td>Albania</td>\n",
              "      <td>3401200</td>\n",
              "    </tr>\n",
              "    <tr>\n",
              "      <th>5</th>\n",
              "      <td>Andorra</td>\n",
              "      <td>78000</td>\n",
              "    </tr>\n",
              "  </tbody>\n",
              "</table>\n",
              "</div>\n",
              "      <button class=\"colab-df-convert\" onclick=\"convertToInteractive('df-8a8e232a-546b-4dc7-a3dc-96cf915dc44a')\"\n",
              "              title=\"Convert this dataframe to an interactive table.\"\n",
              "              style=\"display:none;\">\n",
              "        \n",
              "  <svg xmlns=\"http://www.w3.org/2000/svg\" height=\"24px\"viewBox=\"0 0 24 24\"\n",
              "       width=\"24px\">\n",
              "    <path d=\"M0 0h24v24H0V0z\" fill=\"none\"/>\n",
              "    <path d=\"M18.56 5.44l.94 2.06.94-2.06 2.06-.94-2.06-.94-.94-2.06-.94 2.06-2.06.94zm-11 1L8.5 8.5l.94-2.06 2.06-.94-2.06-.94L8.5 2.5l-.94 2.06-2.06.94zm10 10l.94 2.06.94-2.06 2.06-.94-2.06-.94-.94-2.06-.94 2.06-2.06.94z\"/><path d=\"M17.41 7.96l-1.37-1.37c-.4-.4-.92-.59-1.43-.59-.52 0-1.04.2-1.43.59L10.3 9.45l-7.72 7.72c-.78.78-.78 2.05 0 2.83L4 21.41c.39.39.9.59 1.41.59.51 0 1.02-.2 1.41-.59l7.78-7.78 2.81-2.81c.8-.78.8-2.07 0-2.86zM5.41 20L4 18.59l7.72-7.72 1.47 1.35L5.41 20z\"/>\n",
              "  </svg>\n",
              "      </button>\n",
              "      \n",
              "  <style>\n",
              "    .colab-df-container {\n",
              "      display:flex;\n",
              "      flex-wrap:wrap;\n",
              "      gap: 12px;\n",
              "    }\n",
              "\n",
              "    .colab-df-convert {\n",
              "      background-color: #E8F0FE;\n",
              "      border: none;\n",
              "      border-radius: 50%;\n",
              "      cursor: pointer;\n",
              "      display: none;\n",
              "      fill: #1967D2;\n",
              "      height: 32px;\n",
              "      padding: 0 0 0 0;\n",
              "      width: 32px;\n",
              "    }\n",
              "\n",
              "    .colab-df-convert:hover {\n",
              "      background-color: #E2EBFA;\n",
              "      box-shadow: 0px 1px 2px rgba(60, 64, 67, 0.3), 0px 1px 3px 1px rgba(60, 64, 67, 0.15);\n",
              "      fill: #174EA6;\n",
              "    }\n",
              "\n",
              "    [theme=dark] .colab-df-convert {\n",
              "      background-color: #3B4455;\n",
              "      fill: #D2E3FC;\n",
              "    }\n",
              "\n",
              "    [theme=dark] .colab-df-convert:hover {\n",
              "      background-color: #434B5C;\n",
              "      box-shadow: 0px 1px 3px 1px rgba(0, 0, 0, 0.15);\n",
              "      filter: drop-shadow(0px 1px 2px rgba(0, 0, 0, 0.3));\n",
              "      fill: #FFFFFF;\n",
              "    }\n",
              "  </style>\n",
              "\n",
              "      <script>\n",
              "        const buttonEl =\n",
              "          document.querySelector('#df-8a8e232a-546b-4dc7-a3dc-96cf915dc44a button.colab-df-convert');\n",
              "        buttonEl.style.display =\n",
              "          google.colab.kernel.accessAllowed ? 'block' : 'none';\n",
              "\n",
              "        async function convertToInteractive(key) {\n",
              "          const element = document.querySelector('#df-8a8e232a-546b-4dc7-a3dc-96cf915dc44a');\n",
              "          const dataTable =\n",
              "            await google.colab.kernel.invokeFunction('convertToInteractive',\n",
              "                                                     [key], {});\n",
              "          if (!dataTable) return;\n",
              "\n",
              "          const docLinkHtml = 'Like what you see? Visit the ' +\n",
              "            '<a target=\"_blank\" href=https://colab.research.google.com/notebooks/data_table.ipynb>data table notebook</a>'\n",
              "            + ' to learn more about interactive tables.';\n",
              "          element.innerHTML = '';\n",
              "          dataTable['output_type'] = 'display_data';\n",
              "          await google.colab.output.renderOutput(dataTable, element);\n",
              "          const docLink = document.createElement('div');\n",
              "          docLink.innerHTML = docLinkHtml;\n",
              "          element.appendChild(docLink);\n",
              "        }\n",
              "      </script>\n",
              "    </div>\n",
              "  </div>\n",
              "  "
            ]
          },
          "metadata": {},
          "execution_count": 33
        }
      ]
    },
    {
      "cell_type": "markdown",
      "metadata": {
        "id": "8hqxHtduEO6K"
      },
      "source": [
        "*   Hacer que `Name` sea el índice"
      ]
    },
    {
      "cell_type": "code",
      "metadata": {
        "id": "sqGddmt49C4F",
        "colab": {
          "base_uri": "https://localhost:8080/",
          "height": 261
        },
        "outputId": "6757f75e-464c-42c7-8a3f-4c6faacf09ec"
      },
      "source": [
        "sample.set_index('Name',inplace=True)\n",
        "sample"
      ],
      "execution_count": 34,
      "outputs": [
        {
          "output_type": "execute_result",
          "data": {
            "text/plain": [
              "             Population\n",
              "Name                   \n",
              "Aruba            103000\n",
              "Afghanistan    22720000\n",
              "Angola         12878000\n",
              "Anguilla           8000\n",
              "Albania         3401200\n",
              "Andorra           78000"
            ],
            "text/html": [
              "\n",
              "  <div id=\"df-6a2cf90a-a00e-4341-97e6-f37f2f006c3f\">\n",
              "    <div class=\"colab-df-container\">\n",
              "      <div>\n",
              "<style scoped>\n",
              "    .dataframe tbody tr th:only-of-type {\n",
              "        vertical-align: middle;\n",
              "    }\n",
              "\n",
              "    .dataframe tbody tr th {\n",
              "        vertical-align: top;\n",
              "    }\n",
              "\n",
              "    .dataframe thead th {\n",
              "        text-align: right;\n",
              "    }\n",
              "</style>\n",
              "<table border=\"1\" class=\"dataframe\">\n",
              "  <thead>\n",
              "    <tr style=\"text-align: right;\">\n",
              "      <th></th>\n",
              "      <th>Population</th>\n",
              "    </tr>\n",
              "    <tr>\n",
              "      <th>Name</th>\n",
              "      <th></th>\n",
              "    </tr>\n",
              "  </thead>\n",
              "  <tbody>\n",
              "    <tr>\n",
              "      <th>Aruba</th>\n",
              "      <td>103000</td>\n",
              "    </tr>\n",
              "    <tr>\n",
              "      <th>Afghanistan</th>\n",
              "      <td>22720000</td>\n",
              "    </tr>\n",
              "    <tr>\n",
              "      <th>Angola</th>\n",
              "      <td>12878000</td>\n",
              "    </tr>\n",
              "    <tr>\n",
              "      <th>Anguilla</th>\n",
              "      <td>8000</td>\n",
              "    </tr>\n",
              "    <tr>\n",
              "      <th>Albania</th>\n",
              "      <td>3401200</td>\n",
              "    </tr>\n",
              "    <tr>\n",
              "      <th>Andorra</th>\n",
              "      <td>78000</td>\n",
              "    </tr>\n",
              "  </tbody>\n",
              "</table>\n",
              "</div>\n",
              "      <button class=\"colab-df-convert\" onclick=\"convertToInteractive('df-6a2cf90a-a00e-4341-97e6-f37f2f006c3f')\"\n",
              "              title=\"Convert this dataframe to an interactive table.\"\n",
              "              style=\"display:none;\">\n",
              "        \n",
              "  <svg xmlns=\"http://www.w3.org/2000/svg\" height=\"24px\"viewBox=\"0 0 24 24\"\n",
              "       width=\"24px\">\n",
              "    <path d=\"M0 0h24v24H0V0z\" fill=\"none\"/>\n",
              "    <path d=\"M18.56 5.44l.94 2.06.94-2.06 2.06-.94-2.06-.94-.94-2.06-.94 2.06-2.06.94zm-11 1L8.5 8.5l.94-2.06 2.06-.94-2.06-.94L8.5 2.5l-.94 2.06-2.06.94zm10 10l.94 2.06.94-2.06 2.06-.94-2.06-.94-.94-2.06-.94 2.06-2.06.94z\"/><path d=\"M17.41 7.96l-1.37-1.37c-.4-.4-.92-.59-1.43-.59-.52 0-1.04.2-1.43.59L10.3 9.45l-7.72 7.72c-.78.78-.78 2.05 0 2.83L4 21.41c.39.39.9.59 1.41.59.51 0 1.02-.2 1.41-.59l7.78-7.78 2.81-2.81c.8-.78.8-2.07 0-2.86zM5.41 20L4 18.59l7.72-7.72 1.47 1.35L5.41 20z\"/>\n",
              "  </svg>\n",
              "      </button>\n",
              "      \n",
              "  <style>\n",
              "    .colab-df-container {\n",
              "      display:flex;\n",
              "      flex-wrap:wrap;\n",
              "      gap: 12px;\n",
              "    }\n",
              "\n",
              "    .colab-df-convert {\n",
              "      background-color: #E8F0FE;\n",
              "      border: none;\n",
              "      border-radius: 50%;\n",
              "      cursor: pointer;\n",
              "      display: none;\n",
              "      fill: #1967D2;\n",
              "      height: 32px;\n",
              "      padding: 0 0 0 0;\n",
              "      width: 32px;\n",
              "    }\n",
              "\n",
              "    .colab-df-convert:hover {\n",
              "      background-color: #E2EBFA;\n",
              "      box-shadow: 0px 1px 2px rgba(60, 64, 67, 0.3), 0px 1px 3px 1px rgba(60, 64, 67, 0.15);\n",
              "      fill: #174EA6;\n",
              "    }\n",
              "\n",
              "    [theme=dark] .colab-df-convert {\n",
              "      background-color: #3B4455;\n",
              "      fill: #D2E3FC;\n",
              "    }\n",
              "\n",
              "    [theme=dark] .colab-df-convert:hover {\n",
              "      background-color: #434B5C;\n",
              "      box-shadow: 0px 1px 3px 1px rgba(0, 0, 0, 0.15);\n",
              "      filter: drop-shadow(0px 1px 2px rgba(0, 0, 0, 0.3));\n",
              "      fill: #FFFFFF;\n",
              "    }\n",
              "  </style>\n",
              "\n",
              "      <script>\n",
              "        const buttonEl =\n",
              "          document.querySelector('#df-6a2cf90a-a00e-4341-97e6-f37f2f006c3f button.colab-df-convert');\n",
              "        buttonEl.style.display =\n",
              "          google.colab.kernel.accessAllowed ? 'block' : 'none';\n",
              "\n",
              "        async function convertToInteractive(key) {\n",
              "          const element = document.querySelector('#df-6a2cf90a-a00e-4341-97e6-f37f2f006c3f');\n",
              "          const dataTable =\n",
              "            await google.colab.kernel.invokeFunction('convertToInteractive',\n",
              "                                                     [key], {});\n",
              "          if (!dataTable) return;\n",
              "\n",
              "          const docLinkHtml = 'Like what you see? Visit the ' +\n",
              "            '<a target=\"_blank\" href=https://colab.research.google.com/notebooks/data_table.ipynb>data table notebook</a>'\n",
              "            + ' to learn more about interactive tables.';\n",
              "          element.innerHTML = '';\n",
              "          dataTable['output_type'] = 'display_data';\n",
              "          await google.colab.output.renderOutput(dataTable, element);\n",
              "          const docLink = document.createElement('div');\n",
              "          docLink.innerHTML = docLinkHtml;\n",
              "          element.appendChild(docLink);\n",
              "        }\n",
              "      </script>\n",
              "    </div>\n",
              "  </div>\n",
              "  "
            ]
          },
          "metadata": {},
          "execution_count": 34
        }
      ]
    },
    {
      "cell_type": "markdown",
      "metadata": {
        "id": "OeZ3aYu7EZOQ"
      },
      "source": [
        "*   Visualizar `sample` usando las tres plataformas de trazado"
      ]
    },
    {
      "cell_type": "code",
      "metadata": {
        "id": "TrWwXvJN9DcZ",
        "colab": {
          "base_uri": "https://localhost:8080/",
          "height": 291
        },
        "outputId": "e38df0da-ed89-4564-ea28-e4e96d968c55"
      },
      "source": [
        "# Matplotlib\n",
        "plt.plot(sample.index,sample.values)"
      ],
      "execution_count": 36,
      "outputs": [
        {
          "output_type": "execute_result",
          "data": {
            "text/plain": [
              "[<matplotlib.lines.Line2D at 0x7efc8b411290>]"
            ]
          },
          "metadata": {},
          "execution_count": 36
        },
        {
          "output_type": "display_data",
          "data": {
            "text/plain": [
              "<Figure size 432x288 with 1 Axes>"
            ],
            "image/png": "[encoded data removed]"
          },
          "metadata": {
            "needs_background": "light"
          }
        }
      ]
    },
    {
      "cell_type": "code",
      "source": [
        "# Pandas\n",
        "sample.plot()"
      ],
      "metadata": {
        "colab": {
          "base_uri": "https://localhost:8080/",
          "height": 305
        },
        "id": "hM268BXz8AI9",
        "outputId": "5b4949e4-03dc-490d-cefb-80d986498936"
      },
      "execution_count": 52,
      "outputs": [
        {
          "output_type": "execute_result",
          "data": {
            "text/plain": [
              "<matplotlib.axes._subplots.AxesSubplot at 0x7efc8aeb50d0>"
            ]
          },
          "metadata": {},
          "execution_count": 52
        },
        {
          "output_type": "display_data",
          "data": {
            "text/plain": [
              "<Figure size 432x288 with 1 Axes>"
            ],
            "image/png": "[encoded data removed]"
          },
          "metadata": {
            "needs_background": "light"
          }
        }
      ]
    },
    {
      "cell_type": "code",
      "source": [
        "# Seaborn\n",
        "sns.lineplot(x=sample.index, y=sample['Population'])\n",
        "plt.title('Population by country')\n",
        "plt.xlabel('Nombre')"
      ],
      "metadata": {
        "colab": {
          "base_uri": "https://localhost:8080/",
          "height": 310
        },
        "id": "0Jw9ZaNd8Hu5",
        "outputId": "4e1ed6a2-3f81-4574-9c09-bd0c4d74e64b"
      },
      "execution_count": 41,
      "outputs": [
        {
          "output_type": "execute_result",
          "data": {
            "text/plain": [
              "Text(0.5, 0, 'Nombre')"
            ]
          },
          "metadata": {},
          "execution_count": 41
        },
        {
          "output_type": "display_data",
          "data": {
            "text/plain": [
              "<Figure size 432x288 with 1 Axes>"
            ],
            "image/png": "[encoded data removed]"
          },
          "metadata": {
            "needs_background": "light"
          }
        }
      ]
    },
    {
      "cell_type": "markdown",
      "metadata": {
        "id": "p9cvHKvoEk-b"
      },
      "source": [
        "*   Cambiar las propiedades: `title`, `grid`, `legend`, `xlabel`, `ylabel`, `rot`, `fontsize`, `color`, `marker` y `linestyle` de la gráfica generada con Pandas "
      ]
    },
    {
      "cell_type": "code",
      "metadata": {
        "id": "B3O_9j3j9ERy",
        "colab": {
          "base_uri": "https://localhost:8080/",
          "height": 487
        },
        "outputId": "692e0a8b-14ab-4e9d-8bec-1dff6a72833e"
      },
      "source": [
        "sample.plot(title='Population by country', grid=True, legend=False, xlabel='Countries', ylabel='Population',rot=45, fontsize=16, figsize=(10,6), color='red', linestyle='--', marker='o')"
      ],
      "execution_count": 51,
      "outputs": [
        {
          "output_type": "execute_result",
          "data": {
            "text/plain": [
              "<matplotlib.axes._subplots.AxesSubplot at 0x7efc8a3a2110>"
            ]
          },
          "metadata": {},
          "execution_count": 51
        },
        {
          "output_type": "display_data",
          "data": {
            "text/plain": [
              "<Figure size 720x432 with 1 Axes>"
            ],
            "image/png": "[encoded data removed]"
          },
          "metadata": {
            "needs_background": "light"
          }
        }
      ]
    },
    {
      "cell_type": "markdown",
      "metadata": {
        "id": "4nZKwxVZFCJZ"
      },
      "source": [
        "*   Probar con otro dataframe (`sample2`) que almacene los 6 primeros registros de `countries`, pero con todas sus columnas "
      ]
    },
    {
      "cell_type": "code",
      "metadata": {
        "id": "Sbmkovlc9E2U",
        "colab": {
          "base_uri": "https://localhost:8080/",
          "height": 374
        },
        "outputId": "64d246a7-312c-4ae6-b54e-731c22ded706"
      },
      "source": [
        "sample2 = countries.head(6)\n",
        "sample2"
      ],
      "execution_count": 53,
      "outputs": [
        {
          "output_type": "execute_result",
          "data": {
            "text/plain": [
              "  Code         Name      Continent                     Region  SurfaceArea  \\\n",
              "0  ABW        Aruba  North America                  Caribbean       193.00   \n",
              "1  AFG  Afghanistan           Asia  Southern and Central Asia    652090.00   \n",
              "2  AGO       Angola         Africa             Central Africa   1246700.00   \n",
              "3  AIA     Anguilla  North America                  Caribbean        96.00   \n",
              "4  ALB      Albania         Europe            Southern Europe     28748.00   \n",
              "5  AND      Andorra         Europe            Southern Europe       468.00   \n",
              "\n",
              "   IndepYear  Population  LifeExpectancy     GNP  GNPOld  \\\n",
              "0        NaN      103000           78.40  828.00  793.00   \n",
              "1    1919.00    22720000           45.90 5976.00     NaN   \n",
              "2    1975.00    12878000           38.30 6648.00 7984.00   \n",
              "3        NaN        8000           76.10   63.20     NaN   \n",
              "4    1912.00     3401200           71.60 3205.00 2500.00   \n",
              "5    1278.00       78000           83.50 1630.00     NaN   \n",
              "\n",
              "               LocalName                                GovernmentForm  \\\n",
              "0                  Aruba  Nonmetropolitan Territory of The Netherlands   \n",
              "1  Afganistan/Afqanestan                               Islamic Emirate   \n",
              "2                 Angola                                      Republic   \n",
              "3               Anguilla                 Dependent Territory of the UK   \n",
              "4              Shqipëria                                      Republic   \n",
              "5                Andorra                  Parliamentary Coprincipality   \n",
              "\n",
              "   Capital  \n",
              "0   129.00  \n",
              "1     1.00  \n",
              "2    56.00  \n",
              "3    62.00  \n",
              "4    34.00  \n",
              "5    55.00  "
            ],
            "text/html": [
              "\n",
              "  <div id=\"df-4c062d18-a002-4732-87d9-e66811668c8e\">\n",
              "    <div class=\"colab-df-container\">\n",
              "      <div>\n",
              "<style scoped>\n",
              "    .dataframe tbody tr th:only-of-type {\n",
              "        vertical-align: middle;\n",
              "    }\n",
              "\n",
              "    .dataframe tbody tr th {\n",
              "        vertical-align: top;\n",
              "    }\n",
              "\n",
              "    .dataframe thead th {\n",
              "        text-align: right;\n",
              "    }\n",
              "</style>\n",
              "<table border=\"1\" class=\"dataframe\">\n",
              "  <thead>\n",
              "    <tr style=\"text-align: right;\">\n",
              "      <th></th>\n",
              "      <th>Code</th>\n",
              "      <th>Name</th>\n",
              "      <th>Continent</th>\n",
              "      <th>Region</th>\n",
              "      <th>SurfaceArea</th>\n",
              "      <th>IndepYear</th>\n",
              "      <th>Population</th>\n",
              "      <th>LifeExpectancy</th>\n",
              "      <th>GNP</th>\n",
              "      <th>GNPOld</th>\n",
              "      <th>LocalName</th>\n",
              "      <th>GovernmentForm</th>\n",
              "      <th>Capital</th>\n",
              "    </tr>\n",
              "  </thead>\n",
              "  <tbody>\n",
              "    <tr>\n",
              "      <th>0</th>\n",
              "      <td>ABW</td>\n",
              "      <td>Aruba</td>\n",
              "      <td>North America</td>\n",
              "      <td>Caribbean</td>\n",
              "      <td>193.00</td>\n",
              "      <td>NaN</td>\n",
              "      <td>103000</td>\n",
              "      <td>78.40</td>\n",
              "      <td>828.00</td>\n",
              "      <td>793.00</td>\n",
              "      <td>Aruba</td>\n",
              "      <td>Nonmetropolitan Territory of The Netherlands</td>\n",
              "      <td>129.00</td>\n",
              "    </tr>\n",
              "    <tr>\n",
              "      <th>1</th>\n",
              "      <td>AFG</td>\n",
              "      <td>Afghanistan</td>\n",
              "      <td>Asia</td>\n",
              "      <td>Southern and Central Asia</td>\n",
              "      <td>652090.00</td>\n",
              "      <td>1919.00</td>\n",
              "      <td>22720000</td>\n",
              "      <td>45.90</td>\n",
              "      <td>5976.00</td>\n",
              "      <td>NaN</td>\n",
              "      <td>Afganistan/Afqanestan</td>\n",
              "      <td>Islamic Emirate</td>\n",
              "      <td>1.00</td>\n",
              "    </tr>\n",
              "    <tr>\n",
              "      <th>2</th>\n",
              "      <td>AGO</td>\n",
              "      <td>Angola</td>\n",
              "      <td>Africa</td>\n",
              "      <td>Central Africa</td>\n",
              "      <td>1246700.00</td>\n",
              "      <td>1975.00</td>\n",
              "      <td>12878000</td>\n",
              "      <td>38.30</td>\n",
              "      <td>6648.00</td>\n",
              "      <td>7984.00</td>\n",
              "      <td>Angola</td>\n",
              "      <td>Republic</td>\n",
              "      <td>56.00</td>\n",
              "    </tr>\n",
              "    <tr>\n",
              "      <th>3</th>\n",
              "      <td>AIA</td>\n",
              "      <td>Anguilla</td>\n",
              "      <td>North America</td>\n",
              "      <td>Caribbean</td>\n",
              "      <td>96.00</td>\n",
              "      <td>NaN</td>\n",
              "      <td>8000</td>\n",
              "      <td>76.10</td>\n",
              "      <td>63.20</td>\n",
              "      <td>NaN</td>\n",
              "      <td>Anguilla</td>\n",
              "      <td>Dependent Territory of the UK</td>\n",
              "      <td>62.00</td>\n",
              "    </tr>\n",
              "    <tr>\n",
              "      <th>4</th>\n",
              "      <td>ALB</td>\n",
              "      <td>Albania</td>\n",
              "      <td>Europe</td>\n",
              "      <td>Southern Europe</td>\n",
              "      <td>28748.00</td>\n",
              "      <td>1912.00</td>\n",
              "      <td>3401200</td>\n",
              "      <td>71.60</td>\n",
              "      <td>3205.00</td>\n",
              "      <td>2500.00</td>\n",
              "      <td>Shqipëria</td>\n",
              "      <td>Republic</td>\n",
              "      <td>34.00</td>\n",
              "    </tr>\n",
              "    <tr>\n",
              "      <th>5</th>\n",
              "      <td>AND</td>\n",
              "      <td>Andorra</td>\n",
              "      <td>Europe</td>\n",
              "      <td>Southern Europe</td>\n",
              "      <td>468.00</td>\n",
              "      <td>1278.00</td>\n",
              "      <td>78000</td>\n",
              "      <td>83.50</td>\n",
              "      <td>1630.00</td>\n",
              "      <td>NaN</td>\n",
              "      <td>Andorra</td>\n",
              "      <td>Parliamentary Coprincipality</td>\n",
              "      <td>55.00</td>\n",
              "    </tr>\n",
              "  </tbody>\n",
              "</table>\n",
              "</div>\n",
              "      <button class=\"colab-df-convert\" onclick=\"convertToInteractive('df-4c062d18-a002-4732-87d9-e66811668c8e')\"\n",
              "              title=\"Convert this dataframe to an interactive table.\"\n",
              "              style=\"display:none;\">\n",
              "        \n",
              "  <svg xmlns=\"http://www.w3.org/2000/svg\" height=\"24px\"viewBox=\"0 0 24 24\"\n",
              "       width=\"24px\">\n",
              "    <path d=\"M0 0h24v24H0V0z\" fill=\"none\"/>\n",
              "    <path d=\"M18.56 5.44l.94 2.06.94-2.06 2.06-.94-2.06-.94-.94-2.06-.94 2.06-2.06.94zm-11 1L8.5 8.5l.94-2.06 2.06-.94-2.06-.94L8.5 2.5l-.94 2.06-2.06.94zm10 10l.94 2.06.94-2.06 2.06-.94-2.06-.94-.94-2.06-.94 2.06-2.06.94z\"/><path d=\"M17.41 7.96l-1.37-1.37c-.4-.4-.92-.59-1.43-.59-.52 0-1.04.2-1.43.59L10.3 9.45l-7.72 7.72c-.78.78-.78 2.05 0 2.83L4 21.41c.39.39.9.59 1.41.59.51 0 1.02-.2 1.41-.59l7.78-7.78 2.81-2.81c.8-.78.8-2.07 0-2.86zM5.41 20L4 18.59l7.72-7.72 1.47 1.35L5.41 20z\"/>\n",
              "  </svg>\n",
              "      </button>\n",
              "      \n",
              "  <style>\n",
              "    .colab-df-container {\n",
              "      display:flex;\n",
              "      flex-wrap:wrap;\n",
              "      gap: 12px;\n",
              "    }\n",
              "\n",
              "    .colab-df-convert {\n",
              "      background-color: #E8F0FE;\n",
              "      border: none;\n",
              "      border-radius: 50%;\n",
              "      cursor: pointer;\n",
              "      display: none;\n",
              "      fill: #1967D2;\n",
              "      height: 32px;\n",
              "      padding: 0 0 0 0;\n",
              "      width: 32px;\n",
              "    }\n",
              "\n",
              "    .colab-df-convert:hover {\n",
              "      background-color: #E2EBFA;\n",
              "      box-shadow: 0px 1px 2px rgba(60, 64, 67, 0.3), 0px 1px 3px 1px rgba(60, 64, 67, 0.15);\n",
              "      fill: #174EA6;\n",
              "    }\n",
              "\n",
              "    [theme=dark] .colab-df-convert {\n",
              "      background-color: #3B4455;\n",
              "      fill: #D2E3FC;\n",
              "    }\n",
              "\n",
              "    [theme=dark] .colab-df-convert:hover {\n",
              "      background-color: #434B5C;\n",
              "      box-shadow: 0px 1px 3px 1px rgba(0, 0, 0, 0.15);\n",
              "      filter: drop-shadow(0px 1px 2px rgba(0, 0, 0, 0.3));\n",
              "      fill: #FFFFFF;\n",
              "    }\n",
              "  </style>\n",
              "\n",
              "      <script>\n",
              "        const buttonEl =\n",
              "          document.querySelector('#df-4c062d18-a002-4732-87d9-e66811668c8e button.colab-df-convert');\n",
              "        buttonEl.style.display =\n",
              "          google.colab.kernel.accessAllowed ? 'block' : 'none';\n",
              "\n",
              "        async function convertToInteractive(key) {\n",
              "          const element = document.querySelector('#df-4c062d18-a002-4732-87d9-e66811668c8e');\n",
              "          const dataTable =\n",
              "            await google.colab.kernel.invokeFunction('convertToInteractive',\n",
              "                                                     [key], {});\n",
              "          if (!dataTable) return;\n",
              "\n",
              "          const docLinkHtml = 'Like what you see? Visit the ' +\n",
              "            '<a target=\"_blank\" href=https://colab.research.google.com/notebooks/data_table.ipynb>data table notebook</a>'\n",
              "            + ' to learn more about interactive tables.';\n",
              "          element.innerHTML = '';\n",
              "          dataTable['output_type'] = 'display_data';\n",
              "          await google.colab.output.renderOutput(dataTable, element);\n",
              "          const docLink = document.createElement('div');\n",
              "          docLink.innerHTML = docLinkHtml;\n",
              "          element.appendChild(docLink);\n",
              "        }\n",
              "      </script>\n",
              "    </div>\n",
              "  </div>\n",
              "  "
            ]
          },
          "metadata": {},
          "execution_count": 53
        }
      ]
    },
    {
      "cell_type": "code",
      "source": [
        "# Matplolib\n",
        "plt.plot(sample2['Name'],sample2['Population'])"
      ],
      "metadata": {
        "colab": {
          "base_uri": "https://localhost:8080/",
          "height": 291
        },
        "id": "9ixgdf7z_J-C",
        "outputId": "f7d767e2-9e24-4385-fccc-ed50178f998a"
      },
      "execution_count": 62,
      "outputs": [
        {
          "output_type": "execute_result",
          "data": {
            "text/plain": [
              "[<matplotlib.lines.Line2D at 0x7efc89f7a390>]"
            ]
          },
          "metadata": {},
          "execution_count": 62
        },
        {
          "output_type": "display_data",
          "data": {
            "text/plain": [
              "<Figure size 432x288 with 1 Axes>"
            ],
            "image/png": "[encoded data removed]"
          },
          "metadata": {
            "needs_background": "light"
          }
        }
      ]
    },
    {
      "cell_type": "code",
      "source": [
        "# Pandas\n",
        "sample2.plot(x='Name',y='Population')"
      ],
      "metadata": {
        "colab": {
          "base_uri": "https://localhost:8080/",
          "height": 305
        },
        "id": "cRcZzMa__ejD",
        "outputId": "641da993-c398-43e4-9b0d-1056dd7769b9"
      },
      "execution_count": 56,
      "outputs": [
        {
          "output_type": "execute_result",
          "data": {
            "text/plain": [
              "<matplotlib.axes._subplots.AxesSubplot at 0x7efc8a231490>"
            ]
          },
          "metadata": {},
          "execution_count": 56
        },
        {
          "output_type": "display_data",
          "data": {
            "text/plain": [
              "<Figure size 432x288 with 1 Axes>"
            ],
            "image/png": "[encoded data removed]"
          },
          "metadata": {
            "needs_background": "light"
          }
        }
      ]
    },
    {
      "cell_type": "code",
      "source": [
        "sns.lineplot(x=sample2['Name'],y=sample2['Population'])"
      ],
      "metadata": {
        "colab": {
          "base_uri": "https://localhost:8080/",
          "height": 305
        },
        "id": "ZBDzg2eR_6AN",
        "outputId": "d8df9eb7-6cad-45fd-973b-be41b8e5ae70"
      },
      "execution_count": 60,
      "outputs": [
        {
          "output_type": "execute_result",
          "data": {
            "text/plain": [
              "<matplotlib.axes._subplots.AxesSubplot at 0x7efc8a15d610>"
            ]
          },
          "metadata": {},
          "execution_count": 60
        },
        {
          "output_type": "display_data",
          "data": {
            "text/plain": [
              "<Figure size 432x288 with 1 Axes>"
            ],
            "image/png": "[encoded data removed]"
          },
          "metadata": {
            "needs_background": "light"
          }
        }
      ]
    },
    {
      "cell_type": "markdown",
      "metadata": {
        "id": "MBNKdd4zFIHg"
      },
      "source": [
        "*   Cambiar el tipo de gráfico a barras horizontales usando el argumento `kind`"
      ]
    },
    {
      "cell_type": "code",
      "metadata": {
        "id": "u2-u4tdsexim",
        "colab": {
          "base_uri": "https://localhost:8080/",
          "height": 291
        },
        "outputId": "bcfc46e9-4654-45af-c344-4af69bc46333"
      },
      "source": [
        "# Matplotlib\n",
        "plt.bar(sample2['Name'],sample2['Population'])"
      ],
      "execution_count": 64,
      "outputs": [
        {
          "output_type": "execute_result",
          "data": {
            "text/plain": [
              "<BarContainer object of 6 artists>"
            ]
          },
          "metadata": {},
          "execution_count": 64
        },
        {
          "output_type": "display_data",
          "data": {
            "text/plain": [
              "<Figure size 432x288 with 1 Axes>"
            ],
            "image/png": "[encoded data removed]"
          },
          "metadata": {
            "needs_background": "light"
          }
        }
      ]
    },
    {
      "cell_type": "code",
      "source": [
        "# Pandas\n",
        "sample2.plot(kind='bar', x='Name', y='Population')"
      ],
      "metadata": {
        "colab": {
          "base_uri": "https://localhost:8080/",
          "height": 355
        },
        "id": "ERFIVCJdAse6",
        "outputId": "3d7bfb78-cb3e-4248-8af9-02a564e397d3"
      },
      "execution_count": 75,
      "outputs": [
        {
          "output_type": "execute_result",
          "data": {
            "text/plain": [
              "<matplotlib.axes._subplots.AxesSubplot at 0x7efc89b392d0>"
            ]
          },
          "metadata": {},
          "execution_count": 75
        },
        {
          "output_type": "display_data",
          "data": {
            "text/plain": [
              "<Figure size 432x288 with 1 Axes>"
            ],
            "image/png": "[encoded data removed]"
          },
          "metadata": {
            "needs_background": "light"
          }
        }
      ]
    },
    {
      "cell_type": "code",
      "source": [
        "# Seaborn\n",
        "sns.barplot(x=sample2['Name'],y=sample2['Population'])"
      ],
      "metadata": {
        "colab": {
          "base_uri": "https://localhost:8080/",
          "height": 305
        },
        "id": "5HzJ6eVkA5wZ",
        "outputId": "9ad65097-7a90-48df-f4b6-e255ad1f63f2"
      },
      "execution_count": 74,
      "outputs": [
        {
          "output_type": "execute_result",
          "data": {
            "text/plain": [
              "<matplotlib.axes._subplots.AxesSubplot at 0x7efc89b6e390>"
            ]
          },
          "metadata": {},
          "execution_count": 74
        },
        {
          "output_type": "display_data",
          "data": {
            "text/plain": [
              "<Figure size 432x288 with 1 Axes>"
            ],
            "image/png": "[encoded data removed]"
          },
          "metadata": {
            "needs_background": "light"
          }
        }
      ]
    },
    {
      "cell_type": "markdown",
      "metadata": {
        "id": "xzGEfsVdwQVb"
      },
      "source": [
        "## 2.2 Agrupamiento y filtrado"
      ]
    },
    {
      "cell_type": "markdown",
      "metadata": {
        "id": "O1eaFtUhGfsD"
      },
      "source": [
        "*   Generar un nuevo dataframe (`population_by_continent`) con el resultado de agrupar la columna `Population` con el total por continente "
      ]
    },
    {
      "cell_type": "code",
      "metadata": {
        "id": "_RFzPJmg9Jwx",
        "colab": {
          "base_uri": "https://localhost:8080/",
          "height": 261
        },
        "outputId": "3de48cad-8b84-4420-8fee-d7fd57106490"
      },
      "source": [
        "population_by_continent = countries[['Continent','Population']].groupby(['Continent']).sum()\n",
        "population_by_continent"
      ],
      "execution_count": 68,
      "outputs": [
        {
          "output_type": "execute_result",
          "data": {
            "text/plain": [
              "               Population\n",
              "Continent                \n",
              "Africa          784475000\n",
              "Asia           3705025700\n",
              "Europe          730074600\n",
              "North America   482993000\n",
              "Oceania          30401150\n",
              "South America   345780000"
            ],
            "text/html": [
              "\n",
              "  <div id=\"df-4f039b21-c4d3-48a5-8533-1b091bb34184\">\n",
              "    <div class=\"colab-df-container\">\n",
              "      <div>\n",
              "<style scoped>\n",
              "    .dataframe tbody tr th:only-of-type {\n",
              "        vertical-align: middle;\n",
              "    }\n",
              "\n",
              "    .dataframe tbody tr th {\n",
              "        vertical-align: top;\n",
              "    }\n",
              "\n",
              "    .dataframe thead th {\n",
              "        text-align: right;\n",
              "    }\n",
              "</style>\n",
              "<table border=\"1\" class=\"dataframe\">\n",
              "  <thead>\n",
              "    <tr style=\"text-align: right;\">\n",
              "      <th></th>\n",
              "      <th>Population</th>\n",
              "    </tr>\n",
              "    <tr>\n",
              "      <th>Continent</th>\n",
              "      <th></th>\n",
              "    </tr>\n",
              "  </thead>\n",
              "  <tbody>\n",
              "    <tr>\n",
              "      <th>Africa</th>\n",
              "      <td>784475000</td>\n",
              "    </tr>\n",
              "    <tr>\n",
              "      <th>Asia</th>\n",
              "      <td>3705025700</td>\n",
              "    </tr>\n",
              "    <tr>\n",
              "      <th>Europe</th>\n",
              "      <td>730074600</td>\n",
              "    </tr>\n",
              "    <tr>\n",
              "      <th>North America</th>\n",
              "      <td>482993000</td>\n",
              "    </tr>\n",
              "    <tr>\n",
              "      <th>Oceania</th>\n",
              "      <td>30401150</td>\n",
              "    </tr>\n",
              "    <tr>\n",
              "      <th>South America</th>\n",
              "      <td>345780000</td>\n",
              "    </tr>\n",
              "  </tbody>\n",
              "</table>\n",
              "</div>\n",
              "      <button class=\"colab-df-convert\" onclick=\"convertToInteractive('df-4f039b21-c4d3-48a5-8533-1b091bb34184')\"\n",
              "              title=\"Convert this dataframe to an interactive table.\"\n",
              "              style=\"display:none;\">\n",
              "        \n",
              "  <svg xmlns=\"http://www.w3.org/2000/svg\" height=\"24px\"viewBox=\"0 0 24 24\"\n",
              "       width=\"24px\">\n",
              "    <path d=\"M0 0h24v24H0V0z\" fill=\"none\"/>\n",
              "    <path d=\"M18.56 5.44l.94 2.06.94-2.06 2.06-.94-2.06-.94-.94-2.06-.94 2.06-2.06.94zm-11 1L8.5 8.5l.94-2.06 2.06-.94-2.06-.94L8.5 2.5l-.94 2.06-2.06.94zm10 10l.94 2.06.94-2.06 2.06-.94-2.06-.94-.94-2.06-.94 2.06-2.06.94z\"/><path d=\"M17.41 7.96l-1.37-1.37c-.4-.4-.92-.59-1.43-.59-.52 0-1.04.2-1.43.59L10.3 9.45l-7.72 7.72c-.78.78-.78 2.05 0 2.83L4 21.41c.39.39.9.59 1.41.59.51 0 1.02-.2 1.41-.59l7.78-7.78 2.81-2.81c.8-.78.8-2.07 0-2.86zM5.41 20L4 18.59l7.72-7.72 1.47 1.35L5.41 20z\"/>\n",
              "  </svg>\n",
              "      </button>\n",
              "      \n",
              "  <style>\n",
              "    .colab-df-container {\n",
              "      display:flex;\n",
              "      flex-wrap:wrap;\n",
              "      gap: 12px;\n",
              "    }\n",
              "\n",
              "    .colab-df-convert {\n",
              "      background-color: #E8F0FE;\n",
              "      border: none;\n",
              "      border-radius: 50%;\n",
              "      cursor: pointer;\n",
              "      display: none;\n",
              "      fill: #1967D2;\n",
              "      height: 32px;\n",
              "      padding: 0 0 0 0;\n",
              "      width: 32px;\n",
              "    }\n",
              "\n",
              "    .colab-df-convert:hover {\n",
              "      background-color: #E2EBFA;\n",
              "      box-shadow: 0px 1px 2px rgba(60, 64, 67, 0.3), 0px 1px 3px 1px rgba(60, 64, 67, 0.15);\n",
              "      fill: #174EA6;\n",
              "    }\n",
              "\n",
              "    [theme=dark] .colab-df-convert {\n",
              "      background-color: #3B4455;\n",
              "      fill: #D2E3FC;\n",
              "    }\n",
              "\n",
              "    [theme=dark] .colab-df-convert:hover {\n",
              "      background-color: #434B5C;\n",
              "      box-shadow: 0px 1px 3px 1px rgba(0, 0, 0, 0.15);\n",
              "      filter: drop-shadow(0px 1px 2px rgba(0, 0, 0, 0.3));\n",
              "      fill: #FFFFFF;\n",
              "    }\n",
              "  </style>\n",
              "\n",
              "      <script>\n",
              "        const buttonEl =\n",
              "          document.querySelector('#df-4f039b21-c4d3-48a5-8533-1b091bb34184 button.colab-df-convert');\n",
              "        buttonEl.style.display =\n",
              "          google.colab.kernel.accessAllowed ? 'block' : 'none';\n",
              "\n",
              "        async function convertToInteractive(key) {\n",
              "          const element = document.querySelector('#df-4f039b21-c4d3-48a5-8533-1b091bb34184');\n",
              "          const dataTable =\n",
              "            await google.colab.kernel.invokeFunction('convertToInteractive',\n",
              "                                                     [key], {});\n",
              "          if (!dataTable) return;\n",
              "\n",
              "          const docLinkHtml = 'Like what you see? Visit the ' +\n",
              "            '<a target=\"_blank\" href=https://colab.research.google.com/notebooks/data_table.ipynb>data table notebook</a>'\n",
              "            + ' to learn more about interactive tables.';\n",
              "          element.innerHTML = '';\n",
              "          dataTable['output_type'] = 'display_data';\n",
              "          await google.colab.output.renderOutput(dataTable, element);\n",
              "          const docLink = document.createElement('div');\n",
              "          docLink.innerHTML = docLinkHtml;\n",
              "          element.appendChild(docLink);\n",
              "        }\n",
              "      </script>\n",
              "    </div>\n",
              "  </div>\n",
              "  "
            ]
          },
          "metadata": {},
          "execution_count": 68
        }
      ]
    },
    {
      "cell_type": "markdown",
      "metadata": {
        "id": "1rhWMGbCG4JY"
      },
      "source": [
        "*   Graficar los resultados usando un gráfico pie de Pandas"
      ]
    },
    {
      "cell_type": "code",
      "metadata": {
        "id": "IYNWLXql9KX6",
        "colab": {
          "base_uri": "https://localhost:8080/",
          "height": 318
        },
        "outputId": "679a53c5-8061-446c-aee2-b95d6791c2ac"
      },
      "source": [
        "population_by_continent.plot(kind='pie', y='Population', autopct='%1.1f%%')\n",
        "# Posicionamiento de la leyenda\n",
        "# Puede ser con especificación de la posición \n",
        "# plt.legend(loc='upper left')\n",
        "# O con las coordenadas específicas\n",
        "plt.legend(bbox_to_anchor=(0.2,0.2))"
      ],
      "execution_count": 104,
      "outputs": [
        {
          "output_type": "execute_result",
          "data": {
            "text/plain": [
              "<matplotlib.legend.Legend at 0x7efc88cc2890>"
            ]
          },
          "metadata": {},
          "execution_count": 104
        },
        {
          "output_type": "display_data",
          "data": {
            "text/plain": [
              "<Figure size 432x288 with 1 Axes>"
            ],
            "image/png": "[encoded data removed]"
          },
          "metadata": {}
        }
      ]
    },
    {
      "cell_type": "markdown",
      "metadata": {
        "id": "sZ8C_e3nHB9Y"
      },
      "source": [
        "*   Graficar el número de países por continente usando la función `countplot() `de Seaborn "
      ]
    },
    {
      "cell_type": "code",
      "metadata": {
        "id": "fOcgvYjp9LB6",
        "colab": {
          "base_uri": "https://localhost:8080/",
          "height": 294
        },
        "outputId": "8560daef-8740-44ea-a5ed-6fc578c5fe27"
      },
      "source": [
        "sns.countplot(x=countries['Continent'])"
      ],
      "execution_count": 76,
      "outputs": [
        {
          "output_type": "execute_result",
          "data": {
            "text/plain": [
              "<matplotlib.axes._subplots.AxesSubplot at 0x7efc89ae1ad0>"
            ]
          },
          "metadata": {},
          "execution_count": 76
        },
        {
          "output_type": "display_data",
          "data": {
            "text/plain": [
              "<Figure size 432x288 with 1 Axes>"
            ],
            "image/png": "[encoded data removed]"
          },
          "metadata": {
            "needs_background": "light"
          }
        }
      ]
    },
    {
      "cell_type": "markdown",
      "metadata": {
        "id": "ogFCua_DHIpR"
      },
      "source": [
        "*   Cambiar la paleta de colores y el tema con Seaborn"
      ]
    },
    {
      "cell_type": "code",
      "metadata": {
        "id": "_f0_fMEH9Lvd"
      },
      "source": [
        "sns.set_palette('Set2')"
      ],
      "execution_count": 72,
      "outputs": []
    },
    {
      "cell_type": "markdown",
      "metadata": {
        "id": "RxGrHlm4Jf9G"
      },
      "source": [
        "# **TEMA 3. Gráficas superpuestas**"
      ]
    },
    {
      "cell_type": "markdown",
      "metadata": {
        "id": "l3Ei3iAZxpQE"
      },
      "source": [
        "##3.1 Compartiendo ambos ejes"
      ]
    },
    {
      "cell_type": "markdown",
      "metadata": {
        "id": "Ue8witHWH0mF"
      },
      "source": [
        "*   Generar un nuevo dataframe (`gnp_by_continent`) con el resultado de agrupar las columnas `GNP` y `GNPOld` con el promedio por continente "
      ]
    },
    {
      "cell_type": "code",
      "metadata": {
        "id": "afOCrYs-9PHO",
        "colab": {
          "base_uri": "https://localhost:8080/",
          "height": 261
        },
        "outputId": "8b1b10f0-21ef-4eb2-ed71-63f76b44f4a8"
      },
      "source": [
        "gnp_by_continent = countries[['Continent','GNP','GNPOld']].groupby(['Continent']).mean()\n",
        "gnp_by_continent"
      ],
      "execution_count": 77,
      "outputs": [
        {
          "output_type": "execute_result",
          "data": {
            "text/plain": [
              "                    GNP    GNPOld\n",
              "Continent                        \n",
              "Africa         10182.02  11065.28\n",
              "Asia          150105.73 183377.09\n",
              "Europe        206497.07 260611.14\n",
              "North America 261854.79 371527.00\n",
              "Oceania        15547.21  46905.80\n",
              "South America 107991.00 126720.08"
            ],
            "text/html": [
              "\n",
              "  <div id=\"df-9d72b699-de36-4fc7-b4c9-46fc03f8feeb\">\n",
              "    <div class=\"colab-df-container\">\n",
              "      <div>\n",
              "<style scoped>\n",
              "    .dataframe tbody tr th:only-of-type {\n",
              "        vertical-align: middle;\n",
              "    }\n",
              "\n",
              "    .dataframe tbody tr th {\n",
              "        vertical-align: top;\n",
              "    }\n",
              "\n",
              "    .dataframe thead th {\n",
              "        text-align: right;\n",
              "    }\n",
              "</style>\n",
              "<table border=\"1\" class=\"dataframe\">\n",
              "  <thead>\n",
              "    <tr style=\"text-align: right;\">\n",
              "      <th></th>\n",
              "      <th>GNP</th>\n",
              "      <th>GNPOld</th>\n",
              "    </tr>\n",
              "    <tr>\n",
              "      <th>Continent</th>\n",
              "      <th></th>\n",
              "      <th></th>\n",
              "    </tr>\n",
              "  </thead>\n",
              "  <tbody>\n",
              "    <tr>\n",
              "      <th>Africa</th>\n",
              "      <td>10182.02</td>\n",
              "      <td>11065.28</td>\n",
              "    </tr>\n",
              "    <tr>\n",
              "      <th>Asia</th>\n",
              "      <td>150105.73</td>\n",
              "      <td>183377.09</td>\n",
              "    </tr>\n",
              "    <tr>\n",
              "      <th>Europe</th>\n",
              "      <td>206497.07</td>\n",
              "      <td>260611.14</td>\n",
              "    </tr>\n",
              "    <tr>\n",
              "      <th>North America</th>\n",
              "      <td>261854.79</td>\n",
              "      <td>371527.00</td>\n",
              "    </tr>\n",
              "    <tr>\n",
              "      <th>Oceania</th>\n",
              "      <td>15547.21</td>\n",
              "      <td>46905.80</td>\n",
              "    </tr>\n",
              "    <tr>\n",
              "      <th>South America</th>\n",
              "      <td>107991.00</td>\n",
              "      <td>126720.08</td>\n",
              "    </tr>\n",
              "  </tbody>\n",
              "</table>\n",
              "</div>\n",
              "      <button class=\"colab-df-convert\" onclick=\"convertToInteractive('df-9d72b699-de36-4fc7-b4c9-46fc03f8feeb')\"\n",
              "              title=\"Convert this dataframe to an interactive table.\"\n",
              "              style=\"display:none;\">\n",
              "        \n",
              "  <svg xmlns=\"http://www.w3.org/2000/svg\" height=\"24px\"viewBox=\"0 0 24 24\"\n",
              "       width=\"24px\">\n",
              "    <path d=\"M0 0h24v24H0V0z\" fill=\"none\"/>\n",
              "    <path d=\"M18.56 5.44l.94 2.06.94-2.06 2.06-.94-2.06-.94-.94-2.06-.94 2.06-2.06.94zm-11 1L8.5 8.5l.94-2.06 2.06-.94-2.06-.94L8.5 2.5l-.94 2.06-2.06.94zm10 10l.94 2.06.94-2.06 2.06-.94-2.06-.94-.94-2.06-.94 2.06-2.06.94z\"/><path d=\"M17.41 7.96l-1.37-1.37c-.4-.4-.92-.59-1.43-.59-.52 0-1.04.2-1.43.59L10.3 9.45l-7.72 7.72c-.78.78-.78 2.05 0 2.83L4 21.41c.39.39.9.59 1.41.59.51 0 1.02-.2 1.41-.59l7.78-7.78 2.81-2.81c.8-.78.8-2.07 0-2.86zM5.41 20L4 18.59l7.72-7.72 1.47 1.35L5.41 20z\"/>\n",
              "  </svg>\n",
              "      </button>\n",
              "      \n",
              "  <style>\n",
              "    .colab-df-container {\n",
              "      display:flex;\n",
              "      flex-wrap:wrap;\n",
              "      gap: 12px;\n",
              "    }\n",
              "\n",
              "    .colab-df-convert {\n",
              "      background-color: #E8F0FE;\n",
              "      border: none;\n",
              "      border-radius: 50%;\n",
              "      cursor: pointer;\n",
              "      display: none;\n",
              "      fill: #1967D2;\n",
              "      height: 32px;\n",
              "      padding: 0 0 0 0;\n",
              "      width: 32px;\n",
              "    }\n",
              "\n",
              "    .colab-df-convert:hover {\n",
              "      background-color: #E2EBFA;\n",
              "      box-shadow: 0px 1px 2px rgba(60, 64, 67, 0.3), 0px 1px 3px 1px rgba(60, 64, 67, 0.15);\n",
              "      fill: #174EA6;\n",
              "    }\n",
              "\n",
              "    [theme=dark] .colab-df-convert {\n",
              "      background-color: #3B4455;\n",
              "      fill: #D2E3FC;\n",
              "    }\n",
              "\n",
              "    [theme=dark] .colab-df-convert:hover {\n",
              "      background-color: #434B5C;\n",
              "      box-shadow: 0px 1px 3px 1px rgba(0, 0, 0, 0.15);\n",
              "      filter: drop-shadow(0px 1px 2px rgba(0, 0, 0, 0.3));\n",
              "      fill: #FFFFFF;\n",
              "    }\n",
              "  </style>\n",
              "\n",
              "      <script>\n",
              "        const buttonEl =\n",
              "          document.querySelector('#df-9d72b699-de36-4fc7-b4c9-46fc03f8feeb button.colab-df-convert');\n",
              "        buttonEl.style.display =\n",
              "          google.colab.kernel.accessAllowed ? 'block' : 'none';\n",
              "\n",
              "        async function convertToInteractive(key) {\n",
              "          const element = document.querySelector('#df-9d72b699-de36-4fc7-b4c9-46fc03f8feeb');\n",
              "          const dataTable =\n",
              "            await google.colab.kernel.invokeFunction('convertToInteractive',\n",
              "                                                     [key], {});\n",
              "          if (!dataTable) return;\n",
              "\n",
              "          const docLinkHtml = 'Like what you see? Visit the ' +\n",
              "            '<a target=\"_blank\" href=https://colab.research.google.com/notebooks/data_table.ipynb>data table notebook</a>'\n",
              "            + ' to learn more about interactive tables.';\n",
              "          element.innerHTML = '';\n",
              "          dataTable['output_type'] = 'display_data';\n",
              "          await google.colab.output.renderOutput(dataTable, element);\n",
              "          const docLink = document.createElement('div');\n",
              "          docLink.innerHTML = docLinkHtml;\n",
              "          element.appendChild(docLink);\n",
              "        }\n",
              "      </script>\n",
              "    </div>\n",
              "  </div>\n",
              "  "
            ]
          },
          "metadata": {},
          "execution_count": 77
        }
      ]
    },
    {
      "cell_type": "markdown",
      "metadata": {
        "id": "KxQFrd7oH_1O"
      },
      "source": [
        "*   Graficar los resultados usando las tres plataformas de trazado"
      ]
    },
    {
      "cell_type": "code",
      "metadata": {
        "id": "EaZjAJYn9Pkp",
        "colab": {
          "base_uri": "https://localhost:8080/",
          "height": 280
        },
        "outputId": "7a562b6a-eae7-4d39-c23d-5154f2b2e8c4"
      },
      "source": [
        "# Matplotlib\n",
        "plt.plot(gnp_by_continent)\n",
        "plt.legend(gnp_by_continent.columns)"
      ],
      "execution_count": 79,
      "outputs": [
        {
          "output_type": "execute_result",
          "data": {
            "text/plain": [
              "<matplotlib.legend.Legend at 0x7efc89a250d0>"
            ]
          },
          "metadata": {},
          "execution_count": 79
        },
        {
          "output_type": "display_data",
          "data": {
            "text/plain": [
              "<Figure size 432x288 with 1 Axes>"
            ],
            "image/png": "[encoded data removed]"
          },
          "metadata": {
            "needs_background": "light"
          }
        }
      ]
    },
    {
      "cell_type": "code",
      "source": [
        "# Pandas\n",
        "gnp_by_continent.plot()"
      ],
      "metadata": {
        "colab": {
          "base_uri": "https://localhost:8080/",
          "height": 294
        },
        "id": "fm1PznUZFPu7",
        "outputId": "1629164f-a7a6-44b3-c679-a0bed349d39d"
      },
      "execution_count": 80,
      "outputs": [
        {
          "output_type": "execute_result",
          "data": {
            "text/plain": [
              "<matplotlib.axes._subplots.AxesSubplot at 0x7efc89995e90>"
            ]
          },
          "metadata": {},
          "execution_count": 80
        },
        {
          "output_type": "display_data",
          "data": {
            "text/plain": [
              "<Figure size 432x288 with 1 Axes>"
            ],
            "image/png": "[encoded data removed]"
          },
          "metadata": {
            "needs_background": "light"
          }
        }
      ]
    },
    {
      "cell_type": "code",
      "source": [
        "# Seaborn\n",
        "sns.lineplot(data=gnp_by_continent)"
      ],
      "metadata": {
        "colab": {
          "base_uri": "https://localhost:8080/",
          "height": 294
        },
        "id": "V05asVn4FXja",
        "outputId": "e1054ac5-4c97-4d4c-a757-610e87e6dabb"
      },
      "execution_count": 81,
      "outputs": [
        {
          "output_type": "execute_result",
          "data": {
            "text/plain": [
              "<matplotlib.axes._subplots.AxesSubplot at 0x7efc8990c3d0>"
            ]
          },
          "metadata": {},
          "execution_count": 81
        },
        {
          "output_type": "display_data",
          "data": {
            "text/plain": [
              "<Figure size 432x288 with 1 Axes>"
            ],
            "image/png": "[encoded data removed]"
          },
          "metadata": {
            "needs_background": "light"
          }
        }
      ]
    },
    {
      "cell_type": "markdown",
      "metadata": {
        "id": "FKghtwcHz7Mw"
      },
      "source": [
        "## 3.2 Compartiendo el eje horizontal con ejes verticales independientes"
      ]
    },
    {
      "cell_type": "markdown",
      "metadata": {
        "id": "bF7aVQg2IRq5"
      },
      "source": [
        "*   Generar un nuevo dataframe (`summary_by_continent`) con el resultado de agrupar las columnas `LifeExpectancy` y `GNP` con el promedio por continente"
      ]
    },
    {
      "cell_type": "code",
      "metadata": {
        "id": "vPKCbxRp9Svr",
        "colab": {
          "base_uri": "https://localhost:8080/",
          "height": 261
        },
        "outputId": "0776b491-8161-47e1-c672-be26029fe9f2"
      },
      "source": [
        "summary_by_continent = countries[['Continent','LifeExpectancy','GNP']].groupby(['Continent']).mean()\n",
        "summary_by_continent"
      ],
      "execution_count": 82,
      "outputs": [
        {
          "output_type": "execute_result",
          "data": {
            "text/plain": [
              "               LifeExpectancy       GNP\n",
              "Continent                              \n",
              "Africa                  52.57  10182.02\n",
              "Asia                    67.44 150105.73\n",
              "Europe                  75.15 206497.07\n",
              "North America           72.99 261854.79\n",
              "Oceania                 69.72  15547.21\n",
              "South America           70.95 107991.00"
            ],
            "text/html": [
              "\n",
              "  <div id=\"df-77ed18d9-fdc9-4476-bec1-65f49dc0c030\">\n",
              "    <div class=\"colab-df-container\">\n",
              "      <div>\n",
              "<style scoped>\n",
              "    .dataframe tbody tr th:only-of-type {\n",
              "        vertical-align: middle;\n",
              "    }\n",
              "\n",
              "    .dataframe tbody tr th {\n",
              "        vertical-align: top;\n",
              "    }\n",
              "\n",
              "    .dataframe thead th {\n",
              "        text-align: right;\n",
              "    }\n",
              "</style>\n",
              "<table border=\"1\" class=\"dataframe\">\n",
              "  <thead>\n",
              "    <tr style=\"text-align: right;\">\n",
              "      <th></th>\n",
              "      <th>LifeExpectancy</th>\n",
              "      <th>GNP</th>\n",
              "    </tr>\n",
              "    <tr>\n",
              "      <th>Continent</th>\n",
              "      <th></th>\n",
              "      <th></th>\n",
              "    </tr>\n",
              "  </thead>\n",
              "  <tbody>\n",
              "    <tr>\n",
              "      <th>Africa</th>\n",
              "      <td>52.57</td>\n",
              "      <td>10182.02</td>\n",
              "    </tr>\n",
              "    <tr>\n",
              "      <th>Asia</th>\n",
              "      <td>67.44</td>\n",
              "      <td>150105.73</td>\n",
              "    </tr>\n",
              "    <tr>\n",
              "      <th>Europe</th>\n",
              "      <td>75.15</td>\n",
              "      <td>206497.07</td>\n",
              "    </tr>\n",
              "    <tr>\n",
              "      <th>North America</th>\n",
              "      <td>72.99</td>\n",
              "      <td>261854.79</td>\n",
              "    </tr>\n",
              "    <tr>\n",
              "      <th>Oceania</th>\n",
              "      <td>69.72</td>\n",
              "      <td>15547.21</td>\n",
              "    </tr>\n",
              "    <tr>\n",
              "      <th>South America</th>\n",
              "      <td>70.95</td>\n",
              "      <td>107991.00</td>\n",
              "    </tr>\n",
              "  </tbody>\n",
              "</table>\n",
              "</div>\n",
              "      <button class=\"colab-df-convert\" onclick=\"convertToInteractive('df-77ed18d9-fdc9-4476-bec1-65f49dc0c030')\"\n",
              "              title=\"Convert this dataframe to an interactive table.\"\n",
              "              style=\"display:none;\">\n",
              "        \n",
              "  <svg xmlns=\"http://www.w3.org/2000/svg\" height=\"24px\"viewBox=\"0 0 24 24\"\n",
              "       width=\"24px\">\n",
              "    <path d=\"M0 0h24v24H0V0z\" fill=\"none\"/>\n",
              "    <path d=\"M18.56 5.44l.94 2.06.94-2.06 2.06-.94-2.06-.94-.94-2.06-.94 2.06-2.06.94zm-11 1L8.5 8.5l.94-2.06 2.06-.94-2.06-.94L8.5 2.5l-.94 2.06-2.06.94zm10 10l.94 2.06.94-2.06 2.06-.94-2.06-.94-.94-2.06-.94 2.06-2.06.94z\"/><path d=\"M17.41 7.96l-1.37-1.37c-.4-.4-.92-.59-1.43-.59-.52 0-1.04.2-1.43.59L10.3 9.45l-7.72 7.72c-.78.78-.78 2.05 0 2.83L4 21.41c.39.39.9.59 1.41.59.51 0 1.02-.2 1.41-.59l7.78-7.78 2.81-2.81c.8-.78.8-2.07 0-2.86zM5.41 20L4 18.59l7.72-7.72 1.47 1.35L5.41 20z\"/>\n",
              "  </svg>\n",
              "      </button>\n",
              "      \n",
              "  <style>\n",
              "    .colab-df-container {\n",
              "      display:flex;\n",
              "      flex-wrap:wrap;\n",
              "      gap: 12px;\n",
              "    }\n",
              "\n",
              "    .colab-df-convert {\n",
              "      background-color: #E8F0FE;\n",
              "      border: none;\n",
              "      border-radius: 50%;\n",
              "      cursor: pointer;\n",
              "      display: none;\n",
              "      fill: #1967D2;\n",
              "      height: 32px;\n",
              "      padding: 0 0 0 0;\n",
              "      width: 32px;\n",
              "    }\n",
              "\n",
              "    .colab-df-convert:hover {\n",
              "      background-color: #E2EBFA;\n",
              "      box-shadow: 0px 1px 2px rgba(60, 64, 67, 0.3), 0px 1px 3px 1px rgba(60, 64, 67, 0.15);\n",
              "      fill: #174EA6;\n",
              "    }\n",
              "\n",
              "    [theme=dark] .colab-df-convert {\n",
              "      background-color: #3B4455;\n",
              "      fill: #D2E3FC;\n",
              "    }\n",
              "\n",
              "    [theme=dark] .colab-df-convert:hover {\n",
              "      background-color: #434B5C;\n",
              "      box-shadow: 0px 1px 3px 1px rgba(0, 0, 0, 0.15);\n",
              "      filter: drop-shadow(0px 1px 2px rgba(0, 0, 0, 0.3));\n",
              "      fill: #FFFFFF;\n",
              "    }\n",
              "  </style>\n",
              "\n",
              "      <script>\n",
              "        const buttonEl =\n",
              "          document.querySelector('#df-77ed18d9-fdc9-4476-bec1-65f49dc0c030 button.colab-df-convert');\n",
              "        buttonEl.style.display =\n",
              "          google.colab.kernel.accessAllowed ? 'block' : 'none';\n",
              "\n",
              "        async function convertToInteractive(key) {\n",
              "          const element = document.querySelector('#df-77ed18d9-fdc9-4476-bec1-65f49dc0c030');\n",
              "          const dataTable =\n",
              "            await google.colab.kernel.invokeFunction('convertToInteractive',\n",
              "                                                     [key], {});\n",
              "          if (!dataTable) return;\n",
              "\n",
              "          const docLinkHtml = 'Like what you see? Visit the ' +\n",
              "            '<a target=\"_blank\" href=https://colab.research.google.com/notebooks/data_table.ipynb>data table notebook</a>'\n",
              "            + ' to learn more about interactive tables.';\n",
              "          element.innerHTML = '';\n",
              "          dataTable['output_type'] = 'display_data';\n",
              "          await google.colab.output.renderOutput(dataTable, element);\n",
              "          const docLink = document.createElement('div');\n",
              "          docLink.innerHTML = docLinkHtml;\n",
              "          element.appendChild(docLink);\n",
              "        }\n",
              "      </script>\n",
              "    </div>\n",
              "  </div>\n",
              "  "
            ]
          },
          "metadata": {},
          "execution_count": 82
        }
      ]
    },
    {
      "cell_type": "code",
      "source": [
        "summary_by_continent.plot()"
      ],
      "metadata": {
        "colab": {
          "base_uri": "https://localhost:8080/",
          "height": 294
        },
        "id": "xsF75Jx4Ge-G",
        "outputId": "5fa1dfc0-1d39-40bf-d52c-27655a7bf9b0"
      },
      "execution_count": 83,
      "outputs": [
        {
          "output_type": "execute_result",
          "data": {
            "text/plain": [
              "<matplotlib.axes._subplots.AxesSubplot at 0x7efc8989bb90>"
            ]
          },
          "metadata": {},
          "execution_count": 83
        },
        {
          "output_type": "display_data",
          "data": {
            "text/plain": [
              "<Figure size 432x288 with 1 Axes>"
            ],
            "image/png": "[encoded data removed]"
          },
          "metadata": {
            "needs_background": "light"
          }
        }
      ]
    },
    {
      "cell_type": "markdown",
      "metadata": {
        "id": "436FDnqPInMd"
      },
      "source": [
        "*   Graficar `LifeExpectancy` en el eje vertical izquierdo con color azul \n",
        "*   Crear un eje vertical dual o secundario \n",
        "*   Graficar GNP en el eje vertical derecho con color verde "
      ]
    },
    {
      "cell_type": "code",
      "metadata": {
        "id": "fAjgVACApNbL",
        "colab": {
          "base_uri": "https://localhost:8080/",
          "height": 294
        },
        "outputId": "a9503fb6-d620-44f4-ec16-c442a72d250e"
      },
      "source": [
        "# Matplotlib\n",
        "fig, ax1 = plt.subplots()\n",
        "\n",
        "# Matplotlib\n",
        "#ax1.plot(summary_by_continent.index, summary_by_continent['LifeExpectancy'], color='blue')\n",
        "\n",
        "# Pandas\n",
        "#summary_by_continent['LifeExpectancy'].plot(color='blue', ax=ax1)\n",
        "\n",
        "# Seaborn\n",
        "sns.lineplot(x=summary_by_continent.index, y=summary_by_continent['LifeExpectancy'], color='blue', ax=ax1)\n",
        "\n",
        "ax1.set_ylabel('LifeExpectancy', color='blue')\n",
        "\n",
        "ax2 = ax1.twinx()\n",
        "\n",
        "#ax2.plot(summary_by_continent.index, summary_by_continent['GNP'], color='green')\n",
        "summary_by_continent['GNP'].plot(color='green', ax=ax2)\n",
        "\n",
        "ax2.set_ylabel('GNP', color='green')"
      ],
      "execution_count": 94,
      "outputs": [
        {
          "output_type": "execute_result",
          "data": {
            "text/plain": [
              "Text(0, 0.5, 'GNP')"
            ]
          },
          "metadata": {},
          "execution_count": 94
        },
        {
          "output_type": "display_data",
          "data": {
            "text/plain": [
              "<Figure size 432x288 with 2 Axes>"
            ],
            "image/png": "[encoded data removed]"
          },
          "metadata": {
            "needs_background": "light"
          }
        }
      ]
    }
  ]
}