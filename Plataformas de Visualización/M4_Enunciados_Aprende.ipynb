{
  "cells": [
    {
      "cell_type": "code",
      "execution_count": null,
      "metadata": {},
      "outputs": [],
      "source": []
    },
    {
      "cell_type": "markdown",
      "metadata": {
        "id": "GJ1jpKGYVQkL"
      },
      "source": [
        "**MÓDULO 4 - PLATAFORMAS DE VISUALIZACIÓN**\n",
        "\n",
        "---\n",
        "\n",
        "**SESIÓN: Aprende**"
      ]
    },
    {
      "cell_type": "code",
      "execution_count": 1,
      "metadata": {
        "id": "yNS_hRi2J5Ir"
      },
      "outputs": [],
      "source": [
        "import pandas as pd\n",
        "import numpy as np\n",
        "import seaborn as sns\n",
        "import matplotlib.pyplot as plt"
      ]
    },
    {
      "cell_type": "markdown",
      "metadata": {
        "id": "m3uFwVSKIkVk"
      },
      "source": [
        "# **TEMA 1. Exploración y validación de datos**"
      ]
    },
    {
      "cell_type": "markdown",
      "metadata": {
        "id": "HCK2qVuwetlR"
      },
      "source": [
        "## 1.1 Rangos típicos, categorías y valores faltantes"
      ]
    },
    {
      "cell_type": "markdown",
      "metadata": {
        "id": "EQg4IFVG9XWs"
      },
      "source": [
        "Sube a tu drive los dos archivos csv que el instructor te proporcionará y crea una nueva libreta en Colab para:\n",
        "\n",
        "*   Leer dichos archivos en dos dataframes: `countries` y `cities` \n"
      ]
    },
    {
      "cell_type": "code",
      "execution_count": 20,
      "metadata": {},
      "outputs": [
        {
          "data": {
            "text/plain": [
              "Code              239\n",
              "Name              239\n",
              "Continent           7\n",
              "Region             25\n",
              "SurfaceArea       238\n",
              "IndepYear          88\n",
              "Population        226\n",
              "LifeExpectancy    160\n",
              "GNP               214\n",
              "GNPOld            178\n",
              "LocalName         239\n",
              "GovernmentForm     35\n",
              "Capital           232\n",
              "dtype: int64"
            ]
          },
          "execution_count": 20,
          "metadata": {},
          "output_type": "execute_result"
        }
      ],
      "source": [
        "# Visualizar las categorias por variable\n",
        "countries = pd.read_csv('world_table_country.csv')\n",
        "countries.nunique()"
      ]
    },
    {
      "cell_type": "code",
      "execution_count": 15,
      "metadata": {
        "colab": {
          "base_uri": "https://localhost:8080/",
          "height": 806
        },
        "id": "Xy0tKNfyWs0k",
        "outputId": "42c6c22c-f7d8-4b13-ce54-f0948a580d27"
      },
      "outputs": [
        {
          "data": {
            "text/plain": [
              "array(['North America', 'Asia', 'Africa', 'Europe', 'South America',\n",
              "       'Oceania', 'Antarctica'], dtype=object)"
            ]
          },
          "execution_count": 15,
          "metadata": {},
          "output_type": "execute_result"
        }
      ],
      "source": [
        "\n",
        "countries['Continent'].unique()"
      ]
    },
    {
      "cell_type": "code",
      "execution_count": 16,
      "metadata": {},
      "outputs": [
        {
          "data": {
            "text/plain": [
              "Africa           58\n",
              "Asia             51\n",
              "Europe           46\n",
              "North America    37\n",
              "Oceania          28\n",
              "South America    14\n",
              "Antarctica        5\n",
              "Name: Continent, dtype: int64"
            ]
          },
          "execution_count": 16,
          "metadata": {},
          "output_type": "execute_result"
        }
      ],
      "source": [
        "\n",
        "\n",
        "countries['Continent'].value_counts()"
      ]
    },
    {
      "cell_type": "code",
      "execution_count": 19,
      "metadata": {},
      "outputs": [
        {
          "data": {
            "text/plain": [
              "Code               0\n",
              "Name               0\n",
              "Continent          0\n",
              "Region             0\n",
              "SurfaceArea        0\n",
              "IndepYear         47\n",
              "Population         0\n",
              "LifeExpectancy    17\n",
              "GNP                0\n",
              "GNPOld            61\n",
              "LocalName          0\n",
              "GovernmentForm     0\n",
              "Capital            7\n",
              "dtype: int64"
            ]
          },
          "execution_count": 19,
          "metadata": {},
          "output_type": "execute_result"
        }
      ],
      "source": [
        "#Valores perdidos por columna\n",
        "\n",
        "countries.isna().sum()"
      ]
    },
    {
      "cell_type": "code",
      "execution_count": 23,
      "metadata": {},
      "outputs": [
        {
          "data": {
            "text/html": [
              "<div>\n",
              "<style scoped>\n",
              "    .dataframe tbody tr th:only-of-type {\n",
              "        vertical-align: middle;\n",
              "    }\n",
              "\n",
              "    .dataframe tbody tr th {\n",
              "        vertical-align: top;\n",
              "    }\n",
              "\n",
              "    .dataframe thead th {\n",
              "        text-align: right;\n",
              "    }\n",
              "</style>\n",
              "<table border=\"1\" class=\"dataframe\">\n",
              "  <thead>\n",
              "    <tr style=\"text-align: right;\">\n",
              "      <th></th>\n",
              "      <th>Code</th>\n",
              "      <th>Name</th>\n",
              "      <th>Continent</th>\n",
              "      <th>Region</th>\n",
              "      <th>SurfaceArea</th>\n",
              "      <th>IndepYear</th>\n",
              "      <th>Population</th>\n",
              "      <th>LifeExpectancy</th>\n",
              "      <th>GNP</th>\n",
              "      <th>GNPOld</th>\n",
              "      <th>LocalName</th>\n",
              "      <th>GovernmentForm</th>\n",
              "      <th>Capital</th>\n",
              "    </tr>\n",
              "  </thead>\n",
              "  <tbody>\n",
              "    <tr>\n",
              "      <th>11</th>\n",
              "      <td>ATA</td>\n",
              "      <td>Antarctica</td>\n",
              "      <td>Antarctica</td>\n",
              "      <td>Antarctica</td>\n",
              "      <td>13120000.0</td>\n",
              "      <td>NaN</td>\n",
              "      <td>0</td>\n",
              "      <td>NaN</td>\n",
              "      <td>0.0</td>\n",
              "      <td>NaN</td>\n",
              "      <td>–</td>\n",
              "      <td>Co-administrated</td>\n",
              "      <td>NaN</td>\n",
              "    </tr>\n",
              "    <tr>\n",
              "      <th>12</th>\n",
              "      <td>ATF</td>\n",
              "      <td>French Southern territories</td>\n",
              "      <td>Antarctica</td>\n",
              "      <td>Antarctica</td>\n",
              "      <td>7780.0</td>\n",
              "      <td>NaN</td>\n",
              "      <td>0</td>\n",
              "      <td>NaN</td>\n",
              "      <td>0.0</td>\n",
              "      <td>NaN</td>\n",
              "      <td>Terres australes françaises</td>\n",
              "      <td>Nonmetropolitan Territory of France</td>\n",
              "      <td>NaN</td>\n",
              "    </tr>\n",
              "    <tr>\n",
              "      <th>34</th>\n",
              "      <td>BVT</td>\n",
              "      <td>Bouvet Island</td>\n",
              "      <td>Antarctica</td>\n",
              "      <td>Antarctica</td>\n",
              "      <td>59.0</td>\n",
              "      <td>NaN</td>\n",
              "      <td>0</td>\n",
              "      <td>NaN</td>\n",
              "      <td>0.0</td>\n",
              "      <td>NaN</td>\n",
              "      <td>Bouvetøya</td>\n",
              "      <td>Dependent Territory of Norway</td>\n",
              "      <td>NaN</td>\n",
              "    </tr>\n",
              "    <tr>\n",
              "      <th>93</th>\n",
              "      <td>HMD</td>\n",
              "      <td>Heard Island and McDonald Islands</td>\n",
              "      <td>Antarctica</td>\n",
              "      <td>Antarctica</td>\n",
              "      <td>359.0</td>\n",
              "      <td>NaN</td>\n",
              "      <td>0</td>\n",
              "      <td>NaN</td>\n",
              "      <td>0.0</td>\n",
              "      <td>NaN</td>\n",
              "      <td>Heard and McDonald Islands</td>\n",
              "      <td>Territory of Australia</td>\n",
              "      <td>NaN</td>\n",
              "    </tr>\n",
              "    <tr>\n",
              "      <th>100</th>\n",
              "      <td>IOT</td>\n",
              "      <td>British Indian Ocean Territory</td>\n",
              "      <td>Africa</td>\n",
              "      <td>Eastern Africa</td>\n",
              "      <td>78.0</td>\n",
              "      <td>NaN</td>\n",
              "      <td>0</td>\n",
              "      <td>NaN</td>\n",
              "      <td>0.0</td>\n",
              "      <td>NaN</td>\n",
              "      <td>British Indian Ocean Territory</td>\n",
              "      <td>Dependent Territory of the UK</td>\n",
              "      <td>NaN</td>\n",
              "    </tr>\n",
              "    <tr>\n",
              "      <th>187</th>\n",
              "      <td>SGS</td>\n",
              "      <td>South Georgia and the South Sandwich Islands</td>\n",
              "      <td>Antarctica</td>\n",
              "      <td>Antarctica</td>\n",
              "      <td>3903.0</td>\n",
              "      <td>NaN</td>\n",
              "      <td>0</td>\n",
              "      <td>NaN</td>\n",
              "      <td>0.0</td>\n",
              "      <td>NaN</td>\n",
              "      <td>South Georgia and the South Sandwich Islands</td>\n",
              "      <td>Dependent Territory of the UK</td>\n",
              "      <td>NaN</td>\n",
              "    </tr>\n",
              "    <tr>\n",
              "      <th>221</th>\n",
              "      <td>UMI</td>\n",
              "      <td>United States Minor Outlying Islands</td>\n",
              "      <td>Oceania</td>\n",
              "      <td>Micronesia/Caribbean</td>\n",
              "      <td>16.0</td>\n",
              "      <td>NaN</td>\n",
              "      <td>0</td>\n",
              "      <td>NaN</td>\n",
              "      <td>0.0</td>\n",
              "      <td>NaN</td>\n",
              "      <td>United States Minor Outlying Islands</td>\n",
              "      <td>Dependent Territory of the US</td>\n",
              "      <td>NaN</td>\n",
              "    </tr>\n",
              "  </tbody>\n",
              "</table>\n",
              "</div>"
            ],
            "text/plain": [
              "    Code                                          Name   Continent  \\\n",
              "11   ATA                                    Antarctica  Antarctica   \n",
              "12   ATF                   French Southern territories  Antarctica   \n",
              "34   BVT                                 Bouvet Island  Antarctica   \n",
              "93   HMD             Heard Island and McDonald Islands  Antarctica   \n",
              "100  IOT                British Indian Ocean Territory      Africa   \n",
              "187  SGS  South Georgia and the South Sandwich Islands  Antarctica   \n",
              "221  UMI          United States Minor Outlying Islands     Oceania   \n",
              "\n",
              "                   Region  SurfaceArea  IndepYear  Population  LifeExpectancy  \\\n",
              "11             Antarctica   13120000.0        NaN           0             NaN   \n",
              "12             Antarctica       7780.0        NaN           0             NaN   \n",
              "34             Antarctica         59.0        NaN           0             NaN   \n",
              "93             Antarctica        359.0        NaN           0             NaN   \n",
              "100        Eastern Africa         78.0        NaN           0             NaN   \n",
              "187            Antarctica       3903.0        NaN           0             NaN   \n",
              "221  Micronesia/Caribbean         16.0        NaN           0             NaN   \n",
              "\n",
              "     GNP  GNPOld                                     LocalName  \\\n",
              "11   0.0     NaN                                             –   \n",
              "12   0.0     NaN                   Terres australes françaises   \n",
              "34   0.0     NaN                                     Bouvetøya   \n",
              "93   0.0     NaN                    Heard and McDonald Islands   \n",
              "100  0.0     NaN                British Indian Ocean Territory   \n",
              "187  0.0     NaN  South Georgia and the South Sandwich Islands   \n",
              "221  0.0     NaN          United States Minor Outlying Islands   \n",
              "\n",
              "                          GovernmentForm  Capital  \n",
              "11                      Co-administrated      NaN  \n",
              "12   Nonmetropolitan Territory of France      NaN  \n",
              "34         Dependent Territory of Norway      NaN  \n",
              "93                Territory of Australia      NaN  \n",
              "100        Dependent Territory of the UK      NaN  \n",
              "187        Dependent Territory of the UK      NaN  \n",
              "221        Dependent Territory of the US      NaN  "
            ]
          },
          "execution_count": 23,
          "metadata": {},
          "output_type": "execute_result"
        }
      ],
      "source": [
        "# Borrar los datos que tienen un NaN en 'Capital'\n",
        "countries[countries['Capital'].isna()]"
      ]
    },
    {
      "cell_type": "code",
      "execution_count": 25,
      "metadata": {
        "colab": {
          "base_uri": "https://localhost:8080/",
          "height": 509
        },
        "id": "vW11NZiDXJIj",
        "outputId": "5102b9b2-5663-46ac-afa2-365975961f91"
      },
      "outputs": [
        {
          "data": {
            "text/html": [
              "<div>\n",
              "<style scoped>\n",
              "    .dataframe tbody tr th:only-of-type {\n",
              "        vertical-align: middle;\n",
              "    }\n",
              "\n",
              "    .dataframe tbody tr th {\n",
              "        vertical-align: top;\n",
              "    }\n",
              "\n",
              "    .dataframe thead th {\n",
              "        text-align: right;\n",
              "    }\n",
              "</style>\n",
              "<table border=\"1\" class=\"dataframe\">\n",
              "  <thead>\n",
              "    <tr style=\"text-align: right;\">\n",
              "      <th></th>\n",
              "      <th>ID</th>\n",
              "      <th>Name</th>\n",
              "      <th>CountryCode</th>\n",
              "      <th>District</th>\n",
              "      <th>Population</th>\n",
              "    </tr>\n",
              "  </thead>\n",
              "  <tbody>\n",
              "    <tr>\n",
              "      <th>0</th>\n",
              "      <td>1</td>\n",
              "      <td>Kabul</td>\n",
              "      <td>AFG</td>\n",
              "      <td>Kabol</td>\n",
              "      <td>1780000</td>\n",
              "    </tr>\n",
              "    <tr>\n",
              "      <th>1</th>\n",
              "      <td>2</td>\n",
              "      <td>Qandahar</td>\n",
              "      <td>AFG</td>\n",
              "      <td>Qandahar</td>\n",
              "      <td>237500</td>\n",
              "    </tr>\n",
              "    <tr>\n",
              "      <th>2</th>\n",
              "      <td>3</td>\n",
              "      <td>Herat</td>\n",
              "      <td>AFG</td>\n",
              "      <td>Herat</td>\n",
              "      <td>186800</td>\n",
              "    </tr>\n",
              "    <tr>\n",
              "      <th>3</th>\n",
              "      <td>4</td>\n",
              "      <td>Mazar-e-Sharif</td>\n",
              "      <td>AFG</td>\n",
              "      <td>Balkh</td>\n",
              "      <td>127800</td>\n",
              "    </tr>\n",
              "    <tr>\n",
              "      <th>4</th>\n",
              "      <td>5</td>\n",
              "      <td>Amsterdam</td>\n",
              "      <td>NLD</td>\n",
              "      <td>Noord-Holland</td>\n",
              "      <td>731200</td>\n",
              "    </tr>\n",
              "  </tbody>\n",
              "</table>\n",
              "</div>"
            ],
            "text/plain": [
              "   ID            Name CountryCode       District  Population\n",
              "0   1           Kabul         AFG          Kabol     1780000\n",
              "1   2        Qandahar         AFG       Qandahar      237500\n",
              "2   3           Herat         AFG          Herat      186800\n",
              "3   4  Mazar-e-Sharif         AFG          Balkh      127800\n",
              "4   5       Amsterdam         NLD  Noord-Holland      731200"
            ]
          },
          "execution_count": 25,
          "metadata": {},
          "output_type": "execute_result"
        }
      ],
      "source": [
        "cities = pd.read_csv('world_table_city.csv')\n",
        "cities.head()"
      ]
    },
    {
      "cell_type": "markdown",
      "metadata": {
        "id": "lOixpTny-G0I"
      },
      "source": [
        "*   Realizar un análisis de la estructura de `countries`\n"
      ]
    },
    {
      "cell_type": "code",
      "execution_count": null,
      "metadata": {
        "id": "PQuPP1VX8-z0"
      },
      "outputs": [],
      "source": []
    },
    {
      "cell_type": "markdown",
      "metadata": {
        "id": "m7KpcLwX-QpK"
      },
      "source": [
        "\n",
        "*   Explorar el contenido de `countries`\n",
        "\n"
      ]
    },
    {
      "cell_type": "code",
      "execution_count": null,
      "metadata": {
        "id": "TvT2UhsC-Z-F"
      },
      "outputs": [],
      "source": []
    },
    {
      "cell_type": "markdown",
      "metadata": {
        "id": "1vgaInl3-ebf"
      },
      "source": [
        "*   Borrar los registros que tengan `NaN` en la columna `Capital`\n"
      ]
    },
    {
      "cell_type": "code",
      "execution_count": 27,
      "metadata": {
        "id": "8TH1J6YR-oaR"
      },
      "outputs": [
        {
          "data": {
            "text/plain": [
              "Code               0\n",
              "Name               0\n",
              "Continent          0\n",
              "Region             0\n",
              "SurfaceArea        0\n",
              "IndepYear         40\n",
              "Population         0\n",
              "LifeExpectancy    10\n",
              "GNP                0\n",
              "GNPOld            54\n",
              "LocalName          0\n",
              "GovernmentForm     0\n",
              "Capital            0\n",
              "dtype: int64"
            ]
          },
          "execution_count": 27,
          "metadata": {},
          "output_type": "execute_result"
        }
      ],
      "source": [
        "countries.dropna(axis=0,subset=['Capital'],inplace=True)\n",
        "countries.isna().sum()"
      ]
    },
    {
      "cell_type": "markdown",
      "metadata": {
        "id": "aUQRuM9K-qln"
      },
      "source": [
        "*   Ejecutar el mismo análisis con `cities` \n"
      ]
    },
    {
      "cell_type": "code",
      "execution_count": 32,
      "metadata": {
        "id": "dK6S9i1m-y3h"
      },
      "outputs": [
        {
          "data": {
            "text/plain": [
              "ID             0\n",
              "Name           0\n",
              "CountryCode    0\n",
              "District       4\n",
              "Population     0\n",
              "dtype: int64"
            ]
          },
          "execution_count": 32,
          "metadata": {},
          "output_type": "execute_result"
        }
      ],
      "source": [
        "cities.isna().sum()"
      ]
    },
    {
      "cell_type": "markdown",
      "metadata": {
        "id": "WioWFI8H-1Z6"
      },
      "source": [
        "\n",
        "\n",
        "*   Combinar ambos dataframes \n",
        "\n",
        "\n"
      ]
    },
    {
      "cell_type": "code",
      "execution_count": 41,
      "metadata": {
        "id": "5xxrm3Dt-6nJ"
      },
      "outputs": [
        {
          "data": {
            "text/html": [
              "<div>\n",
              "<style scoped>\n",
              "    .dataframe tbody tr th:only-of-type {\n",
              "        vertical-align: middle;\n",
              "    }\n",
              "\n",
              "    .dataframe tbody tr th {\n",
              "        vertical-align: top;\n",
              "    }\n",
              "\n",
              "    .dataframe thead th {\n",
              "        text-align: right;\n",
              "    }\n",
              "</style>\n",
              "<table border=\"1\" class=\"dataframe\">\n",
              "  <thead>\n",
              "    <tr style=\"text-align: right;\">\n",
              "      <th></th>\n",
              "      <th>Code</th>\n",
              "      <th>NameCountry</th>\n",
              "      <th>Continent</th>\n",
              "      <th>Region</th>\n",
              "      <th>SurfaceArea</th>\n",
              "      <th>IndepYear</th>\n",
              "      <th>PopulationCountry</th>\n",
              "      <th>LifeExpectancy</th>\n",
              "      <th>GNP</th>\n",
              "      <th>GNPOld</th>\n",
              "      <th>LocalName</th>\n",
              "      <th>GovernmentForm</th>\n",
              "      <th>Capital</th>\n",
              "      <th>ID</th>\n",
              "      <th>NameCity</th>\n",
              "      <th>CountryCode</th>\n",
              "      <th>District</th>\n",
              "      <th>PopulationCity</th>\n",
              "    </tr>\n",
              "  </thead>\n",
              "  <tbody>\n",
              "    <tr>\n",
              "      <th>0</th>\n",
              "      <td>ABW</td>\n",
              "      <td>Aruba</td>\n",
              "      <td>North America</td>\n",
              "      <td>Caribbean</td>\n",
              "      <td>193.0</td>\n",
              "      <td>NaN</td>\n",
              "      <td>103000</td>\n",
              "      <td>78.4</td>\n",
              "      <td>828.0</td>\n",
              "      <td>793.0</td>\n",
              "      <td>Aruba</td>\n",
              "      <td>Nonmetropolitan Territory of The Netherlands</td>\n",
              "      <td>129.0</td>\n",
              "      <td>129</td>\n",
              "      <td>Oranjestad</td>\n",
              "      <td>ABW</td>\n",
              "      <td>–</td>\n",
              "      <td>29034</td>\n",
              "    </tr>\n",
              "  </tbody>\n",
              "</table>\n",
              "</div>"
            ],
            "text/plain": [
              "  Code NameCountry      Continent     Region  SurfaceArea  IndepYear  \\\n",
              "0  ABW       Aruba  North America  Caribbean        193.0        NaN   \n",
              "\n",
              "   PopulationCountry  LifeExpectancy    GNP  GNPOld LocalName  \\\n",
              "0             103000            78.4  828.0   793.0     Aruba   \n",
              "\n",
              "                                 GovernmentForm  Capital   ID    NameCity  \\\n",
              "0  Nonmetropolitan Territory of The Netherlands    129.0  129  Oranjestad   \n",
              "\n",
              "  CountryCode District  PopulationCity  \n",
              "0         ABW        –           29034  "
            ]
          },
          "execution_count": 41,
          "metadata": {},
          "output_type": "execute_result"
        }
      ],
      "source": [
        "df = pd.merge(countries,cities,left_on='Capital',right_on='ID',how=\"inner\",suffixes=('Country','City'))\n",
        "df.head(1)"
      ]
    },
    {
      "cell_type": "markdown",
      "metadata": {
        "id": "FwIhsEsrf3Mc"
      },
      "source": [
        "## 1.2 Distribuciones y estadísticas"
      ]
    },
    {
      "cell_type": "markdown",
      "metadata": {
        "id": "X4qg_BHD_b7f"
      },
      "source": [
        "*   ¿Cuál es el promedio de población para el conjunto de países analizados? "
      ]
    },
    {
      "cell_type": "code",
      "execution_count": null,
      "metadata": {
        "id": "z1hIToCr_ltF"
      },
      "outputs": [],
      "source": []
    },
    {
      "cell_type": "markdown",
      "metadata": {
        "id": "ZHdnJWFw_md5"
      },
      "source": [
        "*   ¿Qué superficie territorial tiene el país más pequeño? ¿Y el más grande? "
      ]
    },
    {
      "cell_type": "code",
      "execution_count": 51,
      "metadata": {
        "id": "jkf0m4Q-_v-h"
      },
      "outputs": [
        {
          "data": {
            "text/html": [
              "<div>\n",
              "<style scoped>\n",
              "    .dataframe tbody tr th:only-of-type {\n",
              "        vertical-align: middle;\n",
              "    }\n",
              "\n",
              "    .dataframe tbody tr th {\n",
              "        vertical-align: top;\n",
              "    }\n",
              "\n",
              "    .dataframe thead th {\n",
              "        text-align: right;\n",
              "    }\n",
              "</style>\n",
              "<table border=\"1\" class=\"dataframe\">\n",
              "  <thead>\n",
              "    <tr style=\"text-align: right;\">\n",
              "      <th></th>\n",
              "      <th>Code</th>\n",
              "      <th>Name</th>\n",
              "      <th>Continent</th>\n",
              "      <th>Region</th>\n",
              "      <th>SurfaceArea</th>\n",
              "      <th>IndepYear</th>\n",
              "      <th>Population</th>\n",
              "      <th>LifeExpectancy</th>\n",
              "      <th>GNP</th>\n",
              "      <th>GNPOld</th>\n",
              "      <th>LocalName</th>\n",
              "      <th>GovernmentForm</th>\n",
              "      <th>Capital</th>\n",
              "    </tr>\n",
              "  </thead>\n",
              "  <tbody>\n",
              "    <tr>\n",
              "      <th>181</th>\n",
              "      <td>RUS</td>\n",
              "      <td>Russian Federation</td>\n",
              "      <td>Europe</td>\n",
              "      <td>Eastern Europe</td>\n",
              "      <td>17075400.0</td>\n",
              "      <td>1991.0</td>\n",
              "      <td>146934000</td>\n",
              "      <td>67.2</td>\n",
              "      <td>276608.0</td>\n",
              "      <td>442989.0</td>\n",
              "      <td>Rossija</td>\n",
              "      <td>Federal Republic</td>\n",
              "      <td>3580.0</td>\n",
              "    </tr>\n",
              "  </tbody>\n",
              "</table>\n",
              "</div>"
            ],
            "text/plain": [
              "    Code                Name Continent          Region  SurfaceArea  \\\n",
              "181  RUS  Russian Federation    Europe  Eastern Europe   17075400.0   \n",
              "\n",
              "     IndepYear  Population  LifeExpectancy       GNP    GNPOld LocalName  \\\n",
              "181     1991.0   146934000            67.2  276608.0  442989.0   Rossija   \n",
              "\n",
              "       GovernmentForm  Capital  \n",
              "181  Federal Republic   3580.0  "
            ]
          },
          "execution_count": 51,
          "metadata": {},
          "output_type": "execute_result"
        }
      ],
      "source": [
        "countries[countries['SurfaceArea'] ==countries['SurfaceArea'].min()]\n",
        "countries[countries['SurfaceArea'] ==countries['SurfaceArea'].max()]\n"
      ]
    },
    {
      "cell_type": "markdown",
      "metadata": {
        "id": "9cL6CJ22_wcw"
      },
      "source": [
        "*   ¿Cuál es la desviación estándar de la expectativa de vida? "
      ]
    },
    {
      "cell_type": "code",
      "execution_count": 60,
      "metadata": {
        "id": "OndmZPc4_6xT"
      },
      "outputs": [
        {
          "data": {
            "text/html": [
              "<div>\n",
              "<style scoped>\n",
              "    .dataframe tbody tr th:only-of-type {\n",
              "        vertical-align: middle;\n",
              "    }\n",
              "\n",
              "    .dataframe tbody tr th {\n",
              "        vertical-align: top;\n",
              "    }\n",
              "\n",
              "    .dataframe thead th {\n",
              "        text-align: right;\n",
              "    }\n",
              "</style>\n",
              "<table border=\"1\" class=\"dataframe\">\n",
              "  <thead>\n",
              "    <tr style=\"text-align: right;\">\n",
              "      <th></th>\n",
              "      <th>SurfaceArea</th>\n",
              "      <th>IndepYear</th>\n",
              "      <th>PopulationCountry</th>\n",
              "      <th>LifeExpectancy</th>\n",
              "      <th>GNP</th>\n",
              "      <th>GNPOld</th>\n",
              "      <th>Capital</th>\n",
              "      <th>ID</th>\n",
              "      <th>PopulationCity</th>\n",
              "    </tr>\n",
              "  </thead>\n",
              "  <tbody>\n",
              "    <tr>\n",
              "      <th>count</th>\n",
              "      <td>232.00</td>\n",
              "      <td>192.00</td>\n",
              "      <td>232.00</td>\n",
              "      <td>222.00</td>\n",
              "      <td>232.00</td>\n",
              "      <td>178.00</td>\n",
              "      <td>232.00</td>\n",
              "      <td>232.00</td>\n",
              "      <td>232.00</td>\n",
              "    </tr>\n",
              "    <tr>\n",
              "      <th>mean</th>\n",
              "      <td>585448.76</td>\n",
              "      <td>1847.26</td>\n",
              "      <td>26201506.25</td>\n",
              "      <td>66.49</td>\n",
              "      <td>126529.78</td>\n",
              "      <td>165534.31</td>\n",
              "      <td>2071.31</td>\n",
              "      <td>2071.31</td>\n",
              "      <td>1078091.13</td>\n",
              "    </tr>\n",
              "    <tr>\n",
              "      <th>std</th>\n",
              "      <td>1768330.08</td>\n",
              "      <td>420.83</td>\n",
              "      <td>110893101.65</td>\n",
              "      <td>11.52</td>\n",
              "      <td>647228.36</td>\n",
              "      <td>720468.91</td>\n",
              "      <td>1184.10</td>\n",
              "      <td>1184.10</td>\n",
              "      <td>1818042.50</td>\n",
              "    </tr>\n",
              "    <tr>\n",
              "      <th>min</th>\n",
              "      <td>0.40</td>\n",
              "      <td>-1523.00</td>\n",
              "      <td>50.00</td>\n",
              "      <td>37.20</td>\n",
              "      <td>0.00</td>\n",
              "      <td>157.00</td>\n",
              "      <td>1.00</td>\n",
              "      <td>1.00</td>\n",
              "      <td>42.00</td>\n",
              "    </tr>\n",
              "    <tr>\n",
              "      <th>25%</th>\n",
              "      <td>2769.75</td>\n",
              "      <td>1906.75</td>\n",
              "      <td>303500.00</td>\n",
              "      <td>60.30</td>\n",
              "      <td>807.50</td>\n",
              "      <td>2187.00</td>\n",
              "      <td>915.75</td>\n",
              "      <td>915.75</td>\n",
              "      <td>40750.00</td>\n",
              "    </tr>\n",
              "    <tr>\n",
              "      <th>50%</th>\n",
              "      <td>81233.00</td>\n",
              "      <td>1960.00</td>\n",
              "      <td>4419500.00</td>\n",
              "      <td>70.15</td>\n",
              "      <td>5224.50</td>\n",
              "      <td>8421.00</td>\n",
              "      <td>2449.50</td>\n",
              "      <td>2449.50</td>\n",
              "      <td>435169.00</td>\n",
              "    </tr>\n",
              "    <tr>\n",
              "      <th>75%</th>\n",
              "      <td>414643.25</td>\n",
              "      <td>1974.00</td>\n",
              "      <td>15374250.00</td>\n",
              "      <td>75.50</td>\n",
              "      <td>34606.00</td>\n",
              "      <td>71145.50</td>\n",
              "      <td>3065.25</td>\n",
              "      <td>3065.25</td>\n",
              "      <td>1186844.50</td>\n",
              "    </tr>\n",
              "    <tr>\n",
              "      <th>max</th>\n",
              "      <td>17075400.00</td>\n",
              "      <td>1994.00</td>\n",
              "      <td>1277558000.00</td>\n",
              "      <td>83.50</td>\n",
              "      <td>8510700.00</td>\n",
              "      <td>8110900.00</td>\n",
              "      <td>4074.00</td>\n",
              "      <td>4074.00</td>\n",
              "      <td>9981619.00</td>\n",
              "    </tr>\n",
              "  </tbody>\n",
              "</table>\n",
              "</div>"
            ],
            "text/plain": [
              "       SurfaceArea  IndepYear  PopulationCountry  LifeExpectancy        GNP  \\\n",
              "count       232.00     192.00             232.00          222.00     232.00   \n",
              "mean     585448.76    1847.26        26201506.25           66.49  126529.78   \n",
              "std     1768330.08     420.83       110893101.65           11.52  647228.36   \n",
              "min           0.40   -1523.00              50.00           37.20       0.00   \n",
              "25%        2769.75    1906.75          303500.00           60.30     807.50   \n",
              "50%       81233.00    1960.00         4419500.00           70.15    5224.50   \n",
              "75%      414643.25    1974.00        15374250.00           75.50   34606.00   \n",
              "max    17075400.00    1994.00      1277558000.00           83.50 8510700.00   \n",
              "\n",
              "          GNPOld  Capital      ID  PopulationCity  \n",
              "count     178.00   232.00  232.00          232.00  \n",
              "mean   165534.31  2071.31 2071.31      1078091.13  \n",
              "std    720468.91  1184.10 1184.10      1818042.50  \n",
              "min       157.00     1.00    1.00           42.00  \n",
              "25%      2187.00   915.75  915.75        40750.00  \n",
              "50%      8421.00  2449.50 2449.50       435169.00  \n",
              "75%     71145.50  3065.25 3065.25      1186844.50  \n",
              "max   8110900.00  4074.00 4074.00      9981619.00  "
            ]
          },
          "execution_count": 60,
          "metadata": {},
          "output_type": "execute_result"
        }
      ],
      "source": [
        "pd.options.display.float_format ='{:.2f}'.format\n",
        "df.describe()"
      ]
    },
    {
      "cell_type": "markdown",
      "metadata": {
        "id": "lHbKcOjn_9po"
      },
      "source": [
        "*   ¿Qué significa que para el año de independencia está 1974 en el 3er cuartil (75%)? "
      ]
    },
    {
      "cell_type": "code",
      "execution_count": null,
      "metadata": {
        "id": "WZQ0VBkyAHBF"
      },
      "outputs": [],
      "source": []
    },
    {
      "cell_type": "markdown",
      "metadata": {
        "id": "FG-ArPfXJCZ-"
      },
      "source": [
        "# **TEMA 2. Plataformas de visualización en Python**"
      ]
    },
    {
      "cell_type": "code",
      "execution_count": 61,
      "metadata": {
        "id": "xh6Z2oqgJXSU"
      },
      "outputs": [],
      "source": [
        "import pandas as pd\n",
        "import matplotlib.pyplot as plt\n",
        "import seaborn as sns"
      ]
    },
    {
      "cell_type": "markdown",
      "metadata": {
        "id": "bOR1-vzyoabs"
      },
      "source": [
        "## 2.1 Trazado básico y personalización de la estética"
      ]
    },
    {
      "cell_type": "markdown",
      "metadata": {
        "id": "IfpzJFMID_OA"
      },
      "source": [
        "*   Generar un nuevo dataframe (`sample`) con los 6 primeros registros de `countries` y dejando únicamente las columnas `Name` y `Population` "
      ]
    },
    {
      "cell_type": "code",
      "execution_count": 66,
      "metadata": {},
      "outputs": [
        {
          "data": {
            "text/plain": [
              "Index(['Code', 'NameCountry', 'Continent', 'Region', 'SurfaceArea',\n",
              "       'IndepYear', 'PopulationCountry', 'LifeExpectancy', 'GNP', 'GNPOld',\n",
              "       'LocalName', 'GovernmentForm', 'Capital', 'ID', 'NameCity',\n",
              "       'CountryCode', 'District', 'PopulationCity'],\n",
              "      dtype='object')"
            ]
          },
          "execution_count": 66,
          "metadata": {},
          "output_type": "execute_result"
        }
      ],
      "source": [
        "df.columns"
      ]
    },
    {
      "cell_type": "code",
      "execution_count": 68,
      "metadata": {},
      "outputs": [],
      "source": [
        "dataframe = pd.DataFrame(df[['NameCountry','PopulationCountry']]).head()"
      ]
    },
    {
      "cell_type": "code",
      "execution_count": 73,
      "metadata": {
        "id": "wUIFTwWGEKMw"
      },
      "outputs": [
        {
          "data": {
            "text/plain": [
              "<AxesSubplot:>"
            ]
          },
          "execution_count": 73,
          "metadata": {},
          "output_type": "execute_result"
        },
        {
          "data": {
            "image/png": "[encoded data removed]",
            "text/plain": [
              "<Figure size 432x288 with 1 Axes>"
            ]
          },
          "metadata": {
            "needs_background": "light"
          },
          "output_type": "display_data"
        }
      ],
      "source": [
        "dataframe.plot(kind='bar',color='cyan')"
      ]
    },
    {
      "cell_type": "markdown",
      "metadata": {
        "id": "8hqxHtduEO6K"
      },
      "source": [
        "*   Hacer que `Name` sea el índice"
      ]
    },
    {
      "cell_type": "code",
      "execution_count": null,
      "metadata": {
        "id": "OFOWsItfEV2c"
      },
      "outputs": [],
      "source": [
        "sample"
      ]
    },
    {
      "cell_type": "markdown",
      "metadata": {
        "id": "OeZ3aYu7EZOQ"
      },
      "source": [
        "*   Visualizar `sample` usando las tres plataformas de trazado"
      ]
    },
    {
      "cell_type": "code",
      "execution_count": null,
      "metadata": {
        "id": "bhXrOjfbEY2Y"
      },
      "outputs": [],
      "source": []
    },
    {
      "cell_type": "markdown",
      "metadata": {
        "id": "p9cvHKvoEk-b"
      },
      "source": [
        "*   Cambiar las propiedades: `title`, `grid`, `legend`, `xlabel`, `ylabel`, `rot`, `fontsize`, `color`, `marker` y `linestyle` de la gráfica generada con Pandas "
      ]
    },
    {
      "cell_type": "code",
      "execution_count": null,
      "metadata": {
        "id": "48SfgUCGExpY"
      },
      "outputs": [],
      "source": []
    },
    {
      "cell_type": "markdown",
      "metadata": {
        "id": "4nZKwxVZFCJZ"
      },
      "source": [
        "*   Probar con otro dataframe (`sample2`) que almacene los 6 primeros registros de `countries`, pero con todas sus columnas "
      ]
    },
    {
      "cell_type": "code",
      "execution_count": 74,
      "metadata": {
        "id": "XO8ef7RvFEkM"
      },
      "outputs": [],
      "source": [
        "sample2 = countries.head()\n"
      ]
    },
    {
      "cell_type": "code",
      "execution_count": 77,
      "metadata": {},
      "outputs": [
        {
          "data": {
            "text/plain": [
              "[<matplotlib.lines.Line2D at 0x195d738fdf0>]"
            ]
          },
          "execution_count": 77,
          "metadata": {},
          "output_type": "execute_result"
        },
        {
          "data": {
            "image/png": "[encoded data removed]",
            "text/plain": [
              "<Figure size 432x288 with 1 Axes>"
            ]
          },
          "metadata": {
            "needs_background": "light"
          },
          "output_type": "display_data"
        }
      ],
      "source": [
        "#Matplotlib\n",
        "plt.plot(sample2['Name'],sample2['Population'])"
      ]
    },
    {
      "cell_type": "code",
      "execution_count": 78,
      "metadata": {},
      "outputs": [
        {
          "data": {
            "text/plain": [
              "<AxesSubplot:xlabel='Name'>"
            ]
          },
          "execution_count": 78,
          "metadata": {},
          "output_type": "execute_result"
        },
        {
          "data": {
            "image/png": "[encoded data removed]",
            "text/plain": [
              "<Figure size 432x288 with 1 Axes>"
            ]
          },
          "metadata": {
            "needs_background": "light"
          },
          "output_type": "display_data"
        }
      ],
      "source": [
        "#Pxndxs\n",
        "\n",
        "sample2.plot(x='Name',y='Population')"
      ]
    },
    {
      "cell_type": "code",
      "execution_count": 80,
      "metadata": {},
      "outputs": [
        {
          "data": {
            "text/plain": [
              "<AxesSubplot:xlabel='Name', ylabel='Population'>"
            ]
          },
          "execution_count": 80,
          "metadata": {},
          "output_type": "execute_result"
        },
        {
          "data": {
            "image/png": "[encoded data removed]",
            "text/plain": [
              "<Figure size 432x288 with 1 Axes>"
            ]
          },
          "metadata": {
            "needs_background": "light"
          },
          "output_type": "display_data"
        }
      ],
      "source": [
        "sns.lineplot(x=sample2['Name'],y=sample2['Population'])"
      ]
    },
    {
      "cell_type": "markdown",
      "metadata": {
        "id": "MBNKdd4zFIHg"
      },
      "source": [
        "*   Cambiar el tipo de gráfico a barras horizontales usando el argumento `kind`"
      ]
    },
    {
      "cell_type": "code",
      "execution_count": 81,
      "metadata": {
        "id": "quEJKTb7FKLK"
      },
      "outputs": [
        {
          "data": {
            "text/plain": [
              "<BarContainer object of 5 artists>"
            ]
          },
          "execution_count": 81,
          "metadata": {},
          "output_type": "execute_result"
        },
        {
          "data": {
            "image/png": "[encoded data removed]",
            "text/plain": [
              "<Figure size 432x288 with 1 Axes>"
            ]
          },
          "metadata": {
            "needs_background": "light"
          },
          "output_type": "display_data"
        }
      ],
      "source": [
        "#Matplotlib\n",
        "plt.bar(sample2['Name'],sample2['Population'])"
      ]
    },
    {
      "cell_type": "code",
      "execution_count": 82,
      "metadata": {},
      "outputs": [
        {
          "data": {
            "text/plain": [
              "<AxesSubplot:xlabel='Name'>"
            ]
          },
          "execution_count": 82,
          "metadata": {},
          "output_type": "execute_result"
        },
        {
          "data": {
            "image/png": "[encoded data removed]",
            "text/plain": [
              "<Figure size 432x288 with 1 Axes>"
            ]
          },
          "metadata": {
            "needs_background": "light"
          },
          "output_type": "display_data"
        }
      ],
      "source": [
        "#Pxndxs\n",
        "\n",
        "sample2.plot(x='Name',y='Population',kind='bar')"
      ]
    },
    {
      "cell_type": "code",
      "execution_count": 83,
      "metadata": {},
      "outputs": [
        {
          "data": {
            "text/plain": [
              "<AxesSubplot:xlabel='Name', ylabel='Population'>"
            ]
          },
          "execution_count": 83,
          "metadata": {},
          "output_type": "execute_result"
        },
        {
          "data": {
            "image/png": "[encoded data removed]",
            "text/plain": [
              "<Figure size 432x288 with 1 Axes>"
            ]
          },
          "metadata": {
            "needs_background": "light"
          },
          "output_type": "display_data"
        }
      ],
      "source": [
        "sns.barplot(x=sample2['Name'],y=sample2['Population'])"
      ]
    },
    {
      "cell_type": "markdown",
      "metadata": {
        "id": "xzGEfsVdwQVb"
      },
      "source": [
        "## 2.2 Agrupamiento y filtrado"
      ]
    },
    {
      "cell_type": "markdown",
      "metadata": {
        "id": "O1eaFtUhGfsD"
      },
      "source": [
        "*   Generar un nuevo dataframe (`population_by_continent`) con el resultado de agrupar la columna `Population` con el total por continente "
      ]
    },
    {
      "cell_type": "code",
      "execution_count": 86,
      "metadata": {
        "id": "0AQGnyYiGold"
      },
      "outputs": [
        {
          "data": {
            "text/html": [
              "<div>\n",
              "<style scoped>\n",
              "    .dataframe tbody tr th:only-of-type {\n",
              "        vertical-align: middle;\n",
              "    }\n",
              "\n",
              "    .dataframe tbody tr th {\n",
              "        vertical-align: top;\n",
              "    }\n",
              "\n",
              "    .dataframe thead th {\n",
              "        text-align: right;\n",
              "    }\n",
              "</style>\n",
              "<table border=\"1\" class=\"dataframe\">\n",
              "  <thead>\n",
              "    <tr style=\"text-align: right;\">\n",
              "      <th></th>\n",
              "      <th>Population</th>\n",
              "    </tr>\n",
              "    <tr>\n",
              "      <th>Continent</th>\n",
              "      <th></th>\n",
              "    </tr>\n",
              "  </thead>\n",
              "  <tbody>\n",
              "    <tr>\n",
              "      <th>Africa</th>\n",
              "      <td>784475000</td>\n",
              "    </tr>\n",
              "    <tr>\n",
              "      <th>Asia</th>\n",
              "      <td>3705025700</td>\n",
              "    </tr>\n",
              "    <tr>\n",
              "      <th>Europe</th>\n",
              "      <td>730074600</td>\n",
              "    </tr>\n",
              "    <tr>\n",
              "      <th>North America</th>\n",
              "      <td>482993000</td>\n",
              "    </tr>\n",
              "    <tr>\n",
              "      <th>Oceania</th>\n",
              "      <td>30401150</td>\n",
              "    </tr>\n",
              "    <tr>\n",
              "      <th>South America</th>\n",
              "      <td>345780000</td>\n",
              "    </tr>\n",
              "  </tbody>\n",
              "</table>\n",
              "</div>"
            ],
            "text/plain": [
              "               Population\n",
              "Continent                \n",
              "Africa          784475000\n",
              "Asia           3705025700\n",
              "Europe          730074600\n",
              "North America   482993000\n",
              "Oceania          30401150\n",
              "South America   345780000"
            ]
          },
          "execution_count": 86,
          "metadata": {},
          "output_type": "execute_result"
        }
      ],
      "source": [
        "dframe = countries[['Continent','Population']].groupby(['Continent']).sum()\n",
        "dframe"
      ]
    },
    {
      "cell_type": "markdown",
      "metadata": {
        "id": "1rhWMGbCG4JY"
      },
      "source": [
        "*   Graficar los resultados usando un gráfico pie de Pandas"
      ]
    },
    {
      "cell_type": "code",
      "execution_count": 95,
      "metadata": {},
      "outputs": [],
      "source": [
        "sns.set_palette('Set2')"
      ]
    },
    {
      "cell_type": "code",
      "execution_count": 96,
      "metadata": {
        "id": "EJDSmpDZG8Qf"
      },
      "outputs": [
        {
          "data": {
            "text/plain": [
              "<AxesSubplot:ylabel='Population'>"
            ]
          },
          "execution_count": 96,
          "metadata": {},
          "output_type": "execute_result"
        },
        {
          "data": {
            "image/png": "[encoded data removed]",
            "text/plain": [
              "<Figure size 432x288 with 1 Axes>"
            ]
          },
          "metadata": {},
          "output_type": "display_data"
        }
      ],
      "source": [
        "dframe.plot(kind='pie',y='Population',legend=False)"
      ]
    },
    {
      "cell_type": "markdown",
      "metadata": {
        "id": "sZ8C_e3nHB9Y"
      },
      "source": [
        "*   Graficar el número de países por continente usando la función `countplot() `de Seaborn "
      ]
    },
    {
      "cell_type": "code",
      "execution_count": 100,
      "metadata": {
        "id": "gW_s_z_zHGtG"
      },
      "outputs": [
        {
          "data": {
            "text/plain": [
              "<AxesSubplot:xlabel='Continent', ylabel='count'>"
            ]
          },
          "execution_count": 100,
          "metadata": {},
          "output_type": "execute_result"
        },
        {
          "data": {
            "image/png": "[encoded data removed]",
            "text/plain": [
              "<Figure size 432x288 with 1 Axes>"
            ]
          },
          "metadata": {
            "needs_background": "light"
          },
          "output_type": "display_data"
        }
      ],
      "source": [
        "sns.countplot(x=countries['Continent'])"
      ]
    },
    {
      "cell_type": "markdown",
      "metadata": {
        "id": "ogFCua_DHIpR"
      },
      "source": [
        "*   Cambiar la paleta de colores y el tema con Seaborn"
      ]
    },
    {
      "cell_type": "code",
      "execution_count": null,
      "metadata": {
        "id": "AFte53lXHOnV"
      },
      "outputs": [],
      "source": []
    },
    {
      "cell_type": "markdown",
      "metadata": {
        "id": "RxGrHlm4Jf9G"
      },
      "source": [
        "# **TEMA 3. Gráficas superpuestas**"
      ]
    },
    {
      "cell_type": "markdown",
      "metadata": {
        "id": "l3Ei3iAZxpQE"
      },
      "source": [
        "##3.1 Compartiendo ambos ejes"
      ]
    },
    {
      "cell_type": "markdown",
      "metadata": {
        "id": "Ue8witHWH0mF"
      },
      "source": [
        "*   Generar un nuevo dataframe (`gnp_by_continent`) con el resultado de agrupar las columnas `GNP` y `GNPOld` con el promedio por continente "
      ]
    },
    {
      "cell_type": "code",
      "execution_count": 102,
      "metadata": {
        "id": "lWQfAQK7H90K"
      },
      "outputs": [
        {
          "data": {
            "text/html": [
              "<div>\n",
              "<style scoped>\n",
              "    .dataframe tbody tr th:only-of-type {\n",
              "        vertical-align: middle;\n",
              "    }\n",
              "\n",
              "    .dataframe tbody tr th {\n",
              "        vertical-align: top;\n",
              "    }\n",
              "\n",
              "    .dataframe thead th {\n",
              "        text-align: right;\n",
              "    }\n",
              "</style>\n",
              "<table border=\"1\" class=\"dataframe\">\n",
              "  <thead>\n",
              "    <tr style=\"text-align: right;\">\n",
              "      <th></th>\n",
              "      <th>GNP</th>\n",
              "      <th>GNPOld</th>\n",
              "    </tr>\n",
              "    <tr>\n",
              "      <th>Continent</th>\n",
              "      <th></th>\n",
              "      <th></th>\n",
              "    </tr>\n",
              "  </thead>\n",
              "  <tbody>\n",
              "    <tr>\n",
              "      <th>Africa</th>\n",
              "      <td>10182.02</td>\n",
              "      <td>11065.28</td>\n",
              "    </tr>\n",
              "    <tr>\n",
              "      <th>Asia</th>\n",
              "      <td>150105.73</td>\n",
              "      <td>183377.09</td>\n",
              "    </tr>\n",
              "    <tr>\n",
              "      <th>Europe</th>\n",
              "      <td>206497.07</td>\n",
              "      <td>260611.14</td>\n",
              "    </tr>\n",
              "    <tr>\n",
              "      <th>North America</th>\n",
              "      <td>261854.79</td>\n",
              "      <td>371527.00</td>\n",
              "    </tr>\n",
              "    <tr>\n",
              "      <th>Oceania</th>\n",
              "      <td>15547.21</td>\n",
              "      <td>46905.80</td>\n",
              "    </tr>\n",
              "    <tr>\n",
              "      <th>South America</th>\n",
              "      <td>107991.00</td>\n",
              "      <td>126720.08</td>\n",
              "    </tr>\n",
              "  </tbody>\n",
              "</table>\n",
              "</div>"
            ],
            "text/plain": [
              "                    GNP    GNPOld\n",
              "Continent                        \n",
              "Africa         10182.02  11065.28\n",
              "Asia          150105.73 183377.09\n",
              "Europe        206497.07 260611.14\n",
              "North America 261854.79 371527.00\n",
              "Oceania        15547.21  46905.80\n",
              "South America 107991.00 126720.08"
            ]
          },
          "execution_count": 102,
          "metadata": {},
          "output_type": "execute_result"
        }
      ],
      "source": [
        "df_by_continent = countries[['Continent','GNP','GNPOld']].groupby(['Continent']).mean()\n",
        "df_by_continent"
      ]
    },
    {
      "cell_type": "markdown",
      "metadata": {
        "id": "KxQFrd7oH_1O"
      },
      "source": [
        "*   Graficar los resultados usando las tres plataformas de trazado"
      ]
    },
    {
      "cell_type": "code",
      "execution_count": 104,
      "metadata": {
        "id": "jvfXOmQtIFGx"
      },
      "outputs": [
        {
          "data": {
            "text/plain": [
              "<matplotlib.legend.Legend at 0x195dc53ca00>"
            ]
          },
          "execution_count": 104,
          "metadata": {},
          "output_type": "execute_result"
        },
        {
          "data": {
            "image/png": "[encoded data removed]",
            "text/plain": [
              "<Figure size 432x288 with 1 Axes>"
            ]
          },
          "metadata": {
            "needs_background": "light"
          },
          "output_type": "display_data"
        }
      ],
      "source": [
        "# Matplotlib\n",
        "\n",
        "plt.plot(df_by_continent)\n",
        "plt.legend(df_by_continent.columns)"
      ]
    },
    {
      "cell_type": "code",
      "execution_count": 105,
      "metadata": {},
      "outputs": [
        {
          "data": {
            "text/plain": [
              "<AxesSubplot:xlabel='Continent'>"
            ]
          },
          "execution_count": 105,
          "metadata": {},
          "output_type": "execute_result"
        },
        {
          "data": {
            "image/png": "[encoded data removed]",
            "text/plain": [
              "<Figure size 432x288 with 1 Axes>"
            ]
          },
          "metadata": {
            "needs_background": "light"
          },
          "output_type": "display_data"
        }
      ],
      "source": [
        "#Pandas \n",
        "\n",
        "df_by_continent.plot()"
      ]
    },
    {
      "cell_type": "code",
      "execution_count": 106,
      "metadata": {},
      "outputs": [
        {
          "data": {
            "text/plain": [
              "<AxesSubplot:xlabel='Continent'>"
            ]
          },
          "execution_count": 106,
          "metadata": {},
          "output_type": "execute_result"
        },
        {
          "data": {
            "image/png": "[encoded data removed]",
            "text/plain": [
              "<Figure size 432x288 with 1 Axes>"
            ]
          },
          "metadata": {
            "needs_background": "light"
          },
          "output_type": "display_data"
        }
      ],
      "source": [
        "#Seaborn \n",
        "sns.lineplot(data=df_by_continent)"
      ]
    },
    {
      "cell_type": "markdown",
      "metadata": {
        "id": "FKghtwcHz7Mw"
      },
      "source": [
        "## 3.2 Compartiendo el eje horizontal con ejes verticales independientes"
      ]
    },
    {
      "cell_type": "markdown",
      "metadata": {
        "id": "bF7aVQg2IRq5"
      },
      "source": [
        "*   Generar un nuevo dataframe (`summary_by_continent`) con el resultado de agrupar las columnas `LifeExpectancy` y `GNP` con el promedio por continente"
      ]
    },
    {
      "cell_type": "code",
      "execution_count": 108,
      "metadata": {
        "id": "0uvpbeUUIZPd"
      },
      "outputs": [
        {
          "data": {
            "text/html": [
              "<div>\n",
              "<style scoped>\n",
              "    .dataframe tbody tr th:only-of-type {\n",
              "        vertical-align: middle;\n",
              "    }\n",
              "\n",
              "    .dataframe tbody tr th {\n",
              "        vertical-align: top;\n",
              "    }\n",
              "\n",
              "    .dataframe thead th {\n",
              "        text-align: right;\n",
              "    }\n",
              "</style>\n",
              "<table border=\"1\" class=\"dataframe\">\n",
              "  <thead>\n",
              "    <tr style=\"text-align: right;\">\n",
              "      <th></th>\n",
              "      <th>LifeExpectancy</th>\n",
              "      <th>GNP</th>\n",
              "    </tr>\n",
              "    <tr>\n",
              "      <th>Continent</th>\n",
              "      <th></th>\n",
              "      <th></th>\n",
              "    </tr>\n",
              "  </thead>\n",
              "  <tbody>\n",
              "    <tr>\n",
              "      <th>Africa</th>\n",
              "      <td>52.57</td>\n",
              "      <td>10182.02</td>\n",
              "    </tr>\n",
              "    <tr>\n",
              "      <th>Asia</th>\n",
              "      <td>67.44</td>\n",
              "      <td>150105.73</td>\n",
              "    </tr>\n",
              "    <tr>\n",
              "      <th>Europe</th>\n",
              "      <td>75.15</td>\n",
              "      <td>206497.07</td>\n",
              "    </tr>\n",
              "    <tr>\n",
              "      <th>North America</th>\n",
              "      <td>72.99</td>\n",
              "      <td>261854.79</td>\n",
              "    </tr>\n",
              "    <tr>\n",
              "      <th>Oceania</th>\n",
              "      <td>69.72</td>\n",
              "      <td>15547.21</td>\n",
              "    </tr>\n",
              "    <tr>\n",
              "      <th>South America</th>\n",
              "      <td>70.95</td>\n",
              "      <td>107991.00</td>\n",
              "    </tr>\n",
              "  </tbody>\n",
              "</table>\n",
              "</div>"
            ],
            "text/plain": [
              "               LifeExpectancy       GNP\n",
              "Continent                              \n",
              "Africa                  52.57  10182.02\n",
              "Asia                    67.44 150105.73\n",
              "Europe                  75.15 206497.07\n",
              "North America           72.99 261854.79\n",
              "Oceania                 69.72  15547.21\n",
              "South America           70.95 107991.00"
            ]
          },
          "execution_count": 108,
          "metadata": {},
          "output_type": "execute_result"
        }
      ],
      "source": [
        "summary_by_continent = countries[['Continent','LifeExpectancy','GNP']].groupby(['Continent']).mean()\n",
        "summary_by_continent"
      ]
    },
    {
      "cell_type": "code",
      "execution_count": 109,
      "metadata": {},
      "outputs": [
        {
          "data": {
            "text/plain": [
              "<AxesSubplot:xlabel='Continent'>"
            ]
          },
          "execution_count": 109,
          "metadata": {},
          "output_type": "execute_result"
        },
        {
          "data": {
            "image/png": "[encoded data removed]",
            "text/plain": [
              "<Figure size 432x288 with 1 Axes>"
            ]
          },
          "metadata": {
            "needs_background": "light"
          },
          "output_type": "display_data"
        }
      ],
      "source": [
        "#Seaborn \n",
        "sns.lineplot(data=df_by_continent)"
      ]
    },
    {
      "cell_type": "markdown",
      "metadata": {
        "id": "zcsyoR8lIbdc"
      },
      "source": [
        "*   Crear un eje vertical dual o secundario "
      ]
    },
    {
      "cell_type": "code",
      "execution_count": null,
      "metadata": {
        "id": "rJ2V6v2hIjof"
      },
      "outputs": [],
      "source": [
        "# Matplotlib\n",
        "\n",
        "plt.plot(df_by_continent)\n",
        "plt.legend(df_by_continent.columns)"
      ]
    },
    {
      "cell_type": "markdown",
      "metadata": {
        "id": "436FDnqPInMd"
      },
      "source": [
        "*   Graficar `LifeExpectancy` en el eje vertical izquierdo con color azul"
      ]
    },
    {
      "cell_type": "code",
      "execution_count": null,
      "metadata": {},
      "outputs": [],
      "source": []
    },
    {
      "cell_type": "code",
      "execution_count": 124,
      "metadata": {
        "id": "5AieCO4HIr3Y"
      },
      "outputs": [
        {
          "data": {
            "text/plain": [
              "Text(0.5, 1.0, 'Life Expectancy vs GNP')"
            ]
          },
          "execution_count": 124,
          "metadata": {},
          "output_type": "execute_result"
        },
        {
          "data": {
            "image/png": "[encoded data removed]",
            "text/plain": [
              "<Figure size 432x288 with 2 Axes>"
            ]
          },
          "metadata": {
            "needs_background": "light"
          },
          "output_type": "display_data"
        }
      ],
      "source": [
        "fif,ax1 = plt.subplots()\n",
        "\n",
        "#Matplotlb\n",
        "# #ax1.plot(summary_by_continent.index,summary_by_continent['LifeExpectancy'],color='blue')\n",
        "\n",
        "#Pandas\n",
        "summary_by_continent['LifeExpectancy'].plot(color='blue',ax=ax1)\n",
        "\n",
        "#Seaborn\n",
        "\n",
        "ax1.set_ylabel('Life Expectancy',color='blue')\n",
        "\n",
        "# Definir gemelo con eje compartido twinx comparten eje x twiny comparten eje y\n",
        "ax2 = ax1.twinx()\n",
        "\n",
        "ax2.plot(summary_by_continent.index,summary_by_continent['GNP'],color='green')\n",
        "ax2.set_ylabel('Life Expectancy',color='green')\n",
        "\n",
        "ax1.set_title('Life Expectancy vs GNP',color='cyan')"
      ]
    },
    {
      "cell_type": "markdown",
      "metadata": {
        "id": "6cYvzUUYIuUs"
      },
      "source": [
        "*   Graficar `GNP` en el eje vertical derecho con color verde"
      ]
    },
    {
      "cell_type": "code",
      "execution_count": null,
      "metadata": {
        "id": "cZ18ItB7I0bS"
      },
      "outputs": [],
      "source": []
    }
  ],
  "metadata": {
    "colab": {
      "name": "M4 - Enunciados Aprende.ipynb",
      "provenance": []
    },
    "interpreter": {
      "hash": "af6a57148d8251e394aaba2ac1a65307d2863bd3d511ca7f236e568805850424"
    },
    "kernelspec": {
      "display_name": "Python 3.10.2 64-bit",
      "language": "python",
      "name": "python3"
    },
    "language_info": {
      "codemirror_mode": {
        "name": "ipython",
        "version": 3
      },
      "file_extension": ".py",
      "mimetype": "text/x-python",
      "name": "python",
      "nbconvert_exporter": "python",
      "pygments_lexer": "ipython3",
      "version": "3.10.2"
    }
  },
  "nbformat": 4,
  "nbformat_minor": 0
}
