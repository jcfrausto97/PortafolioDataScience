{
 "cells": [
  {
   "cell_type": "markdown",
   "metadata": {},
   "source": [
    "#### Librerías"
   ]
  },
  {
   "cell_type": "code",
   "execution_count": 129,
   "metadata": {},
   "outputs": [],
   "source": [
    "%matplotlib inline\n",
    "\n",
    "# importar librerías estándar\n",
    "import pandas as pd\n",
    "import numpy as np\n",
    "import matplotlib.pyplot as plt\n",
    "import seaborn as sns\n",
    "\n",
    "\n",
    "# import warnings filter\n",
    "from warnings import simplefilter\n",
    "# ignore all future warnings\n",
    "simplefilter(action='ignore', category=FutureWarning)\n",
    "\n",
    "# semilla para garantizar la reproducibildiad del código\n",
    "seed = 923"
   ]
  },
  {
   "cell_type": "markdown",
   "metadata": {},
   "source": [
    "#### Importar datos"
   ]
  },
  {
   "cell_type": "code",
   "execution_count": 130,
   "metadata": {},
   "outputs": [],
   "source": [
    "# leer el conjunto de datos a utilizar\n",
    "data = pd.read_csv(r'Employee_Attrition_datos_reto_binario-1.csv')"
   ]
  },
  {
   "cell_type": "markdown",
   "metadata": {},
   "source": [
    "#### Análisis exploratorio de datos"
   ]
  },
  {
   "cell_type": "code",
   "execution_count": 131,
   "metadata": {},
   "outputs": [
    {
     "data": {
      "text/plain": [
       "(7000, 24)"
      ]
     },
     "execution_count": 131,
     "metadata": {},
     "output_type": "execute_result"
    }
   ],
   "source": [
    "data.shape"
   ]
  },
  {
   "cell_type": "code",
   "execution_count": 132,
   "metadata": {},
   "outputs": [
    {
     "data": {
      "text/html": [
       "<div>\n",
       "<style scoped>\n",
       "    .dataframe tbody tr th:only-of-type {\n",
       "        vertical-align: middle;\n",
       "    }\n",
       "\n",
       "    .dataframe tbody tr th {\n",
       "        vertical-align: top;\n",
       "    }\n",
       "\n",
       "    .dataframe thead th {\n",
       "        text-align: right;\n",
       "    }\n",
       "</style>\n",
       "<table border=\"1\" class=\"dataframe\">\n",
       "  <thead>\n",
       "    <tr style=\"text-align: right;\">\n",
       "      <th></th>\n",
       "      <th>count</th>\n",
       "      <th>mean</th>\n",
       "      <th>std</th>\n",
       "      <th>min</th>\n",
       "      <th>25%</th>\n",
       "      <th>50%</th>\n",
       "      <th>75%</th>\n",
       "      <th>max</th>\n",
       "    </tr>\n",
       "  </thead>\n",
       "  <tbody>\n",
       "    <tr>\n",
       "      <th>Age</th>\n",
       "      <td>6588.0</td>\n",
       "      <td>39.622799</td>\n",
       "      <td>13.606920</td>\n",
       "      <td>19.0000</td>\n",
       "      <td>27.0000</td>\n",
       "      <td>37.0000</td>\n",
       "      <td>52.0000</td>\n",
       "      <td>65.0000</td>\n",
       "    </tr>\n",
       "    <tr>\n",
       "      <th>Education_Level</th>\n",
       "      <td>7000.0</td>\n",
       "      <td>3.187857</td>\n",
       "      <td>1.065102</td>\n",
       "      <td>1.0000</td>\n",
       "      <td>3.0000</td>\n",
       "      <td>3.0000</td>\n",
       "      <td>4.0000</td>\n",
       "      <td>5.0000</td>\n",
       "    </tr>\n",
       "    <tr>\n",
       "      <th>Time_of_service</th>\n",
       "      <td>6856.0</td>\n",
       "      <td>13.385064</td>\n",
       "      <td>10.364188</td>\n",
       "      <td>0.0000</td>\n",
       "      <td>5.0000</td>\n",
       "      <td>10.0000</td>\n",
       "      <td>21.0000</td>\n",
       "      <td>43.0000</td>\n",
       "    </tr>\n",
       "    <tr>\n",
       "      <th>Time_since_promotion</th>\n",
       "      <td>7000.0</td>\n",
       "      <td>2.367143</td>\n",
       "      <td>1.149395</td>\n",
       "      <td>0.0000</td>\n",
       "      <td>1.0000</td>\n",
       "      <td>2.0000</td>\n",
       "      <td>3.0000</td>\n",
       "      <td>4.0000</td>\n",
       "    </tr>\n",
       "    <tr>\n",
       "      <th>growth_rate</th>\n",
       "      <td>7000.0</td>\n",
       "      <td>47.064286</td>\n",
       "      <td>15.761406</td>\n",
       "      <td>20.0000</td>\n",
       "      <td>33.0000</td>\n",
       "      <td>47.0000</td>\n",
       "      <td>61.0000</td>\n",
       "      <td>74.0000</td>\n",
       "    </tr>\n",
       "    <tr>\n",
       "      <th>Travel_Rate</th>\n",
       "      <td>7000.0</td>\n",
       "      <td>0.817857</td>\n",
       "      <td>0.648205</td>\n",
       "      <td>0.0000</td>\n",
       "      <td>0.0000</td>\n",
       "      <td>1.0000</td>\n",
       "      <td>1.0000</td>\n",
       "      <td>2.0000</td>\n",
       "    </tr>\n",
       "    <tr>\n",
       "      <th>Post_Level</th>\n",
       "      <td>7000.0</td>\n",
       "      <td>2.798000</td>\n",
       "      <td>1.163721</td>\n",
       "      <td>1.0000</td>\n",
       "      <td>2.0000</td>\n",
       "      <td>3.0000</td>\n",
       "      <td>3.0000</td>\n",
       "      <td>5.0000</td>\n",
       "    </tr>\n",
       "    <tr>\n",
       "      <th>Pay_Scale</th>\n",
       "      <td>6991.0</td>\n",
       "      <td>6.006294</td>\n",
       "      <td>2.058435</td>\n",
       "      <td>1.0000</td>\n",
       "      <td>5.0000</td>\n",
       "      <td>6.0000</td>\n",
       "      <td>8.0000</td>\n",
       "      <td>10.0000</td>\n",
       "    </tr>\n",
       "    <tr>\n",
       "      <th>Work_Life_balance</th>\n",
       "      <td>6989.0</td>\n",
       "      <td>2.387895</td>\n",
       "      <td>1.122786</td>\n",
       "      <td>1.0000</td>\n",
       "      <td>1.0000</td>\n",
       "      <td>2.0000</td>\n",
       "      <td>3.0000</td>\n",
       "      <td>5.0000</td>\n",
       "    </tr>\n",
       "    <tr>\n",
       "      <th>VAR1</th>\n",
       "      <td>7000.0</td>\n",
       "      <td>3.098571</td>\n",
       "      <td>0.836377</td>\n",
       "      <td>1.0000</td>\n",
       "      <td>3.0000</td>\n",
       "      <td>3.0000</td>\n",
       "      <td>3.0000</td>\n",
       "      <td>5.0000</td>\n",
       "    </tr>\n",
       "    <tr>\n",
       "      <th>VAR2</th>\n",
       "      <td>6423.0</td>\n",
       "      <td>-0.008126</td>\n",
       "      <td>0.989850</td>\n",
       "      <td>-1.8176</td>\n",
       "      <td>-0.9612</td>\n",
       "      <td>-0.1048</td>\n",
       "      <td>0.7516</td>\n",
       "      <td>1.6081</td>\n",
       "    </tr>\n",
       "    <tr>\n",
       "      <th>VAR3</th>\n",
       "      <td>7000.0</td>\n",
       "      <td>-0.013606</td>\n",
       "      <td>0.986933</td>\n",
       "      <td>-2.7762</td>\n",
       "      <td>-0.4537</td>\n",
       "      <td>-0.4537</td>\n",
       "      <td>0.7075</td>\n",
       "      <td>1.8688</td>\n",
       "    </tr>\n",
       "    <tr>\n",
       "      <th>VAR4</th>\n",
       "      <td>6344.0</td>\n",
       "      <td>1.891078</td>\n",
       "      <td>0.529403</td>\n",
       "      <td>1.0000</td>\n",
       "      <td>2.0000</td>\n",
       "      <td>2.0000</td>\n",
       "      <td>2.0000</td>\n",
       "      <td>3.0000</td>\n",
       "    </tr>\n",
       "    <tr>\n",
       "      <th>VAR5</th>\n",
       "      <td>7000.0</td>\n",
       "      <td>2.834143</td>\n",
       "      <td>0.938945</td>\n",
       "      <td>1.0000</td>\n",
       "      <td>2.0000</td>\n",
       "      <td>3.0000</td>\n",
       "      <td>3.0000</td>\n",
       "      <td>5.0000</td>\n",
       "    </tr>\n",
       "    <tr>\n",
       "      <th>VAR6</th>\n",
       "      <td>7000.0</td>\n",
       "      <td>7.101286</td>\n",
       "      <td>1.164262</td>\n",
       "      <td>5.0000</td>\n",
       "      <td>6.0000</td>\n",
       "      <td>7.0000</td>\n",
       "      <td>8.0000</td>\n",
       "      <td>9.0000</td>\n",
       "    </tr>\n",
       "    <tr>\n",
       "      <th>VAR7</th>\n",
       "      <td>7000.0</td>\n",
       "      <td>3.257000</td>\n",
       "      <td>0.925319</td>\n",
       "      <td>1.0000</td>\n",
       "      <td>3.0000</td>\n",
       "      <td>3.0000</td>\n",
       "      <td>4.0000</td>\n",
       "      <td>5.0000</td>\n",
       "    </tr>\n",
       "    <tr>\n",
       "      <th>Attrition_label</th>\n",
       "      <td>7000.0</td>\n",
       "      <td>0.367571</td>\n",
       "      <td>0.482178</td>\n",
       "      <td>0.0000</td>\n",
       "      <td>0.0000</td>\n",
       "      <td>0.0000</td>\n",
       "      <td>1.0000</td>\n",
       "      <td>1.0000</td>\n",
       "    </tr>\n",
       "  </tbody>\n",
       "</table>\n",
       "</div>"
      ],
      "text/plain": [
       "                       count       mean        std      min      25%      50%  \\\n",
       "Age                   6588.0  39.622799  13.606920  19.0000  27.0000  37.0000   \n",
       "Education_Level       7000.0   3.187857   1.065102   1.0000   3.0000   3.0000   \n",
       "Time_of_service       6856.0  13.385064  10.364188   0.0000   5.0000  10.0000   \n",
       "Time_since_promotion  7000.0   2.367143   1.149395   0.0000   1.0000   2.0000   \n",
       "growth_rate           7000.0  47.064286  15.761406  20.0000  33.0000  47.0000   \n",
       "Travel_Rate           7000.0   0.817857   0.648205   0.0000   0.0000   1.0000   \n",
       "Post_Level            7000.0   2.798000   1.163721   1.0000   2.0000   3.0000   \n",
       "Pay_Scale             6991.0   6.006294   2.058435   1.0000   5.0000   6.0000   \n",
       "Work_Life_balance     6989.0   2.387895   1.122786   1.0000   1.0000   2.0000   \n",
       "VAR1                  7000.0   3.098571   0.836377   1.0000   3.0000   3.0000   \n",
       "VAR2                  6423.0  -0.008126   0.989850  -1.8176  -0.9612  -0.1048   \n",
       "VAR3                  7000.0  -0.013606   0.986933  -2.7762  -0.4537  -0.4537   \n",
       "VAR4                  6344.0   1.891078   0.529403   1.0000   2.0000   2.0000   \n",
       "VAR5                  7000.0   2.834143   0.938945   1.0000   2.0000   3.0000   \n",
       "VAR6                  7000.0   7.101286   1.164262   5.0000   6.0000   7.0000   \n",
       "VAR7                  7000.0   3.257000   0.925319   1.0000   3.0000   3.0000   \n",
       "Attrition_label       7000.0   0.367571   0.482178   0.0000   0.0000   0.0000   \n",
       "\n",
       "                          75%      max  \n",
       "Age                   52.0000  65.0000  \n",
       "Education_Level        4.0000   5.0000  \n",
       "Time_of_service       21.0000  43.0000  \n",
       "Time_since_promotion   3.0000   4.0000  \n",
       "growth_rate           61.0000  74.0000  \n",
       "Travel_Rate            1.0000   2.0000  \n",
       "Post_Level             3.0000   5.0000  \n",
       "Pay_Scale              8.0000  10.0000  \n",
       "Work_Life_balance      3.0000   5.0000  \n",
       "VAR1                   3.0000   5.0000  \n",
       "VAR2                   0.7516   1.6081  \n",
       "VAR3                   0.7075   1.8688  \n",
       "VAR4                   2.0000   3.0000  \n",
       "VAR5                   3.0000   5.0000  \n",
       "VAR6                   8.0000   9.0000  \n",
       "VAR7                   4.0000   5.0000  \n",
       "Attrition_label        1.0000   1.0000  "
      ]
     },
     "execution_count": 132,
     "metadata": {},
     "output_type": "execute_result"
    }
   ],
   "source": [
    "data.describe().T"
   ]
  },
  {
   "cell_type": "code",
   "execution_count": 133,
   "metadata": {},
   "outputs": [
    {
     "data": {
      "text/html": [
       "<div>\n",
       "<style scoped>\n",
       "    .dataframe tbody tr th:only-of-type {\n",
       "        vertical-align: middle;\n",
       "    }\n",
       "\n",
       "    .dataframe tbody tr th {\n",
       "        vertical-align: top;\n",
       "    }\n",
       "\n",
       "    .dataframe thead th {\n",
       "        text-align: right;\n",
       "    }\n",
       "</style>\n",
       "<table border=\"1\" class=\"dataframe\">\n",
       "  <thead>\n",
       "    <tr style=\"text-align: right;\">\n",
       "      <th></th>\n",
       "      <th>count</th>\n",
       "      <th>unique</th>\n",
       "      <th>top</th>\n",
       "      <th>freq</th>\n",
       "    </tr>\n",
       "  </thead>\n",
       "  <tbody>\n",
       "    <tr>\n",
       "      <th>Employee_ID</th>\n",
       "      <td>7000</td>\n",
       "      <td>7000</td>\n",
       "      <td>EID_23371</td>\n",
       "      <td>1</td>\n",
       "    </tr>\n",
       "    <tr>\n",
       "      <th>Gender</th>\n",
       "      <td>7000</td>\n",
       "      <td>2</td>\n",
       "      <td>F</td>\n",
       "      <td>4114</td>\n",
       "    </tr>\n",
       "    <tr>\n",
       "      <th>Relationship_Status</th>\n",
       "      <td>7000</td>\n",
       "      <td>2</td>\n",
       "      <td>Married</td>\n",
       "      <td>4520</td>\n",
       "    </tr>\n",
       "    <tr>\n",
       "      <th>Hometown</th>\n",
       "      <td>7000</td>\n",
       "      <td>5</td>\n",
       "      <td>Lebanon</td>\n",
       "      <td>2070</td>\n",
       "    </tr>\n",
       "    <tr>\n",
       "      <th>Unit</th>\n",
       "      <td>7000</td>\n",
       "      <td>12</td>\n",
       "      <td>IT</td>\n",
       "      <td>1394</td>\n",
       "    </tr>\n",
       "    <tr>\n",
       "      <th>Decision_skill_possess</th>\n",
       "      <td>7000</td>\n",
       "      <td>4</td>\n",
       "      <td>Conceptual</td>\n",
       "      <td>1756</td>\n",
       "    </tr>\n",
       "    <tr>\n",
       "      <th>Compensation_and_Benefits</th>\n",
       "      <td>7000</td>\n",
       "      <td>5</td>\n",
       "      <td>type2</td>\n",
       "      <td>3945</td>\n",
       "    </tr>\n",
       "  </tbody>\n",
       "</table>\n",
       "</div>"
      ],
      "text/plain": [
       "                          count unique         top  freq\n",
       "Employee_ID                7000   7000   EID_23371     1\n",
       "Gender                     7000      2           F  4114\n",
       "Relationship_Status        7000      2     Married  4520\n",
       "Hometown                   7000      5     Lebanon  2070\n",
       "Unit                       7000     12          IT  1394\n",
       "Decision_skill_possess     7000      4  Conceptual  1756\n",
       "Compensation_and_Benefits  7000      5       type2  3945"
      ]
     },
     "execution_count": 133,
     "metadata": {},
     "output_type": "execute_result"
    }
   ],
   "source": [
    "# Cualitativas\n",
    "data.describe(include=[object]).T"
   ]
  },
  {
   "cell_type": "code",
   "execution_count": 134,
   "metadata": {},
   "outputs": [
    {
     "name": "stdout",
     "output_type": "stream",
     "text": [
      "<class 'pandas.core.frame.DataFrame'>\n",
      "RangeIndex: 7000 entries, 0 to 6999\n",
      "Data columns (total 24 columns):\n",
      " #   Column                     Non-Null Count  Dtype  \n",
      "---  ------                     --------------  -----  \n",
      " 0   Employee_ID                7000 non-null   object \n",
      " 1   Gender                     7000 non-null   object \n",
      " 2   Age                        6588 non-null   float64\n",
      " 3   Education_Level            7000 non-null   int64  \n",
      " 4   Relationship_Status        7000 non-null   object \n",
      " 5   Hometown                   7000 non-null   object \n",
      " 6   Unit                       7000 non-null   object \n",
      " 7   Decision_skill_possess     7000 non-null   object \n",
      " 8   Time_of_service            6856 non-null   float64\n",
      " 9   Time_since_promotion       7000 non-null   int64  \n",
      " 10  growth_rate                7000 non-null   int64  \n",
      " 11  Travel_Rate                7000 non-null   int64  \n",
      " 12  Post_Level                 7000 non-null   int64  \n",
      " 13  Pay_Scale                  6991 non-null   float64\n",
      " 14  Compensation_and_Benefits  7000 non-null   object \n",
      " 15  Work_Life_balance          6989 non-null   float64\n",
      " 16  VAR1                       7000 non-null   int64  \n",
      " 17  VAR2                       6423 non-null   float64\n",
      " 18  VAR3                       7000 non-null   float64\n",
      " 19  VAR4                       6344 non-null   float64\n",
      " 20  VAR5                       7000 non-null   int64  \n",
      " 21  VAR6                       7000 non-null   int64  \n",
      " 22  VAR7                       7000 non-null   int64  \n",
      " 23  Attrition_label            7000 non-null   int64  \n",
      "dtypes: float64(7), int64(10), object(7)\n",
      "memory usage: 1.3+ MB\n"
     ]
    }
   ],
   "source": [
    "# Información sobre los datos\n",
    "data.info()"
   ]
  },
  {
   "cell_type": "code",
   "execution_count": 135,
   "metadata": {},
   "outputs": [
    {
     "data": {
      "text/plain": [
       "Employee_ID                    0\n",
       "Gender                         0\n",
       "Age                          412\n",
       "Education_Level                0\n",
       "Relationship_Status            0\n",
       "Hometown                       0\n",
       "Unit                           0\n",
       "Decision_skill_possess         0\n",
       "Time_of_service              144\n",
       "Time_since_promotion           0\n",
       "growth_rate                    0\n",
       "Travel_Rate                    0\n",
       "Post_Level                     0\n",
       "Pay_Scale                      9\n",
       "Compensation_and_Benefits      0\n",
       "Work_Life_balance             11\n",
       "VAR1                           0\n",
       "VAR2                         577\n",
       "VAR3                           0\n",
       "VAR4                         656\n",
       "VAR5                           0\n",
       "VAR6                           0\n",
       "VAR7                           0\n",
       "Attrition_label                0\n",
       "dtype: int64"
      ]
     },
     "execution_count": 135,
     "metadata": {},
     "output_type": "execute_result"
    }
   ],
   "source": [
    "data.isnull().sum()"
   ]
  },
  {
   "cell_type": "code",
   "execution_count": 136,
   "metadata": {},
   "outputs": [
    {
     "data": {
      "text/plain": [
       "Employee_ID                    0\n",
       "Gender                         0\n",
       "Age                            0\n",
       "Education_Level                0\n",
       "Relationship_Status            0\n",
       "Hometown                       0\n",
       "Unit                           0\n",
       "Decision_skill_possess         0\n",
       "Time_of_service                0\n",
       "Time_since_promotion           0\n",
       "growth_rate                    0\n",
       "Travel_Rate                    0\n",
       "Post_Level                     0\n",
       "Pay_Scale                      0\n",
       "Compensation_and_Benefits      0\n",
       "Work_Life_balance              0\n",
       "VAR1                           0\n",
       "VAR2                         577\n",
       "VAR3                           0\n",
       "VAR4                         656\n",
       "VAR5                           0\n",
       "VAR6                           0\n",
       "VAR7                           0\n",
       "Attrition_label                0\n",
       "dtype: int64"
      ]
     },
     "execution_count": 136,
     "metadata": {},
     "output_type": "execute_result"
    }
   ],
   "source": [
    "# sustituye datos faltantes de tiempo de servicio con la mediana\n",
    "data['Time_of_service'].fillna(10, inplace=True)\n",
    "# sustituye datos faltantes de Work_Life_balance con la mediana\n",
    "data['Work_Life_balance'].fillna(2, inplace=True)\n",
    "# sustituye datos faltantes de edad con la mediana\n",
    "data['Age'].fillna(37, inplace=True)\n",
    "# sustituye datos faltantes de Pay_Scale con la mediana.\n",
    "data['Pay_Scale'].fillna(6, inplace=True)\n",
    "data.isnull().sum()\n"
   ]
  },
  {
   "cell_type": "code",
   "execution_count": 137,
   "metadata": {},
   "outputs": [
    {
     "name": "stdout",
     "output_type": "stream",
     "text": [
      "<class 'pandas.core.frame.DataFrame'>\n",
      "RangeIndex: 7000 entries, 0 to 6999\n",
      "Data columns (total 16 columns):\n",
      " #   Column                     Non-Null Count  Dtype  \n",
      "---  ------                     --------------  -----  \n",
      " 0   Gender                     7000 non-null   object \n",
      " 1   Age                        7000 non-null   float64\n",
      " 2   Education_Level            7000 non-null   int64  \n",
      " 3   Relationship_Status        7000 non-null   object \n",
      " 4   Hometown                   7000 non-null   object \n",
      " 5   Unit                       7000 non-null   object \n",
      " 6   Decision_skill_possess     7000 non-null   object \n",
      " 7   Time_of_service            7000 non-null   float64\n",
      " 8   Time_since_promotion       7000 non-null   int64  \n",
      " 9   growth_rate                7000 non-null   int64  \n",
      " 10  Travel_Rate                7000 non-null   int64  \n",
      " 11  Post_Level                 7000 non-null   int64  \n",
      " 12  Pay_Scale                  7000 non-null   float64\n",
      " 13  Compensation_and_Benefits  7000 non-null   object \n",
      " 14  Work_Life_balance          7000 non-null   float64\n",
      " 15  Attrition_label            7000 non-null   int64  \n",
      "dtypes: float64(4), int64(6), object(6)\n",
      "memory usage: 875.1+ KB\n"
     ]
    }
   ],
   "source": [
    "# elimina columnas Id del pasajero, Nombre, Boleto y Cabina\n",
    "df = data.drop(columns=['Employee_ID','VAR1','VAR1','VAR2','VAR3','VAR4','VAR5','VAR6','VAR7'])\n",
    "\n",
    "# mostrar la información condensada del nuevo dataframe\n",
    "df.info()"
   ]
  },
  {
   "cell_type": "markdown",
   "metadata": {},
   "source": [
    "#### Balance"
   ]
  },
  {
   "cell_type": "code",
   "execution_count": 138,
   "metadata": {},
   "outputs": [
    {
     "data": {
      "image/png": "[encoded data removed]",
      "text/plain": [
       "<Figure size 432x288 with 1 Axes>"
      ]
     },
     "metadata": {
      "needs_background": "light"
     },
     "output_type": "display_data"
    }
   ],
   "source": [
    "from yellowbrick.target import ClassBalance\n",
    "class_visualizer = ClassBalance(\n",
    "\tlabels=[0, 1]\t\t\t# Indicamos las etiquetas de las clases. \n",
    "\t\t\t\t\t\t\t\t\t# Ten cuidado con el orden de las etiquetas.\n",
    ")\n",
    "class_visualizer.fit(df.Attrition_label)\n",
    "class_visualizer.show(outpath=\"\");"
   ]
  },
  {
   "cell_type": "code",
   "execution_count": 139,
   "metadata": {},
   "outputs": [
    {
     "data": {
      "text/html": [
       "<div>\n",
       "<style scoped>\n",
       "    .dataframe tbody tr th:only-of-type {\n",
       "        vertical-align: middle;\n",
       "    }\n",
       "\n",
       "    .dataframe tbody tr th {\n",
       "        vertical-align: top;\n",
       "    }\n",
       "\n",
       "    .dataframe thead th {\n",
       "        text-align: right;\n",
       "    }\n",
       "</style>\n",
       "<table border=\"1\" class=\"dataframe\">\n",
       "  <thead>\n",
       "    <tr style=\"text-align: right;\">\n",
       "      <th>target</th>\n",
       "      <th>0</th>\n",
       "      <th>1</th>\n",
       "    </tr>\n",
       "    <tr>\n",
       "      <th>set</th>\n",
       "      <th></th>\n",
       "      <th></th>\n",
       "    </tr>\n",
       "  </thead>\n",
       "  <tbody>\n",
       "    <tr>\n",
       "      <th>Deserción</th>\n",
       "      <td>4427</td>\n",
       "      <td>2573</td>\n",
       "    </tr>\n",
       "  </tbody>\n",
       "</table>\n",
       "</div>"
      ],
      "text/plain": [
       "target        0     1\n",
       "set                  \n",
       "Deserción  4427  2573"
      ]
     },
     "execution_count": 139,
     "metadata": {},
     "output_type": "execute_result"
    }
   ],
   "source": [
    "(\n",
    "    pd.concat([df.assign(set = 'Deserción')], axis = 0)\n",
    "        .loc[:,['set', 'Attrition_label']]\n",
    "        .groupby(['set','Attrition_label'])\n",
    "        .size()\n",
    "        .reset_index()\n",
    "        .rename(columns = {0:'conteos', 'Attrition_label':'target'})\n",
    "        .pivot(index='set', columns='target', values='conteos', )\n",
    ")"
   ]
  },
  {
   "cell_type": "markdown",
   "metadata": {},
   "source": [
    "#### Procesmiento de datos"
   ]
  },
  {
   "cell_type": "code",
   "execution_count": 140,
   "metadata": {},
   "outputs": [],
   "source": [
    "from sklearn.model_selection import train_test_split\n",
    "train_set, test_set = train_test_split(\n",
    "    df,\t\t\t\t\t\t\t# Pasamos el conjunto de entrenamiento \n",
    "    test_size = 0.20,\t\t# Indicamos la cantidad de observaciones que\n",
    "    \t\t\t\t\t\t\t\t\t# queremos en nuestro conjunto de validación.\n",
    "    \t\t\t\t\t\t\t\t\t# Observa que lo estamos haciendo en función\n",
    "    \t\t\t\t\t\t\t\t\t# del tamaño del conjunto de prueba, para \n",
    "    \t\t\t\t\t\t\t\t\t# facilmente garantizar que saquemos otro\n",
    "    \t\t\t\t\t\t\t\t\t# 10% de los datos totales.\n",
    "    stratify=df.Attrition_label,\t\t\t\t# Indica la variable por la que vamos a estratificar.\n",
    "    random_state=50\t\t\t\t\t\t# Proporcionamos una semilla para garantizar\n",
    "    \t\t\t\t\t\t\t\t\t# la reproducibilidad.\n",
    ")"
   ]
  },
  {
   "cell_type": "code",
   "execution_count": 141,
   "metadata": {},
   "outputs": [
    {
     "data": {
      "text/plain": [
       "((5600, 16), (1400, 16))"
      ]
     },
     "execution_count": 141,
     "metadata": {},
     "output_type": "execute_result"
    }
   ],
   "source": [
    "train_set.shape, test_set.shape"
   ]
  },
  {
   "cell_type": "code",
   "execution_count": 142,
   "metadata": {},
   "outputs": [
    {
     "data": {
      "text/plain": [
       "(0.6325, 0.6321428571428571)"
      ]
     },
     "execution_count": 142,
     "metadata": {},
     "output_type": "execute_result"
    }
   ],
   "source": [
    "train_set.Attrition_label.value_counts(normalize=True)[0],test_set.Attrition_label.value_counts(normalize=True)[0]"
   ]
  },
  {
   "cell_type": "code",
   "execution_count": 143,
   "metadata": {},
   "outputs": [],
   "source": [
    "df_num = df.select_dtypes(include=\"float\").columns.to_list()"
   ]
  },
  {
   "cell_type": "code",
   "execution_count": 144,
   "metadata": {},
   "outputs": [],
   "source": [
    "def fun_preprocess_numeric_variables(df2):\n",
    "    '''Regresa un data frame con las variables numéricas preprocesadas.\n",
    "    \n",
    "    Seleccionar el resto de las varaibles numéricas.\n",
    "    \n",
    "    Parameters\n",
    "    ----------\n",
    "    df2: DataFrame\n",
    "        DataFrame con los datos de los empleados.\n",
    "        \n",
    "    Returns\n",
    "    -------\n",
    "    DataFrame\n",
    "        DataFrame con los campos numéricos preprocesados . \n",
    "    '''\n",
    "    \t\t\t\t\t\t\t\t\t\n",
    "    return df2[df_num]\n",
    "    \n",
    "\n",
    "def fun_preprocess_categorical_variables(df2):\n",
    "    '''Regresar un data frame con las variables categóricas preprocesadas.\n",
    "\n",
    "    Convierte en dummies las variables categóricas (Gender, Relationship_Status, Hometown, \n",
    "    y Compensation_and_Benefits). \n",
    "    En algunos casos recodifica algunas categorías con replace.\n",
    "    Para una variable categórica se elimina la primera opción con drop_first\n",
    "    esto es para evitar problemas de multicolinealidad en algunos algorítmos.\n",
    "    \n",
    "    Parameters\n",
    "    ----------\n",
    "    df2: DataFrame\n",
    "        DataFrame con los datos de los empleados.\n",
    "        \n",
    "    Returns\n",
    "    -------\n",
    "    DataFrame\n",
    "        DataFrame con los campos categóricos preprocesados.  \n",
    "    '''\n",
    "    \t\t\t\t\t\n",
    "    df_gral = pd.get_dummies(df2[['Hometown', 'Unit', 'Decision_skill_possess', 'Compensation_and_Benefits']])\n",
    "    df_Gender = pd.get_dummies(df2[['Gender']], drop_first = True)\n",
    "    df_Relationship_Status = pd.get_dummies(df2[['Relationship_Status']], drop_first = True)\n",
    "   \n",
    "    return pd.concat([df_gral, df_Gender, df_Relationship_Status], axis = 1)\n",
    "\n",
    "def fun_preprocesar_atributos(df2):\n",
    "    '''Regresa un DataFrame con los datos categóricos preprocesados\n",
    "    \n",
    "    Parameters\n",
    "    ----------\n",
    "    df2: DataFrame\n",
    "        DataFrame con los empleados.\n",
    "        \n",
    "    Returns\n",
    "    -------\n",
    "    DataFrame\n",
    "        DataFrame con los datos preprocesados\n",
    "    '''\n",
    "    df_numeric = fun_preprocess_numeric_variables(df2)\n",
    "    df_categorical = fun_preprocess_categorical_variables(df2)\n",
    "    \n",
    "    return pd.concat([df_numeric, df_categorical], axis = 1)\n",
    "\n",
    "def fun_identificar_categoria(df2):\n",
    "\n",
    "    return df2[['Attrition_label']]"
   ]
  },
  {
   "cell_type": "code",
   "execution_count": 145,
   "metadata": {},
   "outputs": [],
   "source": [
    "assert fun_preprocesar_atributos(train_set).columns.tolist() == fun_preprocesar_atributos(train_set).columns.tolist()\n",
    "assert fun_preprocesar_atributos(test_set).columns.tolist() == fun_preprocesar_atributos(test_set).columns.tolist()"
   ]
  },
  {
   "cell_type": "code",
   "execution_count": 146,
   "metadata": {},
   "outputs": [
    {
     "data": {
      "text/plain": [
       "((5600, 16), (1400, 16))"
      ]
     },
     "execution_count": 146,
     "metadata": {},
     "output_type": "execute_result"
    }
   ],
   "source": [
    "# Antes\n",
    "train_set.shape, test_set.shape"
   ]
  },
  {
   "cell_type": "code",
   "execution_count": 147,
   "metadata": {},
   "outputs": [
    {
     "data": {
      "text/plain": [
       "((5600, 32), (1400, 32))"
      ]
     },
     "execution_count": 147,
     "metadata": {},
     "output_type": "execute_result"
    }
   ],
   "source": [
    "# Después\n",
    "fun_preprocesar_atributos(train_set).shape, fun_preprocesar_atributos(test_set).shape"
   ]
  },
  {
   "cell_type": "code",
   "execution_count": 148,
   "metadata": {},
   "outputs": [],
   "source": [
    "X_train = fun_preprocesar_atributos(train_set)\n",
    "y_train = fun_identificar_categoria(train_set)\n",
    "\n",
    "X_test = fun_preprocesar_atributos(test_set)\n",
    "y_test = fun_identificar_categoria(test_set)"
   ]
  },
  {
   "cell_type": "code",
   "execution_count": 149,
   "metadata": {},
   "outputs": [],
   "source": [
    "from sklearn.model_selection import train_test_split\n",
    "\n",
    "variable_selection = X_test.columns.to_list()\n",
    "\n",
    "X_test, X_val,y_test,y_val = train_test_split(\n",
    "    X_test[variable_selection],y_test,\n",
    "    test_size=0.5, random_state=1\n",
    ")\n"
   ]
  },
  {
   "cell_type": "code",
   "execution_count": 150,
   "metadata": {},
   "outputs": [
    {
     "data": {
      "text/plain": [
       "((5600, 32), (700, 32), (700, 32))"
      ]
     },
     "execution_count": 150,
     "metadata": {},
     "output_type": "execute_result"
    }
   ],
   "source": [
    "X_train.shape,X_val.shape,X_test.shape"
   ]
  },
  {
   "cell_type": "code",
   "execution_count": 151,
   "metadata": {},
   "outputs": [],
   "source": [
    "from sklearn.tree import DecisionTreeClassifier\n",
    "# Especificamos un modelo de árbol de decisión\n",
    "clf_dt = DecisionTreeClassifier(\n",
    "    max_depth = 2, \n",
    "    class_weight = 'balanced', \t# Indicamos que se deben reponderar las clases.\n",
    "    random_state=seed\t\t\t# Indicamos una semilla para reproducibilidad.\n",
    ")\n",
    "# Ajustamos el modelo y predecimos\n",
    "clf_dt.fit(X_train, y_train)\n",
    "y_pred = clf_dt.predict(X_val)"
   ]
  },
  {
   "cell_type": "code",
   "execution_count": 153,
   "metadata": {},
   "outputs": [
    {
     "data": {
      "image/png": "[encoded data removed]",
      "text/plain": [
       "<Figure size 432x288 with 1 Axes>"
      ]
     },
     "metadata": {
      "needs_background": "light"
     },
     "output_type": "display_data"
    }
   ],
   "source": [
    "from yellowbrick.model_selection import ValidationCurve\n",
    "\n",
    "# Especificamos un modelo de árbol de decisión\n",
    "clf_dt = DecisionTreeClassifier(\n",
    "    max_depth = 4, \n",
    "    class_weight = 'balanced', \t# Indicamos que se deben reponderar las clases.\n",
    "    random_state=seed\t\t\t# Indicamos una semilla para reproducibilidad.\n",
    ")\n",
    "\n",
    "# Especificamos la curva de validación\n",
    "viz = ValidationCurve(\n",
    "    clf_dt, \t\t\t\t\t\t\t# Especificar el modelo (debe ser un estiamdor)\n",
    "    param_name=\"max_depth\",\t\t\t\t# Especificar un solo hiperparámetro a evaluar\n",
    "    param_range=[3, 5, 7, 11, 13, 17, \t# Dara una lista o numpy.array con los valores probar\n",
    "    \t\t\t23, 29, 31, 37, 41, \n",
    "    \t\t\t43, 47, 51, 53], \n",
    "    cv=5, \t\t\t\t\t\t\t\t# Indicar el valor k, para construir la validación cruzada\n",
    "    scoring=\"roc_auc\",\t\t\t\t\t# Indicar la métrica de evaluación para el modelo.\n",
    "    n_jobs=-1\t\t\t\t\t\t\t# Indicar cuántos CPUs utilizar para paralelizar el trabajo.\n",
    "    \t\t\t\t\t\t\t\t\t# n_jobs=-1, signfica utilizar todos los CPUs disponibles.\n",
    ")\n",
    "# Ajustamos el modelo y la visualización\n",
    "viz.fit(X_train, y_train)\n",
    "# Imprimimos en la pantalla la visualización.\n",
    "viz.show(outpath=\"04_curva_validacion_max_depth.png\");"
   ]
  },
  {
   "cell_type": "code",
   "execution_count": 155,
   "metadata": {},
   "outputs": [
    {
     "data": {
      "image/png": "[encoded data removed]",
      "text/plain": [
       "<Figure size 432x288 with 1 Axes>"
      ]
     },
     "metadata": {
      "needs_background": "light"
     },
     "output_type": "display_data"
    }
   ],
   "source": [
    "viz = ValidationCurve(\n",
    "    clf_dt, \t\t\t\t\t\t\t\n",
    "    param_name=\"min_samples_leaf\",\t\t# Probamos con un nuevo hiperparámetro \n",
    "    param_range=[1, 10, 20, 30, 40,\t\t# Especificamos una lista con los nuevos\n",
    "    \t\t\t50, 60, 70, 80, 90,\t\t# valores. \n",
    "    \t\t\t100, 150, 200, 250, \n",
    "    \t\t\t300, 350, 400, 450, \n",
    "    \t\t\t500], \n",
    "    cv=5, \n",
    "    scoring=\"roc_auc\",\n",
    "    n_jobs=-1\n",
    ")\n",
    "# Ajustamos el modelo y la visualización\n",
    "viz.fit(X_train, y_train)\n",
    "# Imprimimos en la pantalla la visualización.\n",
    "viz.show(outpath=\"05_curva_validacion_min_samples_leaf.png\");"
   ]
  }
 ],
 "metadata": {
  "kernelspec": {
   "display_name": "Python 3.10.2 64-bit",
   "language": "python",
   "name": "python3"
  },
  "language_info": {
   "codemirror_mode": {
    "name": "ipython",
    "version": 3
   },
   "file_extension": ".py",
   "mimetype": "text/x-python",
   "name": "python",
   "nbconvert_exporter": "python",
   "pygments_lexer": "ipython3",
   "version": "3.10.2"
  },
  "orig_nbformat": 4,
  "vscode": {
   "interpreter": {
    "hash": "af6a57148d8251e394aaba2ac1a65307d2863bd3d511ca7f236e568805850424"
   }
  }
 },
 "nbformat": 4,
 "nbformat_minor": 2
}
